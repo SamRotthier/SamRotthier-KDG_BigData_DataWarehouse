{
 "cells": [
  {
   "metadata": {},
   "cell_type": "markdown",
   "source": "# Config stuff",
   "id": "73093dc844677cfe"
  },
  {
   "cell_type": "code",
   "id": "initial_id",
   "metadata": {
    "collapsed": true,
    "ExecuteTime": {
     "end_time": "2024-10-30T14:24:26.810873Z",
     "start_time": "2024-10-30T14:24:26.506594Z"
    }
   },
   "source": [
    "import ConnectionConfig as cc\n",
    "cc.setupEnvironment()"
   ],
   "outputs": [],
   "execution_count": 1
  },
  {
   "metadata": {},
   "cell_type": "markdown",
   "source": "# Start local cluster",
   "id": "ab743311b9e6c6b4"
  },
  {
   "metadata": {
    "ExecuteTime": {
     "end_time": "2024-10-30T14:25:45.462106Z",
     "start_time": "2024-10-30T14:25:23.186656Z"
    }
   },
   "cell_type": "code",
   "source": [
    "spark = cc.startLocalCluster(\"DIM_DATE\",4)\n",
    "spark.getActiveSession()"
   ],
   "id": "819ae45fa199e238",
   "outputs": [
    {
     "data": {
      "text/plain": [
       "<pyspark.sql.session.SparkSession at 0x1b3303b08d0>"
      ],
      "text/html": [
       "\n",
       "            <div>\n",
       "                <p><b>SparkSession - in-memory</b></p>\n",
       "                \n",
       "        <div>\n",
       "            <p><b>SparkContext</b></p>\n",
       "\n",
       "            <p><a href=\"http://LAPTOP-5LDFMLTG:4040\">Spark UI</a></p>\n",
       "\n",
       "            <dl>\n",
       "              <dt>Version</dt>\n",
       "                <dd><code>v3.5.2</code></dd>\n",
       "              <dt>Master</dt>\n",
       "                <dd><code>local[*]</code></dd>\n",
       "              <dt>AppName</dt>\n",
       "                <dd><code>DIM_DATE</code></dd>\n",
       "            </dl>\n",
       "        </div>\n",
       "        \n",
       "            </div>\n",
       "        "
      ]
     },
     "execution_count": 2,
     "metadata": {},
     "output_type": "execute_result"
    }
   ],
   "execution_count": 2
  },
  {
   "metadata": {},
   "cell_type": "markdown",
   "source": "# Create date dimension",
   "id": "84d21e194747f55e"
  },
  {
   "metadata": {},
   "cell_type": "markdown",
   "source": "## Step 1: Generate rows for a sequence of dates",
   "id": "aee29f4711967116"
  },
  {
   "metadata": {},
   "cell_type": "markdown",
   "source": "Find the oldest date and the newest date in the rides table. I will do this by querying the rides table in the VeloDB database with a query console. You can find the queries I used in the \"queries\" folder and then the dimDate.sql file.",
   "id": "acdca7f1cbd5f55e"
  },
  {
   "metadata": {
    "ExecuteTime": {
     "end_time": "2024-10-30T15:20:27.591604Z",
     "start_time": "2024-10-30T15:20:26.995790Z"
    }
   },
   "cell_type": "code",
   "source": [
    "#Extract\n",
    "startDate = '2012-09-21'\n",
    "endDate = '2023-09-17'\n",
    "\n",
    "df_dates = spark.sql(f\"select explode(sequence(to_date('{startDate}'), to_date('{endDate}'), interval 1 day)) as calendarDate, monotonically_increasing_id() as dateSK \")\n",
    "\n",
    "df_dates.show(10)"
   ],
   "id": "7912ba4b79db9689",
   "outputs": [
    {
     "name": "stdout",
     "output_type": "stream",
     "text": [
      "+------------+------+\n",
      "|calendarDate|dateSK|\n",
      "+------------+------+\n",
      "|  2012-09-21|     0|\n",
      "|  2012-09-22|     1|\n",
      "|  2012-09-23|     2|\n",
      "|  2012-09-24|     3|\n",
      "|  2012-09-25|     4|\n",
      "|  2012-09-26|     5|\n",
      "|  2012-09-27|     6|\n",
      "|  2012-09-28|     7|\n",
      "|  2012-09-29|     8|\n",
      "|  2012-09-30|     9|\n",
      "+------------+------+\n",
      "only showing top 10 rows\n",
      "\n"
     ]
    }
   ],
   "execution_count": 14
  },
  {
   "metadata": {},
   "cell_type": "markdown",
   "source": "## Step 2: Create all dimension fields",
   "id": "be2a1b07ffb18554"
  },
  {
   "metadata": {
    "ExecuteTime": {
     "end_time": "2024-10-30T17:32:51.288707Z",
     "start_time": "2024-10-30T17:32:50.161362Z"
    }
   },
   "cell_type": "code",
   "source": [
    "#TRANSFORM\n",
    "df_dates.createOrReplaceTempView('neededDates')\n",
    "\n",
    "dimDate = spark.sql(\"select dateSK, \\\n",
    "  year(calendarDate) * 10000 + month(calendarDate) * 100 + day(calendarDate) as dateInt, \\\n",
    "  CalendarDate, \\\n",
    "  year(calendarDate) AS CalendarYear, \\\n",
    "  date_format(calendarDate, 'MMMM') as CalendarMonth, \\\n",
    "  month(calendarDate) as MonthOfYear, \\\n",
    "  date_format(calendarDate, 'EEEE') as CalendarDay, \\\n",
    "  dayofweek(calendarDate) AS DayOfWeek, \\\n",
    "  weekday(calendarDate) + 1 as DayOfWeekStartMonday, \\\n",
    "  case \\\n",
    "    when weekday(calendarDate) < 5 then 'Y' \\\n",
    "    else 'N' \\\n",
    "  end as IsWeekDay, \\\n",
    "  dayofmonth(calendarDate) as DayOfMonth, \\\n",
    "  case \\\n",
    "    when calendarDate = last_day(calendarDate) then 'Y' \\\n",
    "    else 'N' \\\n",
    "  end as IsLastDayOfMonth, \\\n",
    "  dayofyear(calendarDate) as DayOfYear, \\\n",
    "  weekofyear(calendarDate) as WeekOfYearIso, \\\n",
    "  quarter(calendarDate) as QuarterOfYear \\\n",
    "from  \\\n",
    "  neededDates \\\n",
    "order by \\\n",
    "  calendarDate\")\n",
    "\n",
    "dimDate.show()"
   ],
   "id": "586df3599a2a690e",
   "outputs": [
    {
     "name": "stdout",
     "output_type": "stream",
     "text": [
      "+------+--------+------------+------------+-------------+-----------+-----------+---------+--------------------+---------+----------+----------------+---------+-------------+-------------+\n",
      "|dateSK| dateInt|CalendarDate|CalendarYear|CalendarMonth|MonthOfYear|CalendarDay|DayOfWeek|DayOfWeekStartMonday|IsWeekDay|DayOfMonth|IsLastDayOfMonth|DayOfYear|WeekOfYearIso|QuarterOfYear|\n",
      "+------+--------+------------+------------+-------------+-----------+-----------+---------+--------------------+---------+----------+----------------+---------+-------------+-------------+\n",
      "|     0|20120921|  2012-09-21|        2012|    September|          9|     Friday|        6|                   5|        Y|        21|               N|      265|           38|            3|\n",
      "|     1|20120922|  2012-09-22|        2012|    September|          9|   Saturday|        7|                   6|        N|        22|               N|      266|           38|            3|\n",
      "|     2|20120923|  2012-09-23|        2012|    September|          9|     Sunday|        1|                   7|        N|        23|               N|      267|           38|            3|\n",
      "|     3|20120924|  2012-09-24|        2012|    September|          9|     Monday|        2|                   1|        Y|        24|               N|      268|           39|            3|\n",
      "|     4|20120925|  2012-09-25|        2012|    September|          9|    Tuesday|        3|                   2|        Y|        25|               N|      269|           39|            3|\n",
      "|     5|20120926|  2012-09-26|        2012|    September|          9|  Wednesday|        4|                   3|        Y|        26|               N|      270|           39|            3|\n",
      "|     6|20120927|  2012-09-27|        2012|    September|          9|   Thursday|        5|                   4|        Y|        27|               N|      271|           39|            3|\n",
      "|     7|20120928|  2012-09-28|        2012|    September|          9|     Friday|        6|                   5|        Y|        28|               N|      272|           39|            3|\n",
      "|     8|20120929|  2012-09-29|        2012|    September|          9|   Saturday|        7|                   6|        N|        29|               N|      273|           39|            3|\n",
      "|     9|20120930|  2012-09-30|        2012|    September|          9|     Sunday|        1|                   7|        N|        30|               Y|      274|           39|            3|\n",
      "|    10|20121001|  2012-10-01|        2012|      October|         10|     Monday|        2|                   1|        Y|         1|               N|      275|           40|            4|\n",
      "|    11|20121002|  2012-10-02|        2012|      October|         10|    Tuesday|        3|                   2|        Y|         2|               N|      276|           40|            4|\n",
      "|    12|20121003|  2012-10-03|        2012|      October|         10|  Wednesday|        4|                   3|        Y|         3|               N|      277|           40|            4|\n",
      "|    13|20121004|  2012-10-04|        2012|      October|         10|   Thursday|        5|                   4|        Y|         4|               N|      278|           40|            4|\n",
      "|    14|20121005|  2012-10-05|        2012|      October|         10|     Friday|        6|                   5|        Y|         5|               N|      279|           40|            4|\n",
      "|    15|20121006|  2012-10-06|        2012|      October|         10|   Saturday|        7|                   6|        N|         6|               N|      280|           40|            4|\n",
      "|    16|20121007|  2012-10-07|        2012|      October|         10|     Sunday|        1|                   7|        N|         7|               N|      281|           40|            4|\n",
      "|    17|20121008|  2012-10-08|        2012|      October|         10|     Monday|        2|                   1|        Y|         8|               N|      282|           41|            4|\n",
      "|    18|20121009|  2012-10-09|        2012|      October|         10|    Tuesday|        3|                   2|        Y|         9|               N|      283|           41|            4|\n",
      "|    19|20121010|  2012-10-10|        2012|      October|         10|  Wednesday|        4|                   3|        Y|        10|               N|      284|           41|            4|\n",
      "+------+--------+------------+------------+-------------+-----------+-----------+---------+--------------------+---------+----------+----------------+---------+-------------+-------------+\n",
      "only showing top 20 rows\n",
      "\n"
     ]
    }
   ],
   "execution_count": 15
  },
  {
   "metadata": {},
   "cell_type": "markdown",
   "source": "## Step 3: Save dimension to deltatable",
   "id": "9da55793f892b431"
  },
  {
   "metadata": {
    "ExecuteTime": {
     "end_time": "2024-10-30T17:41:54.662224Z",
     "start_time": "2024-10-30T17:41:47.765143Z"
    }
   },
   "cell_type": "code",
   "source": [
    "#LOAD\n",
    "dimDate.write.format(\"delta\").mode(\"overwrite\").saveAsTable(\"dimDate\")"
   ],
   "id": "d1b48d1f5b79f8fb",
   "outputs": [],
   "execution_count": 16
  },
  {
   "metadata": {
    "ExecuteTime": {
     "end_time": "2024-10-30T17:44:45.240206Z",
     "start_time": "2024-10-30T17:44:44.683215Z"
    }
   },
   "cell_type": "code",
   "source": "spark.stop()",
   "id": "2a99d12d60ebe48b",
   "outputs": [],
   "execution_count": 17
  }
 ],
 "metadata": {
  "kernelspec": {
   "display_name": "Python 3",
   "language": "python",
   "name": "python3"
  },
  "language_info": {
   "codemirror_mode": {
    "name": "ipython",
    "version": 2
   },
   "file_extension": ".py",
   "mimetype": "text/x-python",
   "name": "python",
   "nbconvert_exporter": "python",
   "pygments_lexer": "ipython2",
   "version": "2.7.6"
  }
 },
 "nbformat": 4,
 "nbformat_minor": 5
}
