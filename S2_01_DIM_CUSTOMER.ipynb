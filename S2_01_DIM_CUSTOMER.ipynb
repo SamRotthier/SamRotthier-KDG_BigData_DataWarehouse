{
 "cells": [
  {
   "metadata": {},
   "cell_type": "markdown",
   "source": "# Config",
   "id": "cfed88684309cb63"
  },
  {
   "cell_type": "code",
   "id": "initial_id",
   "metadata": {
    "collapsed": true,
    "ExecuteTime": {
     "end_time": "2024-12-20T16:01:59.052114Z",
     "start_time": "2024-12-20T16:01:58.495474Z"
    }
   },
   "source": [
    "from delta import DeltaTable\n",
    "from datetime import datetime\n",
    "\n",
    "import ConnectionConfig as cc\n",
    "cc.setupEnvironment()"
   ],
   "outputs": [],
   "execution_count": 2
  },
  {
   "metadata": {},
   "cell_type": "markdown",
   "source": "# Start local cluster",
   "id": "f077cfe4890468a7"
  },
  {
   "metadata": {
    "ExecuteTime": {
     "end_time": "2024-12-20T16:02:24.354282Z",
     "start_time": "2024-12-20T16:02:02.405054Z"
    }
   },
   "cell_type": "code",
   "source": [
    "spark = cc.startLocalCluster(\"DIM_CUSTOMER\")\n",
    "spark.getActiveSession()"
   ],
   "id": "fd39d484a89996e2",
   "outputs": [
    {
     "data": {
      "text/plain": [
       "<pyspark.sql.session.SparkSession at 0x14e4452a9d0>"
      ],
      "text/html": [
       "\n",
       "            <div>\n",
       "                <p><b>SparkSession - in-memory</b></p>\n",
       "                \n",
       "        <div>\n",
       "            <p><b>SparkContext</b></p>\n",
       "\n",
       "            <p><a href=\"http://127.0.0.1:4040\">Spark UI</a></p>\n",
       "\n",
       "            <dl>\n",
       "              <dt>Version</dt>\n",
       "                <dd><code>v3.5.2</code></dd>\n",
       "              <dt>Master</dt>\n",
       "                <dd><code>local[*]</code></dd>\n",
       "              <dt>AppName</dt>\n",
       "                <dd><code>DIM_CUSTOMER</code></dd>\n",
       "            </dl>\n",
       "        </div>\n",
       "        \n",
       "            </div>\n",
       "        "
      ]
     },
     "execution_count": 3,
     "metadata": {},
     "output_type": "execute_result"
    }
   ],
   "execution_count": 3
  },
  {
   "metadata": {},
   "cell_type": "markdown",
   "source": "# Ophalen van gegevens (en oplaan in data warehouse)",
   "id": "3cfa02ba71699c4b"
  },
  {
   "metadata": {
    "ExecuteTime": {
     "end_time": "2024-12-20T16:06:25.631672Z",
     "start_time": "2024-12-20T16:06:25.296248Z"
    }
   },
   "cell_type": "code",
   "source": [
    "#Extract\n",
    "cc.set_connectionProfile(\"velodb\")\n",
    "\n",
    "df_user = spark.read \\\n",
    "    .format(\"jdbc\") \\\n",
    "    .option(\"driver\" , cc.get_Property(\"driver\")) \\\n",
    "    .option(\"url\", cc.create_jdbc()) \\\n",
    "    .option(\"dbtable\", \"velo_users\") \\\n",
    "    .option(\"user\", cc.get_Property(\"username\")) \\\n",
    "    .option(\"password\", cc.get_Property(\"password\")) \\\n",
    "    .option(\"partitionColumn\", \"userid\") \\\n",
    "    .option(\"numPartitions\", 4) \\\n",
    "    .option(\"lowerBound\", 0) \\\n",
    "    .option(\"upperBound\", 60000) \\\n",
    "    .load()\n",
    "\n",
    "df_subscription = spark.read \\\n",
    "    .format(\"jdbc\") \\\n",
    "    .option(\"driver\" , cc.get_Property(\"driver\")) \\\n",
    "    .option(\"url\", cc.create_jdbc()) \\\n",
    "    .option(\"dbtable\", \"Subscriptions\") \\\n",
    "    .option(\"user\", cc.get_Property(\"username\")) \\\n",
    "    .option(\"password\", cc.get_Property(\"password\")) \\\n",
    "    .option(\"partitionColumn\", \"userid\") \\\n",
    "    .option(\"numPartitions\", 4) \\\n",
    "    .option(\"lowerBound\", 0) \\\n",
    "    .option(\"upperBound\", 80000) \\\n",
    "    .load()\n",
    "\n",
    "df_subscription_type = spark.read \\\n",
    "    .format(\"jdbc\") \\\n",
    "    .option(\"driver\" , cc.get_Property(\"driver\")) \\\n",
    "    .option(\"url\", cc.create_jdbc()) \\\n",
    "    .option(\"dbtable\", \"Subscription_types\") \\\n",
    "    .option(\"user\", cc.get_Property(\"username\")) \\\n",
    "    .option(\"password\", cc.get_Property(\"password\")) \\\n",
    "    .load()\n",
    "\n",
    "df_user.show(5)\n",
    "df_subscription.show(5)\n",
    "df_subscription_type.show(5)\n"
   ],
   "id": "b28f0a9cdda57d9f",
   "outputs": [
    {
     "name": "stdout",
     "output_type": "stream",
     "text": [
      "+------+-----------------+--------------------+--------------------+--------+-------+-------------------+------------+\n",
      "|userid|             name|               email|              street|  number|zipcode|               city|country_code|\n",
      "+------+-----------------+--------------------+--------------------+--------+-------+-------------------+------------+\n",
      "|     2|van der Zee Julia|Julia.van.der.Zee...|          Europalaan|     42 |   2610|Wilrijk (Antwerpen)|          BE|\n",
      "|     3|  de Boer Ricardo|Ricardo.de.Boer@g...|   Maria Clarastraat|    81  |   2160|          Wommelgem|          BE|\n",
      "|     4|   Willems Angela|Angela.Willems@te...|Graaf Joseph de P...|     15 |   2900|            Schoten|          BE|\n",
      "|     5| Heijnen Patricia|Patricia.Heijnen@...|          Meylstraat|    112 |   2540|               Hove|          BE|\n",
      "|     6|   Driessen Anouk|Anouk.Driessen@sc...|   Jan Ockegemstraat|168 0107|   2650|             Edegem|          BE|\n",
      "+------+-----------------+--------------------+--------------------+--------+-------+-------------------+------------+\n",
      "only showing top 5 rows\n",
      "\n",
      "+--------------+----------+------------------+------+\n",
      "|subscriptionid| validfrom|subscriptiontypeid|userid|\n",
      "+--------------+----------+------------------+------+\n",
      "|             1|2019-08-02|                 3|     1|\n",
      "|             2|2019-11-12|                 1|     1|\n",
      "|             3|2020-12-14|                 1|     1|\n",
      "|             4|2021-10-05|                 2|     2|\n",
      "|             5|2022-09-17|                 3|     3|\n",
      "+--------------+----------+------------------+------+\n",
      "only showing top 5 rows\n",
      "\n",
      "+------------------+-----------+\n",
      "|subscriptiontypeid|description|\n",
      "+------------------+-----------+\n",
      "|                 1|        DAG|\n",
      "|                 2|      MAAND|\n",
      "|                 3|       JAAR|\n",
      "+------------------+-----------+\n",
      "\n"
     ]
    }
   ],
   "execution_count": 8
  },
  {
   "metadata": {
    "ExecuteTime": {
     "end_time": "2024-12-20T16:07:08.988103Z",
     "start_time": "2024-12-20T16:07:07.607376Z"
    }
   },
   "cell_type": "code",
   "source": [
    "#Transform\n",
    "df_user.createOrReplaceTempView(\"source_User\")\n",
    "df_subscription.createOrReplaceTempView(\"source_Subscription\")\n",
    "df_subscription_type.createOrReplaceTempView(\"source_Subscription_type\")\n",
    "\n",
    "#df_dim_user= spark.sql(\"select * from source_User\")\n",
    "#df_dim_user.show(5)\n",
    "#df_user.printSchema()\n",
    "\n",
    "# I left out email and zipcode\n",
    "df_dim_user= spark.sql(f\"select uuid() as user_SK, user.userid, user.name, subscription_type.description as subscription_type, subscription.validfrom as valid_from,\\\n",
    "                            user.street, user.number, user.city, user.country_code,\\\n",
    "                            to_timestamp('1900-01-01','yyyy-MM-dd') as scd_start,\\\n",
    "                            to_timestamp('2100-12-12','yyyy-MM-dd') as scd_end,\\\n",
    "                            md5(concat(country_code, city, street, number)) as md5,\\\n",
    "                            True as current\\\n",
    "                        from source_User as user\\\n",
    "                        join (select userid, max(validfrom) as last_validfrom from source_Subscription group by userid) as last_subscription on user.userid = last_subscription.userid\\\n",
    "                        join source_Subscription as subscription on subscription.userid = last_subscription.userid AND subscription.validfrom = last_subscription.last_validfrom\\\n",
    "                        join source_Subscription_type as subscription_type on subscription_type.subscriptiontypeid = subscription.subscriptiontypeid\")\n",
    "\n",
    "\n",
    "df_dim_user.show()\n"
   ],
   "id": "abe7a6b71ac9e200",
   "outputs": [
    {
     "name": "stdout",
     "output_type": "stream",
     "text": [
      "+--------------------+------+-----------------+-----------------+----------+--------------------+-------+--------------------+------------+-------------------+-------------------+--------------------+-------+\n",
      "|             user_SK|userid|             name|subscription_type|valid_from|              street| number|                city|country_code|          scd_start|            scd_end|                 md5|current|\n",
      "+--------------------+------+-----------------+-----------------+----------+--------------------+-------+--------------------+------------+-------------------+-------------------+--------------------+-------+\n",
      "|b471d7b1-5626-4c7...|    12|     Simons Thijs|             JAAR|2023-10-20|         Bergenhoeve|81 0302|Antwerpen/Berendr...|          BE|1900-01-01 00:00:00|2100-12-12 00:00:00|185076a17fcae9054...|   true|\n",
      "|670ec61c-955c-497...|    13|       Groen Rens|             JAAR|2020-02-28|  Trompetvogelstraat|     1 | Merksem (Antwerpen)|          BE|1900-01-01 00:00:00|2100-12-12 00:00:00|ca92ad4bc1a9f6b77...|   true|\n",
      "|be54182a-b926-4b3...|    14|van der Veer Romy|             JAAR|2023-09-19|Prosper De Vochtlaan|   177 |    Kontich/Waarloos|          BE|1900-01-01 00:00:00|2100-12-12 00:00:00|280f152d853969609...|   true|\n",
      "|0040f28c-2b47-4d1...|    18|   Veldman Angela|             JAAR|2023-08-04|Emiel Van Hemeldo...|    93 |                Hove|          BE|1900-01-01 00:00:00|2100-12-12 00:00:00|cf6f5ea33e2e22ebd...|   true|\n",
      "|753b7ae9-b726-48f...|    25|     Blok Vincent|              DAG|2019-01-13|      Korenbloemlaan|   147 |             Schoten|          BE|1900-01-01 00:00:00|2100-12-12 00:00:00|2a0af79e60b46e3e3...|   true|\n",
      "|f6bebdad-544b-452...|    37|     Postma Niels|             JAAR|2022-08-02|        Visserstraat|82 0602|  Burcht/Zwijndrecht|          BE|1900-01-01 00:00:00|2100-12-12 00:00:00|6ce5c02ed168ff4fe...|   true|\n",
      "|c4dd9c89-a1fe-436...|    38|    Peters Stefan|            MAAND|2022-11-17|    Kleinebeerstraat|    60 |           Antwerpen|          BE|1900-01-01 00:00:00|2100-12-12 00:00:00|367d08f1953c0efed...|   true|\n",
      "|5dbea1b1-66d0-4ce...|    46|      Baars Kevin|             JAAR|2023-12-30|            Keerbaan|   103 |Broechem/Emblem/O...|          BE|1900-01-01 00:00:00|2100-12-12 00:00:00|29394c3a5b952908e...|   true|\n",
      "|ac0ead1f-d59f-46e...|    50|  Venema Matthijs|             JAAR|2022-09-05|         Bollaakdijk|    31 |Broechem/Emblem/O...|          BE|1900-01-01 00:00:00|2100-12-12 00:00:00|af2d93c07204d80c7...|   true|\n",
      "|86c417d2-674a-4ce...|    52|  van Egmond Niek|             JAAR|2019-05-07|     Nachtegalenlaan|44 0006|                Hove|          BE|1900-01-01 00:00:00|2100-12-12 00:00:00|829b46cfd0aefd815...|   true|\n",
      "|072a571a-a5c9-4ca...|    56|      Prins Elise|             JAAR|2021-12-25|      Jennevalstraat|   233 | Berchem (Antwerpen)|          BE|1900-01-01 00:00:00|2100-12-12 00:00:00|7b70c8b72637f0499...|   true|\n",
      "|f00055f1-fe1e-46b...|    65| van Rooijen Emma|             JAAR|2023-08-27|          Kerkstraat|   109 | Reet/Rumst/Terhagen|          BE|1900-01-01 00:00:00|2100-12-12 00:00:00|d13f37ccd9922010c...|   true|\n",
      "|08e21663-8ae1-476...|    67|    Verhoef Menno|              DAG|2018-12-30|  Henri Dunantstraat|   248 | Hoboken (Antwerpen)|          BE|1900-01-01 00:00:00|2100-12-12 00:00:00|e24b3cb8595f74c0e...|   true|\n",
      "|80202c7e-3173-4bf...|    70|     Wouters Joep|             JAAR|2018-01-08|Jan Frans Favelet...|   752 |Beveren-Waas/Haas...|          BE|1900-01-01 00:00:00|2100-12-12 00:00:00|8567dea56e6ad830f...|   true|\n",
      "|039ce9f8-1d77-47e...|    73| van Rijn Johanna|             JAAR|2019-04-23|          Mereldreef|    94 |s Gravenwezel/Sch...|          BE|1900-01-01 00:00:00|2100-12-12 00:00:00|9c82cf5455d05264b...|   true|\n",
      "|edf8528b-aa0c-46b...|    83|   Dekkers Casper|             JAAR|2018-05-06|Maria de Heeltstraat|73 0103|  Deurne (Antwerpen)|          BE|1900-01-01 00:00:00|2100-12-12 00:00:00|0b27a358402834b22...|   true|\n",
      "|a4d9f756-9889-4c0...|    93|  Kuijpers Simone|             JAAR|2022-08-05|          Kapellelei|29 0706|             Mortsel|          BE|1900-01-01 00:00:00|2100-12-12 00:00:00|58b9bea626102fce8...|   true|\n",
      "|6eda7a40-e427-462...|    95|   Verhagen Mandy|             JAAR|2021-08-28|         Hamerplaats|   121 |           Antwerpen|          BE|1900-01-01 00:00:00|2100-12-12 00:00:00|e968ba38452d3e127...|   true|\n",
      "|d2b1f11f-00ae-485...|    97|  Hendriks Carmen|             JAAR|2023-04-07|        Wisselstraat| 8 0901|s Gravenwezel/Sch...|          BE|1900-01-01 00:00:00|2100-12-12 00:00:00|b591fa92d5a1a17a5...|   true|\n",
      "|7d960258-60f4-4dc...|   101|     de Jager Isa|              DAG|2021-11-23|      Holsthumstraat|    88 |Bazel/Kruibeke/Ru...|          BE|1900-01-01 00:00:00|2100-12-12 00:00:00|efcba650b7c93fa5a...|   true|\n",
      "+--------------------+------+-----------------+-----------------+----------+--------------------+-------+--------------------+------------+-------------------+-------------------+--------------------+-------+\n",
      "only showing top 20 rows\n",
      "\n"
     ]
    }
   ],
   "execution_count": 9
  },
  {
   "metadata": {
    "ExecuteTime": {
     "end_time": "2024-12-20T16:07:22.752280Z",
     "start_time": "2024-12-20T16:07:19.724488Z"
    }
   },
   "cell_type": "code",
   "source": [
    "#Load\n",
    "df_dim_user.write.format(\"delta\").mode(\"overwrite\").saveAsTable(\"dimUser\")"
   ],
   "id": "1febe870e6ef1c2d",
   "outputs": [],
   "execution_count": 10
  },
  {
   "metadata": {},
   "cell_type": "markdown",
   "source": "# Updaten van SCD 2 type",
   "id": "fbf355b0ca83fd12"
  },
  {
   "metadata": {
    "ExecuteTime": {
     "end_time": "2024-12-20T16:07:28.936218Z",
     "start_time": "2024-12-20T16:07:27.898612Z"
    }
   },
   "cell_type": "code",
   "source": [
    "# Extract (from data Warehouse)\n",
    "dt_dimUser = DeltaTable.forPath(spark, \".\\\\spark-warehouse\\\\dimuser\")\n",
    "dt_dimUser.toDF().createOrReplaceTempView(\"dimUser_current\")\n",
    "\n",
    "spark.sql(\"select * from dimUser_current\").show();"
   ],
   "id": "cc302e062b4bc93a",
   "outputs": [
    {
     "name": "stdout",
     "output_type": "stream",
     "text": [
      "+--------------------+------+-----------------+-----------------+----------+--------------------+-------+--------------------+------------+-------------------+-------------------+--------------------+-------+\n",
      "|             user_SK|userid|             name|subscription_type|valid_from|              street| number|                city|country_code|          scd_start|            scd_end|                 md5|current|\n",
      "+--------------------+------+-----------------+-----------------+----------+--------------------+-------+--------------------+------------+-------------------+-------------------+--------------------+-------+\n",
      "|b471d7b1-5626-4c7...|    12|     Simons Thijs|             JAAR|2023-10-20|         Bergenhoeve|81 0302|Antwerpen/Berendr...|          BE|1900-01-01 00:00:00|2100-12-12 00:00:00|185076a17fcae9054...|   true|\n",
      "|670ec61c-955c-497...|    13|       Groen Rens|             JAAR|2020-02-28|  Trompetvogelstraat|     1 | Merksem (Antwerpen)|          BE|1900-01-01 00:00:00|2100-12-12 00:00:00|ca92ad4bc1a9f6b77...|   true|\n",
      "|be54182a-b926-4b3...|    14|van der Veer Romy|             JAAR|2023-09-19|Prosper De Vochtlaan|   177 |    Kontich/Waarloos|          BE|1900-01-01 00:00:00|2100-12-12 00:00:00|280f152d853969609...|   true|\n",
      "|0040f28c-2b47-4d1...|    18|   Veldman Angela|             JAAR|2023-08-04|Emiel Van Hemeldo...|    93 |                Hove|          BE|1900-01-01 00:00:00|2100-12-12 00:00:00|cf6f5ea33e2e22ebd...|   true|\n",
      "|753b7ae9-b726-48f...|    25|     Blok Vincent|              DAG|2019-01-13|      Korenbloemlaan|   147 |             Schoten|          BE|1900-01-01 00:00:00|2100-12-12 00:00:00|2a0af79e60b46e3e3...|   true|\n",
      "|f6bebdad-544b-452...|    37|     Postma Niels|             JAAR|2022-08-02|        Visserstraat|82 0602|  Burcht/Zwijndrecht|          BE|1900-01-01 00:00:00|2100-12-12 00:00:00|6ce5c02ed168ff4fe...|   true|\n",
      "|c4dd9c89-a1fe-436...|    38|    Peters Stefan|            MAAND|2022-11-17|    Kleinebeerstraat|    60 |           Antwerpen|          BE|1900-01-01 00:00:00|2100-12-12 00:00:00|367d08f1953c0efed...|   true|\n",
      "|5dbea1b1-66d0-4ce...|    46|      Baars Kevin|             JAAR|2023-12-30|            Keerbaan|   103 |Broechem/Emblem/O...|          BE|1900-01-01 00:00:00|2100-12-12 00:00:00|29394c3a5b952908e...|   true|\n",
      "|ac0ead1f-d59f-46e...|    50|  Venema Matthijs|             JAAR|2022-09-05|         Bollaakdijk|    31 |Broechem/Emblem/O...|          BE|1900-01-01 00:00:00|2100-12-12 00:00:00|af2d93c07204d80c7...|   true|\n",
      "|86c417d2-674a-4ce...|    52|  van Egmond Niek|             JAAR|2019-05-07|     Nachtegalenlaan|44 0006|                Hove|          BE|1900-01-01 00:00:00|2100-12-12 00:00:00|829b46cfd0aefd815...|   true|\n",
      "|072a571a-a5c9-4ca...|    56|      Prins Elise|             JAAR|2021-12-25|      Jennevalstraat|   233 | Berchem (Antwerpen)|          BE|1900-01-01 00:00:00|2100-12-12 00:00:00|7b70c8b72637f0499...|   true|\n",
      "|f00055f1-fe1e-46b...|    65| van Rooijen Emma|             JAAR|2023-08-27|          Kerkstraat|   109 | Reet/Rumst/Terhagen|          BE|1900-01-01 00:00:00|2100-12-12 00:00:00|d13f37ccd9922010c...|   true|\n",
      "|08e21663-8ae1-476...|    67|    Verhoef Menno|              DAG|2018-12-30|  Henri Dunantstraat|   248 | Hoboken (Antwerpen)|          BE|1900-01-01 00:00:00|2100-12-12 00:00:00|e24b3cb8595f74c0e...|   true|\n",
      "|80202c7e-3173-4bf...|    70|     Wouters Joep|             JAAR|2018-01-08|Jan Frans Favelet...|   752 |Beveren-Waas/Haas...|          BE|1900-01-01 00:00:00|2100-12-12 00:00:00|8567dea56e6ad830f...|   true|\n",
      "|039ce9f8-1d77-47e...|    73| van Rijn Johanna|             JAAR|2019-04-23|          Mereldreef|    94 |s Gravenwezel/Sch...|          BE|1900-01-01 00:00:00|2100-12-12 00:00:00|9c82cf5455d05264b...|   true|\n",
      "|edf8528b-aa0c-46b...|    83|   Dekkers Casper|             JAAR|2018-05-06|Maria de Heeltstraat|73 0103|  Deurne (Antwerpen)|          BE|1900-01-01 00:00:00|2100-12-12 00:00:00|0b27a358402834b22...|   true|\n",
      "|a4d9f756-9889-4c0...|    93|  Kuijpers Simone|             JAAR|2022-08-05|          Kapellelei|29 0706|             Mortsel|          BE|1900-01-01 00:00:00|2100-12-12 00:00:00|58b9bea626102fce8...|   true|\n",
      "|6eda7a40-e427-462...|    95|   Verhagen Mandy|             JAAR|2021-08-28|         Hamerplaats|   121 |           Antwerpen|          BE|1900-01-01 00:00:00|2100-12-12 00:00:00|e968ba38452d3e127...|   true|\n",
      "|d2b1f11f-00ae-485...|    97|  Hendriks Carmen|             JAAR|2023-04-07|        Wisselstraat| 8 0901|s Gravenwezel/Sch...|          BE|1900-01-01 00:00:00|2100-12-12 00:00:00|b591fa92d5a1a17a5...|   true|\n",
      "|7d960258-60f4-4dc...|   101|     de Jager Isa|              DAG|2021-11-23|      Holsthumstraat|    88 |Bazel/Kruibeke/Ru...|          BE|1900-01-01 00:00:00|2100-12-12 00:00:00|efcba650b7c93fa5a...|   true|\n",
      "+--------------------+------+-----------------+-----------------+----------+--------------------+-------+--------------------+------------+-------------------+-------------------+--------------------+-------+\n",
      "only showing top 20 rows\n",
      "\n"
     ]
    }
   ],
   "execution_count": 11
  },
  {
   "metadata": {
    "ExecuteTime": {
     "end_time": "2024-12-20T16:07:31.505861Z",
     "start_time": "2024-12-20T16:07:30.746966Z"
    }
   },
   "cell_type": "code",
   "source": [
    "#Extract (from source database)\n",
    "df_user_newRead = spark.read \\\n",
    "    .format(\"jdbc\") \\\n",
    "    .option(\"driver\" , cc.get_Property(\"driver\")) \\\n",
    "    .option(\"url\", cc.create_jdbc()) \\\n",
    "    .option(\"dbtable\", \"velo_users\") \\\n",
    "    .option(\"user\", cc.get_Property(\"username\")) \\\n",
    "    .option(\"password\", cc.get_Property(\"password\")) \\\n",
    "    .option(\"partitionColumn\", \"userid\") \\\n",
    "    .option(\"numPartitions\", 4) \\\n",
    "    .option(\"lowerBound\", 0) \\\n",
    "    .option(\"upperBound\", 60000) \\\n",
    "    .load()\n",
    "\n",
    "df_subscription_newRead = spark.read \\\n",
    "    .format(\"jdbc\") \\\n",
    "    .option(\"driver\" , cc.get_Property(\"driver\")) \\\n",
    "    .option(\"url\", cc.create_jdbc()) \\\n",
    "    .option(\"dbtable\", \"Subscriptions\") \\\n",
    "    .option(\"user\", cc.get_Property(\"username\")) \\\n",
    "    .option(\"password\", cc.get_Property(\"password\")) \\\n",
    "    .option(\"partitionColumn\", \"userid\") \\\n",
    "    .option(\"numPartitions\", 4) \\\n",
    "    .option(\"lowerBound\", 0) \\\n",
    "    .option(\"upperBound\", 80000) \\\n",
    "    .load()\n",
    "\n",
    "df_subscription_type_newRead = spark.read \\\n",
    "    .format(\"jdbc\") \\\n",
    "    .option(\"driver\" , cc.get_Property(\"driver\")) \\\n",
    "    .option(\"url\", cc.create_jdbc()) \\\n",
    "    .option(\"dbtable\", \"Subscription_types\") \\\n",
    "    .option(\"user\", cc.get_Property(\"username\")) \\\n",
    "    .option(\"password\", cc.get_Property(\"password\")) \\\n",
    "    .load()\n",
    "\n",
    "df_user_newRead.createOrReplaceTempView(\"source_user_newRead\")\n",
    "df_subscription_newRead.createOrReplaceTempView(\"source_subscription_newRead_newRead\")\n",
    "df_subscription_type_newRead.createOrReplaceTempView(\"source_subscription_type_newRead\")\n",
    "\n",
    "df_dim_user_newRead= spark.sql(f\"select uuid() as source_user_SK,\\\n",
    "                                user.userid as source_userid, user.name as source_name, subscription_type.description as source_subscription_type, subscription.validfrom as source_valid_from, user.street as source_street, user.number as source_number, \\\n",
    "                                city as source_city, country_code as source_country_code,\\\n",
    "                                md5(concat(country_code, city, street, number)) as source_md5 \\\n",
    "                                from source_user_newRead as user\\\n",
    "                                join (select userid, max(validfrom) as last_validfrom from source_Subscription group by userid) as last_subscription on user.userid = last_subscription.userid\\\n",
    "                                join source_Subscription as subscription on subscription.userid = last_subscription.userid AND subscription.validfrom = last_subscription.last_validfrom\\\n",
    "                                join source_Subscription_type as subscription_type on subscription_type.subscriptiontypeid = subscription.subscriptiontypeid\")\n",
    "\n",
    "df_dim_user_newRead.createOrReplaceTempView(\"dimUser_new\")\n",
    "\n",
    "spark.sql(\"select * from dimUser_new\").show()\n"
   ],
   "id": "57cb31a81be6e0da",
   "outputs": [
    {
     "name": "stdout",
     "output_type": "stream",
     "text": [
      "+--------------------+-------------+-----------------+------------------------+-----------------+--------------------+-------------+--------------------+-------------------+--------------------+\n",
      "|      source_user_SK|source_userid|      source_name|source_subscription_type|source_valid_from|       source_street|source_number|         source_city|source_country_code|          source_md5|\n",
      "+--------------------+-------------+-----------------+------------------------+-----------------+--------------------+-------------+--------------------+-------------------+--------------------+\n",
      "|a9c57541-67c5-481...|           12|     Simons Thijs|                    JAAR|       2023-10-20|         Bergenhoeve|      81 0302|Antwerpen/Berendr...|                 BE|185076a17fcae9054...|\n",
      "|2ce0a706-3e30-4e9...|           13|       Groen Rens|                    JAAR|       2020-02-28|  Trompetvogelstraat|           1 | Merksem (Antwerpen)|                 BE|ca92ad4bc1a9f6b77...|\n",
      "|04e47fc7-7f12-4d3...|           14|van der Veer Romy|                    JAAR|       2023-09-19|Prosper De Vochtlaan|         177 |    Kontich/Waarloos|                 BE|280f152d853969609...|\n",
      "|92a81f66-d9b4-40b...|           18|   Veldman Angela|                    JAAR|       2023-08-04|Emiel Van Hemeldo...|          93 |                Hove|                 BE|cf6f5ea33e2e22ebd...|\n",
      "|3fae9306-49d3-413...|           25|     Blok Vincent|                     DAG|       2019-01-13|      Korenbloemlaan|         147 |             Schoten|                 BE|2a0af79e60b46e3e3...|\n",
      "|2905d0d2-f715-486...|           37|     Postma Niels|                    JAAR|       2022-08-02|        Visserstraat|      82 0602|  Burcht/Zwijndrecht|                 BE|6ce5c02ed168ff4fe...|\n",
      "|5cc07ef4-7fa2-45d...|           38|    Peters Stefan|                   MAAND|       2022-11-17|    Kleinebeerstraat|          60 |           Antwerpen|                 BE|367d08f1953c0efed...|\n",
      "|e7aa2013-dffb-467...|           46|      Baars Kevin|                    JAAR|       2023-12-30|            Keerbaan|         103 |Broechem/Emblem/O...|                 BE|29394c3a5b952908e...|\n",
      "|85cc3b80-6543-4d9...|           50|  Venema Matthijs|                    JAAR|       2022-09-05|         Bollaakdijk|          31 |Broechem/Emblem/O...|                 BE|af2d93c07204d80c7...|\n",
      "|640f8912-329d-4f7...|           52|  van Egmond Niek|                    JAAR|       2019-05-07|     Nachtegalenlaan|      44 0006|                Hove|                 BE|829b46cfd0aefd815...|\n",
      "|91b8fa16-d34f-4a5...|           56|      Prins Elise|                    JAAR|       2021-12-25|      Jennevalstraat|         233 | Berchem (Antwerpen)|                 BE|7b70c8b72637f0499...|\n",
      "|7ba51194-4802-413...|           65| van Rooijen Emma|                    JAAR|       2023-08-27|          Kerkstraat|         109 | Reet/Rumst/Terhagen|                 BE|d13f37ccd9922010c...|\n",
      "|f3df8ba0-bdf2-4c2...|           67|    Verhoef Menno|                     DAG|       2018-12-30|  Henri Dunantstraat|         248 | Hoboken (Antwerpen)|                 BE|e24b3cb8595f74c0e...|\n",
      "|ad6be9e3-1890-484...|           70|     Wouters Joep|                    JAAR|       2018-01-08|Jan Frans Favelet...|         752 |Beveren-Waas/Haas...|                 BE|8567dea56e6ad830f...|\n",
      "|4a19dabb-b593-48f...|           73| van Rijn Johanna|                    JAAR|       2019-04-23|          Mereldreef|          94 |s Gravenwezel/Sch...|                 BE|9c82cf5455d05264b...|\n",
      "|b341813b-313f-415...|           83|   Dekkers Casper|                    JAAR|       2018-05-06|Maria de Heeltstraat|      73 0103|  Deurne (Antwerpen)|                 BE|0b27a358402834b22...|\n",
      "|cd75300e-c126-4e1...|           93|  Kuijpers Simone|                    JAAR|       2022-08-05|          Kapellelei|      29 0706|             Mortsel|                 BE|58b9bea626102fce8...|\n",
      "|cb28f0be-cb08-4a1...|           95|   Verhagen Mandy|                    JAAR|       2021-08-28|         Hamerplaats|         121 |           Antwerpen|                 BE|e968ba38452d3e127...|\n",
      "|61d5d31f-a5b3-486...|           97|  Hendriks Carmen|                    JAAR|       2023-04-07|        Wisselstraat|       8 0901|s Gravenwezel/Sch...|                 BE|b591fa92d5a1a17a5...|\n",
      "|a8359662-e160-497...|          101|     de Jager Isa|                     DAG|       2021-11-23|      Holsthumstraat|          88 |Bazel/Kruibeke/Ru...|                 BE|efcba650b7c93fa5a...|\n",
      "+--------------------+-------------+-----------------+------------------------+-----------------+--------------------+-------------+--------------------+-------------------+--------------------+\n",
      "only showing top 20 rows\n",
      "\n"
     ]
    }
   ],
   "execution_count": 12
  },
  {
   "metadata": {
    "ExecuteTime": {
     "end_time": "2024-12-20T16:07:35.909671Z",
     "start_time": "2024-12-20T16:07:34.871495Z"
    }
   },
   "cell_type": "code",
   "source": [
    "##Transform\n",
    "#Detect changes\n",
    "detectedChanges = spark.sql(f\"select * from dimUser_new source\\\n",
    "                            left outer join dimUser_current dwh on dwh.userid = source.source_userid and dwh.current == TRUE  \\\n",
    "                            where dwh.userid is null\\\n",
    "                            or dwh.md5 <> source.source_md5\\\n",
    "                            \")\n",
    "\n",
    "detectedChanges.createOrReplaceTempView(\"detectedChanges\")\n",
    "\n",
    "#Note: zelf data aanpassen in db om dit te kunnen zien(update). Je kan ook nieuwe rij in de db toevoegen. (insert)\n",
    "detectedChanges.show()\n",
    "\n"
   ],
   "id": "cf30b0a12c9f69f3",
   "outputs": [
    {
     "name": "stdout",
     "output_type": "stream",
     "text": [
      "+--------------+-------------+-----------+------------------------+-----------------+-------------+-------------+-----------+-------------------+----------+-------+------+----+-----------------+----------+------+------+----+------------+---------+-------+---+-------+\n",
      "|source_user_SK|source_userid|source_name|source_subscription_type|source_valid_from|source_street|source_number|source_city|source_country_code|source_md5|user_SK|userid|name|subscription_type|valid_from|street|number|city|country_code|scd_start|scd_end|md5|current|\n",
      "+--------------+-------------+-----------+------------------------+-----------------+-------------+-------------+-----------+-------------------+----------+-------+------+----+-----------------+----------+------+------+----+------------+---------+-------+---+-------+\n",
      "+--------------+-------------+-----------+------------------------+-----------------+-------------+-------------+-----------+-------------------+----------+-------+------+----+-----------------+----------+------+------+----+------------+---------+-------+---+-------+\n",
      "\n"
     ]
    }
   ],
   "execution_count": 13
  },
  {
   "metadata": {
    "ExecuteTime": {
     "end_time": "2024-12-20T16:07:55.207333Z",
     "start_time": "2024-12-20T16:07:54.245343Z"
    }
   },
   "cell_type": "code",
   "source": [
    "#Transform\n",
    "#upserts (updates and inserts)\n",
    "run_timestamp =datetime.now()\n",
    "\n",
    "df_upserts = spark.sql(f\"select source_user_SK as user_SK,\\\n",
    "                                source_userid as userid, source_name as name, source_subscription_type as subscription_type, source_valid_from as valid_from, \\\n",
    "                                source_street as street,source_number as number, source_city as city, source_country_code as country_code,\\\n",
    "                                to_timestamp('{run_timestamp}') as scd_start,\\\n",
    "                                to_timestamp('2100-12-12','yyyy-MM-dd') as scd_end,\\\n",
    "                                source_md5 as md5,\\\n",
    "                                True as current\\\n",
    "                        from detectedChanges\\\n",
    "                        union\\\n",
    "                        select user_SK,\\\n",
    "                                userid, name,subscription_type,valid_from, street, number, city, country_code,\\\n",
    "                                scd_start,\\\n",
    "                                to_timestamp('{run_timestamp}') as scd_end,\\\n",
    "                                md5,\\\n",
    "                                false\\\n",
    "                        from detectedChanges\\\n",
    "                        where current is not null\")\n",
    "\n",
    "\n",
    "df_upserts.createOrReplaceTempView(\"upserts\")\n",
    "spark.sql(\"select * from upserts\").show()"
   ],
   "id": "1ce5163078f13bd7",
   "outputs": [
    {
     "name": "stdout",
     "output_type": "stream",
     "text": [
      "+-------+------+----+-----------------+----------+------+------+----+------------+---------+-------+---+-------+\n",
      "|user_SK|userid|name|subscription_type|valid_from|street|number|city|country_code|scd_start|scd_end|md5|current|\n",
      "+-------+------+----+-----------------+----------+------+------+----+------------+---------+-------+---+-------+\n",
      "+-------+------+----+-----------------+----------+------+------+----+------------+---------+-------+---+-------+\n",
      "\n"
     ]
    }
   ],
   "execution_count": 15
  },
  {
   "metadata": {
    "ExecuteTime": {
     "end_time": "2024-12-20T16:08:00.136160Z",
     "start_time": "2024-12-20T16:07:57.883450Z"
    }
   },
   "cell_type": "code",
   "source": [
    "#Load\n",
    "##Merge (changes into current data warehouse)\n",
    "spark.sql(f\"MERGE INTO dimUser_current as target \\\n",
    "          using upserts as source ON target.userid = source.userid and source.current = false and target.current = true \\\n",
    "          WHEN MATCHED THEN UPDATE SET scd_end = source.scd_end, current = source.current \\\n",
    "          WHEN NOT MATCHED THEN INSERT (user_SK, userid, name, street, number, city, country_code, scd_start, scd_end, md5, current) values \\\n",
    "          (source.user_SK, source.userid, source.name, source.street, source.number, source.city, source.country_code, source.scd_start, source.scd_end, source.md5, source.current)\")\n",
    "#Matched is when the current is set to false (new record)\n",
    "#Not matched is for the new records\n",
    "\n",
    "dt_dimUser.toDF().sort(\"userId\", \"scd_start\").show(100)"
   ],
   "id": "61158fae66221c64",
   "outputs": [
    {
     "name": "stdout",
     "output_type": "stream",
     "text": [
      "+--------------------+------+--------------------+-----------------+----------+--------------------+--------+--------------------+------------+-------------------+-------------------+--------------------+-------+\n",
      "|             user_SK|userid|                name|subscription_type|valid_from|              street|  number|                city|country_code|          scd_start|            scd_end|                 md5|current|\n",
      "+--------------------+------+--------------------+-----------------+----------+--------------------+--------+--------------------+------------+-------------------+-------------------+--------------------+-------+\n",
      "|eda04a2d-35d7-433...|     1|         Bouman Lars|              DAG|2020-12-14|         Somméstraat|    155 |           Antwerpen|          BE|1900-01-01 00:00:00|2100-12-12 00:00:00|6ad982e1b845c5b41...|   true|\n",
      "|718c1d90-26cb-471...|     2|   van der Zee Julia|            MAAND|2021-10-05|          Europalaan|     42 | Wilrijk (Antwerpen)|          BE|1900-01-01 00:00:00|2100-12-12 00:00:00|54c8ce72c26bb4673...|   true|\n",
      "|869efe6a-5484-4b3...|     3|     de Boer Ricardo|             JAAR|2022-09-17|   Maria Clarastraat|    81  |           Wommelgem|          BE|1900-01-01 00:00:00|2100-12-12 00:00:00|5a5873904c676d505...|   true|\n",
      "|af508048-efba-4a5...|     4|      Willems Angela|              DAG|2019-04-08|Graaf Joseph de P...|     15 |             Schoten|          BE|1900-01-01 00:00:00|2100-12-12 00:00:00|a927a334e23a4ee5b...|   true|\n",
      "|e41308b9-d302-40a...|     5|    Heijnen Patricia|             JAAR|2022-05-16|          Meylstraat|    112 |                Hove|          BE|1900-01-01 00:00:00|2100-12-12 00:00:00|0f7d190f5caa16e7c...|   true|\n",
      "|721cb5f4-5033-44e...|     6|      Driessen Anouk|             JAAR|2023-12-31|   Jan Ockegemstraat|168 0107|              Edegem|          BE|1900-01-01 00:00:00|2100-12-12 00:00:00|8deeffa62efa4aa9c...|   true|\n",
      "|e74ba48c-1c99-469...|     7|      Dijkstra Frank|            MAAND|2021-12-01|        Klamperdreef|    153 |             Schoten|          BE|1900-01-01 00:00:00|2100-12-12 00:00:00|c14027ed8b727ae8f...|   true|\n",
      "|0b9634c4-0828-45d...|     8|  den Hartog Suzanne|             JAAR|2023-11-26|      Kolibriestraat|138 0608| Merksem (Antwerpen)|          BE|1900-01-01 00:00:00|2100-12-12 00:00:00|ec87b1687133e2137...|   true|\n",
      "|0ca9e037-8ac7-4e8...|     9|            Smit Tim|            MAAND|2023-11-29|       Bikschotelaan|     60 | Berchem (Antwerpen)|          BE|1900-01-01 00:00:00|2100-12-12 00:00:00|674f288323be8a606...|   true|\n",
      "|c2d16636-91e5-480...|    10|van der Steen Carmen|             JAAR|2021-12-27|          Benzineweg|    137 |           Antwerpen|          BE|1900-01-01 00:00:00|2100-12-12 00:00:00|36ec28378d3ae9113...|   true|\n",
      "|a0415399-c032-42b...|    11| de Ruijter Daniëlle|            MAAND|2023-02-02|      Leo Metsstraat| 21 0905|  Burcht/Zwijndrecht|          BE|1900-01-01 00:00:00|2100-12-12 00:00:00|7a2554d223d0868ca...|   true|\n",
      "|b471d7b1-5626-4c7...|    12|        Simons Thijs|             JAAR|2023-10-20|         Bergenhoeve| 81 0302|Antwerpen/Berendr...|          BE|1900-01-01 00:00:00|2100-12-12 00:00:00|185076a17fcae9054...|   true|\n",
      "|670ec61c-955c-497...|    13|          Groen Rens|             JAAR|2020-02-28|  Trompetvogelstraat|      1 | Merksem (Antwerpen)|          BE|1900-01-01 00:00:00|2100-12-12 00:00:00|ca92ad4bc1a9f6b77...|   true|\n",
      "|be54182a-b926-4b3...|    14|   van der Veer Romy|             JAAR|2023-09-19|Prosper De Vochtlaan|    177 |    Kontich/Waarloos|          BE|1900-01-01 00:00:00|2100-12-12 00:00:00|280f152d853969609...|   true|\n",
      "|1954a499-2afb-486...|    15|           Hoek Emma|             JAAR|2018-07-14|    John Kennedylaan|  9 0801|Broechem/Emblem/O...|          BE|1900-01-01 00:00:00|2100-12-12 00:00:00|28cd3077a210759f0...|   true|\n",
      "|fd008d34-2a5c-482...|    16|     Stevens Suzanne|            MAAND|2020-01-15|              Wijk 2| 19 0802|              Vremde|          BE|1900-01-01 00:00:00|2100-12-12 00:00:00|79f50eee141212b78...|   true|\n",
      "|d1b5e517-60dc-419...|    17|van den Bosch Rutger|              DAG|2020-03-10|       Schoggestraat|     73 |  Deurne (Antwerpen)|          BE|1900-01-01 00:00:00|2100-12-12 00:00:00|8ebf865dc376ee404...|   true|\n",
      "|0040f28c-2b47-4d1...|    18|      Veldman Angela|             JAAR|2023-08-04|Emiel Van Hemeldo...|     93 |                Hove|          BE|1900-01-01 00:00:00|2100-12-12 00:00:00|cf6f5ea33e2e22ebd...|   true|\n",
      "|3065bd35-5464-4d2...|    19|     Bakker Daniëlle|             JAAR|2019-10-15|            Fortbaan|     88 |           Wommelgem|          BE|1900-01-01 00:00:00|2100-12-12 00:00:00|769b790e97ed48355...|   true|\n",
      "|b2f8e052-7ada-40a...|    20|      Vink Elisabeth|             JAAR|2018-01-22|  Joseph Wateletlaan|100 0403|           Wommelgem|          BE|1900-01-01 00:00:00|2100-12-12 00:00:00|f197efc9d56598d2c...|   true|\n",
      "|ae535827-05c3-45e...|    21|        Muller Simon|              DAG|2018-10-29|    Montevideostraat|     87 |           Antwerpen|          BE|1900-01-01 00:00:00|2100-12-12 00:00:00|c9c80e99da19cd0f1...|   true|\n",
      "|bbf172c2-a93f-419...|    22|     Dijkstra Justin|            MAAND|2018-11-17|Joseph Van Hellem...|    129 |              Vremde|          BE|1900-01-01 00:00:00|2100-12-12 00:00:00|b463fc25a19958a45...|   true|\n",
      "|6361c958-6158-467...|    23|     Gerrits Marleen|              DAG|2021-12-20|Floris de Cuijper...|     70 |             Mortsel|          BE|1900-01-01 00:00:00|2100-12-12 00:00:00|1e5dfe8010e4e907c...|   true|\n",
      "|2a7c4789-60d9-401...|    24|        Schepers Roy|             JAAR|2019-08-13|Camille Huysmanslaan|     14 |           Antwerpen|          BE|1900-01-01 00:00:00|2100-12-12 00:00:00|a2bee355cce6a80a6...|   true|\n",
      "|753b7ae9-b726-48f...|    25|        Blok Vincent|              DAG|2019-01-13|      Korenbloemlaan|    147 |             Schoten|          BE|1900-01-01 00:00:00|2100-12-12 00:00:00|2a0af79e60b46e3e3...|   true|\n",
      "|879827ae-b979-4fa...|    26|    van Velzen Joris|            MAAND|2023-12-18|     Rijkerooistraat|117 0901|    Kontich/Waarloos|          BE|1900-01-01 00:00:00|2100-12-12 00:00:00|e58483cd4d7a39bf1...|   true|\n",
      "|86112f45-dc5c-40a...|    27|   Terpstra Jonathan|             JAAR|2018-06-29|          Wilgenlaan|    364 |           Wommelgem|          BE|1900-01-01 00:00:00|2100-12-12 00:00:00|cf928e24a1c3b1965...|   true|\n",
      "|1b880f79-d73b-4ae...|    28|       de Groot Ilse|              DAG|2021-05-14|          Asberglaan|    281 |            Boechout|          BE|1900-01-01 00:00:00|2100-12-12 00:00:00|11841de1ce83a74fd...|   true|\n",
      "|a5ad239b-3d81-40b...|    29|        Brinkman Eva|            MAAND|2023-05-18|         Middelkaart|170 0902|          Brasschaat|          BE|1900-01-01 00:00:00|2100-12-12 00:00:00|4afd1ade4699f9a73...|   true|\n",
      "|aa84c927-6156-458...|    30|           Boer René|             JAAR|2023-06-20|         Douglaslaan|181 0907|Massenhoven/Viers...|          BE|1900-01-01 00:00:00|2100-12-12 00:00:00|12511eb0e95a3a4c2...|   true|\n",
      "|29ae5469-168a-41f...|    31|      Verheijen Rens|              DAG|2020-10-23|        Dinantstraat|119 0103|           Antwerpen|          BE|1900-01-01 00:00:00|2100-12-12 00:00:00|25af23f6cdfd31ed5...|   true|\n",
      "|189d5615-0f18-46b...|    32|        Martens Sven|              DAG|2023-02-13|     Alice Nahonlaan|164 0203|  Burcht/Zwijndrecht|          BE|1900-01-01 00:00:00|2100-12-12 00:00:00|5680008e75bd13423...|   true|\n",
      "|07532958-384e-48e...|    33|      Hendriks Tessa|             JAAR|2021-04-22|          Erikadreef|    528 |             Schoten|          BE|1900-01-01 00:00:00|2100-12-12 00:00:00|30849cbb92fb33800...|   true|\n",
      "|1ee37128-38c9-460...|    34|        Janssen Sven|             JAAR|2021-12-11|     Cretenborchlaan|    121 |Beveren-Waas/Haas...|          BE|1900-01-01 00:00:00|2100-12-12 00:00:00|64dadda85e213672f...|   true|\n",
      "|295443dd-e5db-421...|    35|     van Rijn Daphne|             JAAR|2021-04-05|           Cogelslei| 69 0304|             Mortsel|          BE|1900-01-01 00:00:00|2100-12-12 00:00:00|db64533f80a5f7c59...|   true|\n",
      "|775af9a5-ebdb-4d6...|    36| van den Bos Jacobus|             JAAR|2022-11-23|            Elzasweg|     90 |           Antwerpen|          BE|1900-01-01 00:00:00|2100-12-12 00:00:00|e0f00f1acaa08b999...|   true|\n",
      "|f6bebdad-544b-452...|    37|        Postma Niels|             JAAR|2022-08-02|        Visserstraat| 82 0602|  Burcht/Zwijndrecht|          BE|1900-01-01 00:00:00|2100-12-12 00:00:00|6ce5c02ed168ff4fe...|   true|\n",
      "|c4dd9c89-a1fe-436...|    38|       Peters Stefan|            MAAND|2022-11-17|    Kleinebeerstraat|     60 |           Antwerpen|          BE|1900-01-01 00:00:00|2100-12-12 00:00:00|367d08f1953c0efed...|   true|\n",
      "|655010ad-16ef-406...|    39|        Snijders Max|            MAAND|2022-10-31|Jacob Jordaensstraat|613 0306|             Schoten|          BE|1900-01-01 00:00:00|2100-12-12 00:00:00|462e3f10f18c21ab7...|   true|\n",
      "|eceb8537-612c-41e...|    40|   van der Laan Nick|             JAAR|2022-07-31|           Salielaan|    184 |Broechem/Emblem/O...|          BE|1900-01-01 00:00:00|2100-12-12 00:00:00|6c9a0040ea40cb62d...|   true|\n",
      "|a50870e7-bd52-4c2...|    41|van den Heuvel St...|             JAAR|2022-11-14|       Vuurkruislaan|    102 | Wilrijk (Antwerpen)|          BE|1900-01-01 00:00:00|2100-12-12 00:00:00|eb3b0c522f1c7ccb3...|   true|\n",
      "|b9d6a421-392a-4c0...|    42|  van der Velden Tom|             JAAR|2023-11-11|         Beemdenlaan|    353 |             Schoten|          BE|1900-01-01 00:00:00|2100-12-12 00:00:00|85fd1ac59781a44d6...|   true|\n",
      "|f166f6ed-e073-494...|    43|      Bos Wilhelmina|              DAG|2020-03-26|          Rostockweg|698 0705|           Antwerpen|          BE|1900-01-01 00:00:00|2100-12-12 00:00:00|96d4624767018ec7e...|   true|\n",
      "|1a29295c-c9e1-419...|    44|  de Vries Alexander|             JAAR|2019-09-29|            Rauwaard|139 0603|    Kontich/Waarloos|          BE|1900-01-01 00:00:00|2100-12-12 00:00:00|2bdcd34ef4e1da714...|   true|\n",
      "|3ad392f0-8ff7-449...|    45|    de Lange Danique|             JAAR|2022-03-28|     Violierenstraat|     40 |Beveren-Waas/Haas...|          BE|1900-01-01 00:00:00|2100-12-12 00:00:00|a2299eb0d4b313450...|   true|\n",
      "|5dbea1b1-66d0-4ce...|    46|         Baars Kevin|             JAAR|2023-12-30|            Keerbaan|    103 |Broechem/Emblem/O...|          BE|1900-01-01 00:00:00|2100-12-12 00:00:00|29394c3a5b952908e...|   true|\n",
      "|22db5c38-0897-46d...|    47| van den Bosch Esmée|             JAAR|2019-01-19|         Dorpsstraat|134 0905|             Mortsel|          BE|1900-01-01 00:00:00|2100-12-12 00:00:00|085dcf92dfb6fa986...|   true|\n",
      "|b0453b79-0f84-4b6...|    48|         Post Martin|              DAG|2022-11-23|Jozef Posenaerstraat|  2 0207|Borgerhout (Antwe...|          BE|1900-01-01 00:00:00|2100-12-12 00:00:00|19eb73d959cb93438...|   true|\n",
      "|4f6bd225-aeae-4df...|    49|        Vermeer Vera|              DAG|2020-08-29|            Vaartweg|184 0707|  Deurne (Antwerpen)|          BE|1900-01-01 00:00:00|2100-12-12 00:00:00|240d5a7daa72c3b03...|   true|\n",
      "|ac0ead1f-d59f-46e...|    50|     Venema Matthijs|             JAAR|2022-09-05|         Bollaakdijk|     31 |Broechem/Emblem/O...|          BE|1900-01-01 00:00:00|2100-12-12 00:00:00|af2d93c07204d80c7...|   true|\n",
      "|8626450e-860b-458...|    51|         Faber Joris|             JAAR|2021-06-24|          Janssenlei|     55 |            Boechout|          BE|1900-01-01 00:00:00|2100-12-12 00:00:00|390b3c4a04685b5c3...|   true|\n",
      "|86c417d2-674a-4ce...|    52|     van Egmond Niek|             JAAR|2019-05-07|     Nachtegalenlaan| 44 0006|                Hove|          BE|1900-01-01 00:00:00|2100-12-12 00:00:00|829b46cfd0aefd815...|   true|\n",
      "|108e1a07-1dbf-467...|    53|           Klein Rik|             JAAR|2022-01-06|        Kanaalstraat|    537 |Broechem/Emblem/O...|          BE|1900-01-01 00:00:00|2100-12-12 00:00:00|b1e9a1b0ca3670b91...|   true|\n",
      "|be5fd80d-97cd-4e1...|    54|van der Horst Maaike|             JAAR|2023-05-10|Frans De Peuterst...|159 0105|    Kapellen (Antw.)|          BE|1900-01-01 00:00:00|2100-12-12 00:00:00|89257e342e2503b80...|   true|\n",
      "|6c8fb2d6-2746-422...|    55|       Geurts Pieter|             JAAR|2019-08-31|Falco de Lampagne...|     91 |           Antwerpen|          BE|1900-01-01 00:00:00|2100-12-12 00:00:00|14548834814000a9d...|   true|\n",
      "|072a571a-a5c9-4ca...|    56|         Prins Elise|             JAAR|2021-12-25|      Jennevalstraat|    233 | Berchem (Antwerpen)|          BE|1900-01-01 00:00:00|2100-12-12 00:00:00|7b70c8b72637f0499...|   true|\n",
      "|ad5f3cdb-61c9-444...|    57|       van Eijk Timo|            MAAND|2022-04-10|        De Morrekens|     21 |                Niel|          BE|1900-01-01 00:00:00|2100-12-12 00:00:00|acc603f38362b2cec...|   true|\n",
      "|b3540d85-5b02-487...|    58|  van Rooij Jennifer|            MAAND|2020-05-14|        De Moystraat|    193 |           Antwerpen|          BE|1900-01-01 00:00:00|2100-12-12 00:00:00|8d8fa961897e8138d...|   true|\n",
      "|239baf9f-33a8-4a0...|    59|     van Velzen Leon|             JAAR|2020-05-13|          Elzestraat|    256 |Beveren-Waas/Haas...|          BE|1900-01-01 00:00:00|2100-12-12 00:00:00|7757aca04e9c54ae1...|   true|\n",
      "|4eac47ae-2399-4ff...|    60|   Schipper Bastiaan|             JAAR|2021-08-10|      De Sossastraat|     81 |  Deurne (Antwerpen)|          BE|1900-01-01 00:00:00|2100-12-12 00:00:00|1c6c1a3d966b6cf1c...|   true|\n",
      "|ab98a0e6-5268-4e7...|    61|van Leeuwen Samantha|             JAAR|2023-10-21|            De Kluis|    122 |s Gravenwezel/Sch...|          BE|1900-01-01 00:00:00|2100-12-12 00:00:00|70aefacb7abacc578...|   true|\n",
      "|a7fe778e-e96a-42f...|    62|       Joosten Bryan|              DAG|2021-02-02|         Peperstraat|     66 |             Schelle|          BE|1900-01-01 00:00:00|2100-12-12 00:00:00|856e9407d3ecd1654...|   true|\n",
      "|19419574-f4a0-4cc...|    63|      Stevens Sandra|            MAAND|2020-07-21|          Steenakker|223 0308|    Kontich/Waarloos|          BE|1900-01-01 00:00:00|2100-12-12 00:00:00|8d0dbd8a9e16fe416...|   true|\n",
      "|49afee4c-3c4b-46c...|    64|  van Rooijen Wouter|             JAAR|2022-11-28|         Bergendreef|197 0006|s Gravenwezel/Sch...|          BE|1900-01-01 00:00:00|2100-12-12 00:00:00|3874a1595f36daa30...|   true|\n",
      "|f00055f1-fe1e-46b...|    65|    van Rooijen Emma|             JAAR|2023-08-27|          Kerkstraat|    109 | Reet/Rumst/Terhagen|          BE|1900-01-01 00:00:00|2100-12-12 00:00:00|d13f37ccd9922010c...|   true|\n",
      "|f3b6d1ab-6fed-4b4...|    66|        Hoekstra Rob|             JAAR|2023-12-25|      Warschaustraat|    508 | Hoboken (Antwerpen)|          BE|1900-01-01 00:00:00|2100-12-12 00:00:00|5f6896ea2861f7492...|   true|\n",
      "|08e21663-8ae1-476...|    67|       Verhoef Menno|              DAG|2018-12-30|  Henri Dunantstraat|    248 | Hoboken (Antwerpen)|          BE|1900-01-01 00:00:00|2100-12-12 00:00:00|e24b3cb8595f74c0e...|   true|\n",
      "|37152213-2911-4e5...|    68|          Kroon Vera|             JAAR|2022-11-05|   Blauwesteenstraat|     17 |    Kontich/Waarloos|          BE|1900-01-01 00:00:00|2100-12-12 00:00:00|36d6a7eda50394fe8...|   true|\n",
      "|72002c2b-c8a4-46a...|    69|    Roelofs Jennifer|             JAAR|2021-10-02| Steenberghoekstraat|     57 | Reet/Rumst/Terhagen|          BE|1900-01-01 00:00:00|2100-12-12 00:00:00|050dd399575f8a136...|   true|\n",
      "|80202c7e-3173-4bf...|    70|        Wouters Joep|             JAAR|2018-01-08|Jan Frans Favelet...|    752 |Beveren-Waas/Haas...|          BE|1900-01-01 00:00:00|2100-12-12 00:00:00|8567dea56e6ad830f...|   true|\n",
      "|f7686035-2b4d-4ca...|    71|    Simons Charlotte|             JAAR|2020-03-17|      Veldovenstraat|      6 |                Niel|          BE|1900-01-01 00:00:00|2100-12-12 00:00:00|eb7e267d0b220f318...|   true|\n",
      "|7d1c1d16-dec5-465...|    72|     Rutten Jennifer|             JAAR|2023-11-05|    Sint-Jozefstraat|     31 |           Antwerpen|          BE|1900-01-01 00:00:00|2100-12-12 00:00:00|5a62318d5a89d086a...|   true|\n",
      "|039ce9f8-1d77-47e...|    73|    van Rijn Johanna|             JAAR|2019-04-23|          Mereldreef|     94 |s Gravenwezel/Sch...|          BE|1900-01-01 00:00:00|2100-12-12 00:00:00|9c82cf5455d05264b...|   true|\n",
      "|9dba2971-c7dd-40e...|    74|          Postma Noa|             JAAR|2023-12-09|      Boereveldseweg| 28 0104|  Burcht/Zwijndrecht|          BE|1900-01-01 00:00:00|2100-12-12 00:00:00|1a5f1bd42844c86c5...|   true|\n",
      "|79144d16-1557-44e...|    75| van Lieshout Julian|            MAAND|2021-08-25|          Nothomblei|    116 |          Brasschaat|          BE|1900-01-01 00:00:00|2100-12-12 00:00:00|9417af3b6f034f9aa...|   true|\n",
      "|a7eecf92-f036-428...|    76| de Bruin Wilhelmina|             JAAR|2020-07-12|            Peedreef| 76 0506|    Kapellen (Antw.)|          BE|1900-01-01 00:00:00|2100-12-12 00:00:00|0a93546e00169a93b...|   true|\n",
      "|c9aaa48c-cb6c-4cb...|    77|          Prins Joey|             JAAR|2023-07-28|          Luikstraat|     72 |           Antwerpen|          BE|1900-01-01 00:00:00|2100-12-12 00:00:00|41a391f64db0dfaa8...|   true|\n",
      "|f96e3b11-a7c3-420...|    78|  van den Bosch Iris|             JAAR|2023-09-17|        Klein Heiken|    192 |    Kapellen (Antw.)|          BE|1900-01-01 00:00:00|2100-12-12 00:00:00|de253223730b567c2...|   true|\n",
      "|effa819c-2509-478...|    79|     Baars Alexander|             JAAR|2020-01-12|         Bollaakdijk|    115 |Broechem/Emblem/O...|          BE|1900-01-01 00:00:00|2100-12-12 00:00:00|b9b9c485275308ae9...|   true|\n",
      "|64c3c2b3-4e58-4d9...|    80|     Visser Patricia|             JAAR|2018-09-26|          Wouwstraat|    364 |                Hove|          BE|1900-01-01 00:00:00|2100-12-12 00:00:00|ad3720091450c1833...|   true|\n",
      "|13116883-caca-47c...|    81|  van der Meer Jordi|             JAAR|2023-09-16|           Tenenveld|    122 | Wilrijk (Antwerpen)|          BE|1900-01-01 00:00:00|2100-12-12 00:00:00|968845ea6cc816017...|   true|\n",
      "|1a172069-c746-41b...|    82|    van Rooij Rachel|             JAAR|2020-12-18|    Hagepredikerspad|    139 | Berchem (Antwerpen)|          BE|1900-01-01 00:00:00|2100-12-12 00:00:00|ff500ccbefd10653c...|   true|\n",
      "|edf8528b-aa0c-46b...|    83|      Dekkers Casper|             JAAR|2018-05-06|Maria de Heeltstraat| 73 0103|  Deurne (Antwerpen)|          BE|1900-01-01 00:00:00|2100-12-12 00:00:00|0b27a358402834b22...|   true|\n",
      "|15bdb0b0-d7c0-4d5...|    84|       Boersma Jordi|              DAG|2022-08-19|   Sint-Gummarusveld|    616 |Broechem/Emblem/O...|          BE|1900-01-01 00:00:00|2100-12-12 00:00:00|5d360f73b9f87c5d3...|   true|\n",
      "|95b82a96-3111-4e9...|    85|      van Gils Sarah|              DAG|2022-03-08|    Alfred Oststraat|    224 |  Burcht/Zwijndrecht|          BE|1900-01-01 00:00:00|2100-12-12 00:00:00|775144d4ca92f1765...|   true|\n",
      "|e07bc56c-5ce0-41c...|    86|       Kuijpers Emma|             JAAR|2020-06-15|              Vesten|     78 |Beveren-Waas/Haas...|          BE|1900-01-01 00:00:00|2100-12-12 00:00:00|49bb4959f55eed51c...|   true|\n",
      "|b223592a-c450-4f8...|    87|         Joosten Rik|              DAG|2022-12-24|       Ruytermansweg|153 0802|Antwerpen/Berendr...|          BE|1900-01-01 00:00:00|2100-12-12 00:00:00|2b841009dad526fa3...|   true|\n",
      "|971d92b1-1ae4-442...|    88|     Wiersma Michael|             JAAR|2019-10-05|          Beekstraat|    316 |Bazel/Kruibeke/Ru...|          BE|1900-01-01 00:00:00|2100-12-12 00:00:00|8905faa0bd2e6d866...|   true|\n",
      "|4b79d46a-e157-465...|    89|        Faber Nienke|             JAAR|2020-09-05|Generaal Belliard...|      5 |           Antwerpen|          BE|1900-01-01 00:00:00|2100-12-12 00:00:00|8f7a4ef0321b93ec0...|   true|\n",
      "|2cb11951-911e-40f...|    90|       Timmerman Rob|             JAAR|2022-11-29|Pieter De Ridders...| 34 0307|  Deurne (Antwerpen)|          BE|1900-01-01 00:00:00|2100-12-12 00:00:00|994dfd6a5ebf17288...|   true|\n",
      "|562fa2f6-ab82-490...|    91|         Bosma Jordy|             JAAR|2020-07-16|Lodewijk Gerritslaan|    194 | Berchem (Antwerpen)|          BE|1900-01-01 00:00:00|2100-12-12 00:00:00|3cba00b036c2e5576...|   true|\n",
      "|3fe50429-9c22-43c...|    92|     Smulders Sjoerd|              DAG|2021-01-01|       Jezuïetenlaan|     10 | Wilrijk (Antwerpen)|          BE|1900-01-01 00:00:00|2100-12-12 00:00:00|35d30fa7b0c489303...|   true|\n",
      "|a4d9f756-9889-4c0...|    93|     Kuijpers Simone|             JAAR|2022-08-05|          Kapellelei| 29 0706|             Mortsel|          BE|1900-01-01 00:00:00|2100-12-12 00:00:00|58b9bea626102fce8...|   true|\n",
      "|d806f5b2-91cd-4e1...|    94|   van Dalen Melanie|            MAAND|2018-12-11|         De Biesaard|     17 |s Gravenwezel/Sch...|          BE|1900-01-01 00:00:00|2100-12-12 00:00:00|15445ee0af2e0b9c5...|   true|\n",
      "|6eda7a40-e427-462...|    95|      Verhagen Mandy|             JAAR|2021-08-28|         Hamerplaats|    121 |           Antwerpen|          BE|1900-01-01 00:00:00|2100-12-12 00:00:00|e968ba38452d3e127...|   true|\n",
      "|529287c1-2864-443...|    96|  van den Akker Nick|              DAG|2023-12-22|            Guyotlei|    106 |    Kapellen (Antw.)|          BE|1900-01-01 00:00:00|2100-12-12 00:00:00|7cd00216e42842bbd...|   true|\n",
      "|d2b1f11f-00ae-485...|    97|     Hendriks Carmen|             JAAR|2023-04-07|        Wisselstraat|  8 0901|s Gravenwezel/Sch...|          BE|1900-01-01 00:00:00|2100-12-12 00:00:00|b591fa92d5a1a17a5...|   true|\n",
      "|5478afc0-0895-4df...|    98|      Franken Yvonne|              DAG|2023-12-26|         Bellestraat|134 0206|           Antwerpen|          BE|1900-01-01 00:00:00|2100-12-12 00:00:00|bc54a27906221bcc2...|   true|\n",
      "|5c0c7470-e167-431...|    99|      Terpstra Manon|             JAAR|2021-08-20|   Joe Englishstraat| 95 0102|Borgerhout (Antwe...|          BE|1900-01-01 00:00:00|2100-12-12 00:00:00|8a228bc1889d1b0b1...|   true|\n",
      "|bbd235df-b597-45c...|   100|   Boonstra Patricia|             JAAR|2019-05-05|     Winningenstraat| 25 0402|Beveren-Waas/Haas...|          BE|1900-01-01 00:00:00|2100-12-12 00:00:00|6f62591f85e9a63d6...|   true|\n",
      "+--------------------+------+--------------------+-----------------+----------+--------------------+--------+--------------------+------------+-------------------+-------------------+--------------------+-------+\n",
      "only showing top 100 rows\n",
      "\n"
     ]
    }
   ],
   "execution_count": 16
  },
  {
   "metadata": {},
   "cell_type": "markdown",
   "source": "# Stoppen van Local Cluster",
   "id": "3e65d0006d877e37"
  },
  {
   "metadata": {
    "ExecuteTime": {
     "end_time": "2024-12-20T16:08:07.978398Z",
     "start_time": "2024-12-20T16:08:07.727906Z"
    }
   },
   "cell_type": "code",
   "source": "spark.stop()",
   "id": "a1fcb336fdc0eda",
   "outputs": [],
   "execution_count": 17
  }
 ],
 "metadata": {
  "kernelspec": {
   "display_name": "Python 3",
   "language": "python",
   "name": "python3"
  },
  "language_info": {
   "codemirror_mode": {
    "name": "ipython",
    "version": 2
   },
   "file_extension": ".py",
   "mimetype": "text/x-python",
   "name": "python",
   "nbconvert_exporter": "python",
   "pygments_lexer": "ipython2",
   "version": "2.7.6"
  }
 },
 "nbformat": 4,
 "nbformat_minor": 5
}
