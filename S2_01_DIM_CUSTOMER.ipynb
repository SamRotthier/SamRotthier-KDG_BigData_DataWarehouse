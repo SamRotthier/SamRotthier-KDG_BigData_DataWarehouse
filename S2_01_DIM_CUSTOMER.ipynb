{
 "cells": [
  {
   "metadata": {},
   "cell_type": "markdown",
   "source": "# Config",
   "id": "cfed88684309cb63"
  },
  {
   "cell_type": "code",
   "id": "initial_id",
   "metadata": {
    "collapsed": true,
    "ExecuteTime": {
     "end_time": "2024-12-15T13:42:03.601775Z",
     "start_time": "2024-12-15T13:42:03.029052Z"
    }
   },
   "source": [
    "from delta import DeltaTable\n",
    "from datetime import datetime\n",
    "\n",
    "import ConnectionConfig as cc\n",
    "cc.setupEnvironment()"
   ],
   "outputs": [],
   "execution_count": 1
  },
  {
   "metadata": {},
   "cell_type": "markdown",
   "source": "# Start local cluster",
   "id": "f077cfe4890468a7"
  },
  {
   "metadata": {
    "ExecuteTime": {
     "end_time": "2024-12-15T13:42:26.540137Z",
     "start_time": "2024-12-15T13:42:04.574250Z"
    }
   },
   "cell_type": "code",
   "source": [
    "spark = cc.startLocalCluster(\"DIM_CUSTOMER\")\n",
    "spark.getActiveSession()"
   ],
   "id": "fd39d484a89996e2",
   "outputs": [
    {
     "data": {
      "text/plain": [
       "<pyspark.sql.session.SparkSession at 0x1c3b6eef990>"
      ],
      "text/html": [
       "\n",
       "            <div>\n",
       "                <p><b>SparkSession - in-memory</b></p>\n",
       "                \n",
       "        <div>\n",
       "            <p><b>SparkContext</b></p>\n",
       "\n",
       "            <p><a href=\"http://127.0.0.1:4040\">Spark UI</a></p>\n",
       "\n",
       "            <dl>\n",
       "              <dt>Version</dt>\n",
       "                <dd><code>v3.5.2</code></dd>\n",
       "              <dt>Master</dt>\n",
       "                <dd><code>local[*]</code></dd>\n",
       "              <dt>AppName</dt>\n",
       "                <dd><code>DIM_CUSTOMER</code></dd>\n",
       "            </dl>\n",
       "        </div>\n",
       "        \n",
       "            </div>\n",
       "        "
      ]
     },
     "execution_count": 2,
     "metadata": {},
     "output_type": "execute_result"
    }
   ],
   "execution_count": 2
  },
  {
   "metadata": {},
   "cell_type": "markdown",
   "source": "# Ophalen van gegevens (en oplaan in data warehouse)",
   "id": "3cfa02ba71699c4b"
  },
  {
   "metadata": {
    "ExecuteTime": {
     "end_time": "2024-12-15T14:39:20.170301Z",
     "start_time": "2024-12-15T14:39:19.901963Z"
    }
   },
   "cell_type": "code",
   "source": [
    "#Extract\n",
    "cc.set_connectionProfile(\"velodb\")\n",
    "\n",
    "df_user = spark.read \\\n",
    "    .format(\"jdbc\") \\\n",
    "    .option(\"driver\" , cc.get_Property(\"driver\")) \\\n",
    "    .option(\"url\", cc.create_jdbc()) \\\n",
    "    .option(\"dbtable\", \"velo_users\") \\\n",
    "    .option(\"user\", cc.get_Property(\"username\")) \\\n",
    "    .option(\"password\", cc.get_Property(\"password\")) \\\n",
    "    .option(\"partitionColumn\", \"userid\") \\\n",
    "    .option(\"numPartitions\", 4) \\\n",
    "    .option(\"lowerBound\", 0) \\\n",
    "    .option(\"upperBound\", 60000) \\\n",
    "    .load()\n",
    "\n",
    "df_user.show(5)"
   ],
   "id": "b28f0a9cdda57d9f",
   "outputs": [
    {
     "name": "stdout",
     "output_type": "stream",
     "text": [
      "+------+-----------------+--------------------+--------------------+--------+-------+-------------------+------------+\n",
      "|userid|             name|               email|              street|  number|zipcode|               city|country_code|\n",
      "+------+-----------------+--------------------+--------------------+--------+-------+-------------------+------------+\n",
      "|     2|van der Zee Julia|Julia.van.der.Zee...|          Europalaan|     43 |   2610|Wilrijk (Antwerpen)|          BE|\n",
      "|     3|  de Boer Ricardo|Ricardo.de.Boer@g...|   Maria Clarastraat|     80 |   2160|          Wommelgem|          BE|\n",
      "|     4|   Willems Angela|Angela.Willems@te...|Graaf Joseph de P...|     15 |   2900|            Schoten|          BE|\n",
      "|     5| Heijnen Patricia|Patricia.Heijnen@...|          Meylstraat|    111 |   2540|               Hove|          BE|\n",
      "|     6|   Driessen Anouk|Anouk.Driessen@sc...|   Jan Ockegemstraat|168 0107|   2650|             Edegem|          BE|\n",
      "+------+-----------------+--------------------+--------------------+--------+-------+-------------------+------------+\n",
      "only showing top 5 rows\n",
      "\n"
     ]
    }
   ],
   "execution_count": 21
  },
  {
   "metadata": {
    "ExecuteTime": {
     "end_time": "2024-12-15T14:39:22.212074Z",
     "start_time": "2024-12-15T14:39:22.065696Z"
    }
   },
   "cell_type": "code",
   "source": [
    "#Transform\n",
    "df_user.createOrReplaceTempView(\"source_User\")\n",
    "\n",
    "#df_dim_user= spark.sql(\"select * from source_User\")\n",
    "#df_dim_user.show(5)\n",
    "#df_user.printSchema()\n",
    "\n",
    "df_dim_user= spark.sql(f\"select uuid() as user_SK,*,\\\n",
    "                        to_timestamp('1900-01-01','yyyy-MM-dd') as scd_start,\\\n",
    "                        to_timestamp('2100-12-12','yyyy-MM-dd') as scd_end,\\\n",
    "                        md5(concat(name, country_code, city, street, number)) as md5, \\\n",
    "                        True as current\\\n",
    "                        from source_User\")\n",
    "df_dim_user.show(5)\n"
   ],
   "id": "abe7a6b71ac9e200",
   "outputs": [
    {
     "name": "stdout",
     "output_type": "stream",
     "text": [
      "+--------------------+------+-----------------+--------------------+--------------------+--------+-------+-------------------+------------+-------------------+-------------------+--------------------+-------+\n",
      "|              userSK|userid|             name|               email|              street|  number|zipcode|               city|country_code|          scd_start|            scd_end|                 md5|current|\n",
      "+--------------------+------+-----------------+--------------------+--------------------+--------+-------+-------------------+------------+-------------------+-------------------+--------------------+-------+\n",
      "|fcacef4b-58d9-4f3...|     2|van der Zee Julia|Julia.van.der.Zee...|          Europalaan|     43 |   2610|Wilrijk (Antwerpen)|          BE|1900-01-01 00:00:00|2100-12-12 00:00:00|1fac8d077aca6b0ad...|   true|\n",
      "|73e9dd3d-228b-4fe...|     3|  de Boer Ricardo|Ricardo.de.Boer@g...|   Maria Clarastraat|     80 |   2160|          Wommelgem|          BE|1900-01-01 00:00:00|2100-12-12 00:00:00|183312416b7c7fd51...|   true|\n",
      "|3a21204b-b67a-446...|     4|   Willems Angela|Angela.Willems@te...|Graaf Joseph de P...|     15 |   2900|            Schoten|          BE|1900-01-01 00:00:00|2100-12-12 00:00:00|626fcbc81565e2605...|   true|\n",
      "|34cf10dc-aae7-495...|     5| Heijnen Patricia|Patricia.Heijnen@...|          Meylstraat|    111 |   2540|               Hove|          BE|1900-01-01 00:00:00|2100-12-12 00:00:00|e8c8657ee23d9afe9...|   true|\n",
      "|86b1fff9-0c1b-499...|     6|   Driessen Anouk|Anouk.Driessen@sc...|   Jan Ockegemstraat|168 0107|   2650|             Edegem|          BE|1900-01-01 00:00:00|2100-12-12 00:00:00|12e60e3a118cebc18...|   true|\n",
      "+--------------------+------+-----------------+--------------------+--------------------+--------+-------+-------------------+------------+-------------------+-------------------+--------------------+-------+\n",
      "only showing top 5 rows\n",
      "\n"
     ]
    }
   ],
   "execution_count": 22
  },
  {
   "metadata": {
    "ExecuteTime": {
     "end_time": "2024-12-15T14:39:27.728958Z",
     "start_time": "2024-12-15T14:39:26.801309Z"
    }
   },
   "cell_type": "code",
   "source": [
    "#Load\n",
    "df_dim_user.write.format(\"delta\").mode(\"overwrite\").saveAsTable(\"dimUser\")"
   ],
   "id": "1febe870e6ef1c2d",
   "outputs": [],
   "execution_count": 23
  },
  {
   "metadata": {},
   "cell_type": "markdown",
   "source": "# Updaten van SCD 2 type (adres)",
   "id": "fbf355b0ca83fd12"
  },
  {
   "metadata": {
    "ExecuteTime": {
     "end_time": "2024-12-15T14:39:31.501631Z",
     "start_time": "2024-12-15T14:39:30.610115Z"
    }
   },
   "cell_type": "code",
   "source": [
    "# Extract (from data Warehouse)\n",
    "dt_dimUser = DeltaTable.forPath(spark, \".\\\\spark-warehouse\\\\dimuser\")\n",
    "dt_dimUser.toDF().createOrReplaceTempView(\"dimUser_current\")\n",
    "\n",
    "spark.sql(\"select * from dimUser_current\").show()"
   ],
   "id": "cc302e062b4bc93a",
   "outputs": [
    {
     "name": "stdout",
     "output_type": "stream",
     "text": [
      "+--------------------+------+-------------------+--------------------+--------------------+--------+-------+--------------------+------------+-------------------+-------------------+--------------------+-------+\n",
      "|              userSK|userid|               name|               email|              street|  number|zipcode|                city|country_code|          scd_start|            scd_end|                 md5|current|\n",
      "+--------------------+------+-------------------+--------------------+--------------------+--------+-------+--------------------+------------+-------------------+-------------------+--------------------+-------+\n",
      "|c8ed5dbb-e15f-434...| 30000|  Brouwers Patricia|Patricia.Brouwers...|   Joe Englishstraat|    590 |   2140|Borgerhout (Antwe...|          BE|1900-01-01 00:00:00|2100-12-12 00:00:00|a6909f0b0b1679a46...|   true|\n",
      "|f02b90fa-cdd9-4ce...| 30001|   de Ruijter Maria|Maria.de.Ruijter@...|            Kallodam| 50 0802|   9120|Beveren-Waas/Haas...|          BE|1900-01-01 00:00:00|2100-12-12 00:00:00|92b4014df7f84a6f9...|   true|\n",
      "|5053d4a8-b6b0-4f5...| 30002|    Dijkstra Myrthe|Myrthe.Dijkstra@t...|    Lange Repeldreef|    539 |   2970|s Gravenwezel/Sch...|          BE|1900-01-01 00:00:00|2100-12-12 00:00:00|f8f0c51cc2c03d8ba...|   true|\n",
      "|9efa2401-6956-4ef...| 30003| van der Laan Daisy|Daisy.van.der.Laa...|           Tolstraat|580 0502|   2000|           Antwerpen|          BE|1900-01-01 00:00:00|2100-12-12 00:00:00|6a515e228acfe0a3e...|   true|\n",
      "|d89e3ae9-1df7-47c...| 30004|   van der Wal Anne|Anne.van.der.Wal@...|         Zijdestraat|152 0805|   2930|          Brasschaat|          BE|1900-01-01 00:00:00|2100-12-12 00:00:00|bb4a25edbbb002bec...|   true|\n",
      "|fdfa02a6-6bc5-498...| 30005|      Jonker Dennis|Dennis.Jonker@tel...|           Speltlaan|227 0904|   2520|Broechem/Emblem/O...|          BE|1900-01-01 00:00:00|2100-12-12 00:00:00|e8da76251c8a46969...|   true|\n",
      "|2a1b00b4-dfd7-4f0...| 30006|        Vis Maartje|Maartje.Vis@gmail...|   Oostmalsesteenweg|    165 |   2520|Broechem/Emblem/O...|          BE|1900-01-01 00:00:00|2100-12-12 00:00:00|8b38eb298a0bbfc25...|   true|\n",
      "|ba3085ee-7e35-459...| 30007|      van Duijn Eva|Eva.van.Duijn@gma...|         Bloemenveld|    113 |   2610| Wilrijk (Antwerpen)|          BE|1900-01-01 00:00:00|2100-12-12 00:00:00|bf8d73fec514ae769...|   true|\n",
      "|bf5f5415-2fa8-452...| 30008|       de Jong Erik|Erik.de.Jong@tele...|       Gemeenteplein|    177 |   2550|    Kontich/Waarloos|          BE|1900-01-01 00:00:00|2100-12-12 00:00:00|82211084d3bbcafef...|   true|\n",
      "|874b5848-fe49-4f9...| 30009|       Visser Nicky|Nicky.Visser@gmai...|     Bondgenotenlaan|     56 |   2950|    Kapellen (Antw.)|          BE|1900-01-01 00:00:00|2100-12-12 00:00:00|79b05f405666ee74e...|   true|\n",
      "|69cfc1f8-15c6-446...| 30010|     van Eck Jasper|Jasper.van.Eck@ou...|        Zilverreiger|    188 |   2970|s Gravenwezel/Sch...|          BE|1900-01-01 00:00:00|2100-12-12 00:00:00|bb0f47649e4a541d7...|   true|\n",
      "|e12d57dd-b119-4a4...| 30011|  de Groot Nathalie|Nathalie.de.Groot...|    Boudewijnsstraat|     19 |   2018|           Antwerpen|          BE|1900-01-01 00:00:00|2100-12-12 00:00:00|2a7414771f52ad0a3...|   true|\n",
      "|7b71f143-976f-464...| 30012|      Verweij Johan|Johan.Verweij@tel...|  Door Verstraetelei| 40 0105|   2930|          Brasschaat|          BE|1900-01-01 00:00:00|2100-12-12 00:00:00|9aed02348de79850d...|   true|\n",
      "|3364a758-4c02-4a5...| 30013|Hoogendoorn Laurens|Laurens.Hoogendoo...|          Parijslaan|    120 |   2660| Hoboken (Antwerpen)|          BE|1900-01-01 00:00:00|2100-12-12 00:00:00|37d6746bad73c9bc9...|   true|\n",
      "|a9243f60-d6d2-4af...| 30014|Thijssen Christiaan|Christiaan.Thijss...|  Reigersmolenstraat|    181 |   2531|              Vremde|          BE|1900-01-01 00:00:00|2100-12-12 00:00:00|711cc1af1d1e0046d...|   true|\n",
      "|823a648d-8c69-4fe...| 30015|     Verhoef Sjoerd|Sjoerd.Verhoef@te...|            Cruyslei| 18 0201|   2100|  Deurne (Antwerpen)|          BE|1900-01-01 00:00:00|2100-12-12 00:00:00|2ccd9e6291b8d60f1...|   true|\n",
      "|284aa6cb-de49-449...| 30016|    Vermeer Richard|Richard.Vermeer@g...|Camiel Verstraete...|    177 |   9150|Bazel/Kruibeke/Ru...|          BE|1900-01-01 00:00:00|2100-12-12 00:00:00|1127551b5b6566d44...|   true|\n",
      "|7f87d35b-a808-443...| 30017|       van Wijk Luc|Luc.van.Wijk@tele...|     Ruimtevaartlaan| 79 0306|   2100|  Deurne (Antwerpen)|          BE|1900-01-01 00:00:00|2100-12-12 00:00:00|68263e97922ae6a92...|   true|\n",
      "|fd06d92b-4c61-461...| 30018|   van Hoof Monique|Monique.van.Hoof@...|    Blauwtorentunnel|119 0408|   2018|           Antwerpen|          BE|1900-01-01 00:00:00|2100-12-12 00:00:00|9501ed23bf4a8c8eb...|   true|\n",
      "|773b97df-0628-455...| 30019| de Waal Wilhelmina|Wilhelmina.de.Waa...|         Vlietstraat|     89 |   2627|             Schelle|          BE|1900-01-01 00:00:00|2100-12-12 00:00:00|45876f47eaa1d0ef2...|   true|\n",
      "+--------------------+------+-------------------+--------------------+--------------------+--------+-------+--------------------+------------+-------------------+-------------------+--------------------+-------+\n",
      "only showing top 20 rows\n",
      "\n"
     ]
    }
   ],
   "execution_count": 24
  },
  {
   "metadata": {
    "ExecuteTime": {
     "end_time": "2024-12-15T14:39:52.493886Z",
     "start_time": "2024-12-15T14:39:52.327603Z"
    }
   },
   "cell_type": "code",
   "source": [
    "#Extract (from source database)\n",
    "df_user_newRead = spark.read \\\n",
    "    .format(\"jdbc\") \\\n",
    "    .option(\"driver\" , cc.get_Property(\"driver\")) \\\n",
    "    .option(\"url\", cc.create_jdbc()) \\\n",
    "    .option(\"dbtable\", \"velo_users\") \\\n",
    "    .option(\"user\", cc.get_Property(\"username\")) \\\n",
    "    .option(\"password\", cc.get_Property(\"password\")) \\\n",
    "    .option(\"partitionColumn\", \"userid\") \\\n",
    "    .option(\"numPartitions\", 4) \\\n",
    "    .option(\"lowerBound\", 0) \\\n",
    "    .option(\"upperBound\", 60000) \\\n",
    "    .load()\n",
    "\n",
    "df_user_newRead.createOrReplaceTempView(\"source_user_newRead\")\n",
    "\n",
    "df_dim_user_newRead= spark.sql(f\"select uuid() as source_user_SK,\\\n",
    "                                userid as source_userid, name as source_name, email as source_email, street as source_street, number as source_number, zipcode as source_zipcode, \\\n",
    "                                city as source_city, country_code as source_country_code,\\\n",
    "                                md5(concat(name, country_code, city, street, number)) as source_md5 \\\n",
    "                                from source_user_newRead\")\n",
    "\n",
    "df_dim_user_newRead.createOrReplaceTempView(\"dimUser_new\")\n",
    "\n",
    "spark.sql(\"select * from dimUser_new\").show()\n"
   ],
   "id": "57cb31a81be6e0da",
   "outputs": [
    {
     "name": "stdout",
     "output_type": "stream",
     "text": [
      "+--------------------+-------------+--------------------+--------------------+--------------------+-------------+--------------+--------------------+-------------------+--------------------+\n",
      "|       source_userSK|source_userid|         source_name|        source_email|       source_street|source_number|source_zipcode|         source_city|source_country_code|          source_md5|\n",
      "+--------------------+-------------+--------------------+--------------------+--------------------+-------------+--------------+--------------------+-------------------+--------------------+\n",
      "|dedcc000-b7b7-47e...|            2|   van der Zee Julia|Julia.van.der.Zee...|          Europalaan|          43 |          2610| Wilrijk (Antwerpen)|                 BE|1fac8d077aca6b0ad...|\n",
      "|98778f5f-2b6a-487...|            3|     de Boer Ricardo|Ricardo.de.Boer@g...|   Maria Clarastraat|          80 |          2160|           Wommelgem|                 BE|183312416b7c7fd51...|\n",
      "|2cfad65c-5f03-491...|            4|      Willems Angela|Angela.Willems@te...|Graaf Joseph de P...|          15 |          2900|             Schoten|                 BE|626fcbc81565e2605...|\n",
      "|569c180e-7122-4ef...|            5|    Heijnen Patricia|Patricia.Heijnen@...|          Meylstraat|         111 |          2540|                Hove|                 BE|e8c8657ee23d9afe9...|\n",
      "|7fcf6afe-7cbc-44d...|            6|      Driessen Anouk|Anouk.Driessen@sc...|   Jan Ockegemstraat|     168 0107|          2650|              Edegem|                 BE|12e60e3a118cebc18...|\n",
      "|01edeedc-5ae2-48c...|            7|      Dijkstra Frank|Frank.Dijkstra@sc...|        Klamperdreef|         154 |          2900|             Schoten|                 BE|b2b6d0d0a02ab9f5f...|\n",
      "|bce647e3-a78e-47d...|            8|  den Hartog Suzanne|Suzanne.den.Harto...|      Kolibriestraat|     138 0608|          2170| Merksem (Antwerpen)|                 BE|0e90d50470fcc622a...|\n",
      "|5b67aaed-6006-4f0...|            9|            Smit Tim|  Tim.Smit@gmail.com|       Bikschotelaan|          60 |          2600| Berchem (Antwerpen)|                 BE|39f7baaad9570bfcd...|\n",
      "|0af7e36d-98a0-42e...|           10|van der Steen Carmen|Carmen.van.der.St...|          Benzineweg|         137 |          2020|           Antwerpen|                 BE|a5ff8fccfeed5e18e...|\n",
      "|6b96c10b-01e1-435...|           11| de Ruijter Daniëlle|Daniëlle.de.Ruijt...|      Leo Metsstraat|      21 0905|          2070|  Burcht/Zwijndrecht|                 BE|46966d83439f22674...|\n",
      "|f122d6bb-9d5e-4e9...|           12|        Simons Thijs|Thijs.Simons@outl...|         Bergenhoeve|      81 0302|          2040|Antwerpen/Berendr...|                 BE|85fb6b9b111e43db3...|\n",
      "|09e70101-2a17-499...|           13|          Groen Rens|Rens.Groen@outloo...|  Trompetvogelstraat|           1 |          2170| Merksem (Antwerpen)|                 BE|ba990d0bd778581b7...|\n",
      "|891143d6-2d08-4ff...|           14|   van der Veer Romy|Romy.van.der.Veer...|Prosper De Vochtlaan|         177 |          2550|    Kontich/Waarloos|                 BE|4c7492c77963e04b2...|\n",
      "|0e4c8c56-4996-4d1...|           15|           Hoek Emma|Emma.Hoek@telenet.be|    John Kennedylaan|       9 0801|          2520|Broechem/Emblem/O...|                 BE|86ee455a7dfeddc68...|\n",
      "|d6045501-3a15-4ca...|           16|     Stevens Suzanne|Suzanne.Stevens@t...|              Wijk 2|      19 0802|          2531|              Vremde|                 BE|73573d1c7de8d606f...|\n",
      "|119feb88-638b-4b6...|           17|van den Bosch Rutger|Rutger.van.den.Bo...|       Schoggestraat|          73 |          2100|  Deurne (Antwerpen)|                 BE|6dcdd99301d73c9f5...|\n",
      "|92181391-9c49-477...|           18|      Veldman Angela|Angela.Veldman@gm...|Emiel Van Hemeldo...|          93 |          2540|                Hove|                 BE|415ec7bcffcac9a16...|\n",
      "|a05e94bb-f60b-433...|           19|     Bakker Daniëlle|Daniëlle.Bakker@s...|            Fortbaan|          88 |          2160|           Wommelgem|                 BE|04f30dd5c2e7960f5...|\n",
      "|c711874b-69c0-410...|           20|      Vink Elisabeth|Elisabeth.Vink@gm...|  Joseph Wateletlaan|     100 0403|          2160|           Wommelgem|                 BE|afdda7d754dd987d1...|\n",
      "|46a9c7b3-c9a3-478...|           21|        Muller Simon|Simon.Muller@scar...|    Montevideostraat|          87 |          2000|           Antwerpen|                 BE|5811b39804591fbcf...|\n",
      "+--------------------+-------------+--------------------+--------------------+--------------------+-------------+--------------+--------------------+-------------------+--------------------+\n",
      "only showing top 20 rows\n",
      "\n"
     ]
    }
   ],
   "execution_count": 25
  },
  {
   "metadata": {
    "ExecuteTime": {
     "end_time": "2024-12-15T14:53:08.946739Z",
     "start_time": "2024-12-15T14:53:08.371838Z"
    }
   },
   "cell_type": "code",
   "source": [
    "##Transform\n",
    "#Detect changes\n",
    "detectedChanges = spark.sql(f\"select * from dimUser_new source\\\n",
    "                            left outer join dimUser_current dwh on dwh.userid = source.source_userid and dwh.current == TRUE \\\n",
    "                            where dwh.userid is null or dwh.md5 <> source.source_md5\")\n",
    "\n",
    "detectedChanges.createOrReplaceTempView(\"detectedChanges\")\n",
    "\n",
    "#Note: zelf data aanpassen in db om dit te kunnen zien(update). Je kan ook nieuwe rij in de db toevoegen. (insert)\n",
    "detectedChanges.show()\n",
    "\n"
   ],
   "id": "cf30b0a12c9f69f3",
   "outputs": [
    {
     "name": "stdout",
     "output_type": "stream",
     "text": [
      "+--------------------+-------------+-----------------+--------------------+-----------------+-------------+--------------+-------------------+-------------------+--------------------+--------------------+------+-----------------+--------------------+-----------------+------+-------+-------------------+------------+-------------------+-------------------+--------------------+-------+\n",
      "|       source_userSK|source_userid|      source_name|        source_email|    source_street|source_number|source_zipcode|        source_city|source_country_code|          source_md5|              userSK|userid|             name|               email|           street|number|zipcode|               city|country_code|          scd_start|            scd_end|                 md5|current|\n",
      "+--------------------+-------------+-----------------+--------------------+-----------------+-------------+--------------+-------------------+-------------------+--------------------+--------------------+------+-----------------+--------------------+-----------------+------+-------+-------------------+------------+-------------------+-------------------+--------------------+-------+\n",
      "|dedcc000-b7b7-47e...|            2|van der Zee Julia|Julia.van.der.Zee...|       Europalaan|          42 |          2610|Wilrijk (Antwerpen)|                 BE|7d9d7dfede494c602...|fcacef4b-58d9-4f3...|     2|van der Zee Julia|Julia.van.der.Zee...|       Europalaan|   43 |   2610|Wilrijk (Antwerpen)|          BE|1900-01-01 00:00:00|2100-12-12 00:00:00|1fac8d077aca6b0ad...|   true|\n",
      "|98778f5f-2b6a-487...|            3|  de Boer Ricardo|Ricardo.de.Boer@g...|Maria Clarastraat|         81  |          2160|          Wommelgem|                 BE|3b232f88616e1ff0b...|73e9dd3d-228b-4fe...|     3|  de Boer Ricardo|Ricardo.de.Boer@g...|Maria Clarastraat|   80 |   2160|          Wommelgem|          BE|1900-01-01 00:00:00|2100-12-12 00:00:00|183312416b7c7fd51...|   true|\n",
      "+--------------------+-------------+-----------------+--------------------+-----------------+-------------+--------------+-------------------+-------------------+--------------------+--------------------+------+-----------------+--------------------+-----------------+------+-------+-------------------+------------+-------------------+-------------------+--------------------+-------+\n",
      "\n"
     ]
    }
   ],
   "execution_count": 37
  },
  {
   "metadata": {
    "ExecuteTime": {
     "end_time": "2024-12-15T14:53:12.008397Z",
     "start_time": "2024-12-15T14:53:11.140830Z"
    }
   },
   "cell_type": "code",
   "source": [
    "#Transform\n",
    "#upserts (updates and inserts)\n",
    "run_timestamp =datetime.now()\n",
    "\n",
    "df_upserts = spark.sql(f\"select source_user_SK as user_SK, \\\n",
    "                                source_userid as userid, source_name as name, source_email as email , source_street as street,source_number as number, source_zipcode as zipcode, \\\n",
    "                                source_city as city, source_country_code as country_code, \\\n",
    "                                to_timestamp('{run_timestamp}') as scd_start, \\\n",
    "                                to_timestamp('2100-12-12','yyyy-MM-dd') as scd_end, \\\n",
    "                                source_md5 as md5, \\\n",
    "                                True as current \\\n",
    "                        from detectedChanges \\\n",
    "                        union \\\n",
    "                        select user_SK, \\\n",
    "                                userid, name, email, street, number, zipcode, city, country_code, \\\n",
    "                                scd_start, \\\n",
    "                                to_timestamp('{run_timestamp}') as scd_end, \\\n",
    "                                md5, \\\n",
    "                                false \\\n",
    "                        from detectedChanges \\\n",
    "                        where current is not null\")\n",
    "\n",
    "\n",
    "df_upserts.createOrReplaceTempView(\"upserts\")\n",
    "spark.sql(\"select * from upserts\").show()"
   ],
   "id": "1ce5163078f13bd7",
   "outputs": [
    {
     "name": "stdout",
     "output_type": "stream",
     "text": [
      "+--------------------+------+-----------------+--------------------+-----------------+------+-------+-------------------+------------+--------------------+--------------------+--------------------+-------+\n",
      "|              userSK|userid|             name|               email|           street|number|zipcode|               city|country_code|           scd_start|             scd_end|                 md5|current|\n",
      "+--------------------+------+-----------------+--------------------+-----------------+------+-------+-------------------+------------+--------------------+--------------------+--------------------+-------+\n",
      "|dedcc000-b7b7-47e...|     2|van der Zee Julia|Julia.van.der.Zee...|       Europalaan|   42 |   2610|Wilrijk (Antwerpen)|          BE|2024-12-15 15:53:...| 2100-12-12 00:00:00|7d9d7dfede494c602...|   true|\n",
      "|98778f5f-2b6a-487...|     3|  de Boer Ricardo|Ricardo.de.Boer@g...|Maria Clarastraat|  81  |   2160|          Wommelgem|          BE|2024-12-15 15:53:...| 2100-12-12 00:00:00|3b232f88616e1ff0b...|   true|\n",
      "|73e9dd3d-228b-4fe...|     3|  de Boer Ricardo|Ricardo.de.Boer@g...|Maria Clarastraat|   80 |   2160|          Wommelgem|          BE| 1900-01-01 00:00:00|2024-12-15 15:53:...|183312416b7c7fd51...|  false|\n",
      "|fcacef4b-58d9-4f3...|     2|van der Zee Julia|Julia.van.der.Zee...|       Europalaan|   43 |   2610|Wilrijk (Antwerpen)|          BE| 1900-01-01 00:00:00|2024-12-15 15:53:...|1fac8d077aca6b0ad...|  false|\n",
      "+--------------------+------+-----------------+--------------------+-----------------+------+-------+-------------------+------------+--------------------+--------------------+--------------------+-------+\n",
      "\n"
     ]
    }
   ],
   "execution_count": 38
  },
  {
   "metadata": {
    "ExecuteTime": {
     "end_time": "2024-12-15T15:06:51.461448Z",
     "start_time": "2024-12-15T15:06:47.349712Z"
    }
   },
   "cell_type": "code",
   "source": [
    "#Load\n",
    "##Merge (changes into current data warehouse)\n",
    "spark.sql(f\"MERGE INTO dimUser_current as target \\\n",
    "          using upserts as source ON target.userid = source.userid and source.current = false and target.current = true \\\n",
    "          WHEN MATCHED THEN UPDATE SET scd_end = source.scd_end, current = source.current \\\n",
    "          WHEN NOT MATCHED THEN INSERT (user_SK, userid, name, email, street, number, zipcode, city, country_code, scd_start, scd_end, md5, current) values \\\n",
    "          (source.user_SK, source.userid, source.name, source.email, source.street, source.number, source.zipcode, source.city, source.country_code, source.scd_start, source.scd_end, source.md5, source.current)\")\n",
    "#Matched is when the current is set to false (new record)\n",
    "#Not matched is for the new records\n",
    "\n",
    "dt_dimUser.toDF().sort(\"userId\", \"scd_start\").show(100)"
   ],
   "id": "61158fae66221c64",
   "outputs": [
    {
     "name": "stdout",
     "output_type": "stream",
     "text": [
      "+--------------------+------+--------------------+--------------------+--------------------+--------+-------+--------------------+------------+--------------------+--------------------+--------------------+-------+\n",
      "|              userSK|userid|                name|               email|              street|  number|zipcode|                city|country_code|           scd_start|             scd_end|                 md5|current|\n",
      "+--------------------+------+--------------------+--------------------+--------------------+--------+-------+--------------------+------------+--------------------+--------------------+--------------------+-------+\n",
      "|24fe7a37-cf88-446...|     1|         Bouman Lars|Lars.Bouman@gmail...|         Somméstraat|    155 |   2060|           Antwerpen|          BE| 1900-01-01 00:00:00| 2100-12-12 00:00:00|ba6e8c6ad4554da28...|   true|\n",
      "|fcacef4b-58d9-4f3...|     2|   van der Zee Julia|Julia.van.der.Zee...|          Europalaan|     43 |   2610| Wilrijk (Antwerpen)|          BE| 1900-01-01 00:00:00|2024-12-15 15:53:...|1fac8d077aca6b0ad...|  false|\n",
      "|dedcc000-b7b7-47e...|     2|   van der Zee Julia|Julia.van.der.Zee...|          Europalaan|     42 |   2610| Wilrijk (Antwerpen)|          BE|2024-12-15 15:53:...| 2100-12-12 00:00:00|7d9d7dfede494c602...|   true|\n",
      "|73e9dd3d-228b-4fe...|     3|     de Boer Ricardo|Ricardo.de.Boer@g...|   Maria Clarastraat|     80 |   2160|           Wommelgem|          BE| 1900-01-01 00:00:00|2024-12-15 15:53:...|183312416b7c7fd51...|  false|\n",
      "|98778f5f-2b6a-487...|     3|     de Boer Ricardo|Ricardo.de.Boer@g...|   Maria Clarastraat|    81  |   2160|           Wommelgem|          BE|2024-12-15 15:53:...| 2100-12-12 00:00:00|3b232f88616e1ff0b...|   true|\n",
      "|3a21204b-b67a-446...|     4|      Willems Angela|Angela.Willems@te...|Graaf Joseph de P...|     15 |   2900|             Schoten|          BE| 1900-01-01 00:00:00| 2100-12-12 00:00:00|626fcbc81565e2605...|   true|\n",
      "|34cf10dc-aae7-495...|     5|    Heijnen Patricia|Patricia.Heijnen@...|          Meylstraat|    111 |   2540|                Hove|          BE| 1900-01-01 00:00:00| 2100-12-12 00:00:00|e8c8657ee23d9afe9...|   true|\n",
      "|86b1fff9-0c1b-499...|     6|      Driessen Anouk|Anouk.Driessen@sc...|   Jan Ockegemstraat|168 0107|   2650|              Edegem|          BE| 1900-01-01 00:00:00| 2100-12-12 00:00:00|12e60e3a118cebc18...|   true|\n",
      "|b19401be-3a1a-4cc...|     7|      Dijkstra Frank|Frank.Dijkstra@sc...|        Klamperdreef|    154 |   2900|             Schoten|          BE| 1900-01-01 00:00:00| 2100-12-12 00:00:00|b2b6d0d0a02ab9f5f...|   true|\n",
      "|31cdc9ed-7343-44d...|     8|  den Hartog Suzanne|Suzanne.den.Harto...|      Kolibriestraat|138 0608|   2170| Merksem (Antwerpen)|          BE| 1900-01-01 00:00:00| 2100-12-12 00:00:00|0e90d50470fcc622a...|   true|\n",
      "|8944a45a-afe3-416...|     9|            Smit Tim|  Tim.Smit@gmail.com|       Bikschotelaan|     60 |   2600| Berchem (Antwerpen)|          BE| 1900-01-01 00:00:00| 2100-12-12 00:00:00|39f7baaad9570bfcd...|   true|\n",
      "|9bda65bc-246c-406...|    10|van der Steen Carmen|Carmen.van.der.St...|          Benzineweg|    137 |   2020|           Antwerpen|          BE| 1900-01-01 00:00:00| 2100-12-12 00:00:00|a5ff8fccfeed5e18e...|   true|\n",
      "|f6cdefe1-dfdc-49c...|    11| de Ruijter Daniëlle|Daniëlle.de.Ruijt...|      Leo Metsstraat| 21 0905|   2070|  Burcht/Zwijndrecht|          BE| 1900-01-01 00:00:00| 2100-12-12 00:00:00|46966d83439f22674...|   true|\n",
      "|04d4fc9f-0a01-4c0...|    12|        Simons Thijs|Thijs.Simons@outl...|         Bergenhoeve| 81 0302|   2040|Antwerpen/Berendr...|          BE| 1900-01-01 00:00:00| 2100-12-12 00:00:00|85fb6b9b111e43db3...|   true|\n",
      "|84f61b4e-5c9f-47e...|    13|          Groen Rens|Rens.Groen@outloo...|  Trompetvogelstraat|      1 |   2170| Merksem (Antwerpen)|          BE| 1900-01-01 00:00:00| 2100-12-12 00:00:00|ba990d0bd778581b7...|   true|\n",
      "|6745e976-abbd-42d...|    14|   van der Veer Romy|Romy.van.der.Veer...|Prosper De Vochtlaan|    177 |   2550|    Kontich/Waarloos|          BE| 1900-01-01 00:00:00| 2100-12-12 00:00:00|4c7492c77963e04b2...|   true|\n",
      "|a5fa255e-d144-408...|    15|           Hoek Emma|Emma.Hoek@telenet.be|    John Kennedylaan|  9 0801|   2520|Broechem/Emblem/O...|          BE| 1900-01-01 00:00:00| 2100-12-12 00:00:00|86ee455a7dfeddc68...|   true|\n",
      "|ac1483b9-b178-475...|    16|     Stevens Suzanne|Suzanne.Stevens@t...|              Wijk 2| 19 0802|   2531|              Vremde|          BE| 1900-01-01 00:00:00| 2100-12-12 00:00:00|73573d1c7de8d606f...|   true|\n",
      "|2a58e62b-e7a6-47b...|    17|van den Bosch Rutger|Rutger.van.den.Bo...|       Schoggestraat|     73 |   2100|  Deurne (Antwerpen)|          BE| 1900-01-01 00:00:00| 2100-12-12 00:00:00|6dcdd99301d73c9f5...|   true|\n",
      "|8db53737-6d98-4ef...|    18|      Veldman Angela|Angela.Veldman@gm...|Emiel Van Hemeldo...|     93 |   2540|                Hove|          BE| 1900-01-01 00:00:00| 2100-12-12 00:00:00|415ec7bcffcac9a16...|   true|\n",
      "|ef2743e4-9bd0-4de...|    19|     Bakker Daniëlle|Daniëlle.Bakker@s...|            Fortbaan|     88 |   2160|           Wommelgem|          BE| 1900-01-01 00:00:00| 2100-12-12 00:00:00|04f30dd5c2e7960f5...|   true|\n",
      "|bd602265-a75a-4cf...|    20|      Vink Elisabeth|Elisabeth.Vink@gm...|  Joseph Wateletlaan|100 0403|   2160|           Wommelgem|          BE| 1900-01-01 00:00:00| 2100-12-12 00:00:00|afdda7d754dd987d1...|   true|\n",
      "|c18f3172-0443-49f...|    21|        Muller Simon|Simon.Muller@scar...|    Montevideostraat|     87 |   2000|           Antwerpen|          BE| 1900-01-01 00:00:00| 2100-12-12 00:00:00|5811b39804591fbcf...|   true|\n",
      "|26c8142f-f741-4c5...|    22|     Dijkstra Justin|Justin.Dijkstra@t...|Joseph Van Hellem...|    129 |   2531|              Vremde|          BE| 1900-01-01 00:00:00| 2100-12-12 00:00:00|e9f85bf0a286ec9b7...|   true|\n",
      "|98350e09-f900-47d...|    23|     Gerrits Marleen|Marleen.Gerrits@g...|Floris de Cuijper...|     70 |   2640|             Mortsel|          BE| 1900-01-01 00:00:00| 2100-12-12 00:00:00|94072c975c9936438...|   true|\n",
      "|4eb1dac8-e5eb-444...|    24|        Schepers Roy|Roy.Schepers@gmai...|Camille Huysmanslaan|     14 |   2020|           Antwerpen|          BE| 1900-01-01 00:00:00| 2100-12-12 00:00:00|d1c76397de275c9da...|   true|\n",
      "|02e457f8-3ab7-4c7...|    25|        Blok Vincent|Vincent.Blok@tele...|      Korenbloemlaan|    147 |   2900|             Schoten|          BE| 1900-01-01 00:00:00| 2100-12-12 00:00:00|0a68690a0093a0e2c...|   true|\n",
      "|2698a061-ae55-422...|    26|    van Velzen Joris|Joris.van.Velzen@...|     Rijkerooistraat|117 0901|   2550|    Kontich/Waarloos|          BE| 1900-01-01 00:00:00| 2100-12-12 00:00:00|7fa36ba9a7ed5c440...|   true|\n",
      "|62c7a259-d9cb-4fa...|    27|   Terpstra Jonathan|Jonathan.Terpstra...|          Wilgenlaan|    364 |   2160|           Wommelgem|          BE| 1900-01-01 00:00:00| 2100-12-12 00:00:00|11e34997564fb3812...|   true|\n",
      "|4ceb59d9-de30-45e...|    28|       de Groot Ilse|Ilse.de.Groot@tel...|          Asberglaan|    281 |   2530|            Boechout|          BE| 1900-01-01 00:00:00| 2100-12-12 00:00:00|9aa53f52a535ae204...|   true|\n",
      "|39b9ddfd-86a1-498...|    29|        Brinkman Eva|Eva.Brinkman@tele...|         Middelkaart|170 0902|   2930|          Brasschaat|          BE| 1900-01-01 00:00:00| 2100-12-12 00:00:00|8af9128696cb30084...|   true|\n",
      "|1b283c54-7f14-41b...|    30|           Boer René| René.Boer@gmail.com|         Douglaslaan|181 0907|   2240|Massenhoven/Viers...|          BE| 1900-01-01 00:00:00| 2100-12-12 00:00:00|82519edc5e982e20b...|   true|\n",
      "|7a26a3ee-38f1-4dd...|    31|      Verheijen Rens|Rens.Verheijen@te...|        Dinantstraat|119 0103|   2000|           Antwerpen|          BE| 1900-01-01 00:00:00| 2100-12-12 00:00:00|e13a416d27c675217...|   true|\n",
      "|eb82e3f9-6677-444...|    32|        Martens Sven|Sven.Martens@scar...|     Alice Nahonlaan|164 0203|   2070|  Burcht/Zwijndrecht|          BE| 1900-01-01 00:00:00| 2100-12-12 00:00:00|66d6552524e99dc4e...|   true|\n",
      "|c8bf2778-dc6c-4fa...|    33|      Hendriks Tessa|Tessa.Hendriks@gm...|          Erikadreef|    528 |   2900|             Schoten|          BE| 1900-01-01 00:00:00| 2100-12-12 00:00:00|2ca09b94fa07164d2...|   true|\n",
      "|b56c950b-4105-4e5...|    34|        Janssen Sven|Sven.Janssen@tele...|     Cretenborchlaan|    121 |   9120|Beveren-Waas/Haas...|          BE| 1900-01-01 00:00:00| 2100-12-12 00:00:00|a742d1b8df5670516...|   true|\n",
      "|dd9681dd-29a0-480...|    35|     van Rijn Daphne|Daphne.van.Rijn@t...|           Cogelslei| 69 0304|   2640|             Mortsel|          BE| 1900-01-01 00:00:00| 2100-12-12 00:00:00|21f04f18d1ea4d83f...|   true|\n",
      "|afbde27f-c2de-4fd...|    36| van den Bos Jacobus|Jacobus.van.den.B...|            Elzasweg|     90 |   2030|           Antwerpen|          BE| 1900-01-01 00:00:00| 2100-12-12 00:00:00|09ed2d90fab2580ee...|   true|\n",
      "|a8862c38-710f-469...|    37|        Postma Niels|Niels.Postma@tele...|        Visserstraat| 82 0602|   2070|  Burcht/Zwijndrecht|          BE| 1900-01-01 00:00:00| 2100-12-12 00:00:00|0ec61aa00de093fc1...|   true|\n",
      "|475cdc85-7f53-4b6...|    38|       Peters Stefan|Stefan.Peters@tel...|    Kleinebeerstraat|     60 |   2018|           Antwerpen|          BE| 1900-01-01 00:00:00| 2100-12-12 00:00:00|1d212955ad58c65a8...|   true|\n",
      "|bf52a95e-ab5b-4f7...|    39|        Snijders Max|Max.Snijders@tele...|Jacob Jordaensstraat|613 0306|   2900|             Schoten|          BE| 1900-01-01 00:00:00| 2100-12-12 00:00:00|2012e1749ecbefff6...|   true|\n",
      "|c7c51d14-df67-4d5...|    40|   van der Laan Nick|Nick.van.der.Laan...|           Salielaan|    184 |   2520|Broechem/Emblem/O...|          BE| 1900-01-01 00:00:00| 2100-12-12 00:00:00|52b31730440764ef6...|   true|\n",
      "|718caee3-cb0e-4f4...|    41|van den Heuvel St...|Stefan.van.den.He...|       Vuurkruislaan|    102 |   2610| Wilrijk (Antwerpen)|          BE| 1900-01-01 00:00:00| 2100-12-12 00:00:00|bbdb1e94a56eaf5fb...|   true|\n",
      "|935b2d6b-02d1-44d...|    42|  van der Velden Tom|Tom.van.der.Velde...|         Beemdenlaan|    353 |   2900|             Schoten|          BE| 1900-01-01 00:00:00| 2100-12-12 00:00:00|c387857fc42944808...|   true|\n",
      "|08de4a18-c3ca-428...|    43|      Bos Wilhelmina|Wilhelmina.Bos@te...|          Rostockweg|698 0705|   2030|           Antwerpen|          BE| 1900-01-01 00:00:00| 2100-12-12 00:00:00|1aed59752641d6666...|   true|\n",
      "|69279493-edc9-4a2...|    44|  de Vries Alexander|Alexander.de.Vrie...|            Rauwaard|139 0603|   2550|    Kontich/Waarloos|          BE| 1900-01-01 00:00:00| 2100-12-12 00:00:00|e47f9256861b58fe2...|   true|\n",
      "|bbb36f8f-d339-49e...|    45|    de Lange Danique|Danique.de.Lange@...|     Violierenstraat|     40 |   9120|Beveren-Waas/Haas...|          BE| 1900-01-01 00:00:00| 2100-12-12 00:00:00|08fea477a42ea72e6...|   true|\n",
      "|44e93115-447e-411...|    46|         Baars Kevin|Kevin.Baars@gmail...|            Keerbaan|    103 |   2520|Broechem/Emblem/O...|          BE| 1900-01-01 00:00:00| 2100-12-12 00:00:00|2f87b872d9dd110e1...|   true|\n",
      "|c347c0cd-aa7c-435...|    47| van den Bosch Esmée|Esmée.van.den.Bos...|         Dorpsstraat|134 0905|   2640|             Mortsel|          BE| 1900-01-01 00:00:00| 2100-12-12 00:00:00|2ed9761537c54f9d0...|   true|\n",
      "|758de00f-5360-46d...|    48|         Post Martin|Martin.Post@outlo...|Jozef Posenaerstraat|  2 0207|   2140|Borgerhout (Antwe...|          BE| 1900-01-01 00:00:00| 2100-12-12 00:00:00|aff3332d7001d31f1...|   true|\n",
      "|6e411a2a-cae6-4cd...|    49|        Vermeer Vera|Vera.Vermeer@gmai...|            Vaartweg|184 0707|   2100|  Deurne (Antwerpen)|          BE| 1900-01-01 00:00:00| 2100-12-12 00:00:00|dd7f5546f7fe9942e...|   true|\n",
      "|6fb40425-0857-4ef...|    50|     Venema Matthijs|Matthijs.Venema@t...|         Bollaakdijk|     31 |   2520|Broechem/Emblem/O...|          BE| 1900-01-01 00:00:00| 2100-12-12 00:00:00|ed634bdc342f542f5...|   true|\n",
      "|17f3db33-c746-4b1...|    51|         Faber Joris|Joris.Faber@outlo...|          Janssenlei|     55 |   2530|            Boechout|          BE| 1900-01-01 00:00:00| 2100-12-12 00:00:00|58b681ee17e07d313...|   true|\n",
      "|4a4cfef1-b93f-4fe...|    52|     van Egmond Niek|Niek.van.Egmond@o...|     Nachtegalenlaan| 44 0006|   2540|                Hove|          BE| 1900-01-01 00:00:00| 2100-12-12 00:00:00|a5f2da4ee78ff0013...|   true|\n",
      "|d337d685-ebf0-4a6...|    53|           Klein Rik| Rik.Klein@gmail.com|        Kanaalstraat|    537 |   2520|Broechem/Emblem/O...|          BE| 1900-01-01 00:00:00| 2100-12-12 00:00:00|a5aedce1867da9da0...|   true|\n",
      "|08a34fa2-5ea0-462...|    54|van der Horst Maaike|Maaike.van.der.Ho...|Frans De Peuterst...|159 0105|   2950|    Kapellen (Antw.)|          BE| 1900-01-01 00:00:00| 2100-12-12 00:00:00|e38a2d7de599db5cb...|   true|\n",
      "|7496a14f-c5d0-494...|    55|       Geurts Pieter|Pieter.Geurts@sca...|Falco de Lampagne...|     91 |   2000|           Antwerpen|          BE| 1900-01-01 00:00:00| 2100-12-12 00:00:00|2820006f8ccebcb26...|   true|\n",
      "|57d5276a-dc70-4ae...|    56|         Prins Elise|Elise.Prins@telen...|      Jennevalstraat|    233 |   2600| Berchem (Antwerpen)|          BE| 1900-01-01 00:00:00| 2100-12-12 00:00:00|c90167cd2cf0854bb...|   true|\n",
      "|71fa50c7-4029-434...|    57|       van Eijk Timo|Timo.van.Eijk@tel...|        De Morrekens|     21 |   2845|                Niel|          BE| 1900-01-01 00:00:00| 2100-12-12 00:00:00|f86d1d8eeafadfe3a...|   true|\n",
      "|3137502c-809b-466...|    58|  van Rooij Jennifer|Jennifer.van.Rooi...|        De Moystraat|    193 |   2018|           Antwerpen|          BE| 1900-01-01 00:00:00| 2100-12-12 00:00:00|6ec922a8c373e3618...|   true|\n",
      "|37d81164-58b9-4b9...|    59|     van Velzen Leon|Leon.van.Velzen@o...|          Elzestraat|    256 |   9120|Beveren-Waas/Haas...|          BE| 1900-01-01 00:00:00| 2100-12-12 00:00:00|5a2d203670402860c...|   true|\n",
      "|78db010a-a2ef-4f8...|    60|   Schipper Bastiaan|Bastiaan.Schipper...|      De Sossastraat|     81 |   2100|  Deurne (Antwerpen)|          BE| 1900-01-01 00:00:00| 2100-12-12 00:00:00|ad677e0c574d0a6a3...|   true|\n",
      "|0d996dfa-ba57-48b...|    61|van Leeuwen Samantha|Samantha.van.Leeu...|            De Kluis|    122 |   2970|s Gravenwezel/Sch...|          BE| 1900-01-01 00:00:00| 2100-12-12 00:00:00|1d776814fd931a4ca...|   true|\n",
      "|b5486acd-30ee-4cc...|    62|       Joosten Bryan|Bryan.Joosten@out...|         Peperstraat|     66 |   2627|             Schelle|          BE| 1900-01-01 00:00:00| 2100-12-12 00:00:00|8be0f2d6ca41e6c77...|   true|\n",
      "|cc152e5d-c1a5-4e4...|    63|      Stevens Sandra|Sandra.Stevens@te...|          Steenakker|223 0308|   2550|    Kontich/Waarloos|          BE| 1900-01-01 00:00:00| 2100-12-12 00:00:00|6711599303a67e2c7...|   true|\n",
      "|436bcb9f-fdf6-452...|    64|  van Rooijen Wouter|Wouter.van.Rooije...|         Bergendreef|197 0006|   2970|s Gravenwezel/Sch...|          BE| 1900-01-01 00:00:00| 2100-12-12 00:00:00|c5aa7b13f0da0bc18...|   true|\n",
      "|081baa8a-d32b-4c6...|    65|    van Rooijen Emma|Emma.van.Rooijen@...|          Kerkstraat|    109 |   2840| Reet/Rumst/Terhagen|          BE| 1900-01-01 00:00:00| 2100-12-12 00:00:00|785f7126888967929...|   true|\n",
      "|8fea48da-1f72-437...|    66|        Hoekstra Rob|Rob.Hoekstra@tele...|      Warschaustraat|    508 |   2660| Hoboken (Antwerpen)|          BE| 1900-01-01 00:00:00| 2100-12-12 00:00:00|d102a5a1eaf74200b...|   true|\n",
      "|b02bebae-37e9-423...|    67|       Verhoef Menno|Menno.Verhoef@gma...|  Henri Dunantstraat|    248 |   2660| Hoboken (Antwerpen)|          BE| 1900-01-01 00:00:00| 2100-12-12 00:00:00|13d806faa14ad6242...|   true|\n",
      "|08a12c78-a318-47b...|    68|          Kroon Vera|Vera.Kroon@gmail.com|   Blauwesteenstraat|     17 |   2550|    Kontich/Waarloos|          BE| 1900-01-01 00:00:00| 2100-12-12 00:00:00|efb3dd56c02b063ff...|   true|\n",
      "|1d6d9d22-fa7f-4f9...|    69|    Roelofs Jennifer|Jennifer.Roelofs@...| Steenberghoekstraat|     57 |   2840| Reet/Rumst/Terhagen|          BE| 1900-01-01 00:00:00| 2100-12-12 00:00:00|768ddb32337c83093...|   true|\n",
      "|cb4ede06-1cbc-4f5...|    70|        Wouters Joep|Joep.Wouters@tele...|Jan Frans Favelet...|    752 |   9120|Beveren-Waas/Haas...|          BE| 1900-01-01 00:00:00| 2100-12-12 00:00:00|09305270f34c39a69...|   true|\n",
      "|c0b3e3c4-0311-452...|    71|    Simons Charlotte|Charlotte.Simons@...|      Veldovenstraat|      6 |   2845|                Niel|          BE| 1900-01-01 00:00:00| 2100-12-12 00:00:00|8f32c79064825af83...|   true|\n",
      "|9011d271-c6d6-48c...|    72|     Rutten Jennifer|Jennifer.Rutten@g...|    Sint-Jozefstraat|     31 |   2018|           Antwerpen|          BE| 1900-01-01 00:00:00| 2100-12-12 00:00:00|bf254ca7cc05157d5...|   true|\n",
      "|61e6146a-f632-42c...|    73|    van Rijn Johanna|Johanna.van.Rijn@...|          Mereldreef|     94 |   2970|s Gravenwezel/Sch...|          BE| 1900-01-01 00:00:00| 2100-12-12 00:00:00|b79a4858105ec5746...|   true|\n",
      "|1574a3af-32a9-4b0...|    74|          Postma Noa|Noa.Postma@outloo...|      Boereveldseweg| 28 0104|   2070|  Burcht/Zwijndrecht|          BE| 1900-01-01 00:00:00| 2100-12-12 00:00:00|b00251dd7bcafb37d...|   true|\n",
      "|59e14e6d-1d3c-413...|    75| van Lieshout Julian|Julian.van.Liesho...|          Nothomblei|    116 |   2930|          Brasschaat|          BE| 1900-01-01 00:00:00| 2100-12-12 00:00:00|1ff104e80b76780d0...|   true|\n",
      "|9e442086-9df1-49b...|    76| de Bruin Wilhelmina|Wilhelmina.de.Bru...|            Peedreef| 76 0506|   2950|    Kapellen (Antw.)|          BE| 1900-01-01 00:00:00| 2100-12-12 00:00:00|124f7262963607263...|   true|\n",
      "|9671ba87-e33d-493...|    77|          Prins Joey|Joey.Prins@scarle...|          Luikstraat|     72 |   2000|           Antwerpen|          BE| 1900-01-01 00:00:00| 2100-12-12 00:00:00|5ead03c65365a2ff7...|   true|\n",
      "|875bfab4-7b61-408...|    78|  van den Bosch Iris|Iris.van.den.Bosc...|        Klein Heiken|    192 |   2950|    Kapellen (Antw.)|          BE| 1900-01-01 00:00:00| 2100-12-12 00:00:00|d02e278cdc21abbb5...|   true|\n",
      "|ab406676-1ca7-4b3...|    79|     Baars Alexander|Alexander.Baars@t...|         Bollaakdijk|    115 |   2520|Broechem/Emblem/O...|          BE| 1900-01-01 00:00:00| 2100-12-12 00:00:00|c5da03c7ef981c3ef...|   true|\n",
      "|a952341e-7420-472...|    80|     Visser Patricia|Patricia.Visser@o...|          Wouwstraat|    364 |   2540|                Hove|          BE| 1900-01-01 00:00:00| 2100-12-12 00:00:00|5339c793314e3537a...|   true|\n",
      "|ed526548-0ff2-42c...|    81|  van der Meer Jordi|Jordi.van.der.Mee...|           Tenenveld|    122 |   2610| Wilrijk (Antwerpen)|          BE| 1900-01-01 00:00:00| 2100-12-12 00:00:00|9a8dfd4ae578347b2...|   true|\n",
      "|99eb0689-a562-461...|    82|    van Rooij Rachel|Rachel.van.Rooij@...|    Hagepredikerspad|    139 |   2600| Berchem (Antwerpen)|          BE| 1900-01-01 00:00:00| 2100-12-12 00:00:00|6f25ed69625914a8e...|   true|\n",
      "|de31a025-bca4-438...|    83|      Dekkers Casper|Casper.Dekkers@gm...|Maria de Heeltstraat| 73 0103|   2100|  Deurne (Antwerpen)|          BE| 1900-01-01 00:00:00| 2100-12-12 00:00:00|76d7933d351acbd63...|   true|\n",
      "|64c75728-c10a-45a...|    84|       Boersma Jordi|Jordi.Boersma@tel...|   Sint-Gummarusveld|    616 |   2520|Broechem/Emblem/O...|          BE| 1900-01-01 00:00:00| 2100-12-12 00:00:00|61c380faa24de481a...|   true|\n",
      "|864a9fe0-f71d-43d...|    85|      van Gils Sarah|Sarah.van.Gils@te...|    Alfred Oststraat|    224 |   2070|  Burcht/Zwijndrecht|          BE| 1900-01-01 00:00:00| 2100-12-12 00:00:00|beff63c5870e322e0...|   true|\n",
      "|ab71127e-8515-4e9...|    86|       Kuijpers Emma|Emma.Kuijpers@tel...|              Vesten|     78 |   9120|Beveren-Waas/Haas...|          BE| 1900-01-01 00:00:00| 2100-12-12 00:00:00|c46dfee8633892d55...|   true|\n",
      "|b8280038-3705-472...|    87|         Joosten Rik|Rik.Joosten@telen...|       Ruytermansweg|153 0802|   2040|Antwerpen/Berendr...|          BE| 1900-01-01 00:00:00| 2100-12-12 00:00:00|6c54d991fe3f5a144...|   true|\n",
      "|902e7c1e-f996-481...|    88|     Wiersma Michael|Michael.Wiersma@t...|          Beekstraat|    316 |   9150|Bazel/Kruibeke/Ru...|          BE| 1900-01-01 00:00:00| 2100-12-12 00:00:00|227ac90d1ca0f4dc3...|   true|\n",
      "|fec7b279-c46d-4fd...|    89|        Faber Nienke|Nienke.Faber@tele...|Generaal Belliard...|      5 |   2000|           Antwerpen|          BE| 1900-01-01 00:00:00| 2100-12-12 00:00:00|02d23032c87af082a...|   true|\n",
      "|04cef9bc-0f67-419...|    90|       Timmerman Rob|Rob.Timmerman@out...|Pieter De Ridders...| 34 0307|   2100|  Deurne (Antwerpen)|          BE| 1900-01-01 00:00:00| 2100-12-12 00:00:00|c9028540190ffdbf9...|   true|\n",
      "|71ac5d83-5423-4bb...|    91|         Bosma Jordy|Jordy.Bosma@scarl...|Lodewijk Gerritslaan|    194 |   2600| Berchem (Antwerpen)|          BE| 1900-01-01 00:00:00| 2100-12-12 00:00:00|d87a89de04d34d4aa...|   true|\n",
      "|aa3fc251-36b8-4a0...|    92|     Smulders Sjoerd|Sjoerd.Smulders@s...|       Jezuïetenlaan|     10 |   2610| Wilrijk (Antwerpen)|          BE| 1900-01-01 00:00:00| 2100-12-12 00:00:00|b83620c71c79f5749...|   true|\n",
      "|a020edcc-71db-41e...|    93|     Kuijpers Simone|Simone.Kuijpers@o...|          Kapellelei| 29 0706|   2640|             Mortsel|          BE| 1900-01-01 00:00:00| 2100-12-12 00:00:00|f23c2c48bcc8cf5b9...|   true|\n",
      "|a379fa60-2562-43d...|    94|   van Dalen Melanie|Melanie.van.Dalen...|         De Biesaard|     17 |   2970|s Gravenwezel/Sch...|          BE| 1900-01-01 00:00:00| 2100-12-12 00:00:00|7be0f75663f6f3fed...|   true|\n",
      "|efefc874-a053-488...|    95|      Verhagen Mandy|Mandy.Verhagen@te...|         Hamerplaats|    121 |   2000|           Antwerpen|          BE| 1900-01-01 00:00:00| 2100-12-12 00:00:00|262397d7393f881c5...|   true|\n",
      "|76baf9aa-3d1d-4a2...|    96|  van den Akker Nick|Nick.van.den.Akke...|            Guyotlei|    106 |   2950|    Kapellen (Antw.)|          BE| 1900-01-01 00:00:00| 2100-12-12 00:00:00|0c55b4a0fa9c07f6a...|   true|\n",
      "|2c2182e9-2789-404...|    97|     Hendriks Carmen|Carmen.Hendriks@t...|        Wisselstraat|  8 0901|   2970|s Gravenwezel/Sch...|          BE| 1900-01-01 00:00:00| 2100-12-12 00:00:00|f087605fb0b3cfa55...|   true|\n",
      "|fb6b5da0-9325-4f4...|    98|      Franken Yvonne|Yvonne.Franken@te...|         Bellestraat|134 0206|   2030|           Antwerpen|          BE| 1900-01-01 00:00:00| 2100-12-12 00:00:00|e812a2ac21acd8f07...|   true|\n",
      "+--------------------+------+--------------------+--------------------+--------------------+--------+-------+--------------------+------------+--------------------+--------------------+--------------------+-------+\n",
      "only showing top 100 rows\n",
      "\n"
     ]
    }
   ],
   "execution_count": 41
  },
  {
   "metadata": {},
   "cell_type": "markdown",
   "source": "# Stoppen van Local Cluster",
   "id": "3e65d0006d877e37"
  },
  {
   "metadata": {
    "ExecuteTime": {
     "end_time": "2024-12-15T15:23:26.582785Z",
     "start_time": "2024-12-15T15:23:26.063055Z"
    }
   },
   "cell_type": "code",
   "source": "spark.stop();",
   "id": "a1fcb336fdc0eda",
   "outputs": [],
   "execution_count": 42
  },
  {
   "metadata": {},
   "cell_type": "markdown",
   "source": "# Klad hieronder",
   "id": "bc0197b3ab651644"
  },
  {
   "metadata": {
    "ExecuteTime": {
     "end_time": "2024-12-04T16:31:24.732003Z",
     "start_time": "2024-12-04T16:31:20.434892Z"
    }
   },
   "cell_type": "code",
   "source": [
    "from pyspark.sql import SparkSession\n",
    "\n",
    "def startSimpleCluster(appName):\n",
    "    spark = SparkSession.builder \\\n",
    "        .appName(appName) \\\n",
    "        .config(\"spark.master\", \"local[1]\") \\\n",
    "        .config(\"spark.driver.host\", \"127.0.0.1\") \\\n",
    "        .getOrCreate()\n",
    "    return spark\n",
    "\n",
    "if __name__ == \"__main__\":\n",
    "    spark = startSimpleCluster(\"TestApp\")\n",
    "    print(\"Spark session created successfully!\")\n",
    "    spark.stop()"
   ],
   "id": "a870a45920acf04b",
   "outputs": [
    {
     "name": "stdout",
     "output_type": "stream",
     "text": [
      "Spark session created successfully!\n"
     ]
    }
   ],
   "execution_count": 1
  },
  {
   "metadata": {
    "ExecuteTime": {
     "end_time": "2024-12-04T16:34:10.454233Z",
     "start_time": "2024-12-04T16:34:09.836968Z"
    }
   },
   "cell_type": "code",
   "source": [
    "from pyspark.sql import SparkSession\n",
    "\n",
    "spark = SparkSession.builder \\\n",
    "    .appName(\"Check Temp Dir\") \\\n",
    "    .master(\"local[*]\") \\\n",
    "    .getOrCreate()\n",
    "\n",
    "print(\"Temporary directory Spark is using:\")\n",
    "print(spark.sparkContext.getConf().get(\"spark.local.dir\"))\n",
    "\n",
    "spark.stop()"
   ],
   "id": "2bf954348078b8af",
   "outputs": [
    {
     "name": "stdout",
     "output_type": "stream",
     "text": [
      "Temporary directory Spark is using:\n",
      "None\n"
     ]
    }
   ],
   "execution_count": 2
  },
  {
   "metadata": {
    "ExecuteTime": {
     "end_time": "2024-12-05T18:51:14.537044Z",
     "start_time": "2024-12-05T18:51:14.286365Z"
    }
   },
   "cell_type": "code",
   "source": [
    "users_df = spark.read \\\n",
    "    .format(\"jdbc\") \\\n",
    "    .option(\"driver\" , cc.get_Property(\"driver\")) \\\n",
    "    .option(\"url\", cc.create_jdbc()) \\\n",
    "    .option(\"dbtable\", \"velo_users\") \\\n",
    "    .option(\"user\", cc.get_Property(\"username\")) \\\n",
    "    .option(\"password\", cc.get_Property(\"password\")) \\\n",
    "    .option(\"partitionColumn\", \"userid\") \\\n",
    "    .option(\"numPartitions\", 4) \\\n",
    "    .option(\"lowerBound\", 0) \\\n",
    "    .option(\"upperBound\", 20) \\\n",
    "    .load()\n",
    "\n",
    "subscriptions_df = spark.read \\\n",
    "    .format(\"jdbc\") \\\n",
    "    .option(\"driver\" , cc.get_Property(\"driver\")) \\\n",
    "    .option(\"url\", cc.create_jdbc()) \\\n",
    "    .option(\"dbtable\", \"Subscriptions\") \\\n",
    "    .option(\"user\", cc.get_Property(\"username\")) \\\n",
    "    .option(\"password\", cc.get_Property(\"password\")) \\\n",
    "    .load()\n",
    "\n",
    "subscription_types_df = spark.read \\\n",
    "    .format(\"jdbc\") \\\n",
    "    .option(\"driver\" , cc.get_Property(\"driver\")) \\\n",
    "    .option(\"url\", cc.create_jdbc()) \\\n",
    "    .option(\"dbtable\", \"Subscription_types\") \\\n",
    "    .option(\"user\", cc.get_Property(\"username\")) \\\n",
    "    .option(\"password\", cc.get_Property(\"password\")) \\\n",
    "    .load()\n",
    "\n",
    "\n"
   ],
   "id": "e57053e1b2c80b04",
   "outputs": [],
   "execution_count": 30
  },
  {
   "metadata": {
    "ExecuteTime": {
     "end_time": "2024-12-05T18:51:15.832900Z",
     "start_time": "2024-12-05T18:51:15.745095Z"
    }
   },
   "cell_type": "code",
   "source": [
    "from pyspark.sql.window import Window\n",
    "from pyspark.sql.functions import col, lead\n",
    "\n",
    "# Voeg de data samen\n",
    "combined_df = subscriptions_df.join(users_df, \"UserId\") \\\n",
    "    .join(subscription_types_df, \"SubscriptionTypeId\")\n",
    "\n",
    "# Bereken de einddatum met een window-functie\n",
    "window_spec = Window.partitionBy(\"UserId\").orderBy(\"ValidFrom\")\n",
    "combined_df = combined_df.withColumn(\"end_date\", lead(\"ValidFrom\", 1).over(window_spec))\n"
   ],
   "id": "724878e8812e7b9a",
   "outputs": [],
   "execution_count": 31
  },
  {
   "metadata": {
    "ExecuteTime": {
     "end_time": "2024-12-05T18:51:22.431963Z",
     "start_time": "2024-12-05T18:51:22.404671Z"
    }
   },
   "cell_type": "code",
   "source": [
    "from pyspark.sql.functions import lit, when\n",
    "\n",
    "scd_df = combined_df.withColumn(\"is_current\", when(col(\"end_date\").isNull(), lit(True)).otherwise(lit(False)))\n"
   ],
   "id": "a468c2653f5b3188",
   "outputs": [],
   "execution_count": 32
  },
  {
   "metadata": {
    "ExecuteTime": {
     "end_time": "2024-12-05T18:51:34.453617Z",
     "start_time": "2024-12-05T18:51:27.934715Z"
    }
   },
   "cell_type": "code",
   "source": "scd_df.write.format(\"delta\").mode(\"overwrite\").save(\"/path/to/customer_dimension\")\n",
   "id": "cdb5ec74dec0bd7c",
   "outputs": [],
   "execution_count": 33
  },
  {
   "metadata": {
    "ExecuteTime": {
     "end_time": "2024-12-05T18:58:29.745301Z",
     "start_time": "2024-12-05T18:58:29.451762Z"
    }
   },
   "cell_type": "code",
   "source": [
    "from pyspark.sql.functions import current_date, lit\n",
    "\n",
    "# Lees bestaande klantdimensie in\n",
    "existing_data = spark.read.format(\"delta\").load(\"/path/to/customer_dimension\")\n",
    "\n",
    "# Lees nieuwe gegevens in (vervang 'jdbc-url' en tabellen met jouw configuratie)\n",
    "new_data =   spark.read \\\n",
    "    .format(\"jdbc\") \\\n",
    "    .option(\"driver\" , cc.get_Property(\"driver\")) \\\n",
    "    .option(\"url\", cc.create_jdbc()) \\\n",
    "    .option(\"dbtable\", \"velo_users\") \\\n",
    "    .option(\"user\", cc.get_Property(\"username\")) \\\n",
    "    .option(\"password\", cc.get_Property(\"password\")) \\\n",
    "    .option(\"partitionColumn\", \"userid\") \\\n",
    "    .option(\"numPartitions\", 4) \\\n",
    "    .option(\"lowerBound\", 0) \\\n",
    "    .option(\"upperBound\", 20) \\\n",
    "    .load()\n",
    "\n",
    "subscriptions = spark.read \\\n",
    "    .format(\"jdbc\") \\\n",
    "    .option(\"driver\" , cc.get_Property(\"driver\")) \\\n",
    "    .option(\"url\", cc.create_jdbc()) \\\n",
    "    .option(\"dbtable\", \"Subscriptions\") \\\n",
    "    .option(\"user\", cc.get_Property(\"username\")) \\\n",
    "    .option(\"password\", cc.get_Property(\"password\")) \\\n",
    "    .load()\n",
    "\n",
    "subscription_types = spark.read \\\n",
    "    .format(\"jdbc\") \\\n",
    "    .option(\"driver\" , cc.get_Property(\"driver\")) \\\n",
    "    .option(\"url\", cc.create_jdbc()) \\\n",
    "    .option(\"dbtable\", \"Subscription_types\") \\\n",
    "    .option(\"user\", cc.get_Property(\"username\")) \\\n",
    "    .option(\"password\", cc.get_Property(\"password\")) \\\n",
    "    .load()\n",
    "\n",
    "# Combineer de tabellen\n",
    "new_data = new_data.join(subscriptions, \"UserId\") \\\n",
    "    .join(subscription_types, \"SubscriptionTypeId\")\n",
    "\n",
    "# Controleer de kolomnamen\n",
    "print(\"Kolommen in nieuwe data:\")\n",
    "new_data.printSchema()\n",
    "\n",
    "print(\"Kolommen in bestaande dimensie:\")\n",
    "existing_data.printSchema()\n",
    "\n",
    "# Gebruik de juiste kolom voor de join (bijv. `UserId`)\n",
    "updates = new_data.join(existing_data, \"UserId\", \"left_anti\")  # Alleen nieuwe of gewijzigde data\n",
    "\n",
    "# Update bestaande rijen\n",
    "updated_existing = existing_data.join(updates, \"UserId\") \\\n",
    "    .withColumn(\"end_date\", current_date()) \\\n",
    "    .withColumn(\"is_current\", lit(False))\n",
    "\n",
    "# Voeg nieuwe rijen in\n",
    "new_rows = updates.withColumn(\"start_date\", current_date()) \\\n",
    "    .withColumn(\"end_date\", lit(None).cast(\"date\")) \\\n",
    "    .withColumn(\"is_current\", lit(True))\n",
    "\n",
    "# Combineer en sla op\n",
    "final_data = updated_existing.union(new_rows)\n",
    "final_data.write.format(\"delta\").mode(\"overwrite\").save(\"/path/to/customer_dimension\")"
   ],
   "id": "165a311862e1e00",
   "outputs": [
    {
     "name": "stdout",
     "output_type": "stream",
     "text": [
      "Kolommen in nieuwe data:\n",
      "root\n",
      " |-- subscriptiontypeid: integer (nullable = true)\n",
      " |-- userid: integer (nullable = true)\n",
      " |-- name: string (nullable = true)\n",
      " |-- email: string (nullable = true)\n",
      " |-- street: string (nullable = true)\n",
      " |-- number: string (nullable = true)\n",
      " |-- zipcode: string (nullable = true)\n",
      " |-- city: string (nullable = true)\n",
      " |-- country_code: string (nullable = true)\n",
      " |-- subscriptionid: integer (nullable = true)\n",
      " |-- validfrom: date (nullable = true)\n",
      " |-- description: string (nullable = true)\n",
      "\n",
      "Kolommen in bestaande dimensie:\n",
      "root\n",
      " |-- subscriptiontypeid: integer (nullable = true)\n",
      " |-- userid: integer (nullable = true)\n",
      " |-- subscriptionid: integer (nullable = true)\n",
      " |-- validfrom: date (nullable = true)\n",
      " |-- name: string (nullable = true)\n",
      " |-- email: string (nullable = true)\n",
      " |-- street: string (nullable = true)\n",
      " |-- number: string (nullable = true)\n",
      " |-- zipcode: string (nullable = true)\n",
      " |-- city: string (nullable = true)\n",
      " |-- country_code: string (nullable = true)\n",
      " |-- description: string (nullable = true)\n",
      " |-- end_date: date (nullable = true)\n",
      " |-- is_current: boolean (nullable = true)\n",
      "\n"
     ]
    },
    {
     "ename": "AnalysisException",
     "evalue": "[NUM_COLUMNS_MISMATCH] UNION can only be performed on inputs with the same number of columns, but the first input has 25 columns and the second input has 15 columns.;\n'Union false, false\n:- Project [userid#1396, subscriptiontypeid#1395, subscriptionid#1397, validfrom#1398, name#1399, email#1400, street#1401, number#1402, zipcode#1403, city#1404, country_code#1405, description#1406, end_date#1527, false AS is_current#1553, subscriptiontypeid#1441, name#1424, email#1425, street#1426, number#1427, zipcode#1428, city#1429, country_code#1430, subscriptionid#1439, validfrom#1440, description#1448]\n:  +- Project [userid#1396, subscriptiontypeid#1395, subscriptionid#1397, validfrom#1398, name#1399, email#1400, street#1401, number#1402, zipcode#1403, city#1404, country_code#1405, description#1406, current_date(Some(Europe/Brussels)) AS end_date#1527, is_current#1408, subscriptiontypeid#1441, name#1424, email#1425, street#1426, number#1427, zipcode#1428, city#1429, country_code#1430, subscriptionid#1439, validfrom#1440, description#1448]\n:     +- Project [userid#1396, subscriptiontypeid#1395, subscriptionid#1397, validfrom#1398, name#1399, email#1400, street#1401, number#1402, zipcode#1403, city#1404, country_code#1405, description#1406, end_date#1407, is_current#1408, subscriptiontypeid#1441, name#1424, email#1425, street#1426, number#1427, zipcode#1428, city#1429, country_code#1430, subscriptionid#1439, validfrom#1440, description#1448]\n:        +- Join Inner, (userid#1396 = userid#1423)\n:           :- Relation [subscriptiontypeid#1395,userid#1396,subscriptionid#1397,validfrom#1398,name#1399,email#1400,street#1401,number#1402,zipcode#1403,city#1404,country_code#1405,description#1406,end_date#1407,is_current#1408] parquet\n:           +- Project [userid#1423, subscriptiontypeid#1441, name#1424, email#1425, street#1426, number#1427, zipcode#1428, city#1429, country_code#1430, subscriptionid#1439, validfrom#1440, description#1448]\n:              +- Join LeftAnti, (userid#1423 = userid#1488)\n:                 :- Project [subscriptiontypeid#1441, userid#1423, name#1424, email#1425, street#1426, number#1427, zipcode#1428, city#1429, country_code#1430, subscriptionid#1439, validfrom#1440, description#1448]\n:                 :  +- Join Inner, (subscriptiontypeid#1441 = subscriptiontypeid#1447)\n:                 :     :- Project [userid#1423, name#1424, email#1425, street#1426, number#1427, zipcode#1428, city#1429, country_code#1430, subscriptionid#1439, validfrom#1440, subscriptiontypeid#1441]\n:                 :     :  +- Join Inner, (userid#1423 = userid#1442)\n:                 :     :     :- Relation [userid#1423,name#1424,email#1425,street#1426,number#1427,zipcode#1428,city#1429,country_code#1430] JDBCRelation(velo_users) [numPartitions=4]\n:                 :     :     +- Relation [subscriptionid#1439,validfrom#1440,subscriptiontypeid#1441,userid#1442] JDBCRelation(Subscriptions) [numPartitions=1]\n:                 :     +- Relation [subscriptiontypeid#1447,description#1448] JDBCRelation(Subscription_types) [numPartitions=1]\n:                 +- Relation [subscriptiontypeid#1487,userid#1488,subscriptionid#1489,validfrom#1490,name#1491,email#1492,street#1493,number#1494,zipcode#1495,city#1496,country_code#1497,description#1498,end_date#1499,is_current#1500] parquet\n+- Project [userid#1624, subscriptiontypeid#1634, name#1625, email#1626, street#1627, number#1628, zipcode#1629, city#1630, country_code#1631, subscriptionid#1632, validfrom#1633, description#1637, start_date#1579, end_date#1593, true AS is_current#1608]\n   +- Project [userid#1624, subscriptiontypeid#1634, name#1625, email#1626, street#1627, number#1628, zipcode#1629, city#1630, country_code#1631, subscriptionid#1632, validfrom#1633, description#1637, start_date#1579, cast(null as date) AS end_date#1593]\n      +- Project [userid#1624, subscriptiontypeid#1634, name#1625, email#1626, street#1627, number#1628, zipcode#1629, city#1630, country_code#1631, subscriptionid#1632, validfrom#1633, description#1637, current_date(Some(Europe/Brussels)) AS start_date#1579]\n         +- Project [userid#1624, subscriptiontypeid#1634, name#1625, email#1626, street#1627, number#1628, zipcode#1629, city#1630, country_code#1631, subscriptionid#1632, validfrom#1633, description#1637]\n            +- Join LeftAnti, (userid#1624 = userid#1639)\n               :- Project [subscriptiontypeid#1634, userid#1624, name#1625, email#1626, street#1627, number#1628, zipcode#1629, city#1630, country_code#1631, subscriptionid#1632, validfrom#1633, description#1637]\n               :  +- Join Inner, (subscriptiontypeid#1634 = subscriptiontypeid#1636)\n               :     :- Project [userid#1624, name#1625, email#1626, street#1627, number#1628, zipcode#1629, city#1630, country_code#1631, subscriptionid#1632, validfrom#1633, subscriptiontypeid#1634]\n               :     :  +- Join Inner, (userid#1624 = userid#1635)\n               :     :     :- Relation [userid#1624,name#1625,email#1626,street#1627,number#1628,zipcode#1629,city#1630,country_code#1631] JDBCRelation(velo_users) [numPartitions=4]\n               :     :     +- Relation [subscriptionid#1632,validfrom#1633,subscriptiontypeid#1634,userid#1635] JDBCRelation(Subscriptions) [numPartitions=1]\n               :     +- Relation [subscriptiontypeid#1636,description#1637] JDBCRelation(Subscription_types) [numPartitions=1]\n               +- Relation [subscriptiontypeid#1638,userid#1639,subscriptionid#1640,validfrom#1641,name#1642,email#1643,street#1644,number#1645,zipcode#1646,city#1647,country_code#1648,description#1649,end_date#1650,is_current#1651] parquet\n",
     "output_type": "error",
     "traceback": [
      "\u001B[1;31m---------------------------------------------------------------------------\u001B[0m",
      "\u001B[1;31mAnalysisException\u001B[0m                         Traceback (most recent call last)",
      "Cell \u001B[1;32mIn[36], line 63\u001B[0m\n\u001B[0;32m     58\u001B[0m new_rows \u001B[38;5;241m=\u001B[39m updates\u001B[38;5;241m.\u001B[39mwithColumn(\u001B[38;5;124m\"\u001B[39m\u001B[38;5;124mstart_date\u001B[39m\u001B[38;5;124m\"\u001B[39m, current_date()) \\\n\u001B[0;32m     59\u001B[0m     \u001B[38;5;241m.\u001B[39mwithColumn(\u001B[38;5;124m\"\u001B[39m\u001B[38;5;124mend_date\u001B[39m\u001B[38;5;124m\"\u001B[39m, lit(\u001B[38;5;28;01mNone\u001B[39;00m)\u001B[38;5;241m.\u001B[39mcast(\u001B[38;5;124m\"\u001B[39m\u001B[38;5;124mdate\u001B[39m\u001B[38;5;124m\"\u001B[39m)) \\\n\u001B[0;32m     60\u001B[0m     \u001B[38;5;241m.\u001B[39mwithColumn(\u001B[38;5;124m\"\u001B[39m\u001B[38;5;124mis_current\u001B[39m\u001B[38;5;124m\"\u001B[39m, lit(\u001B[38;5;28;01mTrue\u001B[39;00m))\n\u001B[0;32m     62\u001B[0m \u001B[38;5;66;03m# Combineer en sla op\u001B[39;00m\n\u001B[1;32m---> 63\u001B[0m final_data \u001B[38;5;241m=\u001B[39m \u001B[43mupdated_existing\u001B[49m\u001B[38;5;241;43m.\u001B[39;49m\u001B[43munion\u001B[49m\u001B[43m(\u001B[49m\u001B[43mnew_rows\u001B[49m\u001B[43m)\u001B[49m\n\u001B[0;32m     64\u001B[0m final_data\u001B[38;5;241m.\u001B[39mwrite\u001B[38;5;241m.\u001B[39mformat(\u001B[38;5;124m\"\u001B[39m\u001B[38;5;124mdelta\u001B[39m\u001B[38;5;124m\"\u001B[39m)\u001B[38;5;241m.\u001B[39mmode(\u001B[38;5;124m\"\u001B[39m\u001B[38;5;124moverwrite\u001B[39m\u001B[38;5;124m\"\u001B[39m)\u001B[38;5;241m.\u001B[39msave(\u001B[38;5;124m\"\u001B[39m\u001B[38;5;124m/path/to/customer_dimension\u001B[39m\u001B[38;5;124m\"\u001B[39m)\n",
      "File \u001B[1;32mC:\\BigDataVenv\\.venv\\Lib\\site-packages\\pyspark\\sql\\dataframe.py:3929\u001B[0m, in \u001B[0;36mDataFrame.union\u001B[1;34m(self, other)\u001B[0m\n\u001B[0;32m   3833\u001B[0m \u001B[38;5;28;01mdef\u001B[39;00m \u001B[38;5;21munion\u001B[39m(\u001B[38;5;28mself\u001B[39m, other: \u001B[38;5;124m\"\u001B[39m\u001B[38;5;124mDataFrame\u001B[39m\u001B[38;5;124m\"\u001B[39m) \u001B[38;5;241m-\u001B[39m\u001B[38;5;241m>\u001B[39m \u001B[38;5;124m\"\u001B[39m\u001B[38;5;124mDataFrame\u001B[39m\u001B[38;5;124m\"\u001B[39m:\n\u001B[0;32m   3834\u001B[0m \u001B[38;5;250m    \u001B[39m\u001B[38;5;124;03m\"\"\"Return a new :class:`DataFrame` containing the union of rows in this and another\u001B[39;00m\n\u001B[0;32m   3835\u001B[0m \u001B[38;5;124;03m    :class:`DataFrame`.\u001B[39;00m\n\u001B[0;32m   3836\u001B[0m \n\u001B[1;32m   (...)\u001B[0m\n\u001B[0;32m   3927\u001B[0m \u001B[38;5;124;03m    +---+-----+\u001B[39;00m\n\u001B[0;32m   3928\u001B[0m \u001B[38;5;124;03m    \"\"\"\u001B[39;00m\n\u001B[1;32m-> 3929\u001B[0m     \u001B[38;5;28;01mreturn\u001B[39;00m DataFrame(\u001B[38;5;28;43mself\u001B[39;49m\u001B[38;5;241;43m.\u001B[39;49m\u001B[43m_jdf\u001B[49m\u001B[38;5;241;43m.\u001B[39;49m\u001B[43munion\u001B[49m\u001B[43m(\u001B[49m\u001B[43mother\u001B[49m\u001B[38;5;241;43m.\u001B[39;49m\u001B[43m_jdf\u001B[49m\u001B[43m)\u001B[49m, \u001B[38;5;28mself\u001B[39m\u001B[38;5;241m.\u001B[39msparkSession)\n",
      "File \u001B[1;32mC:\\BigDataVenv\\.venv\\Lib\\site-packages\\py4j\\java_gateway.py:1322\u001B[0m, in \u001B[0;36mJavaMember.__call__\u001B[1;34m(self, *args)\u001B[0m\n\u001B[0;32m   1316\u001B[0m command \u001B[38;5;241m=\u001B[39m proto\u001B[38;5;241m.\u001B[39mCALL_COMMAND_NAME \u001B[38;5;241m+\u001B[39m\\\n\u001B[0;32m   1317\u001B[0m     \u001B[38;5;28mself\u001B[39m\u001B[38;5;241m.\u001B[39mcommand_header \u001B[38;5;241m+\u001B[39m\\\n\u001B[0;32m   1318\u001B[0m     args_command \u001B[38;5;241m+\u001B[39m\\\n\u001B[0;32m   1319\u001B[0m     proto\u001B[38;5;241m.\u001B[39mEND_COMMAND_PART\n\u001B[0;32m   1321\u001B[0m answer \u001B[38;5;241m=\u001B[39m \u001B[38;5;28mself\u001B[39m\u001B[38;5;241m.\u001B[39mgateway_client\u001B[38;5;241m.\u001B[39msend_command(command)\n\u001B[1;32m-> 1322\u001B[0m return_value \u001B[38;5;241m=\u001B[39m \u001B[43mget_return_value\u001B[49m\u001B[43m(\u001B[49m\n\u001B[0;32m   1323\u001B[0m \u001B[43m    \u001B[49m\u001B[43manswer\u001B[49m\u001B[43m,\u001B[49m\u001B[43m \u001B[49m\u001B[38;5;28;43mself\u001B[39;49m\u001B[38;5;241;43m.\u001B[39;49m\u001B[43mgateway_client\u001B[49m\u001B[43m,\u001B[49m\u001B[43m \u001B[49m\u001B[38;5;28;43mself\u001B[39;49m\u001B[38;5;241;43m.\u001B[39;49m\u001B[43mtarget_id\u001B[49m\u001B[43m,\u001B[49m\u001B[43m \u001B[49m\u001B[38;5;28;43mself\u001B[39;49m\u001B[38;5;241;43m.\u001B[39;49m\u001B[43mname\u001B[49m\u001B[43m)\u001B[49m\n\u001B[0;32m   1325\u001B[0m \u001B[38;5;28;01mfor\u001B[39;00m temp_arg \u001B[38;5;129;01min\u001B[39;00m temp_args:\n\u001B[0;32m   1326\u001B[0m     \u001B[38;5;28;01mif\u001B[39;00m \u001B[38;5;28mhasattr\u001B[39m(temp_arg, \u001B[38;5;124m\"\u001B[39m\u001B[38;5;124m_detach\u001B[39m\u001B[38;5;124m\"\u001B[39m):\n",
      "File \u001B[1;32mC:\\BigDataVenv\\.venv\\Lib\\site-packages\\pyspark\\errors\\exceptions\\captured.py:185\u001B[0m, in \u001B[0;36mcapture_sql_exception.<locals>.deco\u001B[1;34m(*a, **kw)\u001B[0m\n\u001B[0;32m    181\u001B[0m converted \u001B[38;5;241m=\u001B[39m convert_exception(e\u001B[38;5;241m.\u001B[39mjava_exception)\n\u001B[0;32m    182\u001B[0m \u001B[38;5;28;01mif\u001B[39;00m \u001B[38;5;129;01mnot\u001B[39;00m \u001B[38;5;28misinstance\u001B[39m(converted, UnknownException):\n\u001B[0;32m    183\u001B[0m     \u001B[38;5;66;03m# Hide where the exception came from that shows a non-Pythonic\u001B[39;00m\n\u001B[0;32m    184\u001B[0m     \u001B[38;5;66;03m# JVM exception message.\u001B[39;00m\n\u001B[1;32m--> 185\u001B[0m     \u001B[38;5;28;01mraise\u001B[39;00m converted \u001B[38;5;28;01mfrom\u001B[39;00m \u001B[38;5;28;01mNone\u001B[39;00m\n\u001B[0;32m    186\u001B[0m \u001B[38;5;28;01melse\u001B[39;00m:\n\u001B[0;32m    187\u001B[0m     \u001B[38;5;28;01mraise\u001B[39;00m\n",
      "\u001B[1;31mAnalysisException\u001B[0m: [NUM_COLUMNS_MISMATCH] UNION can only be performed on inputs with the same number of columns, but the first input has 25 columns and the second input has 15 columns.;\n'Union false, false\n:- Project [userid#1396, subscriptiontypeid#1395, subscriptionid#1397, validfrom#1398, name#1399, email#1400, street#1401, number#1402, zipcode#1403, city#1404, country_code#1405, description#1406, end_date#1527, false AS is_current#1553, subscriptiontypeid#1441, name#1424, email#1425, street#1426, number#1427, zipcode#1428, city#1429, country_code#1430, subscriptionid#1439, validfrom#1440, description#1448]\n:  +- Project [userid#1396, subscriptiontypeid#1395, subscriptionid#1397, validfrom#1398, name#1399, email#1400, street#1401, number#1402, zipcode#1403, city#1404, country_code#1405, description#1406, current_date(Some(Europe/Brussels)) AS end_date#1527, is_current#1408, subscriptiontypeid#1441, name#1424, email#1425, street#1426, number#1427, zipcode#1428, city#1429, country_code#1430, subscriptionid#1439, validfrom#1440, description#1448]\n:     +- Project [userid#1396, subscriptiontypeid#1395, subscriptionid#1397, validfrom#1398, name#1399, email#1400, street#1401, number#1402, zipcode#1403, city#1404, country_code#1405, description#1406, end_date#1407, is_current#1408, subscriptiontypeid#1441, name#1424, email#1425, street#1426, number#1427, zipcode#1428, city#1429, country_code#1430, subscriptionid#1439, validfrom#1440, description#1448]\n:        +- Join Inner, (userid#1396 = userid#1423)\n:           :- Relation [subscriptiontypeid#1395,userid#1396,subscriptionid#1397,validfrom#1398,name#1399,email#1400,street#1401,number#1402,zipcode#1403,city#1404,country_code#1405,description#1406,end_date#1407,is_current#1408] parquet\n:           +- Project [userid#1423, subscriptiontypeid#1441, name#1424, email#1425, street#1426, number#1427, zipcode#1428, city#1429, country_code#1430, subscriptionid#1439, validfrom#1440, description#1448]\n:              +- Join LeftAnti, (userid#1423 = userid#1488)\n:                 :- Project [subscriptiontypeid#1441, userid#1423, name#1424, email#1425, street#1426, number#1427, zipcode#1428, city#1429, country_code#1430, subscriptionid#1439, validfrom#1440, description#1448]\n:                 :  +- Join Inner, (subscriptiontypeid#1441 = subscriptiontypeid#1447)\n:                 :     :- Project [userid#1423, name#1424, email#1425, street#1426, number#1427, zipcode#1428, city#1429, country_code#1430, subscriptionid#1439, validfrom#1440, subscriptiontypeid#1441]\n:                 :     :  +- Join Inner, (userid#1423 = userid#1442)\n:                 :     :     :- Relation [userid#1423,name#1424,email#1425,street#1426,number#1427,zipcode#1428,city#1429,country_code#1430] JDBCRelation(velo_users) [numPartitions=4]\n:                 :     :     +- Relation [subscriptionid#1439,validfrom#1440,subscriptiontypeid#1441,userid#1442] JDBCRelation(Subscriptions) [numPartitions=1]\n:                 :     +- Relation [subscriptiontypeid#1447,description#1448] JDBCRelation(Subscription_types) [numPartitions=1]\n:                 +- Relation [subscriptiontypeid#1487,userid#1488,subscriptionid#1489,validfrom#1490,name#1491,email#1492,street#1493,number#1494,zipcode#1495,city#1496,country_code#1497,description#1498,end_date#1499,is_current#1500] parquet\n+- Project [userid#1624, subscriptiontypeid#1634, name#1625, email#1626, street#1627, number#1628, zipcode#1629, city#1630, country_code#1631, subscriptionid#1632, validfrom#1633, description#1637, start_date#1579, end_date#1593, true AS is_current#1608]\n   +- Project [userid#1624, subscriptiontypeid#1634, name#1625, email#1626, street#1627, number#1628, zipcode#1629, city#1630, country_code#1631, subscriptionid#1632, validfrom#1633, description#1637, start_date#1579, cast(null as date) AS end_date#1593]\n      +- Project [userid#1624, subscriptiontypeid#1634, name#1625, email#1626, street#1627, number#1628, zipcode#1629, city#1630, country_code#1631, subscriptionid#1632, validfrom#1633, description#1637, current_date(Some(Europe/Brussels)) AS start_date#1579]\n         +- Project [userid#1624, subscriptiontypeid#1634, name#1625, email#1626, street#1627, number#1628, zipcode#1629, city#1630, country_code#1631, subscriptionid#1632, validfrom#1633, description#1637]\n            +- Join LeftAnti, (userid#1624 = userid#1639)\n               :- Project [subscriptiontypeid#1634, userid#1624, name#1625, email#1626, street#1627, number#1628, zipcode#1629, city#1630, country_code#1631, subscriptionid#1632, validfrom#1633, description#1637]\n               :  +- Join Inner, (subscriptiontypeid#1634 = subscriptiontypeid#1636)\n               :     :- Project [userid#1624, name#1625, email#1626, street#1627, number#1628, zipcode#1629, city#1630, country_code#1631, subscriptionid#1632, validfrom#1633, subscriptiontypeid#1634]\n               :     :  +- Join Inner, (userid#1624 = userid#1635)\n               :     :     :- Relation [userid#1624,name#1625,email#1626,street#1627,number#1628,zipcode#1629,city#1630,country_code#1631] JDBCRelation(velo_users) [numPartitions=4]\n               :     :     +- Relation [subscriptionid#1632,validfrom#1633,subscriptiontypeid#1634,userid#1635] JDBCRelation(Subscriptions) [numPartitions=1]\n               :     +- Relation [subscriptiontypeid#1636,description#1637] JDBCRelation(Subscription_types) [numPartitions=1]\n               +- Relation [subscriptiontypeid#1638,userid#1639,subscriptionid#1640,validfrom#1641,name#1642,email#1643,street#1644,number#1645,zipcode#1646,city#1647,country_code#1648,description#1649,end_date#1650,is_current#1651] parquet\n"
     ]
    }
   ],
   "execution_count": 36
  }
 ],
 "metadata": {
  "kernelspec": {
   "display_name": "Python 3",
   "language": "python",
   "name": "python3"
  },
  "language_info": {
   "codemirror_mode": {
    "name": "ipython",
    "version": 2
   },
   "file_extension": ".py",
   "mimetype": "text/x-python",
   "name": "python",
   "nbconvert_exporter": "python",
   "pygments_lexer": "ipython2",
   "version": "2.7.6"
  }
 },
 "nbformat": 4,
 "nbformat_minor": 5
}
