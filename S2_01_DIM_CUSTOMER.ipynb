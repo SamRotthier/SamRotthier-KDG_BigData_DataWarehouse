{
 "cells": [
  {
   "metadata": {},
   "cell_type": "markdown",
   "source": "# Config",
   "id": "cfed88684309cb63"
  },
  {
   "cell_type": "code",
   "id": "initial_id",
   "metadata": {
    "collapsed": true,
    "ExecuteTime": {
     "end_time": "2024-12-12T18:18:11.916346Z",
     "start_time": "2024-12-12T18:18:11.497191Z"
    }
   },
   "source": [
    "import ConnectionConfig as cc\n",
    "cc.setupEnvironment()"
   ],
   "outputs": [],
   "execution_count": 1
  },
  {
   "metadata": {},
   "cell_type": "markdown",
   "source": "# Start local cluster",
   "id": "f077cfe4890468a7"
  },
  {
   "metadata": {
    "ExecuteTime": {
     "end_time": "2024-12-12T19:12:51.724469Z",
     "start_time": "2024-12-12T19:12:51.356782Z"
    }
   },
   "cell_type": "code",
   "source": [
    "spark = cc.startLocalCluster(\"DIM_CUSTOMER\")\n",
    "spark.getActiveSession()"
   ],
   "id": "fd39d484a89996e2",
   "outputs": [
    {
     "data": {
      "text/plain": [
       "<pyspark.sql.session.SparkSession at 0x249fee3e4d0>"
      ],
      "text/html": [
       "\n",
       "            <div>\n",
       "                <p><b>SparkSession - in-memory</b></p>\n",
       "                \n",
       "        <div>\n",
       "            <p><b>SparkContext</b></p>\n",
       "\n",
       "            <p><a href=\"http://127.0.0.1:4040\">Spark UI</a></p>\n",
       "\n",
       "            <dl>\n",
       "              <dt>Version</dt>\n",
       "                <dd><code>v3.5.2</code></dd>\n",
       "              <dt>Master</dt>\n",
       "                <dd><code>local[*]</code></dd>\n",
       "              <dt>AppName</dt>\n",
       "                <dd><code>DIM_CUSTOMER</code></dd>\n",
       "            </dl>\n",
       "        </div>\n",
       "        \n",
       "            </div>\n",
       "        "
      ]
     },
     "execution_count": 7,
     "metadata": {},
     "output_type": "execute_result"
    }
   ],
   "execution_count": 7
  },
  {
   "metadata": {
    "ExecuteTime": {
     "end_time": "2024-12-12T18:18:41.537742Z",
     "start_time": "2024-12-12T18:18:37.683023Z"
    }
   },
   "cell_type": "code",
   "source": [
    "#Extract\n",
    "cc.set_connectionProfile(\"velodb\")\n",
    "\n",
    "df_user = spark.read \\\n",
    "    .format(\"jdbc\") \\\n",
    "    .option(\"driver\" , cc.get_Property(\"driver\")) \\\n",
    "    .option(\"url\", cc.create_jdbc()) \\\n",
    "    .option(\"dbtable\", \"velo_users\") \\\n",
    "    .option(\"user\", cc.get_Property(\"username\")) \\\n",
    "    .option(\"password\", cc.get_Property(\"password\")) \\\n",
    "    .option(\"partitionColumn\", \"userid\") \\\n",
    "    .option(\"numPartitions\", 4) \\\n",
    "    .option(\"lowerBound\", 0) \\\n",
    "    .option(\"upperBound\", 60000) \\\n",
    "    .load()\n",
    "\n",
    "df_user.show(5)\n",
    "\n",
    "\n"
   ],
   "id": "b28f0a9cdda57d9f",
   "outputs": [
    {
     "name": "stdout",
     "output_type": "stream",
     "text": [
      "+------+-----------------+--------------------+--------------------+------+-------+-------------------+------------+\n",
      "|userid|             name|               email|              street|number|zipcode|               city|country_code|\n",
      "+------+-----------------+--------------------+--------------------+------+-------+-------------------+------------+\n",
      "|     1|      Bouman Lars|Lars.Bouman@gmail...|         Somméstraat|  156 |   2060|          Antwerpen|          BE|\n",
      "|     2|van der Zee Julia|Julia.van.der.Zee...|          Europalaan|   43 |   2610|Wilrijk (Antwerpen)|          BE|\n",
      "|     3|  de Boer Ricardo|Ricardo.de.Boer@g...|   Maria Clarastraat|   80 |   2160|          Wommelgem|          BE|\n",
      "|     4|   Willems Angela|Angela.Willems@te...|Graaf Joseph de P...|   15 |   2900|            Schoten|          BE|\n",
      "|     5| Heijnen Patricia|Patricia.Heijnen@...|          Meylstraat|  111 |   2540|               Hove|          BE|\n",
      "+------+-----------------+--------------------+--------------------+------+-------+-------------------+------------+\n",
      "only showing top 5 rows\n",
      "\n"
     ]
    }
   ],
   "execution_count": 3
  },
  {
   "metadata": {
    "ExecuteTime": {
     "end_time": "2024-12-12T18:22:07.317003Z",
     "start_time": "2024-12-12T18:22:06.906281Z"
    }
   },
   "cell_type": "code",
   "source": [
    "#Transform\n",
    "df_user.createOrReplaceTempView(\"source_User\")\n",
    "#df_dim_user= spark.sql(\"select * from source_User\")\n",
    "#df_dim_user.show(5)\n",
    "\n",
    "df_dim_user= spark.sql(\"select uuid() as userSK,*,to_timestamp('1900-01-01','yyyy-MM-dd') as scd_start,to_timestamp('2100-12-12','yyyy-MM-dd') as scd_end,True as current,md5(concat(name, country_code, city, street, number)) as md5 from source_User\")\n",
    "df_dim_user.show(5)\n",
    "\n",
    "#df_user = spark.sql(\"select uuid() as userSK,*, to_timestamp('1999-01-01','yyyy-MM-dd') as scd_start, to_timestamp('2100-12-12','yyyy-MM-dd') as scd_end,md5(concat( name, city, street, number)) as md5, True as current from dimUser\")\n",
    "\n",
    "#df_user.printSchema()\n",
    "#df_user.show()"
   ],
   "id": "abe7a6b71ac9e200",
   "outputs": [
    {
     "name": "stdout",
     "output_type": "stream",
     "text": [
      "+--------------------+------+-----------------+--------------------+--------------------+------+-------+-------------------+------------+-------------------+-------------------+-------+--------------------+\n",
      "|              userSK|userid|             name|               email|              street|number|zipcode|               city|country_code|          scd_start|            scd_end|current|                 md5|\n",
      "+--------------------+------+-----------------+--------------------+--------------------+------+-------+-------------------+------------+-------------------+-------------------+-------+--------------------+\n",
      "|bb34a292-647e-47d...|     1|      Bouman Lars|Lars.Bouman@gmail...|         Somméstraat|  156 |   2060|          Antwerpen|          BE|1900-01-01 00:00:00|2100-12-12 00:00:00|   true|b9d7c0d8b9977d6cb...|\n",
      "|49b7d470-35ad-404...|     2|van der Zee Julia|Julia.van.der.Zee...|          Europalaan|   43 |   2610|Wilrijk (Antwerpen)|          BE|1900-01-01 00:00:00|2100-12-12 00:00:00|   true|1fac8d077aca6b0ad...|\n",
      "|07dd8345-3ff9-4b3...|     3|  de Boer Ricardo|Ricardo.de.Boer@g...|   Maria Clarastraat|   80 |   2160|          Wommelgem|          BE|1900-01-01 00:00:00|2100-12-12 00:00:00|   true|183312416b7c7fd51...|\n",
      "|74f88762-9bf4-4a2...|     4|   Willems Angela|Angela.Willems@te...|Graaf Joseph de P...|   15 |   2900|            Schoten|          BE|1900-01-01 00:00:00|2100-12-12 00:00:00|   true|626fcbc81565e2605...|\n",
      "|e2e8795f-c13e-498...|     5| Heijnen Patricia|Patricia.Heijnen@...|          Meylstraat|  111 |   2540|               Hove|          BE|1900-01-01 00:00:00|2100-12-12 00:00:00|   true|e8c8657ee23d9afe9...|\n",
      "+--------------------+------+-----------------+--------------------+--------------------+------+-------+-------------------+------------+-------------------+-------------------+-------+--------------------+\n",
      "only showing top 5 rows\n",
      "\n"
     ]
    }
   ],
   "execution_count": 5
  },
  {
   "metadata": {
    "ExecuteTime": {
     "end_time": "2024-12-12T18:22:16.645924Z",
     "start_time": "2024-12-12T18:22:10.854943Z"
    }
   },
   "cell_type": "code",
   "source": [
    "#Load\n",
    "df_dim_user.write.format(\"delta\").mode(\"overwrite\").saveAsTable(\"dimUser\")"
   ],
   "id": "1febe870e6ef1c2d",
   "outputs": [],
   "execution_count": 6
  },
  {
   "metadata": {
    "ExecuteTime": {
     "end_time": "2024-12-12T19:12:54.426339Z",
     "start_time": "2024-12-12T19:12:54.144327Z"
    }
   },
   "cell_type": "code",
   "source": "spark.stop()",
   "id": "a1fcb336fdc0eda",
   "outputs": [],
   "execution_count": 8
  },
  {
   "metadata": {},
   "cell_type": "markdown",
   "source": "# Klad hieronder",
   "id": "bc0197b3ab651644"
  },
  {
   "metadata": {
    "ExecuteTime": {
     "end_time": "2024-12-04T16:31:24.732003Z",
     "start_time": "2024-12-04T16:31:20.434892Z"
    }
   },
   "cell_type": "code",
   "source": [
    "from pyspark.sql import SparkSession\n",
    "\n",
    "def startSimpleCluster(appName):\n",
    "    spark = SparkSession.builder \\\n",
    "        .appName(appName) \\\n",
    "        .config(\"spark.master\", \"local[1]\") \\\n",
    "        .config(\"spark.driver.host\", \"127.0.0.1\") \\\n",
    "        .getOrCreate()\n",
    "    return spark\n",
    "\n",
    "if __name__ == \"__main__\":\n",
    "    spark = startSimpleCluster(\"TestApp\")\n",
    "    print(\"Spark session created successfully!\")\n",
    "    spark.stop()"
   ],
   "id": "a870a45920acf04b",
   "outputs": [
    {
     "name": "stdout",
     "output_type": "stream",
     "text": [
      "Spark session created successfully!\n"
     ]
    }
   ],
   "execution_count": 1
  },
  {
   "metadata": {
    "ExecuteTime": {
     "end_time": "2024-12-04T16:34:10.454233Z",
     "start_time": "2024-12-04T16:34:09.836968Z"
    }
   },
   "cell_type": "code",
   "source": [
    "from pyspark.sql import SparkSession\n",
    "\n",
    "spark = SparkSession.builder \\\n",
    "    .appName(\"Check Temp Dir\") \\\n",
    "    .master(\"local[*]\") \\\n",
    "    .getOrCreate()\n",
    "\n",
    "print(\"Temporary directory Spark is using:\")\n",
    "print(spark.sparkContext.getConf().get(\"spark.local.dir\"))\n",
    "\n",
    "spark.stop()"
   ],
   "id": "2bf954348078b8af",
   "outputs": [
    {
     "name": "stdout",
     "output_type": "stream",
     "text": [
      "Temporary directory Spark is using:\n",
      "None\n"
     ]
    }
   ],
   "execution_count": 2
  },
  {
   "metadata": {
    "ExecuteTime": {
     "end_time": "2024-12-05T18:51:14.537044Z",
     "start_time": "2024-12-05T18:51:14.286365Z"
    }
   },
   "cell_type": "code",
   "source": [
    "users_df = spark.read \\\n",
    "    .format(\"jdbc\") \\\n",
    "    .option(\"driver\" , cc.get_Property(\"driver\")) \\\n",
    "    .option(\"url\", cc.create_jdbc()) \\\n",
    "    .option(\"dbtable\", \"velo_users\") \\\n",
    "    .option(\"user\", cc.get_Property(\"username\")) \\\n",
    "    .option(\"password\", cc.get_Property(\"password\")) \\\n",
    "    .option(\"partitionColumn\", \"userid\") \\\n",
    "    .option(\"numPartitions\", 4) \\\n",
    "    .option(\"lowerBound\", 0) \\\n",
    "    .option(\"upperBound\", 20) \\\n",
    "    .load()\n",
    "\n",
    "subscriptions_df = spark.read \\\n",
    "    .format(\"jdbc\") \\\n",
    "    .option(\"driver\" , cc.get_Property(\"driver\")) \\\n",
    "    .option(\"url\", cc.create_jdbc()) \\\n",
    "    .option(\"dbtable\", \"Subscriptions\") \\\n",
    "    .option(\"user\", cc.get_Property(\"username\")) \\\n",
    "    .option(\"password\", cc.get_Property(\"password\")) \\\n",
    "    .load()\n",
    "\n",
    "subscription_types_df = spark.read \\\n",
    "    .format(\"jdbc\") \\\n",
    "    .option(\"driver\" , cc.get_Property(\"driver\")) \\\n",
    "    .option(\"url\", cc.create_jdbc()) \\\n",
    "    .option(\"dbtable\", \"Subscription_types\") \\\n",
    "    .option(\"user\", cc.get_Property(\"username\")) \\\n",
    "    .option(\"password\", cc.get_Property(\"password\")) \\\n",
    "    .load()\n",
    "\n",
    "\n"
   ],
   "id": "e57053e1b2c80b04",
   "outputs": [],
   "execution_count": 30
  },
  {
   "metadata": {
    "ExecuteTime": {
     "end_time": "2024-12-05T18:51:15.832900Z",
     "start_time": "2024-12-05T18:51:15.745095Z"
    }
   },
   "cell_type": "code",
   "source": [
    "from pyspark.sql.window import Window\n",
    "from pyspark.sql.functions import col, lead\n",
    "\n",
    "# Voeg de data samen\n",
    "combined_df = subscriptions_df.join(users_df, \"UserId\") \\\n",
    "    .join(subscription_types_df, \"SubscriptionTypeId\")\n",
    "\n",
    "# Bereken de einddatum met een window-functie\n",
    "window_spec = Window.partitionBy(\"UserId\").orderBy(\"ValidFrom\")\n",
    "combined_df = combined_df.withColumn(\"end_date\", lead(\"ValidFrom\", 1).over(window_spec))\n"
   ],
   "id": "724878e8812e7b9a",
   "outputs": [],
   "execution_count": 31
  },
  {
   "metadata": {
    "ExecuteTime": {
     "end_time": "2024-12-05T18:51:22.431963Z",
     "start_time": "2024-12-05T18:51:22.404671Z"
    }
   },
   "cell_type": "code",
   "source": [
    "from pyspark.sql.functions import lit, when\n",
    "\n",
    "scd_df = combined_df.withColumn(\"is_current\", when(col(\"end_date\").isNull(), lit(True)).otherwise(lit(False)))\n"
   ],
   "id": "a468c2653f5b3188",
   "outputs": [],
   "execution_count": 32
  },
  {
   "metadata": {
    "ExecuteTime": {
     "end_time": "2024-12-05T18:51:34.453617Z",
     "start_time": "2024-12-05T18:51:27.934715Z"
    }
   },
   "cell_type": "code",
   "source": "scd_df.write.format(\"delta\").mode(\"overwrite\").save(\"/path/to/customer_dimension\")\n",
   "id": "cdb5ec74dec0bd7c",
   "outputs": [],
   "execution_count": 33
  },
  {
   "metadata": {
    "ExecuteTime": {
     "end_time": "2024-12-05T18:58:29.745301Z",
     "start_time": "2024-12-05T18:58:29.451762Z"
    }
   },
   "cell_type": "code",
   "source": [
    "from pyspark.sql.functions import current_date, lit\n",
    "\n",
    "# Lees bestaande klantdimensie in\n",
    "existing_data = spark.read.format(\"delta\").load(\"/path/to/customer_dimension\")\n",
    "\n",
    "# Lees nieuwe gegevens in (vervang 'jdbc-url' en tabellen met jouw configuratie)\n",
    "new_data =   spark.read \\\n",
    "    .format(\"jdbc\") \\\n",
    "    .option(\"driver\" , cc.get_Property(\"driver\")) \\\n",
    "    .option(\"url\", cc.create_jdbc()) \\\n",
    "    .option(\"dbtable\", \"velo_users\") \\\n",
    "    .option(\"user\", cc.get_Property(\"username\")) \\\n",
    "    .option(\"password\", cc.get_Property(\"password\")) \\\n",
    "    .option(\"partitionColumn\", \"userid\") \\\n",
    "    .option(\"numPartitions\", 4) \\\n",
    "    .option(\"lowerBound\", 0) \\\n",
    "    .option(\"upperBound\", 20) \\\n",
    "    .load()\n",
    "\n",
    "subscriptions = spark.read \\\n",
    "    .format(\"jdbc\") \\\n",
    "    .option(\"driver\" , cc.get_Property(\"driver\")) \\\n",
    "    .option(\"url\", cc.create_jdbc()) \\\n",
    "    .option(\"dbtable\", \"Subscriptions\") \\\n",
    "    .option(\"user\", cc.get_Property(\"username\")) \\\n",
    "    .option(\"password\", cc.get_Property(\"password\")) \\\n",
    "    .load()\n",
    "\n",
    "subscription_types = spark.read \\\n",
    "    .format(\"jdbc\") \\\n",
    "    .option(\"driver\" , cc.get_Property(\"driver\")) \\\n",
    "    .option(\"url\", cc.create_jdbc()) \\\n",
    "    .option(\"dbtable\", \"Subscription_types\") \\\n",
    "    .option(\"user\", cc.get_Property(\"username\")) \\\n",
    "    .option(\"password\", cc.get_Property(\"password\")) \\\n",
    "    .load()\n",
    "\n",
    "# Combineer de tabellen\n",
    "new_data = new_data.join(subscriptions, \"UserId\") \\\n",
    "    .join(subscription_types, \"SubscriptionTypeId\")\n",
    "\n",
    "# Controleer de kolomnamen\n",
    "print(\"Kolommen in nieuwe data:\")\n",
    "new_data.printSchema()\n",
    "\n",
    "print(\"Kolommen in bestaande dimensie:\")\n",
    "existing_data.printSchema()\n",
    "\n",
    "# Gebruik de juiste kolom voor de join (bijv. `UserId`)\n",
    "updates = new_data.join(existing_data, \"UserId\", \"left_anti\")  # Alleen nieuwe of gewijzigde data\n",
    "\n",
    "# Update bestaande rijen\n",
    "updated_existing = existing_data.join(updates, \"UserId\") \\\n",
    "    .withColumn(\"end_date\", current_date()) \\\n",
    "    .withColumn(\"is_current\", lit(False))\n",
    "\n",
    "# Voeg nieuwe rijen in\n",
    "new_rows = updates.withColumn(\"start_date\", current_date()) \\\n",
    "    .withColumn(\"end_date\", lit(None).cast(\"date\")) \\\n",
    "    .withColumn(\"is_current\", lit(True))\n",
    "\n",
    "# Combineer en sla op\n",
    "final_data = updated_existing.union(new_rows)\n",
    "final_data.write.format(\"delta\").mode(\"overwrite\").save(\"/path/to/customer_dimension\")"
   ],
   "id": "165a311862e1e00",
   "outputs": [
    {
     "name": "stdout",
     "output_type": "stream",
     "text": [
      "Kolommen in nieuwe data:\n",
      "root\n",
      " |-- subscriptiontypeid: integer (nullable = true)\n",
      " |-- userid: integer (nullable = true)\n",
      " |-- name: string (nullable = true)\n",
      " |-- email: string (nullable = true)\n",
      " |-- street: string (nullable = true)\n",
      " |-- number: string (nullable = true)\n",
      " |-- zipcode: string (nullable = true)\n",
      " |-- city: string (nullable = true)\n",
      " |-- country_code: string (nullable = true)\n",
      " |-- subscriptionid: integer (nullable = true)\n",
      " |-- validfrom: date (nullable = true)\n",
      " |-- description: string (nullable = true)\n",
      "\n",
      "Kolommen in bestaande dimensie:\n",
      "root\n",
      " |-- subscriptiontypeid: integer (nullable = true)\n",
      " |-- userid: integer (nullable = true)\n",
      " |-- subscriptionid: integer (nullable = true)\n",
      " |-- validfrom: date (nullable = true)\n",
      " |-- name: string (nullable = true)\n",
      " |-- email: string (nullable = true)\n",
      " |-- street: string (nullable = true)\n",
      " |-- number: string (nullable = true)\n",
      " |-- zipcode: string (nullable = true)\n",
      " |-- city: string (nullable = true)\n",
      " |-- country_code: string (nullable = true)\n",
      " |-- description: string (nullable = true)\n",
      " |-- end_date: date (nullable = true)\n",
      " |-- is_current: boolean (nullable = true)\n",
      "\n"
     ]
    },
    {
     "ename": "AnalysisException",
     "evalue": "[NUM_COLUMNS_MISMATCH] UNION can only be performed on inputs with the same number of columns, but the first input has 25 columns and the second input has 15 columns.;\n'Union false, false\n:- Project [userid#1396, subscriptiontypeid#1395, subscriptionid#1397, validfrom#1398, name#1399, email#1400, street#1401, number#1402, zipcode#1403, city#1404, country_code#1405, description#1406, end_date#1527, false AS is_current#1553, subscriptiontypeid#1441, name#1424, email#1425, street#1426, number#1427, zipcode#1428, city#1429, country_code#1430, subscriptionid#1439, validfrom#1440, description#1448]\n:  +- Project [userid#1396, subscriptiontypeid#1395, subscriptionid#1397, validfrom#1398, name#1399, email#1400, street#1401, number#1402, zipcode#1403, city#1404, country_code#1405, description#1406, current_date(Some(Europe/Brussels)) AS end_date#1527, is_current#1408, subscriptiontypeid#1441, name#1424, email#1425, street#1426, number#1427, zipcode#1428, city#1429, country_code#1430, subscriptionid#1439, validfrom#1440, description#1448]\n:     +- Project [userid#1396, subscriptiontypeid#1395, subscriptionid#1397, validfrom#1398, name#1399, email#1400, street#1401, number#1402, zipcode#1403, city#1404, country_code#1405, description#1406, end_date#1407, is_current#1408, subscriptiontypeid#1441, name#1424, email#1425, street#1426, number#1427, zipcode#1428, city#1429, country_code#1430, subscriptionid#1439, validfrom#1440, description#1448]\n:        +- Join Inner, (userid#1396 = userid#1423)\n:           :- Relation [subscriptiontypeid#1395,userid#1396,subscriptionid#1397,validfrom#1398,name#1399,email#1400,street#1401,number#1402,zipcode#1403,city#1404,country_code#1405,description#1406,end_date#1407,is_current#1408] parquet\n:           +- Project [userid#1423, subscriptiontypeid#1441, name#1424, email#1425, street#1426, number#1427, zipcode#1428, city#1429, country_code#1430, subscriptionid#1439, validfrom#1440, description#1448]\n:              +- Join LeftAnti, (userid#1423 = userid#1488)\n:                 :- Project [subscriptiontypeid#1441, userid#1423, name#1424, email#1425, street#1426, number#1427, zipcode#1428, city#1429, country_code#1430, subscriptionid#1439, validfrom#1440, description#1448]\n:                 :  +- Join Inner, (subscriptiontypeid#1441 = subscriptiontypeid#1447)\n:                 :     :- Project [userid#1423, name#1424, email#1425, street#1426, number#1427, zipcode#1428, city#1429, country_code#1430, subscriptionid#1439, validfrom#1440, subscriptiontypeid#1441]\n:                 :     :  +- Join Inner, (userid#1423 = userid#1442)\n:                 :     :     :- Relation [userid#1423,name#1424,email#1425,street#1426,number#1427,zipcode#1428,city#1429,country_code#1430] JDBCRelation(velo_users) [numPartitions=4]\n:                 :     :     +- Relation [subscriptionid#1439,validfrom#1440,subscriptiontypeid#1441,userid#1442] JDBCRelation(Subscriptions) [numPartitions=1]\n:                 :     +- Relation [subscriptiontypeid#1447,description#1448] JDBCRelation(Subscription_types) [numPartitions=1]\n:                 +- Relation [subscriptiontypeid#1487,userid#1488,subscriptionid#1489,validfrom#1490,name#1491,email#1492,street#1493,number#1494,zipcode#1495,city#1496,country_code#1497,description#1498,end_date#1499,is_current#1500] parquet\n+- Project [userid#1624, subscriptiontypeid#1634, name#1625, email#1626, street#1627, number#1628, zipcode#1629, city#1630, country_code#1631, subscriptionid#1632, validfrom#1633, description#1637, start_date#1579, end_date#1593, true AS is_current#1608]\n   +- Project [userid#1624, subscriptiontypeid#1634, name#1625, email#1626, street#1627, number#1628, zipcode#1629, city#1630, country_code#1631, subscriptionid#1632, validfrom#1633, description#1637, start_date#1579, cast(null as date) AS end_date#1593]\n      +- Project [userid#1624, subscriptiontypeid#1634, name#1625, email#1626, street#1627, number#1628, zipcode#1629, city#1630, country_code#1631, subscriptionid#1632, validfrom#1633, description#1637, current_date(Some(Europe/Brussels)) AS start_date#1579]\n         +- Project [userid#1624, subscriptiontypeid#1634, name#1625, email#1626, street#1627, number#1628, zipcode#1629, city#1630, country_code#1631, subscriptionid#1632, validfrom#1633, description#1637]\n            +- Join LeftAnti, (userid#1624 = userid#1639)\n               :- Project [subscriptiontypeid#1634, userid#1624, name#1625, email#1626, street#1627, number#1628, zipcode#1629, city#1630, country_code#1631, subscriptionid#1632, validfrom#1633, description#1637]\n               :  +- Join Inner, (subscriptiontypeid#1634 = subscriptiontypeid#1636)\n               :     :- Project [userid#1624, name#1625, email#1626, street#1627, number#1628, zipcode#1629, city#1630, country_code#1631, subscriptionid#1632, validfrom#1633, subscriptiontypeid#1634]\n               :     :  +- Join Inner, (userid#1624 = userid#1635)\n               :     :     :- Relation [userid#1624,name#1625,email#1626,street#1627,number#1628,zipcode#1629,city#1630,country_code#1631] JDBCRelation(velo_users) [numPartitions=4]\n               :     :     +- Relation [subscriptionid#1632,validfrom#1633,subscriptiontypeid#1634,userid#1635] JDBCRelation(Subscriptions) [numPartitions=1]\n               :     +- Relation [subscriptiontypeid#1636,description#1637] JDBCRelation(Subscription_types) [numPartitions=1]\n               +- Relation [subscriptiontypeid#1638,userid#1639,subscriptionid#1640,validfrom#1641,name#1642,email#1643,street#1644,number#1645,zipcode#1646,city#1647,country_code#1648,description#1649,end_date#1650,is_current#1651] parquet\n",
     "output_type": "error",
     "traceback": [
      "\u001B[1;31m---------------------------------------------------------------------------\u001B[0m",
      "\u001B[1;31mAnalysisException\u001B[0m                         Traceback (most recent call last)",
      "Cell \u001B[1;32mIn[36], line 63\u001B[0m\n\u001B[0;32m     58\u001B[0m new_rows \u001B[38;5;241m=\u001B[39m updates\u001B[38;5;241m.\u001B[39mwithColumn(\u001B[38;5;124m\"\u001B[39m\u001B[38;5;124mstart_date\u001B[39m\u001B[38;5;124m\"\u001B[39m, current_date()) \\\n\u001B[0;32m     59\u001B[0m     \u001B[38;5;241m.\u001B[39mwithColumn(\u001B[38;5;124m\"\u001B[39m\u001B[38;5;124mend_date\u001B[39m\u001B[38;5;124m\"\u001B[39m, lit(\u001B[38;5;28;01mNone\u001B[39;00m)\u001B[38;5;241m.\u001B[39mcast(\u001B[38;5;124m\"\u001B[39m\u001B[38;5;124mdate\u001B[39m\u001B[38;5;124m\"\u001B[39m)) \\\n\u001B[0;32m     60\u001B[0m     \u001B[38;5;241m.\u001B[39mwithColumn(\u001B[38;5;124m\"\u001B[39m\u001B[38;5;124mis_current\u001B[39m\u001B[38;5;124m\"\u001B[39m, lit(\u001B[38;5;28;01mTrue\u001B[39;00m))\n\u001B[0;32m     62\u001B[0m \u001B[38;5;66;03m# Combineer en sla op\u001B[39;00m\n\u001B[1;32m---> 63\u001B[0m final_data \u001B[38;5;241m=\u001B[39m \u001B[43mupdated_existing\u001B[49m\u001B[38;5;241;43m.\u001B[39;49m\u001B[43munion\u001B[49m\u001B[43m(\u001B[49m\u001B[43mnew_rows\u001B[49m\u001B[43m)\u001B[49m\n\u001B[0;32m     64\u001B[0m final_data\u001B[38;5;241m.\u001B[39mwrite\u001B[38;5;241m.\u001B[39mformat(\u001B[38;5;124m\"\u001B[39m\u001B[38;5;124mdelta\u001B[39m\u001B[38;5;124m\"\u001B[39m)\u001B[38;5;241m.\u001B[39mmode(\u001B[38;5;124m\"\u001B[39m\u001B[38;5;124moverwrite\u001B[39m\u001B[38;5;124m\"\u001B[39m)\u001B[38;5;241m.\u001B[39msave(\u001B[38;5;124m\"\u001B[39m\u001B[38;5;124m/path/to/customer_dimension\u001B[39m\u001B[38;5;124m\"\u001B[39m)\n",
      "File \u001B[1;32mC:\\BigDataVenv\\.venv\\Lib\\site-packages\\pyspark\\sql\\dataframe.py:3929\u001B[0m, in \u001B[0;36mDataFrame.union\u001B[1;34m(self, other)\u001B[0m\n\u001B[0;32m   3833\u001B[0m \u001B[38;5;28;01mdef\u001B[39;00m \u001B[38;5;21munion\u001B[39m(\u001B[38;5;28mself\u001B[39m, other: \u001B[38;5;124m\"\u001B[39m\u001B[38;5;124mDataFrame\u001B[39m\u001B[38;5;124m\"\u001B[39m) \u001B[38;5;241m-\u001B[39m\u001B[38;5;241m>\u001B[39m \u001B[38;5;124m\"\u001B[39m\u001B[38;5;124mDataFrame\u001B[39m\u001B[38;5;124m\"\u001B[39m:\n\u001B[0;32m   3834\u001B[0m \u001B[38;5;250m    \u001B[39m\u001B[38;5;124;03m\"\"\"Return a new :class:`DataFrame` containing the union of rows in this and another\u001B[39;00m\n\u001B[0;32m   3835\u001B[0m \u001B[38;5;124;03m    :class:`DataFrame`.\u001B[39;00m\n\u001B[0;32m   3836\u001B[0m \n\u001B[1;32m   (...)\u001B[0m\n\u001B[0;32m   3927\u001B[0m \u001B[38;5;124;03m    +---+-----+\u001B[39;00m\n\u001B[0;32m   3928\u001B[0m \u001B[38;5;124;03m    \"\"\"\u001B[39;00m\n\u001B[1;32m-> 3929\u001B[0m     \u001B[38;5;28;01mreturn\u001B[39;00m DataFrame(\u001B[38;5;28;43mself\u001B[39;49m\u001B[38;5;241;43m.\u001B[39;49m\u001B[43m_jdf\u001B[49m\u001B[38;5;241;43m.\u001B[39;49m\u001B[43munion\u001B[49m\u001B[43m(\u001B[49m\u001B[43mother\u001B[49m\u001B[38;5;241;43m.\u001B[39;49m\u001B[43m_jdf\u001B[49m\u001B[43m)\u001B[49m, \u001B[38;5;28mself\u001B[39m\u001B[38;5;241m.\u001B[39msparkSession)\n",
      "File \u001B[1;32mC:\\BigDataVenv\\.venv\\Lib\\site-packages\\py4j\\java_gateway.py:1322\u001B[0m, in \u001B[0;36mJavaMember.__call__\u001B[1;34m(self, *args)\u001B[0m\n\u001B[0;32m   1316\u001B[0m command \u001B[38;5;241m=\u001B[39m proto\u001B[38;5;241m.\u001B[39mCALL_COMMAND_NAME \u001B[38;5;241m+\u001B[39m\\\n\u001B[0;32m   1317\u001B[0m     \u001B[38;5;28mself\u001B[39m\u001B[38;5;241m.\u001B[39mcommand_header \u001B[38;5;241m+\u001B[39m\\\n\u001B[0;32m   1318\u001B[0m     args_command \u001B[38;5;241m+\u001B[39m\\\n\u001B[0;32m   1319\u001B[0m     proto\u001B[38;5;241m.\u001B[39mEND_COMMAND_PART\n\u001B[0;32m   1321\u001B[0m answer \u001B[38;5;241m=\u001B[39m \u001B[38;5;28mself\u001B[39m\u001B[38;5;241m.\u001B[39mgateway_client\u001B[38;5;241m.\u001B[39msend_command(command)\n\u001B[1;32m-> 1322\u001B[0m return_value \u001B[38;5;241m=\u001B[39m \u001B[43mget_return_value\u001B[49m\u001B[43m(\u001B[49m\n\u001B[0;32m   1323\u001B[0m \u001B[43m    \u001B[49m\u001B[43manswer\u001B[49m\u001B[43m,\u001B[49m\u001B[43m \u001B[49m\u001B[38;5;28;43mself\u001B[39;49m\u001B[38;5;241;43m.\u001B[39;49m\u001B[43mgateway_client\u001B[49m\u001B[43m,\u001B[49m\u001B[43m \u001B[49m\u001B[38;5;28;43mself\u001B[39;49m\u001B[38;5;241;43m.\u001B[39;49m\u001B[43mtarget_id\u001B[49m\u001B[43m,\u001B[49m\u001B[43m \u001B[49m\u001B[38;5;28;43mself\u001B[39;49m\u001B[38;5;241;43m.\u001B[39;49m\u001B[43mname\u001B[49m\u001B[43m)\u001B[49m\n\u001B[0;32m   1325\u001B[0m \u001B[38;5;28;01mfor\u001B[39;00m temp_arg \u001B[38;5;129;01min\u001B[39;00m temp_args:\n\u001B[0;32m   1326\u001B[0m     \u001B[38;5;28;01mif\u001B[39;00m \u001B[38;5;28mhasattr\u001B[39m(temp_arg, \u001B[38;5;124m\"\u001B[39m\u001B[38;5;124m_detach\u001B[39m\u001B[38;5;124m\"\u001B[39m):\n",
      "File \u001B[1;32mC:\\BigDataVenv\\.venv\\Lib\\site-packages\\pyspark\\errors\\exceptions\\captured.py:185\u001B[0m, in \u001B[0;36mcapture_sql_exception.<locals>.deco\u001B[1;34m(*a, **kw)\u001B[0m\n\u001B[0;32m    181\u001B[0m converted \u001B[38;5;241m=\u001B[39m convert_exception(e\u001B[38;5;241m.\u001B[39mjava_exception)\n\u001B[0;32m    182\u001B[0m \u001B[38;5;28;01mif\u001B[39;00m \u001B[38;5;129;01mnot\u001B[39;00m \u001B[38;5;28misinstance\u001B[39m(converted, UnknownException):\n\u001B[0;32m    183\u001B[0m     \u001B[38;5;66;03m# Hide where the exception came from that shows a non-Pythonic\u001B[39;00m\n\u001B[0;32m    184\u001B[0m     \u001B[38;5;66;03m# JVM exception message.\u001B[39;00m\n\u001B[1;32m--> 185\u001B[0m     \u001B[38;5;28;01mraise\u001B[39;00m converted \u001B[38;5;28;01mfrom\u001B[39;00m \u001B[38;5;28;01mNone\u001B[39;00m\n\u001B[0;32m    186\u001B[0m \u001B[38;5;28;01melse\u001B[39;00m:\n\u001B[0;32m    187\u001B[0m     \u001B[38;5;28;01mraise\u001B[39;00m\n",
      "\u001B[1;31mAnalysisException\u001B[0m: [NUM_COLUMNS_MISMATCH] UNION can only be performed on inputs with the same number of columns, but the first input has 25 columns and the second input has 15 columns.;\n'Union false, false\n:- Project [userid#1396, subscriptiontypeid#1395, subscriptionid#1397, validfrom#1398, name#1399, email#1400, street#1401, number#1402, zipcode#1403, city#1404, country_code#1405, description#1406, end_date#1527, false AS is_current#1553, subscriptiontypeid#1441, name#1424, email#1425, street#1426, number#1427, zipcode#1428, city#1429, country_code#1430, subscriptionid#1439, validfrom#1440, description#1448]\n:  +- Project [userid#1396, subscriptiontypeid#1395, subscriptionid#1397, validfrom#1398, name#1399, email#1400, street#1401, number#1402, zipcode#1403, city#1404, country_code#1405, description#1406, current_date(Some(Europe/Brussels)) AS end_date#1527, is_current#1408, subscriptiontypeid#1441, name#1424, email#1425, street#1426, number#1427, zipcode#1428, city#1429, country_code#1430, subscriptionid#1439, validfrom#1440, description#1448]\n:     +- Project [userid#1396, subscriptiontypeid#1395, subscriptionid#1397, validfrom#1398, name#1399, email#1400, street#1401, number#1402, zipcode#1403, city#1404, country_code#1405, description#1406, end_date#1407, is_current#1408, subscriptiontypeid#1441, name#1424, email#1425, street#1426, number#1427, zipcode#1428, city#1429, country_code#1430, subscriptionid#1439, validfrom#1440, description#1448]\n:        +- Join Inner, (userid#1396 = userid#1423)\n:           :- Relation [subscriptiontypeid#1395,userid#1396,subscriptionid#1397,validfrom#1398,name#1399,email#1400,street#1401,number#1402,zipcode#1403,city#1404,country_code#1405,description#1406,end_date#1407,is_current#1408] parquet\n:           +- Project [userid#1423, subscriptiontypeid#1441, name#1424, email#1425, street#1426, number#1427, zipcode#1428, city#1429, country_code#1430, subscriptionid#1439, validfrom#1440, description#1448]\n:              +- Join LeftAnti, (userid#1423 = userid#1488)\n:                 :- Project [subscriptiontypeid#1441, userid#1423, name#1424, email#1425, street#1426, number#1427, zipcode#1428, city#1429, country_code#1430, subscriptionid#1439, validfrom#1440, description#1448]\n:                 :  +- Join Inner, (subscriptiontypeid#1441 = subscriptiontypeid#1447)\n:                 :     :- Project [userid#1423, name#1424, email#1425, street#1426, number#1427, zipcode#1428, city#1429, country_code#1430, subscriptionid#1439, validfrom#1440, subscriptiontypeid#1441]\n:                 :     :  +- Join Inner, (userid#1423 = userid#1442)\n:                 :     :     :- Relation [userid#1423,name#1424,email#1425,street#1426,number#1427,zipcode#1428,city#1429,country_code#1430] JDBCRelation(velo_users) [numPartitions=4]\n:                 :     :     +- Relation [subscriptionid#1439,validfrom#1440,subscriptiontypeid#1441,userid#1442] JDBCRelation(Subscriptions) [numPartitions=1]\n:                 :     +- Relation [subscriptiontypeid#1447,description#1448] JDBCRelation(Subscription_types) [numPartitions=1]\n:                 +- Relation [subscriptiontypeid#1487,userid#1488,subscriptionid#1489,validfrom#1490,name#1491,email#1492,street#1493,number#1494,zipcode#1495,city#1496,country_code#1497,description#1498,end_date#1499,is_current#1500] parquet\n+- Project [userid#1624, subscriptiontypeid#1634, name#1625, email#1626, street#1627, number#1628, zipcode#1629, city#1630, country_code#1631, subscriptionid#1632, validfrom#1633, description#1637, start_date#1579, end_date#1593, true AS is_current#1608]\n   +- Project [userid#1624, subscriptiontypeid#1634, name#1625, email#1626, street#1627, number#1628, zipcode#1629, city#1630, country_code#1631, subscriptionid#1632, validfrom#1633, description#1637, start_date#1579, cast(null as date) AS end_date#1593]\n      +- Project [userid#1624, subscriptiontypeid#1634, name#1625, email#1626, street#1627, number#1628, zipcode#1629, city#1630, country_code#1631, subscriptionid#1632, validfrom#1633, description#1637, current_date(Some(Europe/Brussels)) AS start_date#1579]\n         +- Project [userid#1624, subscriptiontypeid#1634, name#1625, email#1626, street#1627, number#1628, zipcode#1629, city#1630, country_code#1631, subscriptionid#1632, validfrom#1633, description#1637]\n            +- Join LeftAnti, (userid#1624 = userid#1639)\n               :- Project [subscriptiontypeid#1634, userid#1624, name#1625, email#1626, street#1627, number#1628, zipcode#1629, city#1630, country_code#1631, subscriptionid#1632, validfrom#1633, description#1637]\n               :  +- Join Inner, (subscriptiontypeid#1634 = subscriptiontypeid#1636)\n               :     :- Project [userid#1624, name#1625, email#1626, street#1627, number#1628, zipcode#1629, city#1630, country_code#1631, subscriptionid#1632, validfrom#1633, subscriptiontypeid#1634]\n               :     :  +- Join Inner, (userid#1624 = userid#1635)\n               :     :     :- Relation [userid#1624,name#1625,email#1626,street#1627,number#1628,zipcode#1629,city#1630,country_code#1631] JDBCRelation(velo_users) [numPartitions=4]\n               :     :     +- Relation [subscriptionid#1632,validfrom#1633,subscriptiontypeid#1634,userid#1635] JDBCRelation(Subscriptions) [numPartitions=1]\n               :     +- Relation [subscriptiontypeid#1636,description#1637] JDBCRelation(Subscription_types) [numPartitions=1]\n               +- Relation [subscriptiontypeid#1638,userid#1639,subscriptionid#1640,validfrom#1641,name#1642,email#1643,street#1644,number#1645,zipcode#1646,city#1647,country_code#1648,description#1649,end_date#1650,is_current#1651] parquet\n"
     ]
    }
   ],
   "execution_count": 36
  }
 ],
 "metadata": {
  "kernelspec": {
   "display_name": "Python 3",
   "language": "python",
   "name": "python3"
  },
  "language_info": {
   "codemirror_mode": {
    "name": "ipython",
    "version": 2
   },
   "file_extension": ".py",
   "mimetype": "text/x-python",
   "name": "python",
   "nbconvert_exporter": "python",
   "pygments_lexer": "ipython2",
   "version": "2.7.6"
  }
 },
 "nbformat": 4,
 "nbformat_minor": 5
}
