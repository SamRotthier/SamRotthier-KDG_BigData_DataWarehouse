{
 "cells": [
  {
   "metadata": {},
   "cell_type": "markdown",
   "source": "# Config",
   "id": "cfed88684309cb63"
  },
  {
   "cell_type": "code",
   "id": "initial_id",
   "metadata": {
    "collapsed": true,
    "ExecuteTime": {
     "end_time": "2025-01-12T17:02:32.043194Z",
     "start_time": "2025-01-12T17:02:31.911247Z"
    }
   },
   "source": [
    "from delta import DeltaTable\n",
    "from datetime import datetime\n",
    "\n",
    "import ConnectionConfig as cc\n",
    "cc.setupEnvironment()"
   ],
   "outputs": [],
   "execution_count": 1
  },
  {
   "metadata": {},
   "cell_type": "markdown",
   "source": "# Start local cluster",
   "id": "f077cfe4890468a7"
  },
  {
   "metadata": {
    "ExecuteTime": {
     "end_time": "2025-01-12T17:02:40.946071Z",
     "start_time": "2025-01-12T17:02:33.263440Z"
    }
   },
   "cell_type": "code",
   "source": [
    "spark = cc.startLocalCluster(\"DIM_CUSTOMER\")\n",
    "spark.getActiveSession()"
   ],
   "id": "fd39d484a89996e2",
   "outputs": [
    {
     "data": {
      "text/plain": [
       "<pyspark.sql.session.SparkSession at 0x169b3b8fad0>"
      ],
      "text/html": [
       "\n",
       "            <div>\n",
       "                <p><b>SparkSession - in-memory</b></p>\n",
       "                \n",
       "        <div>\n",
       "            <p><b>SparkContext</b></p>\n",
       "\n",
       "            <p><a href=\"http://127.0.0.1:4041\">Spark UI</a></p>\n",
       "\n",
       "            <dl>\n",
       "              <dt>Version</dt>\n",
       "                <dd><code>v3.5.2</code></dd>\n",
       "              <dt>Master</dt>\n",
       "                <dd><code>local[*]</code></dd>\n",
       "              <dt>AppName</dt>\n",
       "                <dd><code>DIM_CUSTOMER</code></dd>\n",
       "            </dl>\n",
       "        </div>\n",
       "        \n",
       "            </div>\n",
       "        "
      ]
     },
     "execution_count": 2,
     "metadata": {},
     "output_type": "execute_result"
    }
   ],
   "execution_count": 2
  },
  {
   "metadata": {},
   "cell_type": "markdown",
   "source": "# Ophalen van gegevens (en opslaan in data warehouse)",
   "id": "3cfa02ba71699c4b"
  },
  {
   "metadata": {
    "ExecuteTime": {
     "end_time": "2025-01-12T15:58:04.339667Z",
     "start_time": "2025-01-12T15:58:00.897798Z"
    }
   },
   "cell_type": "code",
   "source": [
    "#Extract\n",
    "cc.set_connectionProfile(\"VeloDB\")\n",
    "\n",
    "df_user = spark.read \\\n",
    "    .format(\"jdbc\") \\\n",
    "    .option(\"driver\" , cc.get_Property(\"driver\")) \\\n",
    "    .option(\"url\", cc.create_jdbc()) \\\n",
    "    .option(\"dbtable\", \"velo_users\") \\\n",
    "    .option(\"user\", cc.get_Property(\"username\")) \\\n",
    "    .option(\"password\", cc.get_Property(\"password\")) \\\n",
    "    .option(\"partitionColumn\", \"userid\") \\\n",
    "    .option(\"numPartitions\", 4) \\\n",
    "    .option(\"lowerBound\", 0) \\\n",
    "    .option(\"upperBound\", 60000) \\\n",
    "    .load()\n",
    "\n",
    "df_subscription = spark.read \\\n",
    "    .format(\"jdbc\") \\\n",
    "    .option(\"driver\" , cc.get_Property(\"driver\")) \\\n",
    "    .option(\"url\", cc.create_jdbc()) \\\n",
    "    .option(\"dbtable\", \"Subscriptions\") \\\n",
    "    .option(\"user\", cc.get_Property(\"username\")) \\\n",
    "    .option(\"password\", cc.get_Property(\"password\")) \\\n",
    "    .option(\"partitionColumn\", \"userid\") \\\n",
    "    .option(\"numPartitions\", 4) \\\n",
    "    .option(\"lowerBound\", 0) \\\n",
    "    .option(\"upperBound\", 80000) \\\n",
    "    .load()\n",
    "\n",
    "df_subscription_type = spark.read \\\n",
    "    .format(\"jdbc\") \\\n",
    "    .option(\"driver\" , cc.get_Property(\"driver\")) \\\n",
    "    .option(\"url\", cc.create_jdbc()) \\\n",
    "    .option(\"dbtable\", \"Subscription_types\") \\\n",
    "    .option(\"user\", cc.get_Property(\"username\")) \\\n",
    "    .option(\"password\", cc.get_Property(\"password\")) \\\n",
    "    .load()\n",
    "\n",
    "df_user.show(5)\n",
    "df_subscription.show(5)\n",
    "df_subscription_type.show(5)\n"
   ],
   "id": "b28f0a9cdda57d9f",
   "outputs": [
    {
     "name": "stdout",
     "output_type": "stream",
     "text": [
      "+------+-----------------+--------------------+--------------------+--------+-------+-------------------+------------+\n",
      "|userid|             name|               email|              street|  number|zipcode|               city|country_code|\n",
      "+------+-----------------+--------------------+--------------------+--------+-------+-------------------+------------+\n",
      "|     2|van der Zee Julia|Julia.van.der.Zee...|          Europalaan|     42 |   2610|Wilrijk (Antwerpen)|          BE|\n",
      "|     3|  de Boer Ricardo|Ricardo.de.Boer@g...|   Maria Clarastraat|    81  |   2160|          Wommelgem|          BE|\n",
      "|     4|   Willems Angela|Angela.Willems@te...|Graaf Joseph de P...|     16 |   2900|            Schoten|          BE|\n",
      "|     5| Heijnen Patricia|Patricia.Heijnen@...|          Meylstraat|    112 |   2540|               Hove|          BE|\n",
      "|     6|   Driessen Anouk|Anouk.Driessen@sc...|   Jan Ockegemstraat|168 0107|   2650|             Edegem|          BE|\n",
      "+------+-----------------+--------------------+--------------------+--------+-------+-------------------+------------+\n",
      "only showing top 5 rows\n",
      "\n",
      "+--------------+----------+------------------+------+\n",
      "|subscriptionid| validfrom|subscriptiontypeid|userid|\n",
      "+--------------+----------+------------------+------+\n",
      "|             1|2019-08-02|                 3|     1|\n",
      "|             2|2019-11-12|                 1|     1|\n",
      "|             3|2020-12-14|                 1|     1|\n",
      "|             4|2021-10-05|                 2|     2|\n",
      "|             5|2022-09-17|                 3|     3|\n",
      "+--------------+----------+------------------+------+\n",
      "only showing top 5 rows\n",
      "\n",
      "+------------------+-----------+\n",
      "|subscriptiontypeid|description|\n",
      "+------------------+-----------+\n",
      "|                 1|        DAG|\n",
      "|                 2|      MAAND|\n",
      "|                 3|       JAAR|\n",
      "+------------------+-----------+\n",
      "\n"
     ]
    }
   ],
   "execution_count": 3
  },
  {
   "metadata": {
    "ExecuteTime": {
     "end_time": "2025-01-12T15:58:11.971448Z",
     "start_time": "2025-01-12T15:58:09.648059Z"
    }
   },
   "cell_type": "code",
   "source": [
    "#Transform\n",
    "df_user.createOrReplaceTempView(\"source_User\")\n",
    "df_subscription.createOrReplaceTempView(\"source_Subscription\")\n",
    "df_subscription_type.createOrReplaceTempView(\"source_Subscription_type\")\n",
    "\n",
    "#df_dim_user= spark.sql(\"select * from source_User\")\n",
    "#df_dim_user.show(5)\n",
    "#df_user.printSchema()\n",
    "\n",
    "# I left out email and zipcode\n",
    "df_dim_user= spark.sql(f\"select uuid() as user_SK, user.userid, user.name, subscription.subscriptionid as subscriptionid , subscription_type.description as subscription_type, subscription.validfrom as valid_from,\\\n",
    "                            user.street, user.number, user.city, user.country_code,\\\n",
    "                            to_timestamp('1900-01-01','yyyy-MM-dd') as scd_start,\\\n",
    "                            to_timestamp('2100-12-12','yyyy-MM-dd') as scd_end,\\\n",
    "                            md5(concat(country_code, city, street, number)) as md5,\\\n",
    "                            True as current\\\n",
    "                        from source_User as user\\\n",
    "                        join (select userid, max(validfrom) as last_validfrom from source_Subscription group by userid) as last_subscription on user.userid = last_subscription.userid\\\n",
    "                        join source_Subscription as subscription on subscription.userid = last_subscription.userid AND subscription.validfrom = last_subscription.last_validfrom\\\n",
    "                        join source_Subscription_type as subscription_type on subscription_type.subscriptiontypeid = subscription.subscriptiontypeid\")\n",
    "\n",
    "\n",
    "df_dim_user.show()\n"
   ],
   "id": "abe7a6b71ac9e200",
   "outputs": [
    {
     "name": "stdout",
     "output_type": "stream",
     "text": [
      "+--------------------+------+-----------------+--------------+-----------------+----------+--------------------+-------+--------------------+------------+-------------------+-------------------+--------------------+-------+\n",
      "|             user_SK|userid|             name|subscriptionid|subscription_type|valid_from|              street| number|                city|country_code|          scd_start|            scd_end|                 md5|current|\n",
      "+--------------------+------+-----------------+--------------+-----------------+----------+--------------------+-------+--------------------+------------+-------------------+-------------------+--------------------+-------+\n",
      "|92fc2679-adc9-431...|    12|     Simons Thijs|            23|             JAAR|2023-10-20|         Bergenhoeve|81 0302|Antwerpen/Berendr...|          BE|1900-01-01 00:00:00|2100-12-12 00:00:00|185076a17fcae9054...|   true|\n",
      "|adf38d31-eb12-42a...|    13|       Groen Rens|            24|             JAAR|2020-02-28|  Trompetvogelstraat|     1 | Merksem (Antwerpen)|          BE|1900-01-01 00:00:00|2100-12-12 00:00:00|ca92ad4bc1a9f6b77...|   true|\n",
      "|e8c00d9d-2be9-46b...|    14|van der Veer Romy|            25|             JAAR|2023-09-19|Prosper De Vochtlaan|   177 |    Kontich/Waarloos|          BE|1900-01-01 00:00:00|2100-12-12 00:00:00|280f152d853969609...|   true|\n",
      "|3e472e89-5d0b-45c...|    18|   Veldman Angela|            29|             JAAR|2023-08-04|Emiel Van Hemeldo...|    93 |                Hove|          BE|1900-01-01 00:00:00|2100-12-12 00:00:00|cf6f5ea33e2e22ebd...|   true|\n",
      "|8a740de1-6927-4fc...|    25|     Blok Vincent|            37|              DAG|2019-01-13|      Korenbloemlaan|   147 |             Schoten|          BE|1900-01-01 00:00:00|2100-12-12 00:00:00|2a0af79e60b46e3e3...|   true|\n",
      "|a2a2764c-8cea-49b...|    37|     Postma Niels|            53|             JAAR|2022-08-02|        Visserstraat|82 0602|  Burcht/Zwijndrecht|          BE|1900-01-01 00:00:00|2100-12-12 00:00:00|6ce5c02ed168ff4fe...|   true|\n",
      "|c5a013f1-b8d2-4db...|    38|    Peters Stefan|            56|            MAAND|2022-11-17|    Kleinebeerstraat|    60 |           Antwerpen|          BE|1900-01-01 00:00:00|2100-12-12 00:00:00|367d08f1953c0efed...|   true|\n",
      "|15fc6132-e4af-46a...|    46|      Baars Kevin|            71|             JAAR|2023-12-30|            Keerbaan|   103 |Broechem/Emblem/O...|          BE|1900-01-01 00:00:00|2100-12-12 00:00:00|29394c3a5b952908e...|   true|\n",
      "|bbd42d15-24d2-480...|    50|  Venema Matthijs|            76|             JAAR|2022-09-05|         Bollaakdijk|    31 |Broechem/Emblem/O...|          BE|1900-01-01 00:00:00|2100-12-12 00:00:00|af2d93c07204d80c7...|   true|\n",
      "|3c028272-1226-4a2...|    52|  van Egmond Niek|            78|             JAAR|2019-05-07|     Nachtegalenlaan|44 0006|                Hove|          BE|1900-01-01 00:00:00|2100-12-12 00:00:00|829b46cfd0aefd815...|   true|\n",
      "|1b40d984-3486-431...|    56|      Prins Elise|            84|             JAAR|2021-12-25|      Jennevalstraat|   233 | Berchem (Antwerpen)|          BE|1900-01-01 00:00:00|2100-12-12 00:00:00|7b70c8b72637f0499...|   true|\n",
      "|40c34ff6-73e2-433...|    65| van Rooijen Emma|            95|             JAAR|2023-08-27|          Kerkstraat|   109 | Reet/Rumst/Terhagen|          BE|1900-01-01 00:00:00|2100-12-12 00:00:00|d13f37ccd9922010c...|   true|\n",
      "|b24237ab-9ecd-469...|    67|    Verhoef Menno|            99|              DAG|2018-12-30|  Henri Dunantstraat|   248 | Hoboken (Antwerpen)|          BE|1900-01-01 00:00:00|2100-12-12 00:00:00|e24b3cb8595f74c0e...|   true|\n",
      "|86d93f6c-32cf-490...|    70|     Wouters Joep|           102|             JAAR|2018-01-08|Jan Frans Favelet...|   752 |Beveren-Waas/Haas...|          BE|1900-01-01 00:00:00|2100-12-12 00:00:00|8567dea56e6ad830f...|   true|\n",
      "|197c1afb-b790-4a0...|    73| van Rijn Johanna|           105|             JAAR|2019-04-23|          Mereldreef|    94 |s Gravenwezel/Sch...|          BE|1900-01-01 00:00:00|2100-12-12 00:00:00|9c82cf5455d05264b...|   true|\n",
      "|7854bb21-bc03-46d...|    83|   Dekkers Casper|           119|             JAAR|2018-05-06|Maria de Heeltstraat|73 0103|  Deurne (Antwerpen)|          BE|1900-01-01 00:00:00|2100-12-12 00:00:00|0b27a358402834b22...|   true|\n",
      "|78b6a7c7-92ff-4b2...|    93|  Kuijpers Simone|           133|             JAAR|2022-08-05|          Kapellelei|29 0706|             Mortsel|          BE|1900-01-01 00:00:00|2100-12-12 00:00:00|58b9bea626102fce8...|   true|\n",
      "|d95b4e25-18f0-47e...|    95|   Verhagen Mandy|           137|             JAAR|2021-08-28|         Hamerplaats|   121 |           Antwerpen|          BE|1900-01-01 00:00:00|2100-12-12 00:00:00|e968ba38452d3e127...|   true|\n",
      "|e80e685a-9eb5-45d...|    97|  Hendriks Carmen|           139|             JAAR|2023-04-07|        Wisselstraat| 8 0901|s Gravenwezel/Sch...|          BE|1900-01-01 00:00:00|2100-12-12 00:00:00|b591fa92d5a1a17a5...|   true|\n",
      "|f0d7b80c-c988-484...|   101|     de Jager Isa|           147|              DAG|2021-11-23|      Holsthumstraat|    88 |Bazel/Kruibeke/Ru...|          BE|1900-01-01 00:00:00|2100-12-12 00:00:00|efcba650b7c93fa5a...|   true|\n",
      "+--------------------+------+-----------------+--------------+-----------------+----------+--------------------+-------+--------------------+------------+-------------------+-------------------+--------------------+-------+\n",
      "only showing top 20 rows\n",
      "\n"
     ]
    }
   ],
   "execution_count": 4
  },
  {
   "metadata": {
    "ExecuteTime": {
     "end_time": "2025-01-12T16:57:33.871362Z",
     "start_time": "2025-01-12T16:57:27.726966Z"
    }
   },
   "cell_type": "code",
   "source": [
    "#Load\n",
    "df_dim_user.write.format(\"delta\").mode(\"overwrite\").saveAsTable(\"dimUser\")"
   ],
   "id": "1febe870e6ef1c2d",
   "outputs": [],
   "execution_count": 5
  },
  {
   "metadata": {},
   "cell_type": "markdown",
   "source": "# Incremental (Updaten van SCD 2 type)",
   "id": "fbf355b0ca83fd12"
  },
  {
   "metadata": {
    "ExecuteTime": {
     "end_time": "2025-01-12T17:03:50.279541Z",
     "start_time": "2025-01-12T17:03:50.060721Z"
    }
   },
   "cell_type": "code",
   "source": [
    "# Extract (from data Warehouse)\n",
    "dt_dimUser = DeltaTable.forPath(spark, \".\\\\spark-warehouse\\\\dimuser\")\n",
    "dt_dimUser.toDF().createOrReplaceTempView(\"dimUser_current\")\n",
    "\n",
    "spark.sql(\"select * from dimUser_current\").show();"
   ],
   "id": "cc302e062b4bc93a",
   "outputs": [
    {
     "name": "stdout",
     "output_type": "stream",
     "text": [
      "+--------------------+------+-----------------+--------------+-----------------+----------+--------------------+-------+--------------------+------------+-------------------+-------------------+--------------------+-------+\n",
      "|             user_SK|userid|             name|subscriptionid|subscription_type|valid_from|              street| number|                city|country_code|          scd_start|            scd_end|                 md5|current|\n",
      "+--------------------+------+-----------------+--------------+-----------------+----------+--------------------+-------+--------------------+------------+-------------------+-------------------+--------------------+-------+\n",
      "|92fc2679-adc9-431...|    12|     Simons Thijs|            23|             JAAR|2023-10-20|         Bergenhoeve|81 0302|Antwerpen/Berendr...|          BE|1900-01-01 00:00:00|2100-12-12 00:00:00|185076a17fcae9054...|   true|\n",
      "|adf38d31-eb12-42a...|    13|       Groen Rens|            24|             JAAR|2020-02-28|  Trompetvogelstraat|     1 | Merksem (Antwerpen)|          BE|1900-01-01 00:00:00|2100-12-12 00:00:00|ca92ad4bc1a9f6b77...|   true|\n",
      "|e8c00d9d-2be9-46b...|    14|van der Veer Romy|            25|             JAAR|2023-09-19|Prosper De Vochtlaan|   177 |    Kontich/Waarloos|          BE|1900-01-01 00:00:00|2100-12-12 00:00:00|280f152d853969609...|   true|\n",
      "|3e472e89-5d0b-45c...|    18|   Veldman Angela|            29|             JAAR|2023-08-04|Emiel Van Hemeldo...|    93 |                Hove|          BE|1900-01-01 00:00:00|2100-12-12 00:00:00|cf6f5ea33e2e22ebd...|   true|\n",
      "|8a740de1-6927-4fc...|    25|     Blok Vincent|            37|              DAG|2019-01-13|      Korenbloemlaan|   147 |             Schoten|          BE|1900-01-01 00:00:00|2100-12-12 00:00:00|2a0af79e60b46e3e3...|   true|\n",
      "|a2a2764c-8cea-49b...|    37|     Postma Niels|            53|             JAAR|2022-08-02|        Visserstraat|82 0602|  Burcht/Zwijndrecht|          BE|1900-01-01 00:00:00|2100-12-12 00:00:00|6ce5c02ed168ff4fe...|   true|\n",
      "|c5a013f1-b8d2-4db...|    38|    Peters Stefan|            56|            MAAND|2022-11-17|    Kleinebeerstraat|    60 |           Antwerpen|          BE|1900-01-01 00:00:00|2100-12-12 00:00:00|367d08f1953c0efed...|   true|\n",
      "|15fc6132-e4af-46a...|    46|      Baars Kevin|            71|             JAAR|2023-12-30|            Keerbaan|   103 |Broechem/Emblem/O...|          BE|1900-01-01 00:00:00|2100-12-12 00:00:00|29394c3a5b952908e...|   true|\n",
      "|bbd42d15-24d2-480...|    50|  Venema Matthijs|            76|             JAAR|2022-09-05|         Bollaakdijk|    31 |Broechem/Emblem/O...|          BE|1900-01-01 00:00:00|2100-12-12 00:00:00|af2d93c07204d80c7...|   true|\n",
      "|3c028272-1226-4a2...|    52|  van Egmond Niek|            78|             JAAR|2019-05-07|     Nachtegalenlaan|44 0006|                Hove|          BE|1900-01-01 00:00:00|2100-12-12 00:00:00|829b46cfd0aefd815...|   true|\n",
      "|1b40d984-3486-431...|    56|      Prins Elise|            84|             JAAR|2021-12-25|      Jennevalstraat|   233 | Berchem (Antwerpen)|          BE|1900-01-01 00:00:00|2100-12-12 00:00:00|7b70c8b72637f0499...|   true|\n",
      "|40c34ff6-73e2-433...|    65| van Rooijen Emma|            95|             JAAR|2023-08-27|          Kerkstraat|   109 | Reet/Rumst/Terhagen|          BE|1900-01-01 00:00:00|2100-12-12 00:00:00|d13f37ccd9922010c...|   true|\n",
      "|b24237ab-9ecd-469...|    67|    Verhoef Menno|            99|              DAG|2018-12-30|  Henri Dunantstraat|   248 | Hoboken (Antwerpen)|          BE|1900-01-01 00:00:00|2100-12-12 00:00:00|e24b3cb8595f74c0e...|   true|\n",
      "|86d93f6c-32cf-490...|    70|     Wouters Joep|           102|             JAAR|2018-01-08|Jan Frans Favelet...|   752 |Beveren-Waas/Haas...|          BE|1900-01-01 00:00:00|2100-12-12 00:00:00|8567dea56e6ad830f...|   true|\n",
      "|197c1afb-b790-4a0...|    73| van Rijn Johanna|           105|             JAAR|2019-04-23|          Mereldreef|    94 |s Gravenwezel/Sch...|          BE|1900-01-01 00:00:00|2100-12-12 00:00:00|9c82cf5455d05264b...|   true|\n",
      "|7854bb21-bc03-46d...|    83|   Dekkers Casper|           119|             JAAR|2018-05-06|Maria de Heeltstraat|73 0103|  Deurne (Antwerpen)|          BE|1900-01-01 00:00:00|2100-12-12 00:00:00|0b27a358402834b22...|   true|\n",
      "|78b6a7c7-92ff-4b2...|    93|  Kuijpers Simone|           133|             JAAR|2022-08-05|          Kapellelei|29 0706|             Mortsel|          BE|1900-01-01 00:00:00|2100-12-12 00:00:00|58b9bea626102fce8...|   true|\n",
      "|d95b4e25-18f0-47e...|    95|   Verhagen Mandy|           137|             JAAR|2021-08-28|         Hamerplaats|   121 |           Antwerpen|          BE|1900-01-01 00:00:00|2100-12-12 00:00:00|e968ba38452d3e127...|   true|\n",
      "|e80e685a-9eb5-45d...|    97|  Hendriks Carmen|           139|             JAAR|2023-04-07|        Wisselstraat| 8 0901|s Gravenwezel/Sch...|          BE|1900-01-01 00:00:00|2100-12-12 00:00:00|b591fa92d5a1a17a5...|   true|\n",
      "|f0d7b80c-c988-484...|   101|     de Jager Isa|           147|              DAG|2021-11-23|      Holsthumstraat|    88 |Bazel/Kruibeke/Ru...|          BE|1900-01-01 00:00:00|2100-12-12 00:00:00|efcba650b7c93fa5a...|   true|\n",
      "+--------------------+------+-----------------+--------------+-----------------+----------+--------------------+-------+--------------------+------------+-------------------+-------------------+--------------------+-------+\n",
      "only showing top 20 rows\n",
      "\n"
     ]
    }
   ],
   "execution_count": 6
  },
  {
   "metadata": {
    "ExecuteTime": {
     "end_time": "2025-01-12T17:09:06.809225Z",
     "start_time": "2025-01-12T17:09:05.233847Z"
    }
   },
   "cell_type": "code",
   "source": [
    "#Extract (from source database)\n",
    "df_user_newRead = spark.read \\\n",
    "    .format(\"jdbc\") \\\n",
    "    .option(\"driver\" , cc.get_Property(\"driver\")) \\\n",
    "    .option(\"url\", cc.create_jdbc()) \\\n",
    "    .option(\"dbtable\", \"velo_users\") \\\n",
    "    .option(\"user\", cc.get_Property(\"username\")) \\\n",
    "    .option(\"password\", cc.get_Property(\"password\")) \\\n",
    "    .option(\"partitionColumn\", \"userid\") \\\n",
    "    .option(\"numPartitions\", 4) \\\n",
    "    .option(\"lowerBound\", 0) \\\n",
    "    .option(\"upperBound\", 60000) \\\n",
    "    .load()\n",
    "\n",
    "df_subscription_newRead = spark.read \\\n",
    "    .format(\"jdbc\") \\\n",
    "    .option(\"driver\" , cc.get_Property(\"driver\")) \\\n",
    "    .option(\"url\", cc.create_jdbc()) \\\n",
    "    .option(\"dbtable\", \"Subscriptions\") \\\n",
    "    .option(\"user\", cc.get_Property(\"username\")) \\\n",
    "    .option(\"password\", cc.get_Property(\"password\")) \\\n",
    "    .option(\"partitionColumn\", \"userid\") \\\n",
    "    .option(\"numPartitions\", 4) \\\n",
    "    .option(\"lowerBound\", 0) \\\n",
    "    .option(\"upperBound\", 80000) \\\n",
    "    .load()\n",
    "\n",
    "df_subscription_type_newRead = spark.read \\\n",
    "    .format(\"jdbc\") \\\n",
    "    .option(\"driver\" , cc.get_Property(\"driver\")) \\\n",
    "    .option(\"url\", cc.create_jdbc()) \\\n",
    "    .option(\"dbtable\", \"Subscription_types\") \\\n",
    "    .option(\"user\", cc.get_Property(\"username\")) \\\n",
    "    .option(\"password\", cc.get_Property(\"password\")) \\\n",
    "    .load()\n",
    "\n",
    "df_user_newRead.createOrReplaceTempView(\"source_user_newRead\")\n",
    "df_subscription_newRead.createOrReplaceTempView(\"source_subscription_newRead\")\n",
    "df_subscription_type_newRead.createOrReplaceTempView(\"source_subscription_type_newRead\")\n",
    "\n",
    "df_dim_user_newRead= spark.sql(f\"select uuid() as source_user_SK,\\\n",
    "                                user.userid as source_userid, user.name as source_name, \\\n",
    "                                subscription.subscriptionid as source_subscriptionid, subscription_type.description as source_subscription_type, subscription.validfrom as source_valid_from,\\\n",
    "                                user.street as source_street, user.number as source_number, \\\n",
    "                                city as source_city, country_code as source_country_code,\\\n",
    "                                md5(concat(country_code, city, street, number)) as source_md5 \\\n",
    "                                from source_user_newRead as user\\\n",
    "                                join (select userid, max(validfrom) as last_validfrom from source_Subscription_newRead group by userid) as last_subscription on user.userid = last_subscription.userid\\\n",
    "                                join source_Subscription_newRead as subscription on subscription.userid = last_subscription.userid AND subscription.validfrom = last_subscription.last_validfrom\\\n",
    "                                join source_Subscription_type_newRead as subscription_type on subscription_type.subscriptiontypeid = subscription.subscriptiontypeid\")\n",
    "\n",
    "df_dim_user_newRead.createOrReplaceTempView(\"dimUser_new\")\n",
    "\n",
    "spark.sql(\"select * from dimUser_new\").show()\n"
   ],
   "id": "57cb31a81be6e0da",
   "outputs": [
    {
     "name": "stdout",
     "output_type": "stream",
     "text": [
      "+--------------------+-------------+-----------------+---------------------+------------------------+-----------------+--------------------+-------------+--------------------+-------------------+--------------------+\n",
      "|      source_user_SK|source_userid|      source_name|source_subscriptionid|source_subscription_type|source_valid_from|       source_street|source_number|         source_city|source_country_code|          source_md5|\n",
      "+--------------------+-------------+-----------------+---------------------+------------------------+-----------------+--------------------+-------------+--------------------+-------------------+--------------------+\n",
      "|f3cf547e-099d-437...|           12|     Simons Thijs|                   23|                    JAAR|       2023-10-20|         Bergenhoeve|      81 0302|Antwerpen/Berendr...|                 BE|185076a17fcae9054...|\n",
      "|cd6daae1-a505-4f6...|           13|       Groen Rens|                   24|                    JAAR|       2020-02-28|  Trompetvogelstraat|           1 | Merksem (Antwerpen)|                 BE|ca92ad4bc1a9f6b77...|\n",
      "|cfc4aeaf-314e-445...|           14|van der Veer Romy|                   25|                    JAAR|       2023-09-19|Prosper De Vochtlaan|         177 |    Kontich/Waarloos|                 BE|280f152d853969609...|\n",
      "|6ddccf7b-b1df-4f2...|           18|   Veldman Angela|                   29|                    JAAR|       2023-08-04|Emiel Van Hemeldo...|          93 |                Hove|                 BE|cf6f5ea33e2e22ebd...|\n",
      "|395ec386-88ce-490...|           25|     Blok Vincent|                   37|                     DAG|       2019-01-13|      Korenbloemlaan|         147 |             Schoten|                 BE|2a0af79e60b46e3e3...|\n",
      "|3b3a4ae3-664b-476...|           37|     Postma Niels|                   53|                    JAAR|       2022-08-02|        Visserstraat|      82 0602|  Burcht/Zwijndrecht|                 BE|6ce5c02ed168ff4fe...|\n",
      "|268f84e4-c6a4-499...|           38|    Peters Stefan|                   56|                   MAAND|       2022-11-17|    Kleinebeerstraat|          60 |           Antwerpen|                 BE|367d08f1953c0efed...|\n",
      "|4dca10d1-16dd-41d...|           46|      Baars Kevin|                   71|                    JAAR|       2023-12-30|            Keerbaan|         103 |Broechem/Emblem/O...|                 BE|29394c3a5b952908e...|\n",
      "|c51c46ce-4d93-4d1...|           50|  Venema Matthijs|                   76|                    JAAR|       2022-09-05|         Bollaakdijk|          31 |Broechem/Emblem/O...|                 BE|af2d93c07204d80c7...|\n",
      "|942298b1-e155-4a8...|           52|  van Egmond Niek|                   78|                    JAAR|       2019-05-07|     Nachtegalenlaan|      44 0006|                Hove|                 BE|829b46cfd0aefd815...|\n",
      "|31eec8a2-6087-48d...|           56|      Prins Elise|                   84|                    JAAR|       2021-12-25|      Jennevalstraat|         233 | Berchem (Antwerpen)|                 BE|7b70c8b72637f0499...|\n",
      "|f0a5e759-2500-495...|           65| van Rooijen Emma|                   95|                    JAAR|       2023-08-27|          Kerkstraat|         109 | Reet/Rumst/Terhagen|                 BE|d13f37ccd9922010c...|\n",
      "|5c822947-fb7b-4a7...|           67|    Verhoef Menno|                   99|                     DAG|       2018-12-30|  Henri Dunantstraat|         248 | Hoboken (Antwerpen)|                 BE|e24b3cb8595f74c0e...|\n",
      "|c3d074f5-8d1d-4da...|           70|     Wouters Joep|                  102|                    JAAR|       2018-01-08|Jan Frans Favelet...|         752 |Beveren-Waas/Haas...|                 BE|8567dea56e6ad830f...|\n",
      "|f3a4aa4e-dc6d-435...|           73| van Rijn Johanna|                  105|                    JAAR|       2019-04-23|          Mereldreef|          94 |s Gravenwezel/Sch...|                 BE|9c82cf5455d05264b...|\n",
      "|eb21fc55-b827-4c5...|           83|   Dekkers Casper|                  119|                    JAAR|       2018-05-06|Maria de Heeltstraat|      73 0103|  Deurne (Antwerpen)|                 BE|0b27a358402834b22...|\n",
      "|85b4d050-3ba3-444...|           93|  Kuijpers Simone|                  133|                    JAAR|       2022-08-05|          Kapellelei|      29 0706|             Mortsel|                 BE|58b9bea626102fce8...|\n",
      "|187f3808-c00c-4dd...|           95|   Verhagen Mandy|                  137|                    JAAR|       2021-08-28|         Hamerplaats|         121 |           Antwerpen|                 BE|e968ba38452d3e127...|\n",
      "|035e8427-0743-4dc...|           97|  Hendriks Carmen|                  139|                    JAAR|       2023-04-07|        Wisselstraat|       8 0901|s Gravenwezel/Sch...|                 BE|b591fa92d5a1a17a5...|\n",
      "|e7aa815c-d74f-472...|          101|     de Jager Isa|                  147|                     DAG|       2021-11-23|      Holsthumstraat|          88 |Bazel/Kruibeke/Ru...|                 BE|efcba650b7c93fa5a...|\n",
      "+--------------------+-------------+-----------------+---------------------+------------------------+-----------------+--------------------+-------------+--------------------+-------------------+--------------------+\n",
      "only showing top 20 rows\n",
      "\n"
     ]
    }
   ],
   "execution_count": 9
  },
  {
   "metadata": {
    "ExecuteTime": {
     "end_time": "2025-01-12T17:09:18.069862Z",
     "start_time": "2025-01-12T17:09:16.762605Z"
    }
   },
   "cell_type": "code",
   "source": [
    "##Transform\n",
    "#Detect changes\n",
    "detectedChanges = spark.sql(f\"select * from dimUser_new source\\\n",
    "                            left outer join dimUser_current dwh on dwh.userid = source.source_userid and dwh.current == TRUE  \\\n",
    "                            where dwh.userid is null\\\n",
    "                            or dwh.md5 <> source.source_md5\")\n",
    "\n",
    "detectedChanges.createOrReplaceTempView(\"detectedChanges\")\n",
    "\n",
    "#Note: zelf data aanpassen in db om dit te kunnen zien(update). Je kan ook nieuwe rij in de db toevoegen. (insert)\n",
    "detectedChanges.show()\n",
    "\n"
   ],
   "id": "cf30b0a12c9f69f3",
   "outputs": [
    {
     "name": "stdout",
     "output_type": "stream",
     "text": [
      "+--------------------+-------------+-----------+---------------------+------------------------+-----------------+-------------+-------------+-------------------+-------------------+--------------------+--------------------+------+--------+--------------+-----------------+----------+-------------+------+-------------------+------------+-------------------+-------------------+--------------------+-------+\n",
      "|      source_user_SK|source_userid|source_name|source_subscriptionid|source_subscription_type|source_valid_from|source_street|source_number|        source_city|source_country_code|          source_md5|             user_SK|userid|    name|subscriptionid|subscription_type|valid_from|       street|number|               city|country_code|          scd_start|            scd_end|                 md5|current|\n",
      "+--------------------+-------------+-----------+---------------------+------------------------+-----------------+-------------+-------------+-------------------+-------------------+--------------------+--------------------+------+--------+--------------+-----------------+----------+-------------+------+-------------------+------------+-------------------+-------------------+--------------------+-------+\n",
      "|e18e02e0-e9d7-4fa...|            9|   Smit Tim|                   16|                   MAAND|       2023-11-29|Bikschotelaan|           59|Berchem (Antwerpen)|                 BE|d8b0e23a5a49503b2...|0ec458bc-9bab-4b9...|     9|Smit Tim|            16|            MAAND|2023-11-29|Bikschotelaan|   60 |Berchem (Antwerpen)|          BE|1900-01-01 00:00:00|2100-12-12 00:00:00|674f288323be8a606...|   true|\n",
      "+--------------------+-------------+-----------+---------------------+------------------------+-----------------+-------------+-------------+-------------------+-------------------+--------------------+--------------------+------+--------+--------------+-----------------+----------+-------------+------+-------------------+------------+-------------------+-------------------+--------------------+-------+\n",
      "\n"
     ]
    }
   ],
   "execution_count": 10
  },
  {
   "metadata": {
    "ExecuteTime": {
     "end_time": "2025-01-12T17:09:26.713127Z",
     "start_time": "2025-01-12T17:09:24.621094Z"
    }
   },
   "cell_type": "code",
   "source": [
    "#Transform\n",
    "#upserts (updates and inserts)\n",
    "run_timestamp =datetime.now()\n",
    "\n",
    "df_upserts = spark.sql(f\"select source_user_SK as user_SK,\\\n",
    "                                source_userid as userid, source_name as name,\\\n",
    "                                source_subscriptionid as subscriptionid, source_subscription_type as subscription_type, source_valid_from as valid_from, \\\n",
    "                                source_street as street,source_number as number, source_city as city, source_country_code as country_code,\\\n",
    "                                to_timestamp('{run_timestamp}') as scd_start,\\\n",
    "                                to_timestamp('2100-12-12','yyyy-MM-dd') as scd_end,\\\n",
    "                                source_md5 as md5,\\\n",
    "                                True as current\\\n",
    "                        from detectedChanges\\\n",
    "                        union\\\n",
    "                        select user_SK,\\\n",
    "                                userid, name,\\\n",
    "                                subscriptionid, subscription_type, valid_from,\\\n",
    "                                street, number, city, country_code,\\\n",
    "                                scd_start,\\\n",
    "                                to_timestamp('{run_timestamp}') as scd_end,\\\n",
    "                                md5,\\\n",
    "                                false\\\n",
    "                        from detectedChanges\\\n",
    "                        where current is not null\")\n",
    "\n",
    "\n",
    "df_upserts.createOrReplaceTempView(\"upserts\")\n",
    "spark.sql(\"select * from upserts\").show()"
   ],
   "id": "1ce5163078f13bd7",
   "outputs": [
    {
     "name": "stdout",
     "output_type": "stream",
     "text": [
      "+--------------------+------+--------+--------------+-----------------+----------+-------------+------+-------------------+------------+--------------------+--------------------+--------------------+-------+\n",
      "|             user_SK|userid|    name|subscriptionid|subscription_type|valid_from|       street|number|               city|country_code|           scd_start|             scd_end|                 md5|current|\n",
      "+--------------------+------+--------+--------------+-----------------+----------+-------------+------+-------------------+------------+--------------------+--------------------+--------------------+-------+\n",
      "|f9b39b3c-0f68-40b...|     9|Smit Tim|            16|            MAAND|2023-11-29|Bikschotelaan|    59|Berchem (Antwerpen)|          BE|2025-01-12 18:09:...| 2100-12-12 00:00:00|d8b0e23a5a49503b2...|   true|\n",
      "|0ec458bc-9bab-4b9...|     9|Smit Tim|            16|            MAAND|2023-11-29|Bikschotelaan|   60 |Berchem (Antwerpen)|          BE| 1900-01-01 00:00:00|2025-01-12 18:09:...|674f288323be8a606...|  false|\n",
      "+--------------------+------+--------+--------------+-----------------+----------+-------------+------+-------------------+------------+--------------------+--------------------+--------------------+-------+\n",
      "\n"
     ]
    }
   ],
   "execution_count": 11
  },
  {
   "metadata": {
    "ExecuteTime": {
     "end_time": "2025-01-12T17:09:38.010501Z",
     "start_time": "2025-01-12T17:09:31.861931Z"
    }
   },
   "cell_type": "code",
   "source": [
    "#Load\n",
    "##Merge (changes into current data warehouse)\n",
    "spark.sql(f\"MERGE INTO dimUser_current as target \\\n",
    "          using upserts as source ON target.userid = source.userid and source.current = false and target.current = true \\\n",
    "          WHEN MATCHED THEN UPDATE SET scd_end = source.scd_end, current = source.current \\\n",
    "          WHEN NOT MATCHED THEN INSERT (user_SK, userid, name, subscriptionid, subscription_type, valid_from, street, number, city, country_code, scd_start, scd_end, md5, current) values \\\n",
    "          (source.user_SK, source.userid, source.name, source.subscriptionid, source.subscription_type, source.valid_from,source.street, source.number, source.city, source.country_code, source.scd_start, source.scd_end, source.md5, source.current)\")\n",
    "#Matched is when the current is set to false (new record)\n",
    "#Not matched is for the new records\n",
    "\n",
    "dt_dimUser.toDF().sort(\"userId\", \"scd_start\").show(100)"
   ],
   "id": "61158fae66221c64",
   "outputs": [
    {
     "name": "stdout",
     "output_type": "stream",
     "text": [
      "+--------------------+------+--------------------+--------------+-----------------+----------+--------------------+--------+--------------------+------------+--------------------+--------------------+--------------------+-------+\n",
      "|             user_SK|userid|                name|subscriptionid|subscription_type|valid_from|              street|  number|                city|country_code|           scd_start|             scd_end|                 md5|current|\n",
      "+--------------------+------+--------------------+--------------+-----------------+----------+--------------------+--------+--------------------+------------+--------------------+--------------------+--------------------+-------+\n",
      "|0e1f50c7-69a1-42b...|     1|         Bouman Lars|             3|              DAG|2020-12-14|         Somméstraat|    155 |           Antwerpen|          BE| 1900-01-01 00:00:00| 2100-12-12 00:00:00|6ad982e1b845c5b41...|   true|\n",
      "|6e5081b9-7ec9-459...|     2|   van der Zee Julia|             4|            MAAND|2021-10-05|          Europalaan|     42 | Wilrijk (Antwerpen)|          BE| 1900-01-01 00:00:00| 2100-12-12 00:00:00|54c8ce72c26bb4673...|   true|\n",
      "|e30b0089-261b-468...|     3|     de Boer Ricardo|             5|             JAAR|2022-09-17|   Maria Clarastraat|    81  |           Wommelgem|          BE| 1900-01-01 00:00:00| 2100-12-12 00:00:00|5a5873904c676d505...|   true|\n",
      "|794d1fb9-8e5d-47c...|     4|      Willems Angela|             6|              DAG|2019-04-08|Graaf Joseph de P...|     16 |             Schoten|          BE| 1900-01-01 00:00:00| 2100-12-12 00:00:00|8c9a750bba1918ffc...|   true|\n",
      "|2270dc7f-b112-413...|     5|    Heijnen Patricia|             7|             JAAR|2022-05-16|          Meylstraat|    112 |                Hove|          BE| 1900-01-01 00:00:00| 2100-12-12 00:00:00|0f7d190f5caa16e7c...|   true|\n",
      "|1c8603ac-e076-488...|     6|      Driessen Anouk|            10|             JAAR|2023-12-31|   Jan Ockegemstraat|168 0107|              Edegem|          BE| 1900-01-01 00:00:00| 2100-12-12 00:00:00|8deeffa62efa4aa9c...|   true|\n",
      "|0f95c033-507a-431...|     7|      Dijkstra Frank|            11|            MAAND|2021-12-01|        Klamperdreef|    153 |             Schoten|          BE| 1900-01-01 00:00:00| 2100-12-12 00:00:00|c14027ed8b727ae8f...|   true|\n",
      "|f7de2334-2cbd-4e6...|     8|  den Hartog Suzanne|            13|             JAAR|2023-11-26|      Kolibriestraat|       1| Merksem (Antwerpen)|          BE| 1900-01-01 00:00:00| 2100-12-12 00:00:00|15524d86faa71d002...|   true|\n",
      "|0ec458bc-9bab-4b9...|     9|            Smit Tim|            16|            MAAND|2023-11-29|       Bikschotelaan|     60 | Berchem (Antwerpen)|          BE| 1900-01-01 00:00:00|2025-01-12 18:09:...|674f288323be8a606...|  false|\n",
      "|f9b39b3c-0f68-40b...|     9|            Smit Tim|            16|            MAAND|2023-11-29|       Bikschotelaan|      59| Berchem (Antwerpen)|          BE|2025-01-12 18:09:...| 2100-12-12 00:00:00|d8b0e23a5a49503b2...|   true|\n",
      "|082b2288-2ed0-457...|    10|van der Steen Carmen|            19|             JAAR|2021-12-27|          Benzineweg|    137 |           Antwerpen|          BE| 1900-01-01 00:00:00| 2100-12-12 00:00:00|36ec28378d3ae9113...|   true|\n",
      "|aac97281-8986-4ed...|    11| de Ruijter Daniëlle|            20|            MAAND|2023-02-02|      Leo Metsstraat| 21 0905|  Burcht/Zwijndrecht|          BE| 1900-01-01 00:00:00| 2100-12-12 00:00:00|7a2554d223d0868ca...|   true|\n",
      "|92fc2679-adc9-431...|    12|        Simons Thijs|            23|             JAAR|2023-10-20|         Bergenhoeve| 81 0302|Antwerpen/Berendr...|          BE| 1900-01-01 00:00:00| 2100-12-12 00:00:00|185076a17fcae9054...|   true|\n",
      "|adf38d31-eb12-42a...|    13|          Groen Rens|            24|             JAAR|2020-02-28|  Trompetvogelstraat|      1 | Merksem (Antwerpen)|          BE| 1900-01-01 00:00:00| 2100-12-12 00:00:00|ca92ad4bc1a9f6b77...|   true|\n",
      "|e8c00d9d-2be9-46b...|    14|   van der Veer Romy|            25|             JAAR|2023-09-19|Prosper De Vochtlaan|    177 |    Kontich/Waarloos|          BE| 1900-01-01 00:00:00| 2100-12-12 00:00:00|280f152d853969609...|   true|\n",
      "|a5c603be-684d-433...|    15|           Hoek Emma|            26|             JAAR|2018-07-14|    John Kennedylaan|  9 0801|Broechem/Emblem/O...|          BE| 1900-01-01 00:00:00| 2100-12-12 00:00:00|28cd3077a210759f0...|   true|\n",
      "|5a604017-0951-46e...|    16|     Stevens Suzanne|            27|            MAAND|2020-01-15|              Wijk 2| 19 0802|              Vremde|          BE| 1900-01-01 00:00:00| 2100-12-12 00:00:00|79f50eee141212b78...|   true|\n",
      "|67b9c43e-6698-4ec...|    17|van den Bosch Rutger|            28|              DAG|2020-03-10|       Schoggestraat|     73 |  Deurne (Antwerpen)|          BE| 1900-01-01 00:00:00| 2100-12-12 00:00:00|8ebf865dc376ee404...|   true|\n",
      "|3e472e89-5d0b-45c...|    18|      Veldman Angela|            29|             JAAR|2023-08-04|Emiel Van Hemeldo...|     93 |                Hove|          BE| 1900-01-01 00:00:00| 2100-12-12 00:00:00|cf6f5ea33e2e22ebd...|   true|\n",
      "|54c65cff-bdf8-4ee...|    19|     Bakker Daniëlle|            30|             JAAR|2019-10-15|            Fortbaan|     88 |           Wommelgem|          BE| 1900-01-01 00:00:00| 2100-12-12 00:00:00|769b790e97ed48355...|   true|\n",
      "|510e9e30-dccf-467...|    20|      Vink Elisabeth|            31|             JAAR|2018-01-22|  Joseph Wateletlaan|100 0403|           Wommelgem|          BE| 1900-01-01 00:00:00| 2100-12-12 00:00:00|f197efc9d56598d2c...|   true|\n",
      "|d9816d60-b2d2-428...|    21|        Muller Simon|            32|              DAG|2018-10-29|    Montevideostraat|     87 |           Antwerpen|          BE| 1900-01-01 00:00:00| 2100-12-12 00:00:00|c9c80e99da19cd0f1...|   true|\n",
      "|ef00541b-c6c4-4d2...|    22|     Dijkstra Justin|            33|            MAAND|2018-11-17|Joseph Van Hellem...|    129 |              Vremde|          BE| 1900-01-01 00:00:00| 2100-12-12 00:00:00|b463fc25a19958a45...|   true|\n",
      "|655adddf-1cd0-434...|    23|     Gerrits Marleen|            35|              DAG|2021-12-20|Floris de Cuijper...|     70 |             Mortsel|          BE| 1900-01-01 00:00:00| 2100-12-12 00:00:00|1e5dfe8010e4e907c...|   true|\n",
      "|015bf73d-52f8-4f0...|    24|        Schepers Roy|            36|             JAAR|2019-08-13|Camille Huysmanslaan|     14 |           Antwerpen|          BE| 1900-01-01 00:00:00| 2100-12-12 00:00:00|a2bee355cce6a80a6...|   true|\n",
      "|8a740de1-6927-4fc...|    25|        Blok Vincent|            37|              DAG|2019-01-13|      Korenbloemlaan|    147 |             Schoten|          BE| 1900-01-01 00:00:00| 2100-12-12 00:00:00|2a0af79e60b46e3e3...|   true|\n",
      "|88945ae3-192b-469...|    26|    van Velzen Joris|            40|            MAAND|2023-12-18|     Rijkerooistraat|117 0901|    Kontich/Waarloos|          BE| 1900-01-01 00:00:00| 2100-12-12 00:00:00|e58483cd4d7a39bf1...|   true|\n",
      "|843d0970-9d99-496...|    27|   Terpstra Jonathan|            41|             JAAR|2018-06-29|          Wilgenlaan|    364 |           Wommelgem|          BE| 1900-01-01 00:00:00| 2100-12-12 00:00:00|cf928e24a1c3b1965...|   true|\n",
      "|cf924edb-4e12-477...|    28|       de Groot Ilse|            42|              DAG|2021-05-14|          Asberglaan|    281 |            Boechout|          BE| 1900-01-01 00:00:00| 2100-12-12 00:00:00|11841de1ce83a74fd...|   true|\n",
      "|4a5d36a5-8fe0-4b4...|    29|        Brinkman Eva|            44|            MAAND|2023-05-18|         Middelkaart|170 0902|          Brasschaat|          BE| 1900-01-01 00:00:00| 2100-12-12 00:00:00|4afd1ade4699f9a73...|   true|\n",
      "|9a6703c5-e27a-45c...|    30|           Boer René|            45|             JAAR|2023-06-20|         Douglaslaan|181 0907|Massenhoven/Viers...|          BE| 1900-01-01 00:00:00| 2100-12-12 00:00:00|12511eb0e95a3a4c2...|   true|\n",
      "|4c41f505-c266-463...|    31|      Verheijen Rens|            46|              DAG|2020-10-23|        Dinantstraat|119 0103|           Antwerpen|          BE| 1900-01-01 00:00:00| 2100-12-12 00:00:00|25af23f6cdfd31ed5...|   true|\n",
      "|83f3b676-c5e7-47f...|    32|        Martens Sven|            47|              DAG|2023-02-13|     Alice Nahonlaan|164 0203|  Burcht/Zwijndrecht|          BE| 1900-01-01 00:00:00| 2100-12-12 00:00:00|5680008e75bd13423...|   true|\n",
      "|2cf95e5d-551a-4c8...|    33|      Hendriks Tessa|            48|             JAAR|2021-04-22|          Erikadreef|    528 |             Schoten|          BE| 1900-01-01 00:00:00| 2100-12-12 00:00:00|30849cbb92fb33800...|   true|\n",
      "|c1c68ae3-c373-41e...|    34|        Janssen Sven|            49|             JAAR|2021-12-11|     Cretenborchlaan|    121 |Beveren-Waas/Haas...|          BE| 1900-01-01 00:00:00| 2100-12-12 00:00:00|64dadda85e213672f...|   true|\n",
      "|b5f74655-8e7b-464...|    35|     van Rijn Daphne|            50|             JAAR|2021-04-05|           Cogelslei| 69 0304|             Mortsel|          BE| 1900-01-01 00:00:00| 2100-12-12 00:00:00|db64533f80a5f7c59...|   true|\n",
      "|f1789c16-d41a-464...|    36| van den Bos Jacobus|            52|             JAAR|2022-11-23|            Elzasweg|     90 |           Antwerpen|          BE| 1900-01-01 00:00:00| 2100-12-12 00:00:00|e0f00f1acaa08b999...|   true|\n",
      "|a2a2764c-8cea-49b...|    37|        Postma Niels|            53|             JAAR|2022-08-02|        Visserstraat| 82 0602|  Burcht/Zwijndrecht|          BE| 1900-01-01 00:00:00| 2100-12-12 00:00:00|6ce5c02ed168ff4fe...|   true|\n",
      "|c5a013f1-b8d2-4db...|    38|       Peters Stefan|            56|            MAAND|2022-11-17|    Kleinebeerstraat|     60 |           Antwerpen|          BE| 1900-01-01 00:00:00| 2100-12-12 00:00:00|367d08f1953c0efed...|   true|\n",
      "|839bb11d-8759-484...|    39|        Snijders Max|            59|            MAAND|2022-10-31|Jacob Jordaensstraat|613 0306|             Schoten|          BE| 1900-01-01 00:00:00| 2100-12-12 00:00:00|462e3f10f18c21ab7...|   true|\n",
      "|5b401cf3-c769-447...|    40|   van der Laan Nick|            60|             JAAR|2022-07-31|           Salielaan|    184 |Broechem/Emblem/O...|          BE| 1900-01-01 00:00:00| 2100-12-12 00:00:00|6c9a0040ea40cb62d...|   true|\n",
      "|a2f5f50e-5f3e-43b...|    41|van den Heuvel St...|            62|             JAAR|2022-11-14|       Vuurkruislaan|    102 | Wilrijk (Antwerpen)|          BE| 1900-01-01 00:00:00| 2100-12-12 00:00:00|eb3b0c522f1c7ccb3...|   true|\n",
      "|495add9c-8c35-46f...|    42|  van der Velden Tom|            63|             JAAR|2023-11-11|         Beemdenlaan|    353 |             Schoten|          BE| 1900-01-01 00:00:00| 2100-12-12 00:00:00|85fd1ac59781a44d6...|   true|\n",
      "|c95955ca-d00f-4de...|    43|      Bos Wilhelmina|            65|              DAG|2020-03-26|          Rostockweg|698 0705|           Antwerpen|          BE| 1900-01-01 00:00:00| 2100-12-12 00:00:00|96d4624767018ec7e...|   true|\n",
      "|912f2421-6b49-4e8...|    44|  de Vries Alexander|            66|             JAAR|2019-09-29|            Rauwaard|139 0603|    Kontich/Waarloos|          BE| 1900-01-01 00:00:00| 2100-12-12 00:00:00|2bdcd34ef4e1da714...|   true|\n",
      "|bd178568-bea7-4e5...|    45|    de Lange Danique|            68|             JAAR|2022-03-28|     Violierenstraat|     40 |Beveren-Waas/Haas...|          BE| 1900-01-01 00:00:00| 2100-12-12 00:00:00|a2299eb0d4b313450...|   true|\n",
      "|15fc6132-e4af-46a...|    46|         Baars Kevin|            71|             JAAR|2023-12-30|            Keerbaan|    103 |Broechem/Emblem/O...|          BE| 1900-01-01 00:00:00| 2100-12-12 00:00:00|29394c3a5b952908e...|   true|\n",
      "|123692e1-9e1b-4e5...|    47| van den Bosch Esmée|            72|             JAAR|2019-01-19|         Dorpsstraat|134 0905|             Mortsel|          BE| 1900-01-01 00:00:00| 2100-12-12 00:00:00|085dcf92dfb6fa986...|   true|\n",
      "|85209430-7d0e-473...|    48|         Post Martin|            74|              DAG|2022-11-23|Jozef Posenaerstraat|  2 0207|Borgerhout (Antwe...|          BE| 1900-01-01 00:00:00| 2100-12-12 00:00:00|19eb73d959cb93438...|   true|\n",
      "|ab3e7399-76e7-441...|    49|        Vermeer Vera|            75|              DAG|2020-08-29|            Vaartweg|184 0707|  Deurne (Antwerpen)|          BE| 1900-01-01 00:00:00| 2100-12-12 00:00:00|240d5a7daa72c3b03...|   true|\n",
      "|bbd42d15-24d2-480...|    50|     Venema Matthijs|            76|             JAAR|2022-09-05|         Bollaakdijk|     31 |Broechem/Emblem/O...|          BE| 1900-01-01 00:00:00| 2100-12-12 00:00:00|af2d93c07204d80c7...|   true|\n",
      "|4f368069-5bbb-45d...|    51|         Faber Joris|            77|             JAAR|2021-06-24|          Janssenlei|     55 |            Boechout|          BE| 1900-01-01 00:00:00| 2100-12-12 00:00:00|390b3c4a04685b5c3...|   true|\n",
      "|3c028272-1226-4a2...|    52|     van Egmond Niek|            78|             JAAR|2019-05-07|     Nachtegalenlaan| 44 0006|                Hove|          BE| 1900-01-01 00:00:00| 2100-12-12 00:00:00|829b46cfd0aefd815...|   true|\n",
      "|9a518415-3b94-485...|    53|           Klein Rik|            79|             JAAR|2022-01-06|        Kanaalstraat|    537 |Broechem/Emblem/O...|          BE| 1900-01-01 00:00:00| 2100-12-12 00:00:00|b1e9a1b0ca3670b91...|   true|\n",
      "|9b3bd350-73d5-457...|    54|van der Horst Maaike|            80|             JAAR|2023-05-10|Frans De Peuterst...|159 0105|    Kapellen (Antw.)|          BE| 1900-01-01 00:00:00| 2100-12-12 00:00:00|89257e342e2503b80...|   true|\n",
      "|587949e4-064e-42f...|    55|       Geurts Pieter|            83|             JAAR|2019-08-31|Falco de Lampagne...|     91 |           Antwerpen|          BE| 1900-01-01 00:00:00| 2100-12-12 00:00:00|14548834814000a9d...|   true|\n",
      "|1b40d984-3486-431...|    56|         Prins Elise|            84|             JAAR|2021-12-25|      Jennevalstraat|    233 | Berchem (Antwerpen)|          BE| 1900-01-01 00:00:00| 2100-12-12 00:00:00|7b70c8b72637f0499...|   true|\n",
      "|2311215b-ac29-4b0...|    57|       van Eijk Timo|            85|            MAAND|2022-04-10|        De Morrekens|     21 |                Niel|          BE| 1900-01-01 00:00:00| 2100-12-12 00:00:00|acc603f38362b2cec...|   true|\n",
      "|a3e60c81-c4e2-48c...|    58|  van Rooij Jennifer|            86|            MAAND|2020-05-14|        De Moystraat|    193 |           Antwerpen|          BE| 1900-01-01 00:00:00| 2100-12-12 00:00:00|8d8fa961897e8138d...|   true|\n",
      "|447a6f02-ca33-4c2...|    59|     van Velzen Leon|            87|             JAAR|2020-05-13|          Elzestraat|    256 |Beveren-Waas/Haas...|          BE| 1900-01-01 00:00:00| 2100-12-12 00:00:00|7757aca04e9c54ae1...|   true|\n",
      "|bcca7452-04e8-43d...|    60|   Schipper Bastiaan|            88|             JAAR|2021-08-10|      De Sossastraat|     81 |  Deurne (Antwerpen)|          BE| 1900-01-01 00:00:00| 2100-12-12 00:00:00|1c6c1a3d966b6cf1c...|   true|\n",
      "|2c2ff20e-8c78-4ff...|    61|van Leeuwen Samantha|            90|             JAAR|2023-10-21|            De Kluis|    122 |s Gravenwezel/Sch...|          BE| 1900-01-01 00:00:00| 2100-12-12 00:00:00|70aefacb7abacc578...|   true|\n",
      "|fbe20076-fbae-491...|    62|       Joosten Bryan|            91|              DAG|2021-02-02|         Peperstraat|     66 |             Schelle|          BE| 1900-01-01 00:00:00| 2100-12-12 00:00:00|856e9407d3ecd1654...|   true|\n",
      "|8cd1f24b-1c4d-43a...|    63|      Stevens Sandra|            92|            MAAND|2020-07-21|          Steenakker|223 0308|    Kontich/Waarloos|          BE| 1900-01-01 00:00:00| 2100-12-12 00:00:00|8d0dbd8a9e16fe416...|   true|\n",
      "|a6eb21b7-7c46-4bb...|    64|  van Rooijen Wouter|            94|             JAAR|2022-11-28|         Bergendreef|197 0006|s Gravenwezel/Sch...|          BE| 1900-01-01 00:00:00| 2100-12-12 00:00:00|3874a1595f36daa30...|   true|\n",
      "|40c34ff6-73e2-433...|    65|    van Rooijen Emma|            95|             JAAR|2023-08-27|          Kerkstraat|    109 | Reet/Rumst/Terhagen|          BE| 1900-01-01 00:00:00| 2100-12-12 00:00:00|d13f37ccd9922010c...|   true|\n",
      "|cc651d15-5474-4dc...|    66|        Hoekstra Rob|            98|             JAAR|2023-12-25|      Warschaustraat|    508 | Hoboken (Antwerpen)|          BE| 1900-01-01 00:00:00| 2100-12-12 00:00:00|5f6896ea2861f7492...|   true|\n",
      "|b24237ab-9ecd-469...|    67|       Verhoef Menno|            99|              DAG|2018-12-30|  Henri Dunantstraat|    248 | Hoboken (Antwerpen)|          BE| 1900-01-01 00:00:00| 2100-12-12 00:00:00|e24b3cb8595f74c0e...|   true|\n",
      "|e21c48e2-d633-445...|    68|          Kroon Vera|           100|             JAAR|2022-11-05|   Blauwesteenstraat|     17 |    Kontich/Waarloos|          BE| 1900-01-01 00:00:00| 2100-12-12 00:00:00|36d6a7eda50394fe8...|   true|\n",
      "|904d7162-3ca8-48b...|    69|    Roelofs Jennifer|           101|             JAAR|2021-10-02| Steenberghoekstraat|     57 | Reet/Rumst/Terhagen|          BE| 1900-01-01 00:00:00| 2100-12-12 00:00:00|050dd399575f8a136...|   true|\n",
      "|86d93f6c-32cf-490...|    70|        Wouters Joep|           102|             JAAR|2018-01-08|Jan Frans Favelet...|    752 |Beveren-Waas/Haas...|          BE| 1900-01-01 00:00:00| 2100-12-12 00:00:00|8567dea56e6ad830f...|   true|\n",
      "|7a54b602-58d7-43e...|    71|    Simons Charlotte|           103|             JAAR|2020-03-17|      Veldovenstraat|      6 |                Niel|          BE| 1900-01-01 00:00:00| 2100-12-12 00:00:00|eb7e267d0b220f318...|   true|\n",
      "|fa728028-ca42-49d...|    72|     Rutten Jennifer|           104|             JAAR|2023-11-05|    Sint-Jozefstraat|     31 |           Antwerpen|          BE| 1900-01-01 00:00:00| 2100-12-12 00:00:00|5a62318d5a89d086a...|   true|\n",
      "|197c1afb-b790-4a0...|    73|    van Rijn Johanna|           105|             JAAR|2019-04-23|          Mereldreef|     94 |s Gravenwezel/Sch...|          BE| 1900-01-01 00:00:00| 2100-12-12 00:00:00|9c82cf5455d05264b...|   true|\n",
      "|cc25f858-b4c3-414...|    74|          Postma Noa|           106|             JAAR|2023-12-09|      Boereveldseweg| 28 0104|  Burcht/Zwijndrecht|          BE| 1900-01-01 00:00:00| 2100-12-12 00:00:00|1a5f1bd42844c86c5...|   true|\n",
      "|7eb0e0eb-1a52-4b4...|    75| van Lieshout Julian|           107|            MAAND|2021-08-25|          Nothomblei|    116 |          Brasschaat|          BE| 1900-01-01 00:00:00| 2100-12-12 00:00:00|9417af3b6f034f9aa...|   true|\n",
      "|cb13c33d-4fb0-4be...|    76| de Bruin Wilhelmina|           108|             JAAR|2020-07-12|            Peedreef| 76 0506|    Kapellen (Antw.)|          BE| 1900-01-01 00:00:00| 2100-12-12 00:00:00|0a93546e00169a93b...|   true|\n",
      "|d1b213ba-c50a-474...|    77|          Prins Joey|           110|             JAAR|2023-07-28|          Luikstraat|     72 |           Antwerpen|          BE| 1900-01-01 00:00:00| 2100-12-12 00:00:00|41a391f64db0dfaa8...|   true|\n",
      "|5b49a8cf-dcd3-459...|    78|  van den Bosch Iris|           111|             JAAR|2023-09-17|        Klein Heiken|    192 |    Kapellen (Antw.)|          BE| 1900-01-01 00:00:00| 2100-12-12 00:00:00|de253223730b567c2...|   true|\n",
      "|4c4a94dd-2f49-40e...|    79|     Baars Alexander|           112|             JAAR|2020-01-12|         Bollaakdijk|    115 |Broechem/Emblem/O...|          BE| 1900-01-01 00:00:00| 2100-12-12 00:00:00|b9b9c485275308ae9...|   true|\n",
      "|88fe9393-d257-4f5...|    80|     Visser Patricia|           113|             JAAR|2018-09-26|          Wouwstraat|    364 |                Hove|          BE| 1900-01-01 00:00:00| 2100-12-12 00:00:00|ad3720091450c1833...|   true|\n",
      "|586018ae-fbe3-47d...|    81|  van der Meer Jordi|           116|             JAAR|2023-09-16|           Tenenveld|    122 | Wilrijk (Antwerpen)|          BE| 1900-01-01 00:00:00| 2100-12-12 00:00:00|968845ea6cc816017...|   true|\n",
      "|5982052e-9336-4f4...|    82|    van Rooij Rachel|           118|             JAAR|2020-12-18|    Hagepredikerspad|    139 | Berchem (Antwerpen)|          BE| 1900-01-01 00:00:00| 2100-12-12 00:00:00|ff500ccbefd10653c...|   true|\n",
      "|7854bb21-bc03-46d...|    83|      Dekkers Casper|           119|             JAAR|2018-05-06|Maria de Heeltstraat| 73 0103|  Deurne (Antwerpen)|          BE| 1900-01-01 00:00:00| 2100-12-12 00:00:00|0b27a358402834b22...|   true|\n",
      "|e6e73831-4f34-409...|    84|       Boersma Jordi|           122|              DAG|2022-08-19|   Sint-Gummarusveld|    616 |Broechem/Emblem/O...|          BE| 1900-01-01 00:00:00| 2100-12-12 00:00:00|5d360f73b9f87c5d3...|   true|\n",
      "|8e2ce0f3-6523-439...|    85|      van Gils Sarah|           123|              DAG|2022-03-08|    Alfred Oststraat|    224 |  Burcht/Zwijndrecht|          BE| 1900-01-01 00:00:00| 2100-12-12 00:00:00|775144d4ca92f1765...|   true|\n",
      "|b6ab027b-60dd-471...|    86|       Kuijpers Emma|           124|             JAAR|2020-06-15|              Vesten|     78 |Beveren-Waas/Haas...|          BE| 1900-01-01 00:00:00| 2100-12-12 00:00:00|49bb4959f55eed51c...|   true|\n",
      "|cccd2896-7451-479...|    87|         Joosten Rik|           125|              DAG|2022-12-24|       Ruytermansweg|153 0802|Antwerpen/Berendr...|          BE| 1900-01-01 00:00:00| 2100-12-12 00:00:00|2b841009dad526fa3...|   true|\n",
      "|c87f317c-6e2b-4d3...|    88|     Wiersma Michael|           126|             JAAR|2019-10-05|          Beekstraat|    316 |Bazel/Kruibeke/Ru...|          BE| 1900-01-01 00:00:00| 2100-12-12 00:00:00|8905faa0bd2e6d866...|   true|\n",
      "|ce24ee9a-dc6e-454...|    89|        Faber Nienke|           127|             JAAR|2020-09-05|Generaal Belliard...|      5 |           Antwerpen|          BE| 1900-01-01 00:00:00| 2100-12-12 00:00:00|8f7a4ef0321b93ec0...|   true|\n",
      "|d431215b-9154-417...|    90|       Timmerman Rob|           130|             JAAR|2022-11-29|Pieter De Ridders...| 34 0307|  Deurne (Antwerpen)|          BE| 1900-01-01 00:00:00| 2100-12-12 00:00:00|994dfd6a5ebf17288...|   true|\n",
      "|c07a3391-b516-408...|    91|         Bosma Jordy|           131|             JAAR|2020-07-16|Lodewijk Gerritslaan|    194 | Berchem (Antwerpen)|          BE| 1900-01-01 00:00:00| 2100-12-12 00:00:00|3cba00b036c2e5576...|   true|\n",
      "|79d15c48-1c1a-440...|    92|     Smulders Sjoerd|           132|              DAG|2021-01-01|       Jezuïetenlaan|     10 | Wilrijk (Antwerpen)|          BE| 1900-01-01 00:00:00| 2100-12-12 00:00:00|35d30fa7b0c489303...|   true|\n",
      "|78b6a7c7-92ff-4b2...|    93|     Kuijpers Simone|           133|             JAAR|2022-08-05|          Kapellelei| 29 0706|             Mortsel|          BE| 1900-01-01 00:00:00| 2100-12-12 00:00:00|58b9bea626102fce8...|   true|\n",
      "|1a05d6e0-75d1-452...|    94|   van Dalen Melanie|           135|            MAAND|2018-12-11|         De Biesaard|     17 |s Gravenwezel/Sch...|          BE| 1900-01-01 00:00:00| 2100-12-12 00:00:00|15445ee0af2e0b9c5...|   true|\n",
      "|d95b4e25-18f0-47e...|    95|      Verhagen Mandy|           137|             JAAR|2021-08-28|         Hamerplaats|    121 |           Antwerpen|          BE| 1900-01-01 00:00:00| 2100-12-12 00:00:00|e968ba38452d3e127...|   true|\n",
      "|01c7f54e-d72d-4c0...|    96|  van den Akker Nick|           138|              DAG|2023-12-22|            Guyotlei|    106 |    Kapellen (Antw.)|          BE| 1900-01-01 00:00:00| 2100-12-12 00:00:00|7cd00216e42842bbd...|   true|\n",
      "|e80e685a-9eb5-45d...|    97|     Hendriks Carmen|           139|             JAAR|2023-04-07|        Wisselstraat|  8 0901|s Gravenwezel/Sch...|          BE| 1900-01-01 00:00:00| 2100-12-12 00:00:00|b591fa92d5a1a17a5...|   true|\n",
      "|cfae632d-ef7e-445...|    98|      Franken Yvonne|           142|              DAG|2023-12-26|         Bellestraat|134 0206|           Antwerpen|          BE| 1900-01-01 00:00:00| 2100-12-12 00:00:00|bc54a27906221bcc2...|   true|\n",
      "|37054448-dafa-43b...|    99|      Terpstra Manon|           143|             JAAR|2021-08-20|   Joe Englishstraat| 95 0102|Borgerhout (Antwe...|          BE| 1900-01-01 00:00:00| 2100-12-12 00:00:00|8a228bc1889d1b0b1...|   true|\n",
      "+--------------------+------+--------------------+--------------+-----------------+----------+--------------------+--------+--------------------+------------+--------------------+--------------------+--------------------+-------+\n",
      "only showing top 100 rows\n",
      "\n"
     ]
    }
   ],
   "execution_count": 12
  },
  {
   "metadata": {},
   "cell_type": "markdown",
   "source": "# Stoppen van Local Cluster",
   "id": "3e65d0006d877e37"
  },
  {
   "metadata": {
    "ExecuteTime": {
     "end_time": "2025-01-12T17:09:49.420377Z",
     "start_time": "2025-01-12T17:09:49.060352Z"
    }
   },
   "cell_type": "code",
   "source": "spark.stop()",
   "id": "a1fcb336fdc0eda",
   "outputs": [],
   "execution_count": 13
  }
 ],
 "metadata": {
  "kernelspec": {
   "display_name": "Python 3",
   "language": "python",
   "name": "python3"
  },
  "language_info": {
   "codemirror_mode": {
    "name": "ipython",
    "version": 2
   },
   "file_extension": ".py",
   "mimetype": "text/x-python",
   "name": "python",
   "nbconvert_exporter": "python",
   "pygments_lexer": "ipython2",
   "version": "2.7.6"
  }
 },
 "nbformat": 4,
 "nbformat_minor": 5
}
