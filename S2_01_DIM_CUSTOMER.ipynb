{
 "cells": [
  {
   "metadata": {},
   "cell_type": "markdown",
   "source": "# Config",
   "id": "cfed88684309cb63"
  },
  {
   "cell_type": "code",
   "id": "initial_id",
   "metadata": {
    "collapsed": true,
    "ExecuteTime": {
     "end_time": "2024-12-24T15:05:34.153876Z",
     "start_time": "2024-12-24T15:05:33.963051Z"
    }
   },
   "source": [
    "from delta import DeltaTable\n",
    "from datetime import datetime\n",
    "\n",
    "import ConnectionConfig as cc\n",
    "cc.setupEnvironment()"
   ],
   "outputs": [],
   "execution_count": 1
  },
  {
   "metadata": {},
   "cell_type": "markdown",
   "source": "# Start local cluster",
   "id": "f077cfe4890468a7"
  },
  {
   "metadata": {
    "ExecuteTime": {
     "end_time": "2024-12-24T15:05:43.609609Z",
     "start_time": "2024-12-24T15:05:36.269101Z"
    }
   },
   "cell_type": "code",
   "source": [
    "spark = cc.startLocalCluster(\"DIM_CUSTOMER\")\n",
    "spark.getActiveSession()"
   ],
   "id": "fd39d484a89996e2",
   "outputs": [
    {
     "data": {
      "text/plain": [
       "<pyspark.sql.session.SparkSession at 0x1a4b76eba90>"
      ],
      "text/html": [
       "\n",
       "            <div>\n",
       "                <p><b>SparkSession - in-memory</b></p>\n",
       "                \n",
       "        <div>\n",
       "            <p><b>SparkContext</b></p>\n",
       "\n",
       "            <p><a href=\"http://127.0.0.1:4040\">Spark UI</a></p>\n",
       "\n",
       "            <dl>\n",
       "              <dt>Version</dt>\n",
       "                <dd><code>v3.5.2</code></dd>\n",
       "              <dt>Master</dt>\n",
       "                <dd><code>local[*]</code></dd>\n",
       "              <dt>AppName</dt>\n",
       "                <dd><code>DIM_CUSTOMER</code></dd>\n",
       "            </dl>\n",
       "        </div>\n",
       "        \n",
       "            </div>\n",
       "        "
      ]
     },
     "execution_count": 2,
     "metadata": {},
     "output_type": "execute_result"
    }
   ],
   "execution_count": 2
  },
  {
   "metadata": {},
   "cell_type": "markdown",
   "source": "# Ophalen van gegevens (en opslaan in data warehouse)",
   "id": "3cfa02ba71699c4b"
  },
  {
   "metadata": {
    "ExecuteTime": {
     "end_time": "2024-12-24T15:05:50.647609Z",
     "start_time": "2024-12-24T15:05:46.951315Z"
    }
   },
   "cell_type": "code",
   "source": [
    "#Extract\n",
    "cc.set_connectionProfile(\"VeloDB\")\n",
    "\n",
    "df_user = spark.read \\\n",
    "    .format(\"jdbc\") \\\n",
    "    .option(\"driver\" , cc.get_Property(\"driver\")) \\\n",
    "    .option(\"url\", cc.create_jdbc()) \\\n",
    "    .option(\"dbtable\", \"velo_users\") \\\n",
    "    .option(\"user\", cc.get_Property(\"username\")) \\\n",
    "    .option(\"password\", cc.get_Property(\"password\")) \\\n",
    "    .option(\"partitionColumn\", \"userid\") \\\n",
    "    .option(\"numPartitions\", 4) \\\n",
    "    .option(\"lowerBound\", 0) \\\n",
    "    .option(\"upperBound\", 60000) \\\n",
    "    .load()\n",
    "\n",
    "df_subscription = spark.read \\\n",
    "    .format(\"jdbc\") \\\n",
    "    .option(\"driver\" , cc.get_Property(\"driver\")) \\\n",
    "    .option(\"url\", cc.create_jdbc()) \\\n",
    "    .option(\"dbtable\", \"Subscriptions\") \\\n",
    "    .option(\"user\", cc.get_Property(\"username\")) \\\n",
    "    .option(\"password\", cc.get_Property(\"password\")) \\\n",
    "    .option(\"partitionColumn\", \"userid\") \\\n",
    "    .option(\"numPartitions\", 4) \\\n",
    "    .option(\"lowerBound\", 0) \\\n",
    "    .option(\"upperBound\", 80000) \\\n",
    "    .load()\n",
    "\n",
    "df_subscription_type = spark.read \\\n",
    "    .format(\"jdbc\") \\\n",
    "    .option(\"driver\" , cc.get_Property(\"driver\")) \\\n",
    "    .option(\"url\", cc.create_jdbc()) \\\n",
    "    .option(\"dbtable\", \"Subscription_types\") \\\n",
    "    .option(\"user\", cc.get_Property(\"username\")) \\\n",
    "    .option(\"password\", cc.get_Property(\"password\")) \\\n",
    "    .load()\n",
    "\n",
    "df_user.show(5)\n",
    "df_subscription.show(5)\n",
    "df_subscription_type.show(5)\n"
   ],
   "id": "b28f0a9cdda57d9f",
   "outputs": [
    {
     "name": "stdout",
     "output_type": "stream",
     "text": [
      "+------+-----------------+--------------------+--------------------+--------+-------+-------------------+------------+\n",
      "|userid|             name|               email|              street|  number|zipcode|               city|country_code|\n",
      "+------+-----------------+--------------------+--------------------+--------+-------+-------------------+------------+\n",
      "|     2|van der Zee Julia|Julia.van.der.Zee...|          Europalaan|     42 |   2610|Wilrijk (Antwerpen)|          BE|\n",
      "|     3|  de Boer Ricardo|Ricardo.de.Boer@g...|   Maria Clarastraat|    81  |   2160|          Wommelgem|          BE|\n",
      "|     4|   Willems Angela|Angela.Willems@te...|Graaf Joseph de P...|     16 |   2900|            Schoten|          BE|\n",
      "|     5| Heijnen Patricia|Patricia.Heijnen@...|          Meylstraat|    112 |   2540|               Hove|          BE|\n",
      "|     6|   Driessen Anouk|Anouk.Driessen@sc...|   Jan Ockegemstraat|168 0107|   2650|             Edegem|          BE|\n",
      "+------+-----------------+--------------------+--------------------+--------+-------+-------------------+------------+\n",
      "only showing top 5 rows\n",
      "\n",
      "+--------------+----------+------------------+------+\n",
      "|subscriptionid| validfrom|subscriptiontypeid|userid|\n",
      "+--------------+----------+------------------+------+\n",
      "|             1|2019-08-02|                 3|     1|\n",
      "|             2|2019-11-12|                 1|     1|\n",
      "|             3|2020-12-14|                 1|     1|\n",
      "|             4|2021-10-05|                 2|     2|\n",
      "|             5|2022-09-17|                 3|     3|\n",
      "+--------------+----------+------------------+------+\n",
      "only showing top 5 rows\n",
      "\n",
      "+------------------+-----------+\n",
      "|subscriptiontypeid|description|\n",
      "+------------------+-----------+\n",
      "|                 1|        DAG|\n",
      "|                 2|      MAAND|\n",
      "|                 3|       JAAR|\n",
      "+------------------+-----------+\n",
      "\n"
     ]
    }
   ],
   "execution_count": 3
  },
  {
   "metadata": {
    "ExecuteTime": {
     "end_time": "2024-12-24T15:05:59.839173Z",
     "start_time": "2024-12-24T15:05:57.401049Z"
    }
   },
   "cell_type": "code",
   "source": [
    "#Transform\n",
    "df_user.createOrReplaceTempView(\"source_User\")\n",
    "df_subscription.createOrReplaceTempView(\"source_Subscription\")\n",
    "df_subscription_type.createOrReplaceTempView(\"source_Subscription_type\")\n",
    "\n",
    "#df_dim_user= spark.sql(\"select * from source_User\")\n",
    "#df_dim_user.show(5)\n",
    "#df_user.printSchema()\n",
    "\n",
    "# I left out email and zipcode\n",
    "df_dim_user= spark.sql(f\"select uuid() as user_SK, user.userid, user.name, subscription.subscriptionid as subscriptionid , subscription_type.description as subscription_type, subscription.validfrom as valid_from,\\\n",
    "                            user.street, user.number, user.city, user.country_code,\\\n",
    "                            to_timestamp('1900-01-01','yyyy-MM-dd') as scd_start,\\\n",
    "                            to_timestamp('2100-12-12','yyyy-MM-dd') as scd_end,\\\n",
    "                            md5(concat(country_code, city, street, number)) as md5,\\\n",
    "                            True as current\\\n",
    "                        from source_User as user\\\n",
    "                        join (select userid, max(validfrom) as last_validfrom from source_Subscription group by userid) as last_subscription on user.userid = last_subscription.userid\\\n",
    "                        join source_Subscription as subscription on subscription.userid = last_subscription.userid AND subscription.validfrom = last_subscription.last_validfrom\\\n",
    "                        join source_Subscription_type as subscription_type on subscription_type.subscriptiontypeid = subscription.subscriptiontypeid\")\n",
    "\n",
    "\n",
    "df_dim_user.show()\n"
   ],
   "id": "abe7a6b71ac9e200",
   "outputs": [
    {
     "name": "stdout",
     "output_type": "stream",
     "text": [
      "+--------------------+------+-----------------+--------------+-----------------+----------+--------------------+-------+--------------------+------------+-------------------+-------------------+--------------------+-------+\n",
      "|             user_SK|userid|             name|subscriptionid|subscription_type|valid_from|              street| number|                city|country_code|          scd_start|            scd_end|                 md5|current|\n",
      "+--------------------+------+-----------------+--------------+-----------------+----------+--------------------+-------+--------------------+------------+-------------------+-------------------+--------------------+-------+\n",
      "|88f14b02-7af9-4a0...|    12|     Simons Thijs|            23|             JAAR|2023-10-20|         Bergenhoeve|81 0302|Antwerpen/Berendr...|          BE|1900-01-01 00:00:00|2100-12-12 00:00:00|185076a17fcae9054...|   true|\n",
      "|5ee6e661-faeb-48d...|    13|       Groen Rens|            24|             JAAR|2020-02-28|  Trompetvogelstraat|     1 | Merksem (Antwerpen)|          BE|1900-01-01 00:00:00|2100-12-12 00:00:00|ca92ad4bc1a9f6b77...|   true|\n",
      "|de8b37b2-763d-444...|    14|van der Veer Romy|            25|             JAAR|2023-09-19|Prosper De Vochtlaan|   177 |    Kontich/Waarloos|          BE|1900-01-01 00:00:00|2100-12-12 00:00:00|280f152d853969609...|   true|\n",
      "|8b38da0d-a1d5-435...|    18|   Veldman Angela|            29|             JAAR|2023-08-04|Emiel Van Hemeldo...|    93 |                Hove|          BE|1900-01-01 00:00:00|2100-12-12 00:00:00|cf6f5ea33e2e22ebd...|   true|\n",
      "|396d37a6-60b5-474...|    25|     Blok Vincent|            37|              DAG|2019-01-13|      Korenbloemlaan|   147 |             Schoten|          BE|1900-01-01 00:00:00|2100-12-12 00:00:00|2a0af79e60b46e3e3...|   true|\n",
      "|1747bab4-5d4d-4c9...|    37|     Postma Niels|            53|             JAAR|2022-08-02|        Visserstraat|82 0602|  Burcht/Zwijndrecht|          BE|1900-01-01 00:00:00|2100-12-12 00:00:00|6ce5c02ed168ff4fe...|   true|\n",
      "|cb46298d-d3a1-479...|    38|    Peters Stefan|            56|            MAAND|2022-11-17|    Kleinebeerstraat|    60 |           Antwerpen|          BE|1900-01-01 00:00:00|2100-12-12 00:00:00|367d08f1953c0efed...|   true|\n",
      "|d1068996-b7a6-4ba...|    46|      Baars Kevin|            71|             JAAR|2023-12-30|            Keerbaan|   103 |Broechem/Emblem/O...|          BE|1900-01-01 00:00:00|2100-12-12 00:00:00|29394c3a5b952908e...|   true|\n",
      "|44319d8f-8921-437...|    50|  Venema Matthijs|            76|             JAAR|2022-09-05|         Bollaakdijk|    31 |Broechem/Emblem/O...|          BE|1900-01-01 00:00:00|2100-12-12 00:00:00|af2d93c07204d80c7...|   true|\n",
      "|9d5addd8-ec2d-4ef...|    52|  van Egmond Niek|            78|             JAAR|2019-05-07|     Nachtegalenlaan|44 0006|                Hove|          BE|1900-01-01 00:00:00|2100-12-12 00:00:00|829b46cfd0aefd815...|   true|\n",
      "|1f9d0ec2-50ea-4e6...|    56|      Prins Elise|            84|             JAAR|2021-12-25|      Jennevalstraat|   233 | Berchem (Antwerpen)|          BE|1900-01-01 00:00:00|2100-12-12 00:00:00|7b70c8b72637f0499...|   true|\n",
      "|31d41f2c-59be-400...|    65| van Rooijen Emma|            95|             JAAR|2023-08-27|          Kerkstraat|   109 | Reet/Rumst/Terhagen|          BE|1900-01-01 00:00:00|2100-12-12 00:00:00|d13f37ccd9922010c...|   true|\n",
      "|fe170e3d-f371-4f8...|    67|    Verhoef Menno|            99|              DAG|2018-12-30|  Henri Dunantstraat|   248 | Hoboken (Antwerpen)|          BE|1900-01-01 00:00:00|2100-12-12 00:00:00|e24b3cb8595f74c0e...|   true|\n",
      "|e1bee54a-f5a4-42e...|    70|     Wouters Joep|           102|             JAAR|2018-01-08|Jan Frans Favelet...|   752 |Beveren-Waas/Haas...|          BE|1900-01-01 00:00:00|2100-12-12 00:00:00|8567dea56e6ad830f...|   true|\n",
      "|fc4e7c65-0bf3-4e8...|    73| van Rijn Johanna|           105|             JAAR|2019-04-23|          Mereldreef|    94 |s Gravenwezel/Sch...|          BE|1900-01-01 00:00:00|2100-12-12 00:00:00|9c82cf5455d05264b...|   true|\n",
      "|204e5b4f-d740-474...|    83|   Dekkers Casper|           119|             JAAR|2018-05-06|Maria de Heeltstraat|73 0103|  Deurne (Antwerpen)|          BE|1900-01-01 00:00:00|2100-12-12 00:00:00|0b27a358402834b22...|   true|\n",
      "|d89b2dff-bd54-40a...|    93|  Kuijpers Simone|           133|             JAAR|2022-08-05|          Kapellelei|29 0706|             Mortsel|          BE|1900-01-01 00:00:00|2100-12-12 00:00:00|58b9bea626102fce8...|   true|\n",
      "|850b283c-1667-40f...|    95|   Verhagen Mandy|           137|             JAAR|2021-08-28|         Hamerplaats|   121 |           Antwerpen|          BE|1900-01-01 00:00:00|2100-12-12 00:00:00|e968ba38452d3e127...|   true|\n",
      "|efa1af97-2706-44f...|    97|  Hendriks Carmen|           139|             JAAR|2023-04-07|        Wisselstraat| 8 0901|s Gravenwezel/Sch...|          BE|1900-01-01 00:00:00|2100-12-12 00:00:00|b591fa92d5a1a17a5...|   true|\n",
      "|bf659fe8-abf7-47d...|   101|     de Jager Isa|           147|              DAG|2021-11-23|      Holsthumstraat|    88 |Bazel/Kruibeke/Ru...|          BE|1900-01-01 00:00:00|2100-12-12 00:00:00|efcba650b7c93fa5a...|   true|\n",
      "+--------------------+------+-----------------+--------------+-----------------+----------+--------------------+-------+--------------------+------------+-------------------+-------------------+--------------------+-------+\n",
      "only showing top 20 rows\n",
      "\n"
     ]
    }
   ],
   "execution_count": 4
  },
  {
   "metadata": {
    "ExecuteTime": {
     "end_time": "2024-12-24T15:06:11.787668Z",
     "start_time": "2024-12-24T15:06:02.570766Z"
    }
   },
   "cell_type": "code",
   "source": [
    "#Load\n",
    "df_dim_user.write.format(\"delta\").mode(\"overwrite\").saveAsTable(\"dimUser\")"
   ],
   "id": "1febe870e6ef1c2d",
   "outputs": [],
   "execution_count": 5
  },
  {
   "metadata": {},
   "cell_type": "markdown",
   "source": "# Incremental (Updaten van SCD 2 type)",
   "id": "fbf355b0ca83fd12"
  },
  {
   "metadata": {
    "ExecuteTime": {
     "end_time": "2024-12-24T14:28:10.676290Z",
     "start_time": "2024-12-24T14:28:10.462675Z"
    }
   },
   "cell_type": "code",
   "source": [
    "# Extract (from data Warehouse)\n",
    "dt_dimUser = DeltaTable.forPath(spark, \".\\\\spark-warehouse\\\\dimuser\")\n",
    "dt_dimUser.toDF().createOrReplaceTempView(\"dimUser_current\")\n",
    "\n",
    "spark.sql(\"select * from dimUser_current\").show();"
   ],
   "id": "cc302e062b4bc93a",
   "outputs": [
    {
     "name": "stdout",
     "output_type": "stream",
     "text": [
      "+--------------------+------+-----------------+--------------+-----------------+----------+--------------------+-------+--------------------+------------+-------------------+-------------------+--------------------+-------+\n",
      "|             user_SK|userid|             name|subscriptionid|subscription_type|valid_from|              street| number|                city|country_code|          scd_start|            scd_end|                 md5|current|\n",
      "+--------------------+------+-----------------+--------------+-----------------+----------+--------------------+-------+--------------------+------------+-------------------+-------------------+--------------------+-------+\n",
      "|2e639fe4-0892-4ed...|    12|     Simons Thijs|            23|             JAAR|2023-10-20|         Bergenhoeve|81 0302|Antwerpen/Berendr...|          BE|1900-01-01 00:00:00|2100-12-12 00:00:00|185076a17fcae9054...|   true|\n",
      "|f2d103e6-a857-436...|    13|       Groen Rens|            24|             JAAR|2020-02-28|  Trompetvogelstraat|     1 | Merksem (Antwerpen)|          BE|1900-01-01 00:00:00|2100-12-12 00:00:00|ca92ad4bc1a9f6b77...|   true|\n",
      "|bce7418f-7f35-479...|    14|van der Veer Romy|            25|             JAAR|2023-09-19|Prosper De Vochtlaan|   177 |    Kontich/Waarloos|          BE|1900-01-01 00:00:00|2100-12-12 00:00:00|280f152d853969609...|   true|\n",
      "|a93406fd-56fc-457...|    18|   Veldman Angela|            29|             JAAR|2023-08-04|Emiel Van Hemeldo...|    93 |                Hove|          BE|1900-01-01 00:00:00|2100-12-12 00:00:00|cf6f5ea33e2e22ebd...|   true|\n",
      "|96a24a33-5b60-4c1...|    25|     Blok Vincent|            37|              DAG|2019-01-13|      Korenbloemlaan|   147 |             Schoten|          BE|1900-01-01 00:00:00|2100-12-12 00:00:00|2a0af79e60b46e3e3...|   true|\n",
      "|6aac80e0-b727-4d9...|    37|     Postma Niels|            53|             JAAR|2022-08-02|        Visserstraat|82 0602|  Burcht/Zwijndrecht|          BE|1900-01-01 00:00:00|2100-12-12 00:00:00|6ce5c02ed168ff4fe...|   true|\n",
      "|fd9e2edb-a509-46e...|    38|    Peters Stefan|            56|            MAAND|2022-11-17|    Kleinebeerstraat|    60 |           Antwerpen|          BE|1900-01-01 00:00:00|2100-12-12 00:00:00|367d08f1953c0efed...|   true|\n",
      "|9e56ee93-3ea6-46c...|    46|      Baars Kevin|            71|             JAAR|2023-12-30|            Keerbaan|   103 |Broechem/Emblem/O...|          BE|1900-01-01 00:00:00|2100-12-12 00:00:00|29394c3a5b952908e...|   true|\n",
      "|86db50d6-068f-40f...|    50|  Venema Matthijs|            76|             JAAR|2022-09-05|         Bollaakdijk|    31 |Broechem/Emblem/O...|          BE|1900-01-01 00:00:00|2100-12-12 00:00:00|af2d93c07204d80c7...|   true|\n",
      "|21908303-ac0b-455...|    52|  van Egmond Niek|            78|             JAAR|2019-05-07|     Nachtegalenlaan|44 0006|                Hove|          BE|1900-01-01 00:00:00|2100-12-12 00:00:00|829b46cfd0aefd815...|   true|\n",
      "|3887d4fe-d7cb-435...|    56|      Prins Elise|            84|             JAAR|2021-12-25|      Jennevalstraat|   233 | Berchem (Antwerpen)|          BE|1900-01-01 00:00:00|2100-12-12 00:00:00|7b70c8b72637f0499...|   true|\n",
      "|fbe1cd96-612b-4a1...|    65| van Rooijen Emma|            95|             JAAR|2023-08-27|          Kerkstraat|   109 | Reet/Rumst/Terhagen|          BE|1900-01-01 00:00:00|2100-12-12 00:00:00|d13f37ccd9922010c...|   true|\n",
      "|1c883651-dcc5-4a8...|    67|    Verhoef Menno|            99|              DAG|2018-12-30|  Henri Dunantstraat|   248 | Hoboken (Antwerpen)|          BE|1900-01-01 00:00:00|2100-12-12 00:00:00|e24b3cb8595f74c0e...|   true|\n",
      "|54e28954-decc-4d4...|    70|     Wouters Joep|           102|             JAAR|2018-01-08|Jan Frans Favelet...|   752 |Beveren-Waas/Haas...|          BE|1900-01-01 00:00:00|2100-12-12 00:00:00|8567dea56e6ad830f...|   true|\n",
      "|960b1724-b82f-424...|    73| van Rijn Johanna|           105|             JAAR|2019-04-23|          Mereldreef|    94 |s Gravenwezel/Sch...|          BE|1900-01-01 00:00:00|2100-12-12 00:00:00|9c82cf5455d05264b...|   true|\n",
      "|95ab53d5-c40d-41a...|    83|   Dekkers Casper|           119|             JAAR|2018-05-06|Maria de Heeltstraat|73 0103|  Deurne (Antwerpen)|          BE|1900-01-01 00:00:00|2100-12-12 00:00:00|0b27a358402834b22...|   true|\n",
      "|615af207-57d9-4d8...|    93|  Kuijpers Simone|           133|             JAAR|2022-08-05|          Kapellelei|29 0706|             Mortsel|          BE|1900-01-01 00:00:00|2100-12-12 00:00:00|58b9bea626102fce8...|   true|\n",
      "|087034b2-0162-436...|    95|   Verhagen Mandy|           137|             JAAR|2021-08-28|         Hamerplaats|   121 |           Antwerpen|          BE|1900-01-01 00:00:00|2100-12-12 00:00:00|e968ba38452d3e127...|   true|\n",
      "|1d4b2c3c-92b1-40b...|    97|  Hendriks Carmen|           139|             JAAR|2023-04-07|        Wisselstraat| 8 0901|s Gravenwezel/Sch...|          BE|1900-01-01 00:00:00|2100-12-12 00:00:00|b591fa92d5a1a17a5...|   true|\n",
      "|65738c35-e0f0-405...|   101|     de Jager Isa|           147|              DAG|2021-11-23|      Holsthumstraat|    88 |Bazel/Kruibeke/Ru...|          BE|1900-01-01 00:00:00|2100-12-12 00:00:00|efcba650b7c93fa5a...|   true|\n",
      "+--------------------+------+-----------------+--------------+-----------------+----------+--------------------+-------+--------------------+------------+-------------------+-------------------+--------------------+-------+\n",
      "only showing top 20 rows\n",
      "\n"
     ]
    }
   ],
   "execution_count": 42
  },
  {
   "metadata": {
    "ExecuteTime": {
     "end_time": "2024-12-24T14:28:12.929126Z",
     "start_time": "2024-12-24T14:28:12.378839Z"
    }
   },
   "cell_type": "code",
   "source": [
    "#Extract (from source database)\n",
    "df_user_newRead = spark.read \\\n",
    "    .format(\"jdbc\") \\\n",
    "    .option(\"driver\" , cc.get_Property(\"driver\")) \\\n",
    "    .option(\"url\", cc.create_jdbc()) \\\n",
    "    .option(\"dbtable\", \"velo_users\") \\\n",
    "    .option(\"user\", cc.get_Property(\"username\")) \\\n",
    "    .option(\"password\", cc.get_Property(\"password\")) \\\n",
    "    .option(\"partitionColumn\", \"userid\") \\\n",
    "    .option(\"numPartitions\", 4) \\\n",
    "    .option(\"lowerBound\", 0) \\\n",
    "    .option(\"upperBound\", 60000) \\\n",
    "    .load()\n",
    "\n",
    "df_subscription_newRead = spark.read \\\n",
    "    .format(\"jdbc\") \\\n",
    "    .option(\"driver\" , cc.get_Property(\"driver\")) \\\n",
    "    .option(\"url\", cc.create_jdbc()) \\\n",
    "    .option(\"dbtable\", \"Subscriptions\") \\\n",
    "    .option(\"user\", cc.get_Property(\"username\")) \\\n",
    "    .option(\"password\", cc.get_Property(\"password\")) \\\n",
    "    .option(\"partitionColumn\", \"userid\") \\\n",
    "    .option(\"numPartitions\", 4) \\\n",
    "    .option(\"lowerBound\", 0) \\\n",
    "    .option(\"upperBound\", 80000) \\\n",
    "    .load()\n",
    "\n",
    "df_subscription_type_newRead = spark.read \\\n",
    "    .format(\"jdbc\") \\\n",
    "    .option(\"driver\" , cc.get_Property(\"driver\")) \\\n",
    "    .option(\"url\", cc.create_jdbc()) \\\n",
    "    .option(\"dbtable\", \"Subscription_types\") \\\n",
    "    .option(\"user\", cc.get_Property(\"username\")) \\\n",
    "    .option(\"password\", cc.get_Property(\"password\")) \\\n",
    "    .load()\n",
    "\n",
    "df_user_newRead.createOrReplaceTempView(\"source_user_newRead\")\n",
    "df_subscription_newRead.createOrReplaceTempView(\"source_subscription_newRead_newRead\")\n",
    "df_subscription_type_newRead.createOrReplaceTempView(\"source_subscription_type_newRead\")\n",
    "\n",
    "df_dim_user_newRead= spark.sql(f\"select uuid() as source_user_SK,\\\n",
    "                                user.userid as source_userid, user.name as source_name, \\\n",
    "                                subscription.subscriptionid as source_subscriptionid, subscription_type.description as source_subscription_type, subscription.validfrom as source_valid_from,\\\n",
    "                                user.street as source_street, user.number as source_number, \\\n",
    "                                city as source_city, country_code as source_country_code,\\\n",
    "                                md5(concat(country_code, city, street, number)) as source_md5 \\\n",
    "                                from source_user_newRead as user\\\n",
    "                                join (select userid, max(validfrom) as last_validfrom from source_Subscription group by userid) as last_subscription on user.userid = last_subscription.userid\\\n",
    "                                join source_Subscription as subscription on subscription.userid = last_subscription.userid AND subscription.validfrom = last_subscription.last_validfrom\\\n",
    "                                join source_Subscription_type as subscription_type on subscription_type.subscriptiontypeid = subscription.subscriptiontypeid\")\n",
    "\n",
    "df_dim_user_newRead.createOrReplaceTempView(\"dimUser_new\")\n",
    "\n",
    "spark.sql(\"select * from dimUser_new\").show()\n"
   ],
   "id": "57cb31a81be6e0da",
   "outputs": [
    {
     "name": "stdout",
     "output_type": "stream",
     "text": [
      "+--------------------+-------------+-----------------+---------------------+------------------------+-----------------+--------------------+-------------+--------------------+-------------------+--------------------+\n",
      "|      source_user_SK|source_userid|      source_name|source_subscriptionid|source_subscription_type|source_valid_from|       source_street|source_number|         source_city|source_country_code|          source_md5|\n",
      "+--------------------+-------------+-----------------+---------------------+------------------------+-----------------+--------------------+-------------+--------------------+-------------------+--------------------+\n",
      "|ab496578-78c0-48a...|           12|     Simons Thijs|                   23|                    JAAR|       2023-10-20|         Bergenhoeve|      81 0302|Antwerpen/Berendr...|                 BE|185076a17fcae9054...|\n",
      "|748517a4-ff18-4de...|           13|       Groen Rens|                   24|                    JAAR|       2020-02-28|  Trompetvogelstraat|           1 | Merksem (Antwerpen)|                 BE|ca92ad4bc1a9f6b77...|\n",
      "|f97202fd-2d3c-4d3...|           14|van der Veer Romy|                   25|                    JAAR|       2023-09-19|Prosper De Vochtlaan|         177 |    Kontich/Waarloos|                 BE|280f152d853969609...|\n",
      "|393dd1b2-e58f-43e...|           18|   Veldman Angela|                   29|                    JAAR|       2023-08-04|Emiel Van Hemeldo...|          93 |                Hove|                 BE|cf6f5ea33e2e22ebd...|\n",
      "|62b59519-be6b-438...|           25|     Blok Vincent|                   37|                     DAG|       2019-01-13|      Korenbloemlaan|         147 |             Schoten|                 BE|2a0af79e60b46e3e3...|\n",
      "|324bb536-7bfb-4f5...|           37|     Postma Niels|                   53|                    JAAR|       2022-08-02|        Visserstraat|      82 0602|  Burcht/Zwijndrecht|                 BE|6ce5c02ed168ff4fe...|\n",
      "|814dc45d-9955-47f...|           38|    Peters Stefan|                   56|                   MAAND|       2022-11-17|    Kleinebeerstraat|          60 |           Antwerpen|                 BE|367d08f1953c0efed...|\n",
      "|1dcf9ca6-63e7-421...|           46|      Baars Kevin|                   71|                    JAAR|       2023-12-30|            Keerbaan|         103 |Broechem/Emblem/O...|                 BE|29394c3a5b952908e...|\n",
      "|2b5c4a39-64ca-45c...|           50|  Venema Matthijs|                   76|                    JAAR|       2022-09-05|         Bollaakdijk|          31 |Broechem/Emblem/O...|                 BE|af2d93c07204d80c7...|\n",
      "|0e02ccd3-e88b-4cb...|           52|  van Egmond Niek|                   78|                    JAAR|       2019-05-07|     Nachtegalenlaan|      44 0006|                Hove|                 BE|829b46cfd0aefd815...|\n",
      "|1ab7b71a-52c3-402...|           56|      Prins Elise|                   84|                    JAAR|       2021-12-25|      Jennevalstraat|         233 | Berchem (Antwerpen)|                 BE|7b70c8b72637f0499...|\n",
      "|17181b58-0e50-479...|           65| van Rooijen Emma|                   95|                    JAAR|       2023-08-27|          Kerkstraat|         109 | Reet/Rumst/Terhagen|                 BE|d13f37ccd9922010c...|\n",
      "|921c719d-93d9-4d9...|           67|    Verhoef Menno|                   99|                     DAG|       2018-12-30|  Henri Dunantstraat|         248 | Hoboken (Antwerpen)|                 BE|e24b3cb8595f74c0e...|\n",
      "|f6ce3f4b-3f3d-49c...|           70|     Wouters Joep|                  102|                    JAAR|       2018-01-08|Jan Frans Favelet...|         752 |Beveren-Waas/Haas...|                 BE|8567dea56e6ad830f...|\n",
      "|e2593625-40ed-42a...|           73| van Rijn Johanna|                  105|                    JAAR|       2019-04-23|          Mereldreef|          94 |s Gravenwezel/Sch...|                 BE|9c82cf5455d05264b...|\n",
      "|7368598b-355e-4b8...|           83|   Dekkers Casper|                  119|                    JAAR|       2018-05-06|Maria de Heeltstraat|      73 0103|  Deurne (Antwerpen)|                 BE|0b27a358402834b22...|\n",
      "|04fbb62e-bd08-4ae...|           93|  Kuijpers Simone|                  133|                    JAAR|       2022-08-05|          Kapellelei|      29 0706|             Mortsel|                 BE|58b9bea626102fce8...|\n",
      "|ea9b84d4-81c9-459...|           95|   Verhagen Mandy|                  137|                    JAAR|       2021-08-28|         Hamerplaats|         121 |           Antwerpen|                 BE|e968ba38452d3e127...|\n",
      "|279abbe6-7e75-412...|           97|  Hendriks Carmen|                  139|                    JAAR|       2023-04-07|        Wisselstraat|       8 0901|s Gravenwezel/Sch...|                 BE|b591fa92d5a1a17a5...|\n",
      "|cfb5c868-9908-48e...|          101|     de Jager Isa|                  147|                     DAG|       2021-11-23|      Holsthumstraat|          88 |Bazel/Kruibeke/Ru...|                 BE|efcba650b7c93fa5a...|\n",
      "+--------------------+-------------+-----------------+---------------------+------------------------+-----------------+--------------------+-------------+--------------------+-------------------+--------------------+\n",
      "only showing top 20 rows\n",
      "\n"
     ]
    }
   ],
   "execution_count": 43
  },
  {
   "metadata": {
    "ExecuteTime": {
     "end_time": "2024-12-24T14:28:19.546749Z",
     "start_time": "2024-12-24T14:28:18.883890Z"
    }
   },
   "cell_type": "code",
   "source": [
    "##Transform\n",
    "#Detect changes\n",
    "detectedChanges = spark.sql(f\"select * from dimUser_new source\\\n",
    "                            left outer join dimUser_current dwh on dwh.userid = source.source_userid and dwh.current == TRUE  \\\n",
    "                            where dwh.userid is null\\\n",
    "                            or dwh.md5 <> source.source_md5\")\n",
    "\n",
    "detectedChanges.createOrReplaceTempView(\"detectedChanges\")\n",
    "\n",
    "#Note: zelf data aanpassen in db om dit te kunnen zien(update). Je kan ook nieuwe rij in de db toevoegen. (insert)\n",
    "detectedChanges.show()\n",
    "\n"
   ],
   "id": "cf30b0a12c9f69f3",
   "outputs": [
    {
     "name": "stdout",
     "output_type": "stream",
     "text": [
      "+--------------------+-------------+------------------+---------------------+------------------------+-----------------+--------------+-------------+-------------------+-------------------+--------------------+--------------------+------+------------------+--------------+-----------------+----------+--------------+--------+-------------------+------------+-------------------+-------------------+--------------------+-------+\n",
      "|      source_user_SK|source_userid|       source_name|source_subscriptionid|source_subscription_type|source_valid_from| source_street|source_number|        source_city|source_country_code|          source_md5|             user_SK|userid|              name|subscriptionid|subscription_type|valid_from|        street|  number|               city|country_code|          scd_start|            scd_end|                 md5|current|\n",
      "+--------------------+-------------+------------------+---------------------+------------------------+-----------------+--------------+-------------+-------------------+-------------------+--------------------+--------------------+------+------------------+--------------+-----------------+----------+--------------+--------+-------------------+------------+-------------------+-------------------+--------------------+-------+\n",
      "|c0322ad1-14fe-405...|            8|den Hartog Suzanne|                   13|                    JAAR|       2023-11-26|Kolibriestraat|            1|Merksem (Antwerpen)|                 BE|15524d86faa71d002...|3076d0ad-e3fc-4cb...|     8|den Hartog Suzanne|            13|             JAAR|2023-11-26|Kolibriestraat|138 0608|Merksem (Antwerpen)|          BE|1900-01-01 00:00:00|2100-12-12 00:00:00|ec87b1687133e2137...|   true|\n",
      "+--------------------+-------------+------------------+---------------------+------------------------+-----------------+--------------+-------------+-------------------+-------------------+--------------------+--------------------+------+------------------+--------------+-----------------+----------+--------------+--------+-------------------+------------+-------------------+-------------------+--------------------+-------+\n",
      "\n"
     ]
    }
   ],
   "execution_count": 44
  },
  {
   "metadata": {
    "ExecuteTime": {
     "end_time": "2024-12-24T14:28:23.573893Z",
     "start_time": "2024-12-24T14:28:22.487607Z"
    }
   },
   "cell_type": "code",
   "source": [
    "#Transform\n",
    "#upserts (updates and inserts)\n",
    "run_timestamp =datetime.now()\n",
    "\n",
    "df_upserts = spark.sql(f\"select source_user_SK as user_SK,\\\n",
    "                                source_userid as userid, source_name as name,\\\n",
    "                                source_subscriptionid as subscriptionid, source_subscription_type as subscription_type, source_valid_from as valid_from, \\\n",
    "                                source_street as street,source_number as number, source_city as city, source_country_code as country_code,\\\n",
    "                                to_timestamp('{run_timestamp}') as scd_start,\\\n",
    "                                to_timestamp('2100-12-12','yyyy-MM-dd') as scd_end,\\\n",
    "                                source_md5 as md5,\\\n",
    "                                True as current\\\n",
    "                        from detectedChanges\\\n",
    "                        union\\\n",
    "                        select user_SK,\\\n",
    "                                userid, name,\\\n",
    "                                subscriptionid, subscription_type, valid_from,\\\n",
    "                                street, number, city, country_code,\\\n",
    "                                scd_start,\\\n",
    "                                to_timestamp('{run_timestamp}') as scd_end,\\\n",
    "                                md5,\\\n",
    "                                false\\\n",
    "                        from detectedChanges\\\n",
    "                        where current is not null\")\n",
    "\n",
    "\n",
    "df_upserts.createOrReplaceTempView(\"upserts\")\n",
    "spark.sql(\"select * from upserts\").show()"
   ],
   "id": "1ce5163078f13bd7",
   "outputs": [
    {
     "name": "stdout",
     "output_type": "stream",
     "text": [
      "+--------------------+------+------------------+--------------+-----------------+----------+--------------+--------+-------------------+------------+--------------------+--------------------+--------------------+-------+\n",
      "|             user_SK|userid|              name|subscriptionid|subscription_type|valid_from|        street|  number|               city|country_code|           scd_start|             scd_end|                 md5|current|\n",
      "+--------------------+------+------------------+--------------+-----------------+----------+--------------+--------+-------------------+------------+--------------------+--------------------+--------------------+-------+\n",
      "|c0322ad1-14fe-405...|     8|den Hartog Suzanne|            13|             JAAR|2023-11-26|Kolibriestraat|       1|Merksem (Antwerpen)|          BE|2024-12-24 15:28:...| 2100-12-12 00:00:00|15524d86faa71d002...|   true|\n",
      "|3076d0ad-e3fc-4cb...|     8|den Hartog Suzanne|            13|             JAAR|2023-11-26|Kolibriestraat|138 0608|Merksem (Antwerpen)|          BE| 1900-01-01 00:00:00|2024-12-24 15:28:...|ec87b1687133e2137...|  false|\n",
      "+--------------------+------+------------------+--------------+-----------------+----------+--------------+--------+-------------------+------------+--------------------+--------------------+--------------------+-------+\n",
      "\n"
     ]
    }
   ],
   "execution_count": 45
  },
  {
   "metadata": {
    "ExecuteTime": {
     "end_time": "2024-12-24T14:28:34.636828Z",
     "start_time": "2024-12-24T14:28:30.878775Z"
    }
   },
   "cell_type": "code",
   "source": [
    "#Load\n",
    "##Merge (changes into current data warehouse)\n",
    "spark.sql(f\"MERGE INTO dimUser_current as target \\\n",
    "          using upserts as source ON target.userid = source.userid and source.current = false and target.current = true \\\n",
    "          WHEN MATCHED THEN UPDATE SET scd_end = source.scd_end, current = source.current \\\n",
    "          WHEN NOT MATCHED THEN INSERT (user_SK, userid, name, subscriptionid, subscription_type, valid_from, street, number, city, country_code, scd_start, scd_end, md5, current) values \\\n",
    "          (source.user_SK, source.userid, source.name, source.subscriptionid, source.subscription_type, source.valid_from,source.street, source.number, source.city, source.country_code, source.scd_start, source.scd_end, source.md5, source.current)\")\n",
    "#Matched is when the current is set to false (new record)\n",
    "#Not matched is for the new records\n",
    "\n",
    "dt_dimUser.toDF().sort(\"userId\", \"scd_start\").show(100)"
   ],
   "id": "61158fae66221c64",
   "outputs": [
    {
     "name": "stdout",
     "output_type": "stream",
     "text": [
      "+--------------------+------+--------------------+--------------+-----------------+----------+--------------------+--------+--------------------+------------+--------------------+--------------------+--------------------+-------+\n",
      "|             user_SK|userid|                name|subscriptionid|subscription_type|valid_from|              street|  number|                city|country_code|           scd_start|             scd_end|                 md5|current|\n",
      "+--------------------+------+--------------------+--------------+-----------------+----------+--------------------+--------+--------------------+------------+--------------------+--------------------+--------------------+-------+\n",
      "|9fa47f35-1e29-444...|     1|         Bouman Lars|             3|              DAG|2020-12-14|         Somméstraat|    155 |           Antwerpen|          BE| 1900-01-01 00:00:00| 2100-12-12 00:00:00|6ad982e1b845c5b41...|   true|\n",
      "|56727996-0926-499...|     2|   van der Zee Julia|             4|            MAAND|2021-10-05|          Europalaan|     42 | Wilrijk (Antwerpen)|          BE| 1900-01-01 00:00:00| 2100-12-12 00:00:00|54c8ce72c26bb4673...|   true|\n",
      "|b84ba011-7bce-415...|     3|     de Boer Ricardo|             5|             JAAR|2022-09-17|   Maria Clarastraat|    81  |           Wommelgem|          BE| 1900-01-01 00:00:00| 2100-12-12 00:00:00|5a5873904c676d505...|   true|\n",
      "|5371cd58-b796-499...|     4|      Willems Angela|             6|              DAG|2019-04-08|Graaf Joseph de P...|     16 |             Schoten|          BE| 1900-01-01 00:00:00| 2100-12-12 00:00:00|8c9a750bba1918ffc...|   true|\n",
      "|1ac85851-8fd5-415...|     5|    Heijnen Patricia|             7|             JAAR|2022-05-16|          Meylstraat|    112 |                Hove|          BE| 1900-01-01 00:00:00| 2100-12-12 00:00:00|0f7d190f5caa16e7c...|   true|\n",
      "|b46bf554-0f61-49c...|     6|      Driessen Anouk|            10|             JAAR|2023-12-31|   Jan Ockegemstraat|168 0107|              Edegem|          BE| 1900-01-01 00:00:00| 2100-12-12 00:00:00|8deeffa62efa4aa9c...|   true|\n",
      "|3c8b91c4-7bc8-49f...|     7|      Dijkstra Frank|            11|            MAAND|2021-12-01|        Klamperdreef|    153 |             Schoten|          BE| 1900-01-01 00:00:00| 2100-12-12 00:00:00|c14027ed8b727ae8f...|   true|\n",
      "|3076d0ad-e3fc-4cb...|     8|  den Hartog Suzanne|            13|             JAAR|2023-11-26|      Kolibriestraat|138 0608| Merksem (Antwerpen)|          BE| 1900-01-01 00:00:00|2024-12-24 15:28:...|ec87b1687133e2137...|  false|\n",
      "|c0322ad1-14fe-405...|     8|  den Hartog Suzanne|            13|             JAAR|2023-11-26|      Kolibriestraat|       1| Merksem (Antwerpen)|          BE|2024-12-24 15:28:...| 2100-12-12 00:00:00|15524d86faa71d002...|   true|\n",
      "|314ab1a0-8c02-418...|     9|            Smit Tim|            16|            MAAND|2023-11-29|       Bikschotelaan|     60 | Berchem (Antwerpen)|          BE| 1900-01-01 00:00:00| 2100-12-12 00:00:00|674f288323be8a606...|   true|\n",
      "|3f456f88-9944-4f5...|    10|van der Steen Carmen|            19|             JAAR|2021-12-27|          Benzineweg|    137 |           Antwerpen|          BE| 1900-01-01 00:00:00| 2100-12-12 00:00:00|36ec28378d3ae9113...|   true|\n",
      "|45415ff5-5f79-4b9...|    11| de Ruijter Daniëlle|            20|            MAAND|2023-02-02|      Leo Metsstraat| 21 0905|  Burcht/Zwijndrecht|          BE| 1900-01-01 00:00:00| 2100-12-12 00:00:00|7a2554d223d0868ca...|   true|\n",
      "|2e639fe4-0892-4ed...|    12|        Simons Thijs|            23|             JAAR|2023-10-20|         Bergenhoeve| 81 0302|Antwerpen/Berendr...|          BE| 1900-01-01 00:00:00| 2100-12-12 00:00:00|185076a17fcae9054...|   true|\n",
      "|f2d103e6-a857-436...|    13|          Groen Rens|            24|             JAAR|2020-02-28|  Trompetvogelstraat|      1 | Merksem (Antwerpen)|          BE| 1900-01-01 00:00:00| 2100-12-12 00:00:00|ca92ad4bc1a9f6b77...|   true|\n",
      "|bce7418f-7f35-479...|    14|   van der Veer Romy|            25|             JAAR|2023-09-19|Prosper De Vochtlaan|    177 |    Kontich/Waarloos|          BE| 1900-01-01 00:00:00| 2100-12-12 00:00:00|280f152d853969609...|   true|\n",
      "|a1123834-3326-469...|    15|           Hoek Emma|            26|             JAAR|2018-07-14|    John Kennedylaan|  9 0801|Broechem/Emblem/O...|          BE| 1900-01-01 00:00:00| 2100-12-12 00:00:00|28cd3077a210759f0...|   true|\n",
      "|1148f837-10e7-42a...|    16|     Stevens Suzanne|            27|            MAAND|2020-01-15|              Wijk 2| 19 0802|              Vremde|          BE| 1900-01-01 00:00:00| 2100-12-12 00:00:00|79f50eee141212b78...|   true|\n",
      "|48c136ba-3171-4f9...|    17|van den Bosch Rutger|            28|              DAG|2020-03-10|       Schoggestraat|     73 |  Deurne (Antwerpen)|          BE| 1900-01-01 00:00:00| 2100-12-12 00:00:00|8ebf865dc376ee404...|   true|\n",
      "|a93406fd-56fc-457...|    18|      Veldman Angela|            29|             JAAR|2023-08-04|Emiel Van Hemeldo...|     93 |                Hove|          BE| 1900-01-01 00:00:00| 2100-12-12 00:00:00|cf6f5ea33e2e22ebd...|   true|\n",
      "|333f7fc3-b54e-4e8...|    19|     Bakker Daniëlle|            30|             JAAR|2019-10-15|            Fortbaan|     88 |           Wommelgem|          BE| 1900-01-01 00:00:00| 2100-12-12 00:00:00|769b790e97ed48355...|   true|\n",
      "|49bec67c-481c-40c...|    20|      Vink Elisabeth|            31|             JAAR|2018-01-22|  Joseph Wateletlaan|100 0403|           Wommelgem|          BE| 1900-01-01 00:00:00| 2100-12-12 00:00:00|f197efc9d56598d2c...|   true|\n",
      "|dfaa6b1d-cb9e-456...|    21|        Muller Simon|            32|              DAG|2018-10-29|    Montevideostraat|     87 |           Antwerpen|          BE| 1900-01-01 00:00:00| 2100-12-12 00:00:00|c9c80e99da19cd0f1...|   true|\n",
      "|aef529cf-9c90-454...|    22|     Dijkstra Justin|            33|            MAAND|2018-11-17|Joseph Van Hellem...|    129 |              Vremde|          BE| 1900-01-01 00:00:00| 2100-12-12 00:00:00|b463fc25a19958a45...|   true|\n",
      "|9ef997c8-666e-473...|    23|     Gerrits Marleen|            35|              DAG|2021-12-20|Floris de Cuijper...|     70 |             Mortsel|          BE| 1900-01-01 00:00:00| 2100-12-12 00:00:00|1e5dfe8010e4e907c...|   true|\n",
      "|a2899a6d-4d06-41d...|    24|        Schepers Roy|            36|             JAAR|2019-08-13|Camille Huysmanslaan|     14 |           Antwerpen|          BE| 1900-01-01 00:00:00| 2100-12-12 00:00:00|a2bee355cce6a80a6...|   true|\n",
      "|96a24a33-5b60-4c1...|    25|        Blok Vincent|            37|              DAG|2019-01-13|      Korenbloemlaan|    147 |             Schoten|          BE| 1900-01-01 00:00:00| 2100-12-12 00:00:00|2a0af79e60b46e3e3...|   true|\n",
      "|d97c279a-40e5-452...|    26|    van Velzen Joris|            40|            MAAND|2023-12-18|     Rijkerooistraat|117 0901|    Kontich/Waarloos|          BE| 1900-01-01 00:00:00| 2100-12-12 00:00:00|e58483cd4d7a39bf1...|   true|\n",
      "|fb7391f6-1566-4dc...|    27|   Terpstra Jonathan|            41|             JAAR|2018-06-29|          Wilgenlaan|    364 |           Wommelgem|          BE| 1900-01-01 00:00:00| 2100-12-12 00:00:00|cf928e24a1c3b1965...|   true|\n",
      "|cc09693a-4e1b-4c4...|    28|       de Groot Ilse|            42|              DAG|2021-05-14|          Asberglaan|    281 |            Boechout|          BE| 1900-01-01 00:00:00| 2100-12-12 00:00:00|11841de1ce83a74fd...|   true|\n",
      "|b76ee5e8-89b4-4fc...|    29|        Brinkman Eva|            44|            MAAND|2023-05-18|         Middelkaart|170 0902|          Brasschaat|          BE| 1900-01-01 00:00:00| 2100-12-12 00:00:00|4afd1ade4699f9a73...|   true|\n",
      "|176f6cae-92a7-48b...|    30|           Boer René|            45|             JAAR|2023-06-20|         Douglaslaan|181 0907|Massenhoven/Viers...|          BE| 1900-01-01 00:00:00| 2100-12-12 00:00:00|12511eb0e95a3a4c2...|   true|\n",
      "|10354637-8a80-49f...|    31|      Verheijen Rens|            46|              DAG|2020-10-23|        Dinantstraat|119 0103|           Antwerpen|          BE| 1900-01-01 00:00:00| 2100-12-12 00:00:00|25af23f6cdfd31ed5...|   true|\n",
      "|a16c3ca5-f2b4-43e...|    32|        Martens Sven|            47|              DAG|2023-02-13|     Alice Nahonlaan|164 0203|  Burcht/Zwijndrecht|          BE| 1900-01-01 00:00:00| 2100-12-12 00:00:00|5680008e75bd13423...|   true|\n",
      "|33a81c84-ffe4-445...|    33|      Hendriks Tessa|            48|             JAAR|2021-04-22|          Erikadreef|    528 |             Schoten|          BE| 1900-01-01 00:00:00| 2100-12-12 00:00:00|30849cbb92fb33800...|   true|\n",
      "|a112443b-22e5-4ec...|    34|        Janssen Sven|            49|             JAAR|2021-12-11|     Cretenborchlaan|    121 |Beveren-Waas/Haas...|          BE| 1900-01-01 00:00:00| 2100-12-12 00:00:00|64dadda85e213672f...|   true|\n",
      "|e2c79f1e-bf13-4c4...|    35|     van Rijn Daphne|            50|             JAAR|2021-04-05|           Cogelslei| 69 0304|             Mortsel|          BE| 1900-01-01 00:00:00| 2100-12-12 00:00:00|db64533f80a5f7c59...|   true|\n",
      "|3431680a-04d4-4a2...|    36| van den Bos Jacobus|            52|             JAAR|2022-11-23|            Elzasweg|     90 |           Antwerpen|          BE| 1900-01-01 00:00:00| 2100-12-12 00:00:00|e0f00f1acaa08b999...|   true|\n",
      "|6aac80e0-b727-4d9...|    37|        Postma Niels|            53|             JAAR|2022-08-02|        Visserstraat| 82 0602|  Burcht/Zwijndrecht|          BE| 1900-01-01 00:00:00| 2100-12-12 00:00:00|6ce5c02ed168ff4fe...|   true|\n",
      "|fd9e2edb-a509-46e...|    38|       Peters Stefan|            56|            MAAND|2022-11-17|    Kleinebeerstraat|     60 |           Antwerpen|          BE| 1900-01-01 00:00:00| 2100-12-12 00:00:00|367d08f1953c0efed...|   true|\n",
      "|2a1c44c7-a315-4b3...|    39|        Snijders Max|            59|            MAAND|2022-10-31|Jacob Jordaensstraat|613 0306|             Schoten|          BE| 1900-01-01 00:00:00| 2100-12-12 00:00:00|462e3f10f18c21ab7...|   true|\n",
      "|1d701f08-1819-4df...|    40|   van der Laan Nick|            60|             JAAR|2022-07-31|           Salielaan|    184 |Broechem/Emblem/O...|          BE| 1900-01-01 00:00:00| 2100-12-12 00:00:00|6c9a0040ea40cb62d...|   true|\n",
      "|b9c6b1d1-d8a4-4db...|    41|van den Heuvel St...|            62|             JAAR|2022-11-14|       Vuurkruislaan|    102 | Wilrijk (Antwerpen)|          BE| 1900-01-01 00:00:00| 2100-12-12 00:00:00|eb3b0c522f1c7ccb3...|   true|\n",
      "|c0b303bd-9464-41b...|    42|  van der Velden Tom|            63|             JAAR|2023-11-11|         Beemdenlaan|    353 |             Schoten|          BE| 1900-01-01 00:00:00| 2100-12-12 00:00:00|85fd1ac59781a44d6...|   true|\n",
      "|bb35f2d1-f5ef-4b9...|    43|      Bos Wilhelmina|            65|              DAG|2020-03-26|          Rostockweg|698 0705|           Antwerpen|          BE| 1900-01-01 00:00:00| 2100-12-12 00:00:00|96d4624767018ec7e...|   true|\n",
      "|65c79d82-17d8-428...|    44|  de Vries Alexander|            66|             JAAR|2019-09-29|            Rauwaard|139 0603|    Kontich/Waarloos|          BE| 1900-01-01 00:00:00| 2100-12-12 00:00:00|2bdcd34ef4e1da714...|   true|\n",
      "|8f63ea79-6553-467...|    45|    de Lange Danique|            68|             JAAR|2022-03-28|     Violierenstraat|     40 |Beveren-Waas/Haas...|          BE| 1900-01-01 00:00:00| 2100-12-12 00:00:00|a2299eb0d4b313450...|   true|\n",
      "|9e56ee93-3ea6-46c...|    46|         Baars Kevin|            71|             JAAR|2023-12-30|            Keerbaan|    103 |Broechem/Emblem/O...|          BE| 1900-01-01 00:00:00| 2100-12-12 00:00:00|29394c3a5b952908e...|   true|\n",
      "|7d358b9a-bc7b-4a3...|    47| van den Bosch Esmée|            72|             JAAR|2019-01-19|         Dorpsstraat|134 0905|             Mortsel|          BE| 1900-01-01 00:00:00| 2100-12-12 00:00:00|085dcf92dfb6fa986...|   true|\n",
      "|d440d4c6-5a84-4c7...|    48|         Post Martin|            74|              DAG|2022-11-23|Jozef Posenaerstraat|  2 0207|Borgerhout (Antwe...|          BE| 1900-01-01 00:00:00| 2100-12-12 00:00:00|19eb73d959cb93438...|   true|\n",
      "|5d5b8fe1-3de4-479...|    49|        Vermeer Vera|            75|              DAG|2020-08-29|            Vaartweg|184 0707|  Deurne (Antwerpen)|          BE| 1900-01-01 00:00:00| 2100-12-12 00:00:00|240d5a7daa72c3b03...|   true|\n",
      "|86db50d6-068f-40f...|    50|     Venema Matthijs|            76|             JAAR|2022-09-05|         Bollaakdijk|     31 |Broechem/Emblem/O...|          BE| 1900-01-01 00:00:00| 2100-12-12 00:00:00|af2d93c07204d80c7...|   true|\n",
      "|8e083c91-4138-4ce...|    51|         Faber Joris|            77|             JAAR|2021-06-24|          Janssenlei|     55 |            Boechout|          BE| 1900-01-01 00:00:00| 2100-12-12 00:00:00|390b3c4a04685b5c3...|   true|\n",
      "|21908303-ac0b-455...|    52|     van Egmond Niek|            78|             JAAR|2019-05-07|     Nachtegalenlaan| 44 0006|                Hove|          BE| 1900-01-01 00:00:00| 2100-12-12 00:00:00|829b46cfd0aefd815...|   true|\n",
      "|59d2b3ff-80ee-479...|    53|           Klein Rik|            79|             JAAR|2022-01-06|        Kanaalstraat|    537 |Broechem/Emblem/O...|          BE| 1900-01-01 00:00:00| 2100-12-12 00:00:00|b1e9a1b0ca3670b91...|   true|\n",
      "|eda85f28-ec35-49a...|    54|van der Horst Maaike|            80|             JAAR|2023-05-10|Frans De Peuterst...|159 0105|    Kapellen (Antw.)|          BE| 1900-01-01 00:00:00| 2100-12-12 00:00:00|89257e342e2503b80...|   true|\n",
      "|e358fbb6-052d-40c...|    55|       Geurts Pieter|            83|             JAAR|2019-08-31|Falco de Lampagne...|     91 |           Antwerpen|          BE| 1900-01-01 00:00:00| 2100-12-12 00:00:00|14548834814000a9d...|   true|\n",
      "|3887d4fe-d7cb-435...|    56|         Prins Elise|            84|             JAAR|2021-12-25|      Jennevalstraat|    233 | Berchem (Antwerpen)|          BE| 1900-01-01 00:00:00| 2100-12-12 00:00:00|7b70c8b72637f0499...|   true|\n",
      "|8eb1645e-7850-470...|    57|       van Eijk Timo|            85|            MAAND|2022-04-10|        De Morrekens|     21 |                Niel|          BE| 1900-01-01 00:00:00| 2100-12-12 00:00:00|acc603f38362b2cec...|   true|\n",
      "|6daa753d-9208-416...|    58|  van Rooij Jennifer|            86|            MAAND|2020-05-14|        De Moystraat|    193 |           Antwerpen|          BE| 1900-01-01 00:00:00| 2100-12-12 00:00:00|8d8fa961897e8138d...|   true|\n",
      "|2165ed0a-ec7b-423...|    59|     van Velzen Leon|            87|             JAAR|2020-05-13|          Elzestraat|    256 |Beveren-Waas/Haas...|          BE| 1900-01-01 00:00:00| 2100-12-12 00:00:00|7757aca04e9c54ae1...|   true|\n",
      "|5d74592b-5c84-4a6...|    60|   Schipper Bastiaan|            88|             JAAR|2021-08-10|      De Sossastraat|     81 |  Deurne (Antwerpen)|          BE| 1900-01-01 00:00:00| 2100-12-12 00:00:00|1c6c1a3d966b6cf1c...|   true|\n",
      "|50316da1-091a-4a6...|    61|van Leeuwen Samantha|            90|             JAAR|2023-10-21|            De Kluis|    122 |s Gravenwezel/Sch...|          BE| 1900-01-01 00:00:00| 2100-12-12 00:00:00|70aefacb7abacc578...|   true|\n",
      "|76cddec7-ddb4-4d1...|    62|       Joosten Bryan|            91|              DAG|2021-02-02|         Peperstraat|     66 |             Schelle|          BE| 1900-01-01 00:00:00| 2100-12-12 00:00:00|856e9407d3ecd1654...|   true|\n",
      "|607583d0-260e-411...|    63|      Stevens Sandra|            92|            MAAND|2020-07-21|          Steenakker|223 0308|    Kontich/Waarloos|          BE| 1900-01-01 00:00:00| 2100-12-12 00:00:00|8d0dbd8a9e16fe416...|   true|\n",
      "|aab7df69-4d6d-4ac...|    64|  van Rooijen Wouter|            94|             JAAR|2022-11-28|         Bergendreef|197 0006|s Gravenwezel/Sch...|          BE| 1900-01-01 00:00:00| 2100-12-12 00:00:00|3874a1595f36daa30...|   true|\n",
      "|fbe1cd96-612b-4a1...|    65|    van Rooijen Emma|            95|             JAAR|2023-08-27|          Kerkstraat|    109 | Reet/Rumst/Terhagen|          BE| 1900-01-01 00:00:00| 2100-12-12 00:00:00|d13f37ccd9922010c...|   true|\n",
      "|6578e73c-bbed-4f5...|    66|        Hoekstra Rob|            98|             JAAR|2023-12-25|      Warschaustraat|    508 | Hoboken (Antwerpen)|          BE| 1900-01-01 00:00:00| 2100-12-12 00:00:00|5f6896ea2861f7492...|   true|\n",
      "|1c883651-dcc5-4a8...|    67|       Verhoef Menno|            99|              DAG|2018-12-30|  Henri Dunantstraat|    248 | Hoboken (Antwerpen)|          BE| 1900-01-01 00:00:00| 2100-12-12 00:00:00|e24b3cb8595f74c0e...|   true|\n",
      "|37c853cd-ddd4-418...|    68|          Kroon Vera|           100|             JAAR|2022-11-05|   Blauwesteenstraat|     17 |    Kontich/Waarloos|          BE| 1900-01-01 00:00:00| 2100-12-12 00:00:00|36d6a7eda50394fe8...|   true|\n",
      "|5670bf99-1eaa-47c...|    69|    Roelofs Jennifer|           101|             JAAR|2021-10-02| Steenberghoekstraat|     57 | Reet/Rumst/Terhagen|          BE| 1900-01-01 00:00:00| 2100-12-12 00:00:00|050dd399575f8a136...|   true|\n",
      "|54e28954-decc-4d4...|    70|        Wouters Joep|           102|             JAAR|2018-01-08|Jan Frans Favelet...|    752 |Beveren-Waas/Haas...|          BE| 1900-01-01 00:00:00| 2100-12-12 00:00:00|8567dea56e6ad830f...|   true|\n",
      "|6aa54e0c-5017-4b2...|    71|    Simons Charlotte|           103|             JAAR|2020-03-17|      Veldovenstraat|      6 |                Niel|          BE| 1900-01-01 00:00:00| 2100-12-12 00:00:00|eb7e267d0b220f318...|   true|\n",
      "|ef159003-c303-479...|    72|     Rutten Jennifer|           104|             JAAR|2023-11-05|    Sint-Jozefstraat|     31 |           Antwerpen|          BE| 1900-01-01 00:00:00| 2100-12-12 00:00:00|5a62318d5a89d086a...|   true|\n",
      "|960b1724-b82f-424...|    73|    van Rijn Johanna|           105|             JAAR|2019-04-23|          Mereldreef|     94 |s Gravenwezel/Sch...|          BE| 1900-01-01 00:00:00| 2100-12-12 00:00:00|9c82cf5455d05264b...|   true|\n",
      "|6bad343c-e731-4fe...|    74|          Postma Noa|           106|             JAAR|2023-12-09|      Boereveldseweg| 28 0104|  Burcht/Zwijndrecht|          BE| 1900-01-01 00:00:00| 2100-12-12 00:00:00|1a5f1bd42844c86c5...|   true|\n",
      "|36b1bfa4-2202-44b...|    75| van Lieshout Julian|           107|            MAAND|2021-08-25|          Nothomblei|    116 |          Brasschaat|          BE| 1900-01-01 00:00:00| 2100-12-12 00:00:00|9417af3b6f034f9aa...|   true|\n",
      "|8e1e528f-ca48-462...|    76| de Bruin Wilhelmina|           108|             JAAR|2020-07-12|            Peedreef| 76 0506|    Kapellen (Antw.)|          BE| 1900-01-01 00:00:00| 2100-12-12 00:00:00|0a93546e00169a93b...|   true|\n",
      "|841fccb5-6c94-449...|    77|          Prins Joey|           110|             JAAR|2023-07-28|          Luikstraat|     72 |           Antwerpen|          BE| 1900-01-01 00:00:00| 2100-12-12 00:00:00|41a391f64db0dfaa8...|   true|\n",
      "|9296250c-264b-4bd...|    78|  van den Bosch Iris|           111|             JAAR|2023-09-17|        Klein Heiken|    192 |    Kapellen (Antw.)|          BE| 1900-01-01 00:00:00| 2100-12-12 00:00:00|de253223730b567c2...|   true|\n",
      "|cc7ae93a-5df5-46b...|    79|     Baars Alexander|           112|             JAAR|2020-01-12|         Bollaakdijk|    115 |Broechem/Emblem/O...|          BE| 1900-01-01 00:00:00| 2100-12-12 00:00:00|b9b9c485275308ae9...|   true|\n",
      "|e55f8967-d0ae-411...|    80|     Visser Patricia|           113|             JAAR|2018-09-26|          Wouwstraat|    364 |                Hove|          BE| 1900-01-01 00:00:00| 2100-12-12 00:00:00|ad3720091450c1833...|   true|\n",
      "|5b80f629-35ff-466...|    81|  van der Meer Jordi|           116|             JAAR|2023-09-16|           Tenenveld|    122 | Wilrijk (Antwerpen)|          BE| 1900-01-01 00:00:00| 2100-12-12 00:00:00|968845ea6cc816017...|   true|\n",
      "|c39a7ba2-0871-404...|    82|    van Rooij Rachel|           118|             JAAR|2020-12-18|    Hagepredikerspad|    139 | Berchem (Antwerpen)|          BE| 1900-01-01 00:00:00| 2100-12-12 00:00:00|ff500ccbefd10653c...|   true|\n",
      "|95ab53d5-c40d-41a...|    83|      Dekkers Casper|           119|             JAAR|2018-05-06|Maria de Heeltstraat| 73 0103|  Deurne (Antwerpen)|          BE| 1900-01-01 00:00:00| 2100-12-12 00:00:00|0b27a358402834b22...|   true|\n",
      "|f09121ab-75f6-4b8...|    84|       Boersma Jordi|           122|              DAG|2022-08-19|   Sint-Gummarusveld|    616 |Broechem/Emblem/O...|          BE| 1900-01-01 00:00:00| 2100-12-12 00:00:00|5d360f73b9f87c5d3...|   true|\n",
      "|15a222c7-6f73-461...|    85|      van Gils Sarah|           123|              DAG|2022-03-08|    Alfred Oststraat|    224 |  Burcht/Zwijndrecht|          BE| 1900-01-01 00:00:00| 2100-12-12 00:00:00|775144d4ca92f1765...|   true|\n",
      "|134f1790-a4fc-4f6...|    86|       Kuijpers Emma|           124|             JAAR|2020-06-15|              Vesten|     78 |Beveren-Waas/Haas...|          BE| 1900-01-01 00:00:00| 2100-12-12 00:00:00|49bb4959f55eed51c...|   true|\n",
      "|8278ff6a-411d-4a1...|    87|         Joosten Rik|           125|              DAG|2022-12-24|       Ruytermansweg|153 0802|Antwerpen/Berendr...|          BE| 1900-01-01 00:00:00| 2100-12-12 00:00:00|2b841009dad526fa3...|   true|\n",
      "|314d705a-3365-486...|    88|     Wiersma Michael|           126|             JAAR|2019-10-05|          Beekstraat|    316 |Bazel/Kruibeke/Ru...|          BE| 1900-01-01 00:00:00| 2100-12-12 00:00:00|8905faa0bd2e6d866...|   true|\n",
      "|40e792c8-63e6-411...|    89|        Faber Nienke|           127|             JAAR|2020-09-05|Generaal Belliard...|      5 |           Antwerpen|          BE| 1900-01-01 00:00:00| 2100-12-12 00:00:00|8f7a4ef0321b93ec0...|   true|\n",
      "|bac95669-1f6c-4fe...|    90|       Timmerman Rob|           130|             JAAR|2022-11-29|Pieter De Ridders...| 34 0307|  Deurne (Antwerpen)|          BE| 1900-01-01 00:00:00| 2100-12-12 00:00:00|994dfd6a5ebf17288...|   true|\n",
      "|fc4e41f3-7f20-40d...|    91|         Bosma Jordy|           131|             JAAR|2020-07-16|Lodewijk Gerritslaan|    194 | Berchem (Antwerpen)|          BE| 1900-01-01 00:00:00| 2100-12-12 00:00:00|3cba00b036c2e5576...|   true|\n",
      "|aca5c5a2-89ed-43f...|    92|     Smulders Sjoerd|           132|              DAG|2021-01-01|       Jezuïetenlaan|     10 | Wilrijk (Antwerpen)|          BE| 1900-01-01 00:00:00| 2100-12-12 00:00:00|35d30fa7b0c489303...|   true|\n",
      "|615af207-57d9-4d8...|    93|     Kuijpers Simone|           133|             JAAR|2022-08-05|          Kapellelei| 29 0706|             Mortsel|          BE| 1900-01-01 00:00:00| 2100-12-12 00:00:00|58b9bea626102fce8...|   true|\n",
      "|c3c752ac-e9cb-4f4...|    94|   van Dalen Melanie|           135|            MAAND|2018-12-11|         De Biesaard|     17 |s Gravenwezel/Sch...|          BE| 1900-01-01 00:00:00| 2100-12-12 00:00:00|15445ee0af2e0b9c5...|   true|\n",
      "|087034b2-0162-436...|    95|      Verhagen Mandy|           137|             JAAR|2021-08-28|         Hamerplaats|    121 |           Antwerpen|          BE| 1900-01-01 00:00:00| 2100-12-12 00:00:00|e968ba38452d3e127...|   true|\n",
      "|09617d12-5587-456...|    96|  van den Akker Nick|           138|              DAG|2023-12-22|            Guyotlei|    106 |    Kapellen (Antw.)|          BE| 1900-01-01 00:00:00| 2100-12-12 00:00:00|7cd00216e42842bbd...|   true|\n",
      "|1d4b2c3c-92b1-40b...|    97|     Hendriks Carmen|           139|             JAAR|2023-04-07|        Wisselstraat|  8 0901|s Gravenwezel/Sch...|          BE| 1900-01-01 00:00:00| 2100-12-12 00:00:00|b591fa92d5a1a17a5...|   true|\n",
      "|fb94aeb3-4e41-48a...|    98|      Franken Yvonne|           142|              DAG|2023-12-26|         Bellestraat|134 0206|           Antwerpen|          BE| 1900-01-01 00:00:00| 2100-12-12 00:00:00|bc54a27906221bcc2...|   true|\n",
      "|893919c1-c7d9-456...|    99|      Terpstra Manon|           143|             JAAR|2021-08-20|   Joe Englishstraat| 95 0102|Borgerhout (Antwe...|          BE| 1900-01-01 00:00:00| 2100-12-12 00:00:00|8a228bc1889d1b0b1...|   true|\n",
      "+--------------------+------+--------------------+--------------+-----------------+----------+--------------------+--------+--------------------+------------+--------------------+--------------------+--------------------+-------+\n",
      "only showing top 100 rows\n",
      "\n"
     ]
    }
   ],
   "execution_count": 46
  },
  {
   "metadata": {},
   "cell_type": "markdown",
   "source": "# Stoppen van Local Cluster",
   "id": "3e65d0006d877e37"
  },
  {
   "metadata": {
    "ExecuteTime": {
     "end_time": "2024-12-24T15:06:22.351747Z",
     "start_time": "2024-12-24T15:06:22.166969Z"
    }
   },
   "cell_type": "code",
   "source": "spark.stop()",
   "id": "a1fcb336fdc0eda",
   "outputs": [],
   "execution_count": 6
  }
 ],
 "metadata": {
  "kernelspec": {
   "display_name": "Python 3",
   "language": "python",
   "name": "python3"
  },
  "language_info": {
   "codemirror_mode": {
    "name": "ipython",
    "version": 2
   },
   "file_extension": ".py",
   "mimetype": "text/x-python",
   "name": "python",
   "nbconvert_exporter": "python",
   "pygments_lexer": "ipython2",
   "version": "2.7.6"
  }
 },
 "nbformat": 4,
 "nbformat_minor": 5
}
