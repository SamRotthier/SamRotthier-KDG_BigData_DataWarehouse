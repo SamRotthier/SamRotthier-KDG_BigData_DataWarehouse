{
 "cells": [
  {
   "metadata": {},
   "cell_type": "markdown",
   "source": "# Config stuff",
   "id": "ed5ffcdb526d8ff2"
  },
  {
   "cell_type": "code",
   "id": "initial_id",
   "metadata": {
    "collapsed": true,
    "ExecuteTime": {
     "end_time": "2024-10-31T18:52:52.730378Z",
     "start_time": "2024-10-31T18:52:52.570820Z"
    }
   },
   "source": [
    "import ConnectionConfig as cc\n",
    "cc.setupEnvironment()"
   ],
   "outputs": [],
   "execution_count": 1
  },
  {
   "metadata": {},
   "cell_type": "markdown",
   "source": "# Start local cluster",
   "id": "1129bc2e4fa398cb"
  },
  {
   "metadata": {
    "ExecuteTime": {
     "end_time": "2024-10-31T18:53:21.992703Z",
     "start_time": "2024-10-31T18:53:00.061251Z"
    }
   },
   "cell_type": "code",
   "source": [
    "spark = cc.startLocalCluster(\"DIM_WEATHER\",4)\n",
    "spark.getActiveSession()"
   ],
   "id": "f85744f2267761cb",
   "outputs": [
    {
     "data": {
      "text/plain": [
       "<pyspark.sql.session.SparkSession at 0x2deb8e20610>"
      ],
      "text/html": [
       "\n",
       "            <div>\n",
       "                <p><b>SparkSession - in-memory</b></p>\n",
       "                \n",
       "        <div>\n",
       "            <p><b>SparkContext</b></p>\n",
       "\n",
       "            <p><a href=\"http://LAPTOP-5LDFMLTG:4040\">Spark UI</a></p>\n",
       "\n",
       "            <dl>\n",
       "              <dt>Version</dt>\n",
       "                <dd><code>v3.5.2</code></dd>\n",
       "              <dt>Master</dt>\n",
       "                <dd><code>local[*]</code></dd>\n",
       "              <dt>AppName</dt>\n",
       "                <dd><code>DIM_WEATHER</code></dd>\n",
       "            </dl>\n",
       "        </div>\n",
       "        \n",
       "            </div>\n",
       "        "
      ]
     },
     "execution_count": 2,
     "metadata": {},
     "output_type": "execute_result"
    }
   ],
   "execution_count": 2
  },
  {
   "metadata": {},
   "cell_type": "markdown",
   "source": "# Create weather dimension",
   "id": "cb652194d19a225c"
  },
  {
   "metadata": {},
   "cell_type": "markdown",
   "source": "## Step 1: Read weathertypes from csv file",
   "id": "82bc5e0ed159a0f9"
  },
  {
   "metadata": {
    "ExecuteTime": {
     "end_time": "2024-10-31T18:54:22.685314Z",
     "start_time": "2024-10-31T18:54:17.374008Z"
    }
   },
   "cell_type": "code",
   "source": [
    "#EXTRACT\n",
    "df_weathertypes = spark.read.format(\"csv\").option(\"header\",True).option(\"inferschema\",True).load(\"weathertypes.csv\")\n",
    "df_weathertypes.show()"
   ],
   "id": "e13594ae12b94b",
   "outputs": [
    {
     "name": "stdout",
     "output_type": "stream",
     "text": [
      "+----------+-----------------+\n",
      "|weather_SK|     weather_type|\n",
      "+----------+-----------------+\n",
      "|         1|        Aangenaam|\n",
      "|         2|      Onaangenaam|\n",
      "|         3|         Neutraal|\n",
      "|         4|weertype onbekend|\n",
      "+----------+-----------------+\n",
      "\n"
     ]
    }
   ],
   "execution_count": 3
  },
  {
   "metadata": {},
   "cell_type": "markdown",
   "source": "## Step 2: Write weathertypes dataframe to deltatable",
   "id": "3ba2b64cc1e1e7fc"
  },
  {
   "metadata": {
    "ExecuteTime": {
     "end_time": "2024-10-31T19:00:54.125731Z",
     "start_time": "2024-10-31T19:00:48.479367Z"
    }
   },
   "cell_type": "code",
   "source": [
    "#LOAD\n",
    "df_weathertypes.write.format(\"delta\").mode(\"overwrite\").saveAsTable(\"dimWeather\")"
   ],
   "id": "f4449a59b9d18443",
   "outputs": [],
   "execution_count": 4
  }
 ],
 "metadata": {
  "kernelspec": {
   "display_name": "Python 3",
   "language": "python",
   "name": "python3"
  },
  "language_info": {
   "codemirror_mode": {
    "name": "ipython",
    "version": 2
   },
   "file_extension": ".py",
   "mimetype": "text/x-python",
   "name": "python",
   "nbconvert_exporter": "python",
   "pygments_lexer": "ipython2",
   "version": "2.7.6"
  }
 },
 "nbformat": 4,
 "nbformat_minor": 5
}
