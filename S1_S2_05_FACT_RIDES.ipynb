{
 "cells": [
  {
   "metadata": {},
   "cell_type": "markdown",
   "source": "# Config stuff",
   "id": "21015048f40aff18"
  },
  {
   "cell_type": "code",
   "id": "initial_id",
   "metadata": {
    "collapsed": true,
    "ExecuteTime": {
     "end_time": "2024-11-10T15:59:11.541032Z",
     "start_time": "2024-11-10T15:59:10.315653Z"
    }
   },
   "source": [
    "import ConnectionConfig as cc\n",
    "from delta import DeltaTable\n",
    "cc.setupEnvironment()"
   ],
   "outputs": [],
   "execution_count": 2
  },
  {
   "metadata": {},
   "cell_type": "markdown",
   "source": "# Start local cluster",
   "id": "4baf5e0d3af12170"
  },
  {
   "metadata": {
    "ExecuteTime": {
     "end_time": "2024-11-10T15:59:48.916Z",
     "start_time": "2024-11-10T15:59:25.820543Z"
    }
   },
   "cell_type": "code",
   "source": [
    "spark = cc.startLocalCluster(\"FACT_RIDES\")\n",
    "spark.getActiveSession()"
   ],
   "id": "1682df97d406f91b",
   "outputs": [
    {
     "data": {
      "text/plain": [
       "<pyspark.sql.session.SparkSession at 0x1b926f12110>"
      ],
      "text/html": [
       "\n",
       "            <div>\n",
       "                <p><b>SparkSession - in-memory</b></p>\n",
       "                \n",
       "        <div>\n",
       "            <p><b>SparkContext</b></p>\n",
       "\n",
       "            <p><a href=\"http://LAPTOP-5LDFMLTG:4040\">Spark UI</a></p>\n",
       "\n",
       "            <dl>\n",
       "              <dt>Version</dt>\n",
       "                <dd><code>v3.5.2</code></dd>\n",
       "              <dt>Master</dt>\n",
       "                <dd><code>local[*]</code></dd>\n",
       "              <dt>AppName</dt>\n",
       "                <dd><code>FACT_RIDES</code></dd>\n",
       "            </dl>\n",
       "        </div>\n",
       "        \n",
       "            </div>\n",
       "        "
      ]
     },
     "execution_count": 3,
     "metadata": {},
     "output_type": "execute_result"
    }
   ],
   "execution_count": 3
  },
  {
   "metadata": {},
   "cell_type": "markdown",
   "source": "# Create facts table: rides",
   "id": "b9b9b6d7e21766e7"
  },
  {
   "metadata": {},
   "cell_type": "markdown",
   "source": "## Read from source table",
   "id": "1380829350c8bdbe"
  },
  {
   "metadata": {
    "ExecuteTime": {
     "end_time": "2024-11-10T16:02:07.783580Z",
     "start_time": "2024-11-10T16:02:01.071650Z"
    }
   },
   "cell_type": "code",
   "source": [
    "#EXTRACT\n",
    "cc.set_connectionProfile(\"VeloDB\")\n",
    "rides_source_df = spark.read \\\n",
    "    .format(\"jdbc\") \\\n",
    "    .option(\"url\", cc.create_jdbc()) \\\n",
    "    .option(\"driver\" , cc.get_Property(\"driver\")) \\\n",
    "    .option(\"dbtable\", \"rides\") \\\n",
    "    .option(\"user\", cc.get_Property(\"username\")) \\\n",
    "    .option(\"password\", cc.get_Property(\"password\")) \\\n",
    "    .option(\"partitionColumn\", \"rideid\") \\\n",
    "    .option(\"numPartitions\", 4) \\\n",
    "    .option(\"lowerBound\", 0) \\\n",
    "    .option(\"upperBound\", 4140000) \\\n",
    "    .load()\n",
    "\n",
    "rides_source_df.show(10)"
   ],
   "id": "f78ee4179ebf769b",
   "outputs": [
    {
     "name": "stdout",
     "output_type": "stream",
     "text": [
      "+------+-----------------+-----------------+-------------------+-------------------+---------+--------------+-----------+---------+\n",
      "|rideid|       startpoint|         endpoint|          starttime|            endtime|vehicleid|subscriptionid|startlockid|endlockid|\n",
      "+------+-----------------+-----------------+-------------------+-------------------+---------+--------------+-----------+---------+\n",
      "|     1|(51.2083,4.44595)|(51.1938,4.40228)|2015-09-22 00:00:00|2012-09-22 00:00:00|      844|         13296|       4849|     3188|\n",
      "|     2|(51.2174,4.41597)|(51.2188,4.40935)|2015-09-22 00:00:00|2012-09-22 00:00:00|     4545|         45924|       NULL|     NULL|\n",
      "|     3|(51.2088,4.40834)|(51.2077,4.39846)|2015-09-22 00:00:00|2012-09-22 00:00:00|     3419|         25722|       2046|     1951|\n",
      "|     4|(51.2023,4.41208)|(51.2119,4.39894)|2015-09-22 00:00:00|2012-09-22 00:00:00|     1208|         31000|       1821|     2186|\n",
      "|     5|(51.1888,4.45039)|(51.2221,4.40467)|2015-09-22 00:00:00|2012-09-22 00:00:00|     5536|         59732|       6382|     2700|\n",
      "|     6|(51.2159,4.41073)|(51.2191,4.41596)|2015-09-22 00:00:00|2012-09-22 00:00:00|     6336|          NULL|       NULL|     NULL|\n",
      "|     7|(51.2038,4.42077)|(51.2055,4.39933)|2015-09-22 00:00:00|2012-09-22 00:00:00|     4045|         31055|       1388|     3401|\n",
      "|     8| (51.2191,4.3949)|  (51.2281,4.409)|2015-09-22 00:00:00|2012-09-22 00:00:00|     2015|         65164|       2572|       13|\n",
      "|     9|(51.2182,4.41238)| (51.209,4.43266)|2015-09-22 00:00:00|2012-09-22 00:00:00|     5298|         71164|         50|     2067|\n",
      "|    10|(51.2196,4.41724)|(51.2143,4.41316)|2015-09-22 00:00:00|2012-09-22 00:00:00|     6332|         68426|       NULL|     NULL|\n",
      "|    11|(51.2179,4.41777)| (51.211,4.40724)|2015-09-22 00:00:00|2012-09-22 00:00:00|     1400|           999|        985|     2148|\n",
      "|    12|(51.2088,4.40834)|(51.2145,4.44373)|2015-09-22 00:00:00|2012-09-22 00:00:00|      957|         59847|       2039|     3038|\n",
      "|    13|(51.1744,4.40334)|(51.2228,4.42426)|2015-09-22 00:00:00|2012-09-22 00:00:00|     5413|          5045|       5619|     2717|\n",
      "|    14|   (51.25,4.4209)|   (51.25,4.4209)|2015-09-22 00:00:00|2012-09-22 00:00:00|     2658|         65816|       3531|     3554|\n",
      "|    15|(51.2083,4.44595)|(51.1938,4.40228)|2019-09-22 08:46:43|2019-09-22 09:01:36|      844|         13296|       4849|     3188|\n",
      "+------+-----------------+-----------------+-------------------+-------------------+---------+--------------+-----------+---------+\n",
      "only showing top 15 rows\n",
      "\n"
     ]
    }
   ],
   "execution_count": 5
  },
  {
   "metadata": {},
   "cell_type": "markdown",
   "source": "## Create tempviews for dimensions and for source table",
   "id": "22d0cb85fdb74c02"
  },
  {
   "metadata": {
    "ExecuteTime": {
     "end_time": "2024-11-10T16:12:35.383984Z",
     "start_time": "2024-11-10T16:12:32.556174Z"
    }
   },
   "cell_type": "code",
   "source": [
    "#EXTRACT\n",
    "# Rides source table\n",
    "rides_source_df.createOrReplaceTempView(\"ridesSource\")\n",
    "\n",
    "# Dimension date\n",
    "dim_date = spark.read.format(\"delta\").load(\"spark-warehouse/dimdate\")\n",
    "dim_date.createOrReplaceTempView(\"dimDate\")\n",
    "\n",
    "# Dimension weather\n",
    "dim_weather = spark.read.format(\"delta\").load(\"spark-warehouse/dimweather\")\n",
    "dim_weather.createOrReplaceTempView(\"dimWeather\")"
   ],
   "id": "cee69800b538c0d7",
   "outputs": [],
   "execution_count": 7
  },
  {
   "metadata": {},
   "cell_type": "markdown",
   "source": "## Build facts table",
   "id": "c375e6bee2760aa2"
  },
  {
   "metadata": {},
   "cell_type": "code",
   "outputs": [],
   "execution_count": null,
   "source": "",
   "id": "629d1cdcbba63806"
  }
 ],
 "metadata": {
  "kernelspec": {
   "display_name": "Python 3",
   "language": "python",
   "name": "python3"
  },
  "language_info": {
   "codemirror_mode": {
    "name": "ipython",
    "version": 2
   },
   "file_extension": ".py",
   "mimetype": "text/x-python",
   "name": "python",
   "nbconvert_exporter": "python",
   "pygments_lexer": "ipython2",
   "version": "2.7.6"
  }
 },
 "nbformat": 4,
 "nbformat_minor": 5
}
