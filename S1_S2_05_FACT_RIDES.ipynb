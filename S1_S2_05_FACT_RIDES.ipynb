{
 "cells": [
  {
   "metadata": {},
   "cell_type": "markdown",
   "source": "# Config stuff",
   "id": "21015048f40aff18"
  },
  {
   "cell_type": "code",
   "id": "initial_id",
   "metadata": {
    "collapsed": true,
    "ExecuteTime": {
     "end_time": "2024-12-26T18:19:22.030516Z",
     "start_time": "2024-12-26T18:19:21.587440Z"
    }
   },
   "source": [
    "from xmlrpc.client import DateTime\n",
    "\n",
    "import ConnectionConfig as cc\n",
    "from delta import DeltaTable\n",
    "cc.setupEnvironment()"
   ],
   "outputs": [],
   "execution_count": 1
  },
  {
   "metadata": {},
   "cell_type": "markdown",
   "source": "# Start local cluster",
   "id": "4baf5e0d3af12170"
  },
  {
   "metadata": {
    "ExecuteTime": {
     "end_time": "2024-12-26T18:19:47.347096Z",
     "start_time": "2024-12-26T18:19:24.072875Z"
    }
   },
   "cell_type": "code",
   "source": [
    "spark = cc.startLocalCluster(\"FACT_RIDES\")\n",
    "spark.getActiveSession()"
   ],
   "id": "1682df97d406f91b",
   "outputs": [
    {
     "data": {
      "text/plain": [
       "<pyspark.sql.session.SparkSession at 0x1ea7f06bbd0>"
      ],
      "text/html": [
       "\n",
       "            <div>\n",
       "                <p><b>SparkSession - in-memory</b></p>\n",
       "                \n",
       "        <div>\n",
       "            <p><b>SparkContext</b></p>\n",
       "\n",
       "            <p><a href=\"http://127.0.0.1:4040\">Spark UI</a></p>\n",
       "\n",
       "            <dl>\n",
       "              <dt>Version</dt>\n",
       "                <dd><code>v3.5.2</code></dd>\n",
       "              <dt>Master</dt>\n",
       "                <dd><code>local[*]</code></dd>\n",
       "              <dt>AppName</dt>\n",
       "                <dd><code>FACT_RIDES</code></dd>\n",
       "            </dl>\n",
       "        </div>\n",
       "        \n",
       "            </div>\n",
       "        "
      ]
     },
     "execution_count": 2,
     "metadata": {},
     "output_type": "execute_result"
    }
   ],
   "execution_count": 2
  },
  {
   "metadata": {},
   "cell_type": "markdown",
   "source": "# Create facts table: rides",
   "id": "b9b9b6d7e21766e7"
  },
  {
   "metadata": {},
   "cell_type": "markdown",
   "source": "## Read from sources",
   "id": "1380829350c8bdbe"
  },
  {
   "metadata": {},
   "cell_type": "markdown",
   "source": "### Read from VeloDB database",
   "id": "8275f9036f4aefa4"
  },
  {
   "metadata": {
    "ExecuteTime": {
     "end_time": "2024-12-26T18:20:13.449059Z",
     "start_time": "2024-12-26T18:20:10.210527Z"
    }
   },
   "cell_type": "code",
   "source": [
    "#EXTRACT\n",
    "\n",
    "cc.set_connectionProfile(\"VeloDB\")\n",
    "\n",
    "# Read rides table from source VeloDB database\n",
    "# Only rows after 2019-01-01 will be read because older rows are corrupt\n",
    "rides_source_df = spark.read \\\n",
    "    .format(\"jdbc\") \\\n",
    "    .option(\"url\", cc.create_jdbc()) \\\n",
    "    .option(\"driver\" , cc.get_Property(\"driver\")) \\\n",
    "    .option(\"dbtable\", \"(select rideid, starttime, endtime, subscriptionid, startlockid, endlockid, round(haversine_km(startpoint[0] :: numeric, startpoint[1]:: numeric, endpoint[0]:: numeric, endpoint[1]:: numeric),3) as distance_km from rides where starttime > '2019-01-01') as subq\") \\\n",
    "    .option(\"user\", cc.get_Property(\"username\")) \\\n",
    "    .option(\"password\", cc.get_Property(\"password\")) \\\n",
    "    .option(\"partitionColumn\", \"rideid\") \\\n",
    "    .option(\"numPartitions\", 4) \\\n",
    "    .option(\"lowerBound\", 0) \\\n",
    "    .option(\"upperBound\", 4140000) \\\n",
    "    .load()\n",
    "\n",
    "# Next read operation performs a join between the locks and stations source tables. The goal is to retrieve a zipcode for each lockid. This zipcode is used to link the weather dimension with the facts table \n",
    "locks_with_zip = spark.read \\\n",
    "    .format(\"jdbc\") \\\n",
    "    .option(\"url\", cc.create_jdbc()) \\\n",
    "    .option(\"driver\" , cc.get_Property(\"driver\")) \\\n",
    "    .option(\"dbtable\", \"(select l.lockid, s.zipcode from locks l \\\n",
    "    left outer join stations s on l.stationid = s.stationid) as subq\") \\\n",
    "    .option(\"user\", cc.get_Property(\"username\")) \\\n",
    "    .option(\"password\", cc.get_Property(\"password\")) \\\n",
    "    .option(\"partitionColumn\", \"lockid\") \\\n",
    "    .option(\"numPartitions\", 4) \\\n",
    "    .option(\"lowerBound\", 0) \\\n",
    "    .option(\"upperBound\", 8000) \\\n",
    "    .load()\n",
    "\n",
    "locks_with_zip.show(10)"
   ],
   "id": "f78ee4179ebf769b",
   "outputs": [
    {
     "name": "stdout",
     "output_type": "stream",
     "text": [
      "+------+-------+\n",
      "|lockid|zipcode|\n",
      "+------+-------+\n",
      "|     1|   2000|\n",
      "|     2|   2000|\n",
      "|     3|   2000|\n",
      "|     4|   2000|\n",
      "|     5|   2000|\n",
      "|     6|   2000|\n",
      "|     7|   2000|\n",
      "|     8|   2000|\n",
      "|     9|   2000|\n",
      "|    10|   2000|\n",
      "+------+-------+\n",
      "only showing top 10 rows\n",
      "\n"
     ]
    }
   ],
   "execution_count": 3
  },
  {
   "metadata": {
    "ExecuteTime": {
     "end_time": "2024-12-26T18:20:35.786991Z",
     "start_time": "2024-12-26T18:20:16.483219Z"
    }
   },
   "cell_type": "code",
   "source": [
    "rides_source_df.show(10)\n",
    "#rides_source_df.cache() # De cache loste de memory problemen niet op"
   ],
   "id": "136a30e36181e14",
   "outputs": [
    {
     "name": "stdout",
     "output_type": "stream",
     "text": [
      "+------+-------------------+-------------------+--------------+-----------+---------+--------------------+\n",
      "|rideid|          starttime|            endtime|subscriptionid|startlockid|endlockid|         distance_km|\n",
      "+------+-------------------+-------------------+--------------+-----------+---------+--------------------+\n",
      "|    15|2019-09-22 08:46:43|2019-09-22 09:01:36|         13296|       4849|     3188|3.443000000000000000|\n",
      "|    16|2019-09-22 08:19:51|2019-09-22 08:21:55|         45924|       NULL|     NULL|0.487000000000000000|\n",
      "|    17|2019-09-22 08:27:38|2019-09-22 08:30:25|         25722|       2046|     1951|0.699000000000000000|\n",
      "|    18|2019-09-22 08:41:48|2019-09-22 08:46:52|         31000|       1821|     2186|1.406000000000000000|\n",
      "|    19|2019-09-22 08:50:08|2019-09-22 09:09:02|         59732|       6382|     2700|4.884000000000000000|\n",
      "|    20|2019-09-22 08:29:42|2019-09-22 08:31:40|          NULL|       NULL|     NULL|0.509000000000000000|\n",
      "|    21|2019-09-22 08:05:17|2019-09-22 08:14:44|         31055|       1388|     3401|1.506000000000000000|\n",
      "|    22|2019-09-22 08:39:11|2019-09-22 08:44:46|         65164|       2572|       13|1.402000000000000000|\n",
      "|    23|2019-09-22 08:23:27|2019-09-22 08:30:02|         71164|         50|     2067|1.744000000000000000|\n",
      "|    24|2019-09-22 08:20:54|2019-09-22 08:22:47|         68426|       NULL|     NULL|0.654000000000000000|\n",
      "+------+-------------------+-------------------+--------------+-----------+---------+--------------------+\n",
      "only showing top 10 rows\n",
      "\n"
     ]
    }
   ],
   "execution_count": 4
  },
  {
   "metadata": {},
   "cell_type": "markdown",
   "source": "### Read from deltatables",
   "id": "918fa361f6468f22"
  },
  {
   "metadata": {
    "ExecuteTime": {
     "end_time": "2024-12-26T18:20:41.012982Z",
     "start_time": "2024-12-26T18:20:38.921625Z"
    }
   },
   "cell_type": "code",
   "source": [
    "#EXTRACT\n",
    "# Dimension date\n",
    "dim_date = spark.read.format(\"delta\").load(\"spark-warehouse/dimdate\")\n",
    "\n",
    "# Dimension weather\n",
    "dim_weather = spark.read.format(\"delta\").load(\"spark-warehouse/dimweather\")\n",
    "\n",
    "# Dimension customer\n",
    "dim_customer = spark.read.format(\"delta\").load(\"spark-warehouse/dimuser\")\n",
    "\n",
    "# Dimension lock\n",
    "dim_lock = spark.read.format(\"delta\").load(\"spark-warehouse/dimlock\")\n",
    "\n"
   ],
   "id": "8ab2574fb49e10fa",
   "outputs": [],
   "execution_count": 5
  },
  {
   "metadata": {},
   "cell_type": "markdown",
   "source": "### Read from weather data source",
   "id": "fe3de972c98c971d"
  },
  {
   "metadata": {
    "ExecuteTime": {
     "end_time": "2024-12-26T18:20:46.748023Z",
     "start_time": "2024-12-26T18:20:45.412510Z"
    }
   },
   "cell_type": "code",
   "source": [
    "#EXTRACT\n",
    "weather_responses = spark.read.format(\"json\").option(\"multiLine\",True).load(\"weather\")\n",
    "weather_responses.show(10)"
   ],
   "id": "2f2acde511b34f5",
   "outputs": [
    {
     "name": "stdout",
     "output_type": "stream",
     "text": [
      "+--------+------+---+--------------+----------+-------+--------------------+-----+------+--------------------+--------+----------+--------------------+-----------------+-------+\n",
      "|    base|clouds|cod|         coord|        dt|     id|                main| name|  rain|                 sys|timezone|visibility|             weather|             wind|zipCode|\n",
      "+--------+------+---+--------------+----------+-------+--------------------+-----+------+--------------------+--------+----------+--------------------+-----------------+-------+\n",
      "|stations| {100}|200|{44.34, 10.99}|1583593967|3163858|{298.74, 933, 64,...|Zocca|{3.16}|{IT, 2075663, 166...|    7200|     10000|[{overcast clouds...|{349, 1.18, 0.62}|   2000|\n",
      "|stations| {100}|200|{44.34, 10.99}|1583132121|3163858|{298.74, 933, 64,...|Zocca|{3.16}|{IT, 2075663, 166...|    7200|     10000|[{overcast clouds...|{349, 1.18, 0.62}|   2018|\n",
      "|stations| {100}|200|{44.34, 10.99}|1583134645|3163858|{298.74, 933, 64,...|Zocca|{3.16}|{IT, 2075663, 166...|    7200|     10000|[{overcast clouds...|{349, 1.18, 0.62}|   2020|\n",
      "|stations| {100}|200|{44.34, 10.99}|1585973548|3163858|{298.74, 933, 64,...|Zocca|{3.16}|{IT, 2075663, 166...|    7200|     10000|[{overcast clouds...|{349, 1.18, 0.62}|   2030|\n",
      "|stations| {100}|200|{44.34, 10.99}|1569163778|3163858|{298.74, 933, 64,...|Zocca|{3.16}|{IT, 2075663, 166...|    7200|     10000|[{overcast clouds...|{349, 1.18, 0.62}|   2050|\n",
      "|stations| {100}|200|{44.34, 10.99}|1569968446|3163858|{298.74, 933, 64,...|Zocca|{3.16}|{IT, 2075663, 166...|    7200|     10000|[{overcast clouds...|{349, 1.18, 0.62}|   2060|\n",
      "|stations| {100}|200|{44.34, 10.99}|1575264035|3163858|{298.74, 933, 64,...|Zocca|{3.16}|{IT, 2075663, 166...|    7200|     10000|[{overcast clouds...|{349, 1.18, 0.62}|   2100|\n",
      "|stations| {100}|200|{44.34, 10.99}|1619936979|3163858|{298.74, 933, 64,...|Zocca|{3.16}|{IT, 2075663, 166...|    7200|     10000|[{overcast clouds...|{349, 1.18, 0.62}|   2140|\n",
      "|stations| {100}|200|{44.34, 10.99}|1656838375|3163858|{298.74, 933, 64,...|Zocca|{3.16}|{IT, 2075663, 166...|    7200|     10000|[{overcast clouds...|{349, 1.18, 0.62}|   2170|\n",
      "|stations| {100}|200|{44.34, 10.99}|1659778730|3163858|{298.74, 933, 64,...|Zocca|{3.16}|{IT, 2075663, 166...|    7200|     10000|[{overcast clouds...|{349, 1.18, 0.62}|   2600|\n",
      "+--------+------+---+--------------+----------+-------+--------------------+-----+------+--------------------+--------+----------+--------------------+-----------------+-------+\n",
      "only showing top 10 rows\n",
      "\n"
     ]
    }
   ],
   "execution_count": 6
  },
  {
   "metadata": {},
   "cell_type": "markdown",
   "source": "## Create tempviews",
   "id": "22d0cb85fdb74c02"
  },
  {
   "metadata": {
    "ExecuteTime": {
     "end_time": "2024-12-26T18:20:48.600807Z",
     "start_time": "2024-12-26T18:20:48.525408Z"
    }
   },
   "cell_type": "code",
   "source": [
    "# Rides source table\n",
    "rides_source_df.createOrReplaceTempView(\"ridesSource\")\n",
    "\n",
    "# Table with lockid's and zipcodes\n",
    "locks_with_zip.createOrReplaceTempView(\"locksZip\")\n",
    "\n",
    "# Dimension date\n",
    "dim_date.createOrReplaceTempView(\"dimDate\")\n",
    "\n",
    "# Dimension weather\n",
    "dim_weather.createOrReplaceTempView(\"dimWeather\")\n",
    "\n",
    "# Weather responses\n",
    "weather_responses.createOrReplaceTempView(\"weatherResponses\")\n",
    "\n",
    "# Dimension customer\n",
    "dim_customer.createOrReplaceTempView(\"dimCustomer\")\n",
    "\n",
    "# Dimension lock\n",
    "dim_lock.createOrReplaceTempView(\"dimLock\")"
   ],
   "id": "cee69800b538c0d7",
   "outputs": [],
   "execution_count": 7
  },
  {
   "metadata": {},
   "cell_type": "markdown",
   "source": "## Add zipcodes to rides table",
   "id": "8b21081cb158aaad"
  },
  {
   "metadata": {},
   "cell_type": "markdown",
   "source": "Join ridesSource with locksZip on lockid so we can add the zipcode to the rides table",
   "id": "e10f71814786bcc5"
  },
  {
   "metadata": {
    "ExecuteTime": {
     "end_time": "2024-12-26T18:21:11.438289Z",
     "start_time": "2024-12-26T18:20:50.531613Z"
    }
   },
   "cell_type": "code",
   "source": [
    "# TRANSFORM\n",
    "rides_with_zipcodes = spark.sql(\"select src.rideid, src.starttime, src.endtime, src.subscriptionid, src.startlockid, \\\n",
    "                                 src.endlockid, src.distance_km, lz.zipcode as startlockZipcode\\\n",
    "                                 from ridesSource as src \\\n",
    "                                 left outer join locksZip as lz on src.startlockid = lz.lockid\")\n",
    "rides_with_zipcodes.show(10)"
   ],
   "id": "d210b507dace370f",
   "outputs": [
    {
     "name": "stdout",
     "output_type": "stream",
     "text": [
      "+------+-------------------+-------------------+--------------+-----------+---------+--------------------+----------------+\n",
      "|rideid|          starttime|            endtime|subscriptionid|startlockid|endlockid|         distance_km|startlockZipcode|\n",
      "+------+-------------------+-------------------+--------------+-----------+---------+--------------------+----------------+\n",
      "|    18|2019-09-22 08:41:48|2019-09-22 08:46:52|         31000|       1821|     2186|1.406000000000000000|            2018|\n",
      "|    23|2019-09-22 08:23:27|2019-09-22 08:30:02|         71164|         50|     2067|1.744000000000000000|            2000|\n",
      "|    15|2019-09-22 08:46:43|2019-09-22 09:01:36|         13296|       4849|     3188|3.443000000000000000|            2140|\n",
      "|    19|2019-09-22 08:50:08|2019-09-22 09:09:02|         59732|       6382|     2700|4.884000000000000000|            2660|\n",
      "|    25|2019-09-22 08:48:14|2019-09-22 08:52:45|           999|        985|     2148|1.061000000000000000|            2018|\n",
      "|    16|2019-09-22 08:19:51|2019-09-22 08:21:55|         45924|       NULL|     NULL|0.487000000000000000|            NULL|\n",
      "|    17|2019-09-22 08:27:38|2019-09-22 08:30:25|         25722|       2046|     1951|0.699000000000000000|            2000|\n",
      "|    20|2019-09-22 08:29:42|2019-09-22 08:31:40|          NULL|       NULL|     NULL|0.509000000000000000|            NULL|\n",
      "|    21|2019-09-22 08:05:17|2019-09-22 08:14:44|         31055|       1388|     3401|1.506000000000000000|            2018|\n",
      "|    22|2019-09-22 08:39:11|2019-09-22 08:44:46|         65164|       2572|       13|1.402000000000000000|            2000|\n",
      "+------+-------------------+-------------------+--------------+-----------+---------+--------------------+----------------+\n",
      "only showing top 10 rows\n",
      "\n"
     ]
    }
   ],
   "execution_count": 8
  },
  {
   "metadata": {
    "ExecuteTime": {
     "end_time": "2024-12-26T18:21:14.216315Z",
     "start_time": "2024-12-26T18:21:14.200477Z"
    }
   },
   "cell_type": "code",
   "source": "rides_with_zipcodes.createOrReplaceTempView(\"ridesWithZip\")",
   "id": "e586ec69316a116e",
   "outputs": [],
   "execution_count": 9
  },
  {
   "metadata": {},
   "cell_type": "markdown",
   "source": "## Transform weather responses table",
   "id": "bb87cc70b13038d2"
  },
  {
   "metadata": {},
   "cell_type": "markdown",
   "source": [
    "Add weather_ID based on the weather type (condition_id)\n",
    "\n",
    "Condition id:\n",
    "- < 800: All codes with a number smaller than 800 means rain in some form. (=onaangenaam code 2)\n",
    "- = 800: This code means clear sky and sunshine (=aangenaam code 1 if temperature is higher than 15 degrees Celsius)\n",
    "- \\> 800: All other weather conditions (Neutraal code 3)"
   ],
   "id": "c71761d400efc5fc"
  },
  {
   "metadata": {
    "ExecuteTime": {
     "end_time": "2024-12-26T18:21:17.022746Z",
     "start_time": "2024-12-26T18:21:16.557606Z"
    }
   },
   "cell_type": "code",
   "source": [
    "#TRANSFORM\n",
    "short_weather_responses = spark.sql(\"select zipCode as zip_code, dt as timestamp, weather.id[0] as condition_id, main.temp as temperature, \\\n",
    "                                    case \\\n",
    "                                        when condition_id < 800 then 2 \\\n",
    "                                        when condition_id = 800 and main.temp > (273 + 15) then 1 \\\n",
    "                                        when condition_id = 800 and main.temp < (273 + 15) then 3 \\\n",
    "                                        when condition_id > 800 then 3 \\\n",
    "                                    else 4 \\\n",
    "                                    end as weather_ID \\\n",
    "                                    from weatherResponses\")\n",
    "short_weather_responses.show(10)"
   ],
   "id": "3c18954ca1662ff7",
   "outputs": [
    {
     "name": "stdout",
     "output_type": "stream",
     "text": [
      "+--------+----------+------------+-----------+----------+\n",
      "|zip_code| timestamp|condition_id|temperature|weather_ID|\n",
      "+--------+----------+------------+-----------+----------+\n",
      "|    2000|1583593967|         804|     298.48|         3|\n",
      "|    2018|1583132121|         804|     298.48|         3|\n",
      "|    2020|1583134645|         804|     298.48|         3|\n",
      "|    2030|1585973548|         804|     298.48|         3|\n",
      "|    2050|1569163778|         804|     298.48|         3|\n",
      "|    2060|1569968446|         804|     298.48|         3|\n",
      "|    2100|1575264035|         804|     298.48|         3|\n",
      "|    2140|1619936979|         804|     298.48|         3|\n",
      "|    2170|1656838375|         804|     298.48|         3|\n",
      "|    2600|1659778730|         804|     298.48|         3|\n",
      "+--------+----------+------------+-----------+----------+\n",
      "only showing top 10 rows\n",
      "\n"
     ]
    }
   ],
   "execution_count": 10
  },
  {
   "metadata": {
    "ExecuteTime": {
     "end_time": "2024-12-26T18:21:19.166775Z",
     "start_time": "2024-12-26T18:21:19.154392Z"
    }
   },
   "cell_type": "code",
   "source": "short_weather_responses.createOrReplaceTempView(\"shortWeatherResponses\")",
   "id": "bd06a92167783835",
   "outputs": [],
   "execution_count": 11
  },
  {
   "metadata": {},
   "cell_type": "markdown",
   "source": "## Build facts table",
   "id": "c375e6bee2760aa2"
  },
  {
   "metadata": {
    "ExecuteTime": {
     "end_time": "2024-12-26T18:22:21.998420Z",
     "start_time": "2024-12-26T18:21:52.831854Z"
    }
   },
   "cell_type": "code",
   "source": [
    "#TRANSFORM\n",
    "rides_fact_df = spark.sql(\"select src.rideid as ride_ID, dd.date_SK, \\\n",
    "                          coalesce(dw.weather_SK, 3) as weather_SK, \\\n",
    "                          1 as count_MV, \\\n",
    "                          (unix_timestamp(endtime) - unix_timestamp(starttime)) as rideDuration_MV, \\\n",
    "                          md5(concat(src.rideid, dd.date_SK, coalesce(dw.weather_SK, 3), 1, rideDuration_MV)) as md5, \\\n",
    "                          dls.lock_SK as start_lock_SK, dls.lockid as start_lockid, dle.lock_SK as end_lock_SK, dle.lockid as end_lockid, \\\n",
    "                          dc.user_SK, md5(concat(dc.country_code, dc.city, dc.street, dc.number)) as md5_customer,\\\n",
    "                          src.distance_km\\\n",
    "                          from ridesWithZip as src \\\n",
    "                          left outer join dimDate as dd \\\n",
    "                          on cast(src.starttime as DATE) = cast(dd.CalendarDate as DATE) \\\n",
    "                          left outer join shortWeatherResponses wr \\\n",
    "                          on src.startlockZipcode = wr.zip_code \\\n",
    "                          and date_format(src.starttime, 'yyyy-MM-dd-HH') = date_format(from_unixtime(wr.timestamp),'yyyy-MM-dd-HH') \\\n",
    "                          left outer join dimWeather dw on dw.weather_id = wr.weather_ID \\\n",
    "                          left outer join dimLock dls on src.startlockid = dls.lockid \\\n",
    "                          left outer join dimLock dle on src.endlockid = dle.lockid\\\n",
    "                          left outer join dimCustomer dc on src.subscriptionid = dc.subscriptionid\\\n",
    "                          where src.subscriptionid is not null and dc.userid is not null\")\n",
    "\n",
    "rides_fact_df.show(10)"
   ],
   "id": "629d1cdcbba63806",
   "outputs": [
    {
     "name": "stdout",
     "output_type": "stream",
     "text": [
      "+-------+-------+----------+--------+---------------+--------------------+--------------------+------------+--------------------+----------+--------------------+--------------------+--------------------+\n",
      "|ride_ID|date_SK|weather_SK|count_MV|rideDuration_MV|                 md5|       start_lock_SK|start_lockid|         end_lock_SK|end_lockid|             user_SK|        md5_customer|         distance_km|\n",
      "+-------+-------+----------+--------+---------------+--------------------+--------------------+------------+--------------------+----------+--------------------+--------------------+--------------------+\n",
      "|     26|     21|         3|       1|            641|0495f90b50d12567e...|c8d828b4-7a7a-454...|        2039|44285650-29b8-463...|      3038|18f10062-3196-4b6...|90da6c113a7195acf...|2.545000000000000000|\n",
      "|     27|     21|         3|       1|           1176|7d493b85be00b2a6d...|fca18185-e0a8-4c1...|        5619|b8346f7d-5d5e-475...|      2717|049cb35c-3492-48d...|d16d79cc9ef0f3083...|5.576000000000000000|\n",
      "|     34|     21|         3|       1|            677|9e6c18e335cb603d9...|2d592173-16e5-46f...|         982|62f97e52-fab0-428...|      2015|444aca14-d86e-476...|4e5196b6f2e8f6e48...|2.349000000000000000|\n",
      "|     36|     21|         3|       1|           1066|3994164be2545f135...|321b5ecb-5553-43b...|        6421|040f1dbb-94a8-420...|      1208|2994fb2d-b558-499...|077b1183566327ab9...|4.154000000000000000|\n",
      "|     43|     21|         3|       1|            391|8c6a7f5b38fdecf27...|ce42ecc5-80da-4da...|        2507|8d22c712-48c3-4f1...|      2365|ead473be-583f-4f8...|3087112aec85b5d3f...|1.553000000000000000|\n",
      "|     50|     21|         3|       1|            314|f4d745d86eefd588c...|c03da494-92c8-4e1...|        2962|2d21d64c-0f66-433...|      2973|b40e9067-4449-4b1...|343beb0626fbd6666...|1.328000000000000000|\n",
      "|     77|     21|         3|       1|            488|071567b47f2d1d9cc...|da15f761-61d6-4c4...|        3165|1c4d7680-71e6-408...|      2782|d1537d6a-760b-46d...|af02fd2772928819c...|1.783000000000000000|\n",
      "|     86|     21|         0|       1|            647|0dd0246ba96641b47...|e8550288-6172-493...|         750|7e641b2e-73ad-453...|      5746|ff6201ec-6f06-460...|49e7d0de0847b5ebc...|3.183000000000000000|\n",
      "|     93|     21|         3|       1|           1064|001a454457862e0a9...|153e7500-fac0-448...|        7185|869049ad-3906-43c...|      3112|e550690e-4505-459...|23200c18c8d3d209b...|6.125000000000000000|\n",
      "|    103|     21|         3|       1|            195|07005a36525fbfc1d...|74b495ed-0710-429...|        2806|8708a2bf-b15f-40d...|      3229|f6221521-4b98-411...|a9e2281a527473fc7...|0.737000000000000000|\n",
      "+-------+-------+----------+--------+---------------+--------------------+--------------------+------------+--------------------+----------+--------------------+--------------------+--------------------+\n",
      "only showing top 10 rows\n",
      "\n"
     ]
    }
   ],
   "execution_count": 13
  },
  {
   "metadata": {},
   "cell_type": "markdown",
   "source": "### Create temview from facts table",
   "id": "2a5d8d8b2b2878a7"
  },
  {
   "metadata": {
    "ExecuteTime": {
     "end_time": "2024-12-26T18:28:45.889072Z",
     "start_time": "2024-12-26T18:28:45.870117Z"
    }
   },
   "cell_type": "code",
   "source": "rides_fact_df.createOrReplaceTempView(\"factRides_new\")",
   "id": "35c980efea70ba7c",
   "outputs": [],
   "execution_count": 14
  },
  {
   "metadata": {},
   "cell_type": "markdown",
   "source": "## Write facts table to delta table: Initial load",
   "id": "3982c905d6e38c4b"
  },
  {
   "metadata": {
    "ExecuteTime": {
     "end_time": "2024-12-26T18:29:16.975228Z",
     "start_time": "2024-12-26T18:28:48.721477Z"
    }
   },
   "cell_type": "code",
   "source": [
    "# LOAD\n",
    "rides_fact_df.write.format(\"delta\").mode(\"overwrite\").saveAsTable(\"factRides\")"
   ],
   "id": "bfc28907c0791b44",
   "outputs": [],
   "execution_count": 15
  },
  {
   "metadata": {},
   "cell_type": "markdown",
   "source": "## Incremental load",
   "id": "4c7accdf334aa1ac"
  },
  {
   "metadata": {
    "ExecuteTime": {
     "end_time": "2024-12-26T18:30:34.803897Z",
     "start_time": "2024-12-26T18:29:59.355289Z"
    }
   },
   "cell_type": "code",
   "source": [
    "#LOAD\n",
    "dt_factRides = DeltaTable.forPath(spark,\".\\spark-warehouse\\\\factrides\")\n",
    "dt_factRides.toDF().createOrReplaceTempView(\"factRides_current\")\n",
    "\n",
    "result = spark.sql(\"merge into factRides_current as target \\\n",
    "                   using factRides_new as source on target.ride_ID = source.ride_ID \\\n",
    "                   when matched and (target.md5 <> source.md5 or target.md5_customer <> source.md5_customer) then update set * \\\n",
    "                   when not matched then insert *\")\n",
    "\n",
    "result.show()"
   ],
   "id": "a9f0e0a4e63a43bb",
   "outputs": [
    {
     "name": "stdout",
     "output_type": "stream",
     "text": [
      "+-----------------+----------------+----------------+-----------------+\n",
      "|num_affected_rows|num_updated_rows|num_deleted_rows|num_inserted_rows|\n",
      "+-----------------+----------------+----------------+-----------------+\n",
      "|                0|               0|               0|                0|\n",
      "+-----------------+----------------+----------------+-----------------+\n",
      "\n"
     ]
    }
   ],
   "execution_count": 17
  },
  {
   "metadata": {
    "ExecuteTime": {
     "end_time": "2024-12-26T18:30:35.102143Z",
     "start_time": "2024-12-26T18:30:34.809904Z"
    }
   },
   "cell_type": "code",
   "source": "spark.stop()",
   "id": "dfa054e8b32a32a2",
   "outputs": [],
   "execution_count": 18
  }
 ],
 "metadata": {
  "kernelspec": {
   "display_name": "Python 3",
   "language": "python",
   "name": "python3"
  },
  "language_info": {
   "codemirror_mode": {
    "name": "ipython",
    "version": 2
   },
   "file_extension": ".py",
   "mimetype": "text/x-python",
   "name": "python",
   "nbconvert_exporter": "python",
   "pygments_lexer": "ipython2",
   "version": "2.7.6"
  }
 },
 "nbformat": 4,
 "nbformat_minor": 5
}
