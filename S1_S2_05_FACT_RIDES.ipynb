{
 "cells": [
  {
   "metadata": {},
   "cell_type": "markdown",
   "source": "# Config stuff",
   "id": "21015048f40aff18"
  },
  {
   "cell_type": "code",
   "id": "initial_id",
   "metadata": {
    "collapsed": true,
    "ExecuteTime": {
     "end_time": "2025-01-07T13:42:59.352062Z",
     "start_time": "2025-01-07T13:42:59.347927Z"
    }
   },
   "source": [
    "import ConnectionConfig as cc\n",
    "from delta import DeltaTable\n",
    "cc.setupEnvironment()"
   ],
   "outputs": [],
   "execution_count": 14
  },
  {
   "metadata": {},
   "cell_type": "markdown",
   "source": "# Start local cluster",
   "id": "4baf5e0d3af12170"
  },
  {
   "metadata": {
    "ExecuteTime": {
     "end_time": "2025-01-07T13:43:04.735868Z",
     "start_time": "2025-01-07T13:43:01.347420Z"
    }
   },
   "cell_type": "code",
   "source": [
    "spark = cc.startLocalCluster(\"FACT_RIDES\")\n",
    "spark.getActiveSession()"
   ],
   "id": "1682df97d406f91b",
   "outputs": [
    {
     "data": {
      "text/plain": [
       "<pyspark.sql.session.SparkSession at 0x16072e2a910>"
      ],
      "text/html": [
       "\n",
       "            <div>\n",
       "                <p><b>SparkSession - in-memory</b></p>\n",
       "                \n",
       "        <div>\n",
       "            <p><b>SparkContext</b></p>\n",
       "\n",
       "            <p><a href=\"http://127.0.0.1:4041\">Spark UI</a></p>\n",
       "\n",
       "            <dl>\n",
       "              <dt>Version</dt>\n",
       "                <dd><code>v3.5.2</code></dd>\n",
       "              <dt>Master</dt>\n",
       "                <dd><code>local[*]</code></dd>\n",
       "              <dt>AppName</dt>\n",
       "                <dd><code>FACT_RIDES</code></dd>\n",
       "            </dl>\n",
       "        </div>\n",
       "        \n",
       "            </div>\n",
       "        "
      ]
     },
     "execution_count": 15,
     "metadata": {},
     "output_type": "execute_result"
    }
   ],
   "execution_count": 15
  },
  {
   "metadata": {},
   "cell_type": "markdown",
   "source": "# Create facts table: rides",
   "id": "b9b9b6d7e21766e7"
  },
  {
   "metadata": {},
   "cell_type": "markdown",
   "source": "## Read from sources",
   "id": "1380829350c8bdbe"
  },
  {
   "metadata": {},
   "cell_type": "markdown",
   "source": "### Read from VeloDB database",
   "id": "8275f9036f4aefa4"
  },
  {
   "metadata": {
    "ExecuteTime": {
     "end_time": "2025-01-07T13:52:03.111839Z",
     "start_time": "2025-01-07T13:51:47.546865Z"
    }
   },
   "cell_type": "code",
   "source": [
    "#EXTRACT\n",
    "\n",
    "cc.set_connectionProfile(\"VeloDB\")\n",
    "\n",
    "# Read rides table from source VeloDB database\n",
    "# Only rows after 2019-01-01 will be read because older rows are corrupt\n",
    "rides_source_df = spark.read \\\n",
    "    .format(\"jdbc\") \\\n",
    "    .option(\"url\", cc.create_jdbc()) \\\n",
    "    .option(\"driver\" , cc.get_Property(\"driver\")) \\\n",
    "    .option(\"dbtable\", \"(select rideid, starttime, endtime, subscriptionid, startlockid, endlockid, round(haversine_km(startpoint[0] :: numeric, startpoint[1]:: numeric, endpoint[0]:: numeric, endpoint[1]:: numeric),3) as distance_km_MV from rides where starttime > '2019-01-01') as subq\") \\\n",
    "    .option(\"user\", cc.get_Property(\"username\")) \\\n",
    "    .option(\"password\", cc.get_Property(\"password\")) \\\n",
    "    .option(\"partitionColumn\", \"rideid\") \\\n",
    "    .option(\"numPartitions\", 4) \\\n",
    "    .option(\"lowerBound\", 0) \\\n",
    "    .option(\"upperBound\", 4140000) \\\n",
    "    .load()\n",
    "\n",
    "rides_source_df.show(10)"
   ],
   "id": "f78ee4179ebf769b",
   "outputs": [
    {
     "name": "stdout",
     "output_type": "stream",
     "text": [
      "+------+-------------------+-------------------+--------------+-----------+---------+--------------------+\n",
      "|rideid|          starttime|            endtime|subscriptionid|startlockid|endlockid|      distance_km_mv|\n",
      "+------+-------------------+-------------------+--------------+-----------+---------+--------------------+\n",
      "|    15|2019-09-22 08:46:43|2019-09-22 09:01:36|         13296|       4849|     3188|3.443000000000000000|\n",
      "|    16|2019-09-22 08:19:51|2019-09-22 08:21:55|         45924|       NULL|     NULL|0.487000000000000000|\n",
      "|    17|2019-09-22 08:27:38|2019-09-22 08:30:25|         25722|       2046|     1951|0.699000000000000000|\n",
      "|    18|2019-09-22 08:41:48|2019-09-22 08:46:52|         31000|       1821|     2186|1.406000000000000000|\n",
      "|    19|2019-09-22 08:50:08|2019-09-22 09:09:02|         59732|       6382|     2700|4.884000000000000000|\n",
      "|    20|2019-09-22 08:29:42|2019-09-22 08:31:40|          NULL|       NULL|     NULL|0.509000000000000000|\n",
      "|    21|2019-09-22 08:05:17|2019-09-22 08:14:44|         31055|       1388|     3401|1.506000000000000000|\n",
      "|    22|2019-09-22 08:39:11|2019-09-22 08:44:46|         65164|       2572|       13|1.402000000000000000|\n",
      "|    23|2019-09-22 08:23:27|2019-09-22 08:30:02|         71164|         50|     2067|1.744000000000000000|\n",
      "|    24|2019-09-22 08:20:54|2019-09-22 08:22:47|         68426|       NULL|     NULL|0.654000000000000000|\n",
      "+------+-------------------+-------------------+--------------+-----------+---------+--------------------+\n",
      "only showing top 10 rows\n",
      "\n"
     ]
    }
   ],
   "execution_count": 18
  },
  {
   "metadata": {},
   "cell_type": "markdown",
   "source": "### Read from deltatables",
   "id": "918fa361f6468f22"
  },
  {
   "metadata": {
    "ExecuteTime": {
     "end_time": "2025-01-07T13:52:10.867050Z",
     "start_time": "2025-01-07T13:52:10.825109Z"
    }
   },
   "cell_type": "code",
   "source": [
    "#EXTRACT\n",
    "# Dimension date\n",
    "dim_date = spark.read.format(\"delta\").load(\"spark-warehouse/dimdate\")\n",
    "\n",
    "# Dimension weather\n",
    "dim_weather = spark.read.format(\"delta\").load(\"spark-warehouse/dimweather\")\n",
    "\n",
    "# Dimension customer\n",
    "dim_customer = spark.read.format(\"delta\").load(\"spark-warehouse/dimuser\")\n",
    "\n",
    "# Dimension lock\n",
    "dim_lock = spark.read.format(\"delta\").load(\"spark-warehouse/dimlock\")"
   ],
   "id": "8ab2574fb49e10fa",
   "outputs": [],
   "execution_count": 19
  },
  {
   "metadata": {},
   "cell_type": "markdown",
   "source": "### Read from weather data source",
   "id": "fe3de972c98c971d"
  },
  {
   "metadata": {
    "ExecuteTime": {
     "end_time": "2025-01-07T13:52:14.396785Z",
     "start_time": "2025-01-07T13:52:13.467778Z"
    }
   },
   "cell_type": "code",
   "source": [
    "#EXTRACT\n",
    "weather_responses = spark.read.format(\"json\").option(\"multiLine\",True).load(\"weather\")\n",
    "weather_responses.show(10)"
   ],
   "id": "2f2acde511b34f5",
   "outputs": [
    {
     "name": "stdout",
     "output_type": "stream",
     "text": [
      "+--------+------+---+--------------+----------+-------+--------------------+-----+------+--------------------+--------+----------+--------------------+-----------------+-------+\n",
      "|    base|clouds|cod|         coord|        dt|     id|                main| name|  rain|                 sys|timezone|visibility|             weather|             wind|zipCode|\n",
      "+--------+------+---+--------------+----------+-------+--------------------+-----+------+--------------------+--------+----------+--------------------+-----------------+-------+\n",
      "|stations| {100}|200|{44.34, 10.99}|1583593967|3163858|{298.74, 933, 64,...|Zocca|{3.16}|{IT, 2075663, 166...|    7200|     10000|[{overcast clouds...|{349, 1.18, 0.62}|   2000|\n",
      "|stations| {100}|200|{44.34, 10.99}|1583132121|3163858|{298.74, 933, 64,...|Zocca|{3.16}|{IT, 2075663, 166...|    7200|     10000|[{overcast clouds...|{349, 1.18, 0.62}|   2018|\n",
      "|stations| {100}|200|{44.34, 10.99}|1583134645|3163858|{298.74, 933, 64,...|Zocca|{3.16}|{IT, 2075663, 166...|    7200|     10000|[{overcast clouds...|{349, 1.18, 0.62}|   2020|\n",
      "|stations| {100}|200|{44.34, 10.99}|1585973548|3163858|{298.74, 933, 64,...|Zocca|{3.16}|{IT, 2075663, 166...|    7200|     10000|[{overcast clouds...|{349, 1.18, 0.62}|   2030|\n",
      "|stations| {100}|200|{44.34, 10.99}|1569163778|3163858|{298.74, 933, 64,...|Zocca|{3.16}|{IT, 2075663, 166...|    7200|     10000|[{overcast clouds...|{349, 1.18, 0.62}|   2050|\n",
      "|stations| {100}|200|{44.34, 10.99}|1569968446|3163858|{298.74, 933, 64,...|Zocca|{3.16}|{IT, 2075663, 166...|    7200|     10000|[{overcast clouds...|{349, 1.18, 0.62}|   2060|\n",
      "|stations| {100}|200|{44.34, 10.99}|1575264035|3163858|{298.74, 933, 64,...|Zocca|{3.16}|{IT, 2075663, 166...|    7200|     10000|[{overcast clouds...|{349, 1.18, 0.62}|   2100|\n",
      "|stations| {100}|200|{44.34, 10.99}|1619936979|3163858|{298.74, 933, 64,...|Zocca|{3.16}|{IT, 2075663, 166...|    7200|     10000|[{overcast clouds...|{349, 1.18, 0.62}|   2140|\n",
      "|stations| {100}|200|{44.34, 10.99}|1656838375|3163858|{298.74, 933, 64,...|Zocca|{3.16}|{IT, 2075663, 166...|    7200|     10000|[{overcast clouds...|{349, 1.18, 0.62}|   2170|\n",
      "|stations| {100}|200|{44.34, 10.99}|1659778730|3163858|{298.74, 933, 64,...|Zocca|{3.16}|{IT, 2075663, 166...|    7200|     10000|[{overcast clouds...|{349, 1.18, 0.62}|   2600|\n",
      "+--------+------+---+--------------+----------+-------+--------------------+-----+------+--------------------+--------+----------+--------------------+-----------------+-------+\n",
      "only showing top 10 rows\n",
      "\n"
     ]
    }
   ],
   "execution_count": 20
  },
  {
   "metadata": {},
   "cell_type": "markdown",
   "source": "## Create tempviews",
   "id": "22d0cb85fdb74c02"
  },
  {
   "metadata": {
    "ExecuteTime": {
     "end_time": "2025-01-07T13:52:17.304372Z",
     "start_time": "2025-01-07T13:52:17.271447Z"
    }
   },
   "cell_type": "code",
   "source": [
    "# Rides source table\n",
    "rides_source_df.createOrReplaceTempView(\"ridesSource\")\n",
    "\n",
    "# Dimension date\n",
    "dim_date.createOrReplaceTempView(\"dimDate\")\n",
    "\n",
    "# Dimension weather\n",
    "dim_weather.createOrReplaceTempView(\"dimWeather\")\n",
    "\n",
    "# Weather responses\n",
    "weather_responses.createOrReplaceTempView(\"weatherResponses\")\n",
    "\n",
    "# Dimension customer\n",
    "dim_customer.createOrReplaceTempView(\"dimCustomer\")\n",
    "\n",
    "# Dimension lock\n",
    "dim_lock.createOrReplaceTempView(\"dimLock\")"
   ],
   "id": "cee69800b538c0d7",
   "outputs": [],
   "execution_count": 21
  },
  {
   "metadata": {},
   "cell_type": "markdown",
   "source": "## Transform weather responses table",
   "id": "bb87cc70b13038d2"
  },
  {
   "metadata": {},
   "cell_type": "markdown",
   "source": [
    "Add weather_ID based on the weather type (condition_id)\n",
    "\n",
    "Condition id:\n",
    "- < 800: All codes with a number smaller than 800 means rain in some form. (=onaangenaam code 2)\n",
    "- = 800: This code means clear sky and sunshine (=aangenaam code 1 if temperature is higher than 15 degrees Celsius)\n",
    "- \\> 800: All other weather conditions (Neutraal code 3)"
   ],
   "id": "c71761d400efc5fc"
  },
  {
   "metadata": {
    "ExecuteTime": {
     "end_time": "2025-01-07T13:52:22.569176Z",
     "start_time": "2025-01-07T13:52:22.446717Z"
    }
   },
   "cell_type": "code",
   "source": [
    "#TRANSFORM\n",
    "short_weather_responses = spark.sql(\"select zipCode as zip_code, dt as timestamp, weather.id[0] as condition_id, main.temp as temperature, \\\n",
    "                                    case \\\n",
    "                                        when condition_id < 800 then 2 \\\n",
    "                                        when condition_id = 800 and main.temp > (273 + 15) then 1 \\\n",
    "                                        when condition_id = 800 and main.temp < (273 + 15) then 3 \\\n",
    "                                        when condition_id > 800 then 3 \\\n",
    "                                    else 4 \\\n",
    "                                    end as weather_ID \\\n",
    "                                    from weatherResponses\")\n",
    "short_weather_responses.show(10)"
   ],
   "id": "3c18954ca1662ff7",
   "outputs": [
    {
     "name": "stdout",
     "output_type": "stream",
     "text": [
      "+--------+----------+------------+-----------+----------+\n",
      "|zip_code| timestamp|condition_id|temperature|weather_ID|\n",
      "+--------+----------+------------+-----------+----------+\n",
      "|    2000|1583593967|         804|     298.48|         3|\n",
      "|    2018|1583132121|         804|     298.48|         3|\n",
      "|    2020|1583134645|         804|     298.48|         3|\n",
      "|    2030|1585973548|         804|     298.48|         3|\n",
      "|    2050|1569163778|         804|     298.48|         3|\n",
      "|    2060|1569968446|         804|     298.48|         3|\n",
      "|    2100|1575264035|         804|     298.48|         3|\n",
      "|    2140|1619936979|         804|     298.48|         3|\n",
      "|    2170|1656838375|         804|     298.48|         3|\n",
      "|    2600|1659778730|         804|     298.48|         3|\n",
      "+--------+----------+------------+-----------+----------+\n",
      "only showing top 10 rows\n",
      "\n"
     ]
    }
   ],
   "execution_count": 22
  },
  {
   "metadata": {
    "ExecuteTime": {
     "end_time": "2025-01-07T13:52:26.179059Z",
     "start_time": "2025-01-07T13:52:26.167587Z"
    }
   },
   "cell_type": "code",
   "source": "short_weather_responses.createOrReplaceTempView(\"shortWeatherResponses\")",
   "id": "bd06a92167783835",
   "outputs": [],
   "execution_count": 23
  },
  {
   "metadata": {},
   "cell_type": "markdown",
   "source": "## Build facts table",
   "id": "c375e6bee2760aa2"
  },
  {
   "metadata": {
    "ExecuteTime": {
     "end_time": "2025-01-07T13:53:09.902883Z",
     "start_time": "2025-01-07T13:52:55.266556Z"
    }
   },
   "cell_type": "code",
   "source": [
    "#TRANSFORM\n",
    "rides_fact_df = spark.sql(\"select src.rideid as ride_ID, dd.date_SK, \\\n",
    "                          coalesce(dw.weather_SK, 3) as weather_SK, \\\n",
    "                          dls.lock_SK as start_lock_SK, dle.lock_SK as end_lock_SK, \\\n",
    "                          dc.user_sk,\\\n",
    "                          1 as count_MV, \\\n",
    "                          (unix_timestamp(endtime) - unix_timestamp(starttime)) as rideDuration_MV, \\\n",
    "                          src.distance_km_MV as distance_km_MV,\\\n",
    "                          md5(concat(src.rideid, dd.date_SK, start_lock_SK, end_lock_SK, dc.user_sk,coalesce(dw.weather_SK, 3), 1, rideDuration_MV, distance_km_MV)) as md5 \\\n",
    "                          from ridesSource as src \\\n",
    "                          left outer join dimDate as dd \\\n",
    "                          on cast(src.starttime as DATE) = cast(dd.CalendarDate as DATE) \\\n",
    "                          left outer join dimLock dls on src.startlockid = dls.lockid \\\n",
    "                          left outer join dimLock dle on src.endlockid = dle.lockid \\\n",
    "                          left outer join shortWeatherResponses wr on dls.zipcode = string(wr.zip_code) \\\n",
    "                          and date_format(src.starttime, 'yyyy-MM-dd-HH') = date_format(from_unixtime(wr.timestamp),'yyyy-MM-dd-HH') \\\n",
    "                          left outer join dimWeather dw on dw.weather_id = wr.weather_ID \\\n",
    "                          left outer join dimCustomer dc on src.subscriptionid = dc.subscriptionid and src.starttime > dc.scd_start and src.endtime <= dc.scd_end\\\n",
    "                          where src.subscriptionid is not null and dc.userid is not null\")\n",
    "\n",
    "rides_fact_df.show(10)"
   ],
   "id": "629d1cdcbba63806",
   "outputs": [
    {
     "name": "stdout",
     "output_type": "stream",
     "text": [
      "+-------+-------+----------+--------------------+--------------------+--------------------+--------+---------------+--------------------+--------------------+\n",
      "|ride_ID|date_SK|weather_SK|       start_lock_SK|         end_lock_SK|             user_sk|count_MV|rideDuration_MV|      distance_km_MV|                 md5|\n",
      "+-------+-------+----------+--------------------+--------------------+--------------------+--------+---------------+--------------------+--------------------+\n",
      "|     15|     21|         3|4e038ff3-871f-448...|643ed1fe-ddbc-40f...|ac6b7c94-d7e9-438...|       1|            893|3.443000000000000000|673899ff2c0b745ab...|\n",
      "|     17|     21|         3|31903aea-2d01-45d...|3fcde281-496c-4a6...|5db1da06-e619-459...|       1|            167|0.699000000000000000|23912defa3f38ea2b...|\n",
      "|     19|     21|         3|d2812fef-00d8-470...|800cd0a4-7b1b-409...|91f27a61-db42-4aa...|       1|           1134|4.884000000000000000|29eb775de66e54095...|\n",
      "|     22|     21|         3|65c5ef1c-2f30-4be...|895373b3-7728-4c2...|4d7260e4-8a10-417...|       1|            335|1.402000000000000000|e9f898f622384ddb2...|\n",
      "|     24|     21|         3|                NULL|                NULL|fb72b9b9-5521-4c1...|       1|            113|0.654000000000000000|                NULL|\n",
      "|     25|     21|         3|243acd58-ee9d-410...|cbbbe8bf-06f1-4c3...|881e43f7-8db9-4f2...|       1|            271|1.061000000000000000|ed755bb46b70a8dd2...|\n",
      "|     26|     21|         3|9e80e652-0d01-412...|ba0ba3df-b1af-45d...|18f10062-3196-4b6...|       1|            641|2.545000000000000000|3730e536e7a4e8ac3...|\n",
      "|     27|     21|         3|64c21e9b-4c9d-4d8...|f71eb0bc-a726-4fd...|049cb35c-3492-48d...|       1|           1176|5.576000000000000000|70ab50a4b77a8671c...|\n",
      "|     28|     21|         3|edaab7ff-138b-4f0...|b2888629-0609-442...|732dec2f-a742-4fd...|       1|              0|0.000000000000000000|d86b4a3736f209c56...|\n",
      "|     29|     21|         3|56097f1d-bbfe-4cc...|6fc62d63-8f78-476...|9ea7c53e-ea4a-4fa...|       1|            194|0.893000000000000000|7ee55c4a8269ea3f4...|\n",
      "+-------+-------+----------+--------------------+--------------------+--------------------+--------+---------------+--------------------+--------------------+\n",
      "only showing top 10 rows\n",
      "\n"
     ]
    }
   ],
   "execution_count": 25
  },
  {
   "metadata": {},
   "cell_type": "markdown",
   "source": "### Create temview from facts table",
   "id": "2a5d8d8b2b2878a7"
  },
  {
   "metadata": {
    "ExecuteTime": {
     "end_time": "2025-01-07T13:53:32.851030Z",
     "start_time": "2025-01-07T13:53:32.841391Z"
    }
   },
   "cell_type": "code",
   "source": "rides_fact_df.createOrReplaceTempView(\"factRides_new\")",
   "id": "35c980efea70ba7c",
   "outputs": [],
   "execution_count": 26
  },
  {
   "metadata": {},
   "cell_type": "markdown",
   "source": "## Write facts table to delta table: Initial load",
   "id": "3982c905d6e38c4b"
  },
  {
   "metadata": {
    "ExecuteTime": {
     "end_time": "2025-01-07T13:53:59.455260Z",
     "start_time": "2025-01-07T13:53:34.591486Z"
    }
   },
   "cell_type": "code",
   "source": [
    "# LOAD\n",
    "rides_fact_df.write.format(\"delta\").mode(\"overwrite\").saveAsTable(\"factRides\")"
   ],
   "id": "bfc28907c0791b44",
   "outputs": [],
   "execution_count": 27
  },
  {
   "metadata": {},
   "cell_type": "markdown",
   "source": "## Incremental load",
   "id": "4c7accdf334aa1ac"
  },
  {
   "metadata": {
    "ExecuteTime": {
     "end_time": "2024-12-26T18:30:34.803897Z",
     "start_time": "2024-12-26T18:29:59.355289Z"
    }
   },
   "cell_type": "code",
   "source": [
    "#LOAD\n",
    "dt_factRides = DeltaTable.forPath(spark,\".\\spark-warehouse\\\\factrides\")\n",
    "dt_factRides.toDF().createOrReplaceTempView(\"factRides_current\")\n",
    "\n",
    "result = spark.sql(\"merge into factRides_current as target \\\n",
    "                   using factRides_new as source on target.ride_ID = source.ride_ID \\\n",
    "                   when matched and (target.md5 <> source.md5) then update set * \\\n",
    "                   when not matched then insert *\")\n",
    "\n",
    "result.show()"
   ],
   "id": "a9f0e0a4e63a43bb",
   "outputs": [
    {
     "name": "stdout",
     "output_type": "stream",
     "text": [
      "+-----------------+----------------+----------------+-----------------+\n",
      "|num_affected_rows|num_updated_rows|num_deleted_rows|num_inserted_rows|\n",
      "+-----------------+----------------+----------------+-----------------+\n",
      "|                0|               0|               0|                0|\n",
      "+-----------------+----------------+----------------+-----------------+\n",
      "\n"
     ]
    }
   ],
   "execution_count": 17
  },
  {
   "metadata": {
    "ExecuteTime": {
     "end_time": "2025-01-07T13:40:54.151137Z",
     "start_time": "2025-01-07T13:40:53.893711Z"
    }
   },
   "cell_type": "code",
   "source": "spark.stop()",
   "id": "dfa054e8b32a32a2",
   "outputs": [],
   "execution_count": 13
  }
 ],
 "metadata": {
  "kernelspec": {
   "display_name": "Python 3",
   "language": "python",
   "name": "python3"
  },
  "language_info": {
   "codemirror_mode": {
    "name": "ipython",
    "version": 2
   },
   "file_extension": ".py",
   "mimetype": "text/x-python",
   "name": "python",
   "nbconvert_exporter": "python",
   "pygments_lexer": "ipython2",
   "version": "2.7.6"
  }
 },
 "nbformat": 4,
 "nbformat_minor": 5
}
