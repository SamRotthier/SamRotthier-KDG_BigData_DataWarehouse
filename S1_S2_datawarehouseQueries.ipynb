{
 "cells": [
  {
   "metadata": {},
   "cell_type": "code",
   "outputs": [],
   "execution_count": null,
   "source": "",
   "id": "e7dfcb5d7fc73276"
  },
  {
   "metadata": {},
   "cell_type": "markdown",
   "source": "# Config stuff",
   "id": "914783b83acb7d64"
  },
  {
   "metadata": {
    "ExecuteTime": {
     "end_time": "2024-12-15T11:01:43.847824Z",
     "start_time": "2024-12-15T11:01:42.875018Z"
    }
   },
   "cell_type": "code",
   "source": [
    "from numpy.ma.core import inner\n",
    "\n",
    "import ConnectionConfig as cc\n",
    "from delta import DeltaTable\n",
    "cc.setupEnvironment()"
   ],
   "id": "68fc4ae7f855b752",
   "outputs": [],
   "execution_count": 1
  },
  {
   "metadata": {},
   "cell_type": "markdown",
   "source": "# Start local cluster",
   "id": "bfb319c37b1397c6"
  },
  {
   "metadata": {
    "ExecuteTime": {
     "end_time": "2024-12-15T11:02:12.434379Z",
     "start_time": "2024-12-15T11:01:52.298400Z"
    }
   },
   "cell_type": "code",
   "source": [
    "spark = cc.startLocalCluster(\"FACT_RIDES\")\n",
    "spark.getActiveSession()"
   ],
   "id": "ba2a52af8179001f",
   "outputs": [
    {
     "data": {
      "text/plain": [
       "<pyspark.sql.session.SparkSession at 0x21ae018abd0>"
      ],
      "text/html": [
       "\n",
       "            <div>\n",
       "                <p><b>SparkSession - in-memory</b></p>\n",
       "                \n",
       "        <div>\n",
       "            <p><b>SparkContext</b></p>\n",
       "\n",
       "            <p><a href=\"http://LAPTOP-5LDFMLTG:4040\">Spark UI</a></p>\n",
       "\n",
       "            <dl>\n",
       "              <dt>Version</dt>\n",
       "                <dd><code>v3.5.2</code></dd>\n",
       "              <dt>Master</dt>\n",
       "                <dd><code>local[*]</code></dd>\n",
       "              <dt>AppName</dt>\n",
       "                <dd><code>FACT_RIDES</code></dd>\n",
       "            </dl>\n",
       "        </div>\n",
       "        \n",
       "            </div>\n",
       "        "
      ]
     },
     "execution_count": 2,
     "metadata": {},
     "output_type": "execute_result"
    }
   ],
   "execution_count": 2
  },
  {
   "metadata": {},
   "cell_type": "markdown",
   "source": "# Make tables available",
   "id": "5f866e3e66504480"
  },
  {
   "metadata": {
    "ExecuteTime": {
     "end_time": "2024-12-15T11:02:39.235737Z",
     "start_time": "2024-12-15T11:02:30.559314Z"
    }
   },
   "cell_type": "code",
   "source": [
    "#EXTRACT\n",
    "# Dimension date\n",
    "dim_date = spark.read.format(\"delta\").load(\"spark-warehouse/dimdate\")\n",
    "\n",
    "# Dimension weather\n",
    "dim_weather = spark.read.format(\"delta\").load(\"spark-warehouse/dimweather\")\n",
    "\n",
    "# Fact rides\n",
    "fact_rides = spark.read.format(\"delta\").load(\"spark-warehouse/factrides\")\n",
    "\n",
    "# Make tempviews from tables\n",
    "dim_date.createOrReplaceTempView(\"dimDate\")\n",
    "dim_weather.createOrReplaceTempView(\"dimWeather\")\n",
    "fact_rides.createOrReplaceTempView(\"factRides\")"
   ],
   "id": "3a0e025fe70c4ef1",
   "outputs": [],
   "execution_count": 3
  },
  {
   "metadata": {},
   "cell_type": "markdown",
   "source": "# Analysis queries",
   "id": "cc3a81c37834516"
  },
  {
   "metadata": {},
   "cell_type": "markdown",
   "source": "## Student 1",
   "id": "406305f32e042547"
  },
  {
   "metadata": {},
   "cell_type": "markdown",
   "source": "### Wat zijn de drukke momenten (op dagbasis) in de week t.o.v. het weekend?",
   "id": "fe430977d8a71347"
  },
  {
   "metadata": {
    "ExecuteTime": {
     "end_time": "2024-11-29T13:25:01.878224Z",
     "start_time": "2024-11-29T13:25:00.874138Z"
    }
   },
   "cell_type": "code",
   "source": [
    "spark.sql(\"select dd.DayOfWeekStartMonday, count(fr.count_MV) as CountedRides from factRides fr \\\n",
    "          inner join dimDate dd on fr.date_SK = dd.date_SK \\\n",
    "          group by dd.DayOfWeekStartMonday \\\n",
    "          order by dd.DayOfWeekStartMonday asc \").show()"
   ],
   "id": "ff46f624e6dd4832",
   "outputs": [
    {
     "name": "stdout",
     "output_type": "stream",
     "text": [
      "+--------------------+------------+\n",
      "|DayOfWeekStartMonday|CountedRides|\n",
      "+--------------------+------------+\n",
      "|                   1|      677374|\n",
      "|                   2|      717198|\n",
      "|                   3|      513832|\n",
      "|                   4|      403862|\n",
      "|                   5|      398042|\n",
      "|                   6|      511975|\n",
      "|                   7|      701441|\n",
      "+--------------------+------------+\n",
      "\n"
     ]
    }
   ],
   "execution_count": 18
  },
  {
   "metadata": {},
   "cell_type": "markdown",
   "source": [
    "In de week zijn vooral maandag en dinsdag de drukste dagen. Daarna neemt het aantal rides af elke dag.\n",
    "In het weekend neemt het aantal rides terug toe en is het op zijn drukst op zondag."
   ],
   "id": "8061f7747d088740"
  },
  {
   "metadata": {},
   "cell_type": "markdown",
   "source": "### Hebben datumparameters invloed op de afgelegde afstand?",
   "id": "82ff88784779876c"
  },
  {
   "metadata": {},
   "cell_type": "markdown",
   "source": "### Heeft weer invloed op ritten?",
   "id": "94e2f4ff1c8dd992"
  },
  {
   "metadata": {},
   "cell_type": "markdown",
   "source": [
    "Op welke eigenschappen van de ritten kan het weer een invloed hebben:\n",
    "1) Op aantal afgelegde ritten in een bepaald weertype\n",
    "2) Op de gemiddelde duurtijd van een rit in een bepaald weertype\n",
    "3) Op de gemiddelde afgelegde afstand van een rit in een bepaald weertype"
   ],
   "id": "6b403a08e6241146"
  },
  {
   "metadata": {
    "ExecuteTime": {
     "end_time": "2024-11-29T15:49:25.614668Z",
     "start_time": "2024-11-29T15:49:24.182164Z"
    }
   },
   "cell_type": "code",
   "source": [
    "spark.sql(\"select dw.weather_type, count(count_MV) as CountedRides, \\\n",
    "          round(sum(rideDuration_MV)/count(count_MV)) as AverageRideDuration \\\n",
    "          from factRides fr \\\n",
    "          inner join dimWeather dw on fr.weather_SK = dw.weather_SK \\\n",
    "          group by dw.weather_type \\\n",
    "          having dw.weather_type != 'weertype onbekend'\").show()"
   ],
   "id": "551a170965a4b43d",
   "outputs": [
    {
     "name": "stdout",
     "output_type": "stream",
     "text": [
      "+------------+------------+-------------------+\n",
      "|weather_type|CountedRides|AverageRideDuration|\n",
      "+------------+------------+-------------------+\n",
      "|    Neutraal|         208|              677.0|\n",
      "|   Aangenaam|         197|              718.0|\n",
      "| Onaangenaam|          90|              635.0|\n",
      "+------------+------------+-------------------+\n",
      "\n"
     ]
    }
   ],
   "execution_count": 30
  },
  {
   "metadata": {},
   "cell_type": "markdown",
   "source": [
    "#### 1. Invloed van weer op aantal afgelegde ritten\n",
    "Op basis van de analyse hierboven zouden we kunnen zeggen dat bij neutraal of aangenaam weer er de meeste ritten worden afgewerkt."
   ],
   "id": "2e8d0cba8031da3c"
  },
  {
   "metadata": {},
   "cell_type": "markdown",
   "source": [
    "#### 2. Invloed van weer op de duurtijd van een rit\n",
    "We kunnen uit de analyse afleiden dat gebruikers bij aangenaam weer gemiddeld gezien de langste ritten afleggen op vlak van duurtijd. Bij onaangenaam weer zitten gebruikers het minst lang op hun voertuig.\n",
    "\n",
    "In praktijk weten we echter dat we random weer situaties hebben toegevoegd aan onze data. Dus de patronenen die we hier zien zijn louter toeval."
   ],
   "id": "ea757419731f1b19"
  },
  {
   "metadata": {},
   "cell_type": "markdown",
   "source": "#### 3. Invloed van weer op de afgelegde afstand",
   "id": "d8179872c75207bb"
  },
  {
   "metadata": {},
   "cell_type": "markdown",
   "source": "### Stijgt de populariteit van deelfietsen in Antwerpen met de jaren?",
   "id": "bbbbebaf1d5baa80"
  },
  {
   "metadata": {
    "ExecuteTime": {
     "end_time": "2024-12-15T14:43:52.778872Z",
     "start_time": "2024-12-15T14:43:51.581479Z"
    }
   },
   "cell_type": "code",
   "source": [
    "spark.sql(\"select dd.CalendarYear as Year, count(fr.count_MV) as CountedRides from factRides fr \\\n",
    "          inner join dimDate dd on fr.date_SK = dd.date_SK \\\n",
    "          group by dd.CalendarYear\").show()"
   ],
   "id": "c9a170948a94b422",
   "outputs": [
    {
     "name": "stdout",
     "output_type": "stream",
     "text": [
      "+----+------------+\n",
      "|Year|CountedRides|\n",
      "+----+------------+\n",
      "|2019|      288379|\n",
      "|2021|     1013666|\n",
      "|2020|      958186|\n",
      "|2022|      958269|\n",
      "|2023|      705224|\n",
      "+----+------------+\n",
      "\n"
     ]
    }
   ],
   "execution_count": 19
  },
  {
   "metadata": {},
   "cell_type": "markdown",
   "source": "### Hebben de seizoenen invloed op de ritten?",
   "id": "a3ae8286428561b6"
  },
  {
   "metadata": {},
   "cell_type": "markdown",
   "source": [
    "1. Hoeveel ritten zijn er per seizoen?\n",
    "2. Wat is de gemiddelde duurtijd per rit per seizoen?\n",
    "3. Wat is de gemiddelde afgelegde afstand per rit per seizoen"
   ],
   "id": "8d07979bc1656507"
  },
  {
   "metadata": {
    "ExecuteTime": {
     "end_time": "2024-12-15T15:21:34.522683Z",
     "start_time": "2024-12-15T15:21:33.244509Z"
    }
   },
   "cell_type": "code",
   "source": [
    "spark.sql(\"select CASE \\\n",
    "          when (dd.MonthOfYear = 12 and dd.DayOfMonth >=21) or (dd.MonthOfYear in (1,2)) or (dd.MonthOfYear = 3 and dd.DayOfMonth <21) then 'winter' \\\n",
    "          when (dd.MonthOfYear = 3 and dd.DayOfMonth >=21) or (dd.MonthOfYear in (4,5)) or (dd.MonthOfYear = 6 and dd.DayOfMonth <21) then 'spring' \\\n",
    "          when (dd.MonthOfYear = 6 and dd.DayOfMonth >=21) or (dd.MonthOfYear in (7,8)) or (dd.MonthOfYear = 9 and dd.DayOfMonth <21) then 'summer' \\\n",
    "          when (dd.MonthOfYear = 9 and dd.DayOfMonth >=21) or (dd.MonthOfYear in (10,11)) or (dd.MonthOfYear = 12 and dd.DayOfMonth <21) then 'autumn' \\\n",
    "          end as season, \\\n",
    "          count(fr.count_MV) as CountedRides, \\\n",
    "          round(sum(fr.rideDuration_MV)/count(fr.count_MV)) as AverageRideDuration \\\n",
    "          from factRides fr \\\n",
    "          inner join dimDate dd on fr.date_SK = dd.date_SK \\\n",
    "          group by \\\n",
    "          CASE \\\n",
    "          when (dd.MonthOfYear = 12 and dd.DayOfMonth >=21) or (dd.MonthOfYear in (1,2)) or (dd.MonthOfYear = 3 and dd.DayOfMonth <21) then 'winter' \\\n",
    "          when (dd.MonthOfYear = 3 and dd.DayOfMonth >=21) or (dd.MonthOfYear in (4,5)) or (dd.MonthOfYear = 6 and dd.DayOfMonth <21) then 'spring' \\\n",
    "          when (dd.MonthOfYear = 6 and dd.DayOfMonth >=21) or (dd.MonthOfYear in (7,8)) or (dd.MonthOfYear = 9 and dd.DayOfMonth <21) then 'summer' \\\n",
    "          when (dd.MonthOfYear = 9 and dd.DayOfMonth >=21) or (dd.MonthOfYear in (10,11)) or (dd.MonthOfYear = 12 and dd.DayOfMonth <21) then 'autumn' \\\n",
    "          end \\\n",
    "          order by CountedRides desc\").show()"
   ],
   "id": "1fdc655495253bc6",
   "outputs": [
    {
     "name": "stdout",
     "output_type": "stream",
     "text": [
      "+------+------------+-------------------+\n",
      "|season|CountedRides|AverageRideDuration|\n",
      "+------+------------+-------------------+\n",
      "|autumn|      993222|              609.0|\n",
      "|summer|      992891|              603.0|\n",
      "|spring|      988528|              603.0|\n",
      "|winter|      949083|              603.0|\n",
      "+------+------------+-------------------+\n",
      "\n"
     ]
    }
   ],
   "execution_count": 34
  },
  {
   "metadata": {},
   "cell_type": "markdown",
   "source": [
    "1. We zien dat er in de herfst de meeste ritten zijn. Al is het verschil met de andere seizoenen beperkt.\n",
    "2. de gemiddelde duurtijd per rit is in de herfst het hoogst. Bij de andere seizoenen is deze gelijk."
   ],
   "id": "d8679ab9791177b"
  },
  {
   "metadata": {},
   "cell_type": "markdown",
   "source": "## Student 2",
   "id": "9162c5d82b26340e"
  },
  {
   "metadata": {},
   "cell_type": "markdown",
   "source": "### Wat is de invloed van de woonplaats van de gebruikers op het gebruik van de vehicles?",
   "id": "d3d16e3211ef1b7b"
  },
  {
   "metadata": {},
   "cell_type": "code",
   "outputs": [],
   "execution_count": null,
   "source": "",
   "id": "4c0c6b8eab153e54"
  },
  {
   "metadata": {},
   "cell_type": "markdown",
   "source": "### We willen voorspellen welke sloten preventief onderhoud nodig hebben. Bekijk hoe vaak slotnummers relatief gezien gebruikt worden.",
   "id": "7ee7fbaf45811186"
  },
  {
   "metadata": {},
   "cell_type": "code",
   "outputs": [],
   "execution_count": null,
   "source": "",
   "id": "1c8bb9b803f89473"
  },
  {
   "metadata": {},
   "cell_type": "markdown",
   "source": "### Als een klant zijn abonnement stopzet, willen we kunnen voorspellen op welke stations dit het meeste effect zal hebben.",
   "id": "593a93ed2b908813"
  },
  {
   "metadata": {},
   "cell_type": "code",
   "outputs": [],
   "execution_count": null,
   "source": "",
   "id": "1c34bf11c0ea3e80"
  },
  {
   "metadata": {},
   "cell_type": "markdown",
   "source": "### Extra vraag 1",
   "id": "e9ea7a6edc5e8a64"
  },
  {
   "metadata": {},
   "cell_type": "code",
   "outputs": [],
   "execution_count": null,
   "source": "",
   "id": "4e5ba996cae7f0d3"
  },
  {
   "metadata": {},
   "cell_type": "markdown",
   "source": "### Extra vraag 2",
   "id": "15e8d06a454b518f"
  },
  {
   "metadata": {},
   "cell_type": "code",
   "outputs": [],
   "execution_count": null,
   "source": "",
   "id": "b99955c67074efec"
  }
 ],
 "metadata": {
  "kernelspec": {
   "display_name": "Python 3",
   "language": "python",
   "name": "python3"
  },
  "language_info": {
   "codemirror_mode": {
    "name": "ipython",
    "version": 2
   },
   "file_extension": ".py",
   "mimetype": "text/x-python",
   "name": "python",
   "nbconvert_exporter": "python",
   "pygments_lexer": "ipython2",
   "version": "2.7.6"
  }
 },
 "nbformat": 4,
 "nbformat_minor": 5
}
