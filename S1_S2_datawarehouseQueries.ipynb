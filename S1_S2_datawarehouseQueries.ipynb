{
 "cells": [
  {
   "metadata": {},
   "cell_type": "code",
   "outputs": [],
   "execution_count": null,
   "source": "",
   "id": "e7dfcb5d7fc73276"
  },
  {
   "metadata": {},
   "cell_type": "markdown",
   "source": "# Config stuff",
   "id": "914783b83acb7d64"
  },
  {
   "metadata": {
    "ExecuteTime": {
     "end_time": "2024-11-29T12:37:26.466233Z",
     "start_time": "2024-11-29T12:37:25.697879Z"
    }
   },
   "cell_type": "code",
   "source": [
    "from numpy.ma.core import inner\n",
    "\n",
    "import ConnectionConfig as cc\n",
    "from delta import DeltaTable\n",
    "cc.setupEnvironment()"
   ],
   "id": "68fc4ae7f855b752",
   "outputs": [],
   "execution_count": 1
  },
  {
   "metadata": {},
   "cell_type": "markdown",
   "source": "# Start local cluster",
   "id": "bfb319c37b1397c6"
  },
  {
   "metadata": {
    "ExecuteTime": {
     "end_time": "2024-11-29T12:38:04.517061Z",
     "start_time": "2024-11-29T12:37:40.722149Z"
    }
   },
   "cell_type": "code",
   "source": [
    "spark = cc.startLocalCluster(\"FACT_RIDES\")\n",
    "spark.getActiveSession()"
   ],
   "id": "ba2a52af8179001f",
   "outputs": [
    {
     "data": {
      "text/plain": [
       "<pyspark.sql.session.SparkSession at 0x22652cd0b50>"
      ],
      "text/html": [
       "\n",
       "            <div>\n",
       "                <p><b>SparkSession - in-memory</b></p>\n",
       "                \n",
       "        <div>\n",
       "            <p><b>SparkContext</b></p>\n",
       "\n",
       "            <p><a href=\"http://LAPTOP-5LDFMLTG:4040\">Spark UI</a></p>\n",
       "\n",
       "            <dl>\n",
       "              <dt>Version</dt>\n",
       "                <dd><code>v3.5.2</code></dd>\n",
       "              <dt>Master</dt>\n",
       "                <dd><code>local[*]</code></dd>\n",
       "              <dt>AppName</dt>\n",
       "                <dd><code>FACT_RIDES</code></dd>\n",
       "            </dl>\n",
       "        </div>\n",
       "        \n",
       "            </div>\n",
       "        "
      ]
     },
     "execution_count": 2,
     "metadata": {},
     "output_type": "execute_result"
    }
   ],
   "execution_count": 2
  },
  {
   "metadata": {},
   "cell_type": "markdown",
   "source": "# Make tables available",
   "id": "5f866e3e66504480"
  },
  {
   "metadata": {
    "ExecuteTime": {
     "end_time": "2024-11-29T12:40:29.723396Z",
     "start_time": "2024-11-29T12:40:20.774793Z"
    }
   },
   "cell_type": "code",
   "source": [
    "#EXTRACT\n",
    "# Dimension date\n",
    "dim_date = spark.read.format(\"delta\").load(\"spark-warehouse/dimdate\")\n",
    "\n",
    "# Dimension weather\n",
    "dim_weather = spark.read.format(\"delta\").load(\"spark-warehouse/dimweather\")\n",
    "\n",
    "# Fact rides\n",
    "fact_rides = spark.read.format(\"delta\").load(\"spark-warehouse/factrides\")\n",
    "\n",
    "# Make tempviews from tables\n",
    "dim_date.createOrReplaceTempView(\"dimDate\")\n",
    "dim_weather.createOrReplaceTempView(\"dimWeather\")\n",
    "fact_rides.createOrReplaceTempView(\"factRides\")"
   ],
   "id": "3a0e025fe70c4ef1",
   "outputs": [],
   "execution_count": 3
  },
  {
   "metadata": {},
   "cell_type": "markdown",
   "source": "# Analysis queries",
   "id": "cc3a81c37834516"
  },
  {
   "metadata": {},
   "cell_type": "markdown",
   "source": "## Student 1",
   "id": "406305f32e042547"
  },
  {
   "metadata": {},
   "cell_type": "markdown",
   "source": "### Wat zijn de drukke momenten (op dagbasis) in de week t.o.v. het weekend?",
   "id": "fe430977d8a71347"
  },
  {
   "metadata": {
    "ExecuteTime": {
     "end_time": "2024-11-29T13:25:01.878224Z",
     "start_time": "2024-11-29T13:25:00.874138Z"
    }
   },
   "cell_type": "code",
   "source": [
    "spark.sql(\"select dd.DayOfWeekStartMonday, count(fr.count_MV) as CountedRides from factRides fr \\\n",
    "          inner join dimDate dd on fr.date_SK = dd.date_SK \\\n",
    "          group by dd.DayOfWeekStartMonday \\\n",
    "          order by dd.DayOfWeekStartMonday asc \").show()"
   ],
   "id": "ff46f624e6dd4832",
   "outputs": [
    {
     "name": "stdout",
     "output_type": "stream",
     "text": [
      "+--------------------+------------+\n",
      "|DayOfWeekStartMonday|CountedRides|\n",
      "+--------------------+------------+\n",
      "|                   1|      677374|\n",
      "|                   2|      717198|\n",
      "|                   3|      513832|\n",
      "|                   4|      403862|\n",
      "|                   5|      398042|\n",
      "|                   6|      511975|\n",
      "|                   7|      701441|\n",
      "+--------------------+------------+\n",
      "\n"
     ]
    }
   ],
   "execution_count": 18
  },
  {
   "metadata": {},
   "cell_type": "markdown",
   "source": [
    "In de week zijn vooral maandag en dinsdag de drukste dagen. Daarna neemt het aantal rides af elke dag.\n",
    "In het weekend is het op zijn drukst op zondag."
   ],
   "id": "8061f7747d088740"
  },
  {
   "metadata": {},
   "cell_type": "markdown",
   "source": "### Hebben datumparameters invloed op de afgelegde afstand?",
   "id": "82ff88784779876c"
  },
  {
   "metadata": {},
   "cell_type": "markdown",
   "source": "### Heeft weer invloed op ritten?",
   "id": "94e2f4ff1c8dd992"
  },
  {
   "metadata": {},
   "cell_type": "markdown",
   "source": [
    "Op welke eigenschappen van de ritten kan het weer een invloed hebben:\n",
    "1) Op aantal afgelegde ritten in een bepaald weertype\n",
    "2) Op de gemiddelde duurtijd van een rit in een bepaald weertype\n",
    "3) Op de gemiddelde afgelegde afstand van een rit in een bepaald weertype"
   ],
   "id": "6b403a08e6241146"
  },
  {
   "metadata": {
    "ExecuteTime": {
     "end_time": "2024-11-29T15:49:25.614668Z",
     "start_time": "2024-11-29T15:49:24.182164Z"
    }
   },
   "cell_type": "code",
   "source": [
    "spark.sql(\"select dw.weather_type, count(count_MV) as CountedRides, \\\n",
    "          round(sum(rideDuration_MV)/count(count_MV)) as AverageRideDuration \\\n",
    "          from factRides fr \\\n",
    "          inner join dimWeather dw on fr.weather_SK = dw.weather_SK \\\n",
    "          group by dw.weather_type \\\n",
    "          having dw.weather_type != 'weertype onbekend'\").show()"
   ],
   "id": "551a170965a4b43d",
   "outputs": [
    {
     "name": "stdout",
     "output_type": "stream",
     "text": [
      "+------------+------------+-------------------+\n",
      "|weather_type|CountedRides|AverageRideDuration|\n",
      "+------------+------------+-------------------+\n",
      "|    Neutraal|         208|              677.0|\n",
      "|   Aangenaam|         197|              718.0|\n",
      "| Onaangenaam|          90|              635.0|\n",
      "+------------+------------+-------------------+\n",
      "\n"
     ]
    }
   ],
   "execution_count": 30
  },
  {
   "metadata": {},
   "cell_type": "markdown",
   "source": [
    "Op basis van de analyse hierboven zouden we kunnen zeggen dat bij neutraal of aangenaam weer er het meeste fietsritten worden afgewerkt en dat ook de fietstijd langer is. Bij onaangenaam weer zijn er duidelijk minder ritten die worden afgewerkt en ook de fietstijd is het kortst van allemaal.\n",
    "\n",
    "In praktijk weten we echter dat we random weer situaties hebben toegevoegd aan onze data. Dus de patronen die we hier zijn zijn louter toeval."
   ],
   "id": "2e8d0cba8031da3c"
  },
  {
   "metadata": {},
   "cell_type": "markdown",
   "source": "### Extra vraag 1",
   "id": "bbbbebaf1d5baa80"
  },
  {
   "metadata": {},
   "cell_type": "code",
   "outputs": [],
   "execution_count": null,
   "source": "",
   "id": "c9a170948a94b422"
  },
  {
   "metadata": {},
   "cell_type": "markdown",
   "source": "### Extra vraag 2",
   "id": "a3ae8286428561b6"
  },
  {
   "metadata": {},
   "cell_type": "code",
   "outputs": [],
   "execution_count": null,
   "source": "",
   "id": "1fdc655495253bc6"
  },
  {
   "metadata": {},
   "cell_type": "markdown",
   "source": "## Student 2",
   "id": "9162c5d82b26340e"
  },
  {
   "metadata": {},
   "cell_type": "markdown",
   "source": "### Wat is de invloed van de woonplaats van de gebruikers op het gebruik van de vehicles?",
   "id": "d3d16e3211ef1b7b"
  },
  {
   "metadata": {},
   "cell_type": "code",
   "outputs": [],
   "execution_count": null,
   "source": "",
   "id": "4c0c6b8eab153e54"
  },
  {
   "metadata": {},
   "cell_type": "markdown",
   "source": "### We willen voorspellen welke sloten preventief onderhoud nodig hebben. Bekijk hoe vaak slotnummers relatief gezien gebruikt worden.",
   "id": "7ee7fbaf45811186"
  },
  {
   "metadata": {},
   "cell_type": "code",
   "outputs": [],
   "execution_count": null,
   "source": "",
   "id": "1c8bb9b803f89473"
  },
  {
   "metadata": {},
   "cell_type": "markdown",
   "source": "### Als een klant zijn abonnement stopzet, willen we kunnen voorspellen op welke stations dit het meeste effect zal hebben.",
   "id": "593a93ed2b908813"
  },
  {
   "metadata": {},
   "cell_type": "code",
   "outputs": [],
   "execution_count": null,
   "source": "",
   "id": "1c34bf11c0ea3e80"
  },
  {
   "metadata": {},
   "cell_type": "markdown",
   "source": "### Extra vraag 1",
   "id": "e9ea7a6edc5e8a64"
  },
  {
   "metadata": {},
   "cell_type": "code",
   "outputs": [],
   "execution_count": null,
   "source": "",
   "id": "4e5ba996cae7f0d3"
  },
  {
   "metadata": {},
   "cell_type": "markdown",
   "source": "### Extra vraag 2",
   "id": "15e8d06a454b518f"
  },
  {
   "metadata": {},
   "cell_type": "code",
   "outputs": [],
   "execution_count": null,
   "source": "",
   "id": "b99955c67074efec"
  }
 ],
 "metadata": {
  "kernelspec": {
   "display_name": "Python 3",
   "language": "python",
   "name": "python3"
  },
  "language_info": {
   "codemirror_mode": {
    "name": "ipython",
    "version": 2
   },
   "file_extension": ".py",
   "mimetype": "text/x-python",
   "name": "python",
   "nbconvert_exporter": "python",
   "pygments_lexer": "ipython2",
   "version": "2.7.6"
  }
 },
 "nbformat": 4,
 "nbformat_minor": 5
}
