{
 "cells": [
  {
   "metadata": {},
   "cell_type": "code",
   "outputs": [],
   "execution_count": null,
   "source": "",
   "id": "e7dfcb5d7fc73276"
  },
  {
   "metadata": {},
   "cell_type": "markdown",
   "source": "# Config stuff",
   "id": "914783b83acb7d64"
  },
  {
   "metadata": {
    "ExecuteTime": {
     "end_time": "2024-11-26T10:53:23.675804Z",
     "start_time": "2024-11-26T10:53:23.435299Z"
    }
   },
   "cell_type": "code",
   "source": [
    "import ConnectionConfig as cc\n",
    "from delta import DeltaTable\n",
    "cc.setupEnvironment()"
   ],
   "id": "68fc4ae7f855b752",
   "outputs": [],
   "execution_count": 4
  },
  {
   "metadata": {},
   "cell_type": "markdown",
   "source": "# Start local cluster",
   "id": "bfb319c37b1397c6"
  },
  {
   "metadata": {
    "ExecuteTime": {
     "end_time": "2024-11-26T10:54:09.381612Z",
     "start_time": "2024-11-26T10:53:50.284545Z"
    }
   },
   "cell_type": "code",
   "source": [
    "spark = cc.startLocalCluster(\"FACT_RIDES\")\n",
    "spark.getActiveSession()"
   ],
   "id": "ba2a52af8179001f",
   "outputs": [
    {
     "data": {
      "text/plain": [
       "<pyspark.sql.session.SparkSession at 0x1f4373a28d0>"
      ],
      "text/html": [
       "\n",
       "            <div>\n",
       "                <p><b>SparkSession - in-memory</b></p>\n",
       "                \n",
       "        <div>\n",
       "            <p><b>SparkContext</b></p>\n",
       "\n",
       "            <p><a href=\"http://LAPTOP-5LDFMLTG:4040\">Spark UI</a></p>\n",
       "\n",
       "            <dl>\n",
       "              <dt>Version</dt>\n",
       "                <dd><code>v3.5.2</code></dd>\n",
       "              <dt>Master</dt>\n",
       "                <dd><code>local[*]</code></dd>\n",
       "              <dt>AppName</dt>\n",
       "                <dd><code>FACT_RIDES</code></dd>\n",
       "            </dl>\n",
       "        </div>\n",
       "        \n",
       "            </div>\n",
       "        "
      ]
     },
     "execution_count": 5,
     "metadata": {},
     "output_type": "execute_result"
    }
   ],
   "execution_count": 5
  },
  {
   "metadata": {},
   "cell_type": "markdown",
   "source": "# Make tables available",
   "id": "5f866e3e66504480"
  },
  {
   "metadata": {
    "ExecuteTime": {
     "end_time": "2024-11-26T10:56:17.505974Z",
     "start_time": "2024-11-26T10:56:10.152927Z"
    }
   },
   "cell_type": "code",
   "source": [
    "#EXTRACT\n",
    "# Dimension date\n",
    "dim_date = spark.read.format(\"delta\").load(\"spark-warehouse/dimdate\")\n",
    "\n",
    "# Dimension weather\n",
    "dim_weather = spark.read.format(\"delta\").load(\"spark-warehouse/dimweather\")\n",
    "\n",
    "# Fact rides\n",
    "fact_rides = spark.read.format(\"delta\").load(\"spark-warehouse/factrides\")"
   ],
   "id": "3a0e025fe70c4ef1",
   "outputs": [],
   "execution_count": 6
  },
  {
   "metadata": {},
   "cell_type": "markdown",
   "source": "# Analysis queries",
   "id": "cc3a81c37834516"
  },
  {
   "metadata": {},
   "cell_type": "markdown",
   "source": "## Student 1",
   "id": "406305f32e042547"
  },
  {
   "metadata": {},
   "cell_type": "markdown",
   "source": "### Wat zijn de drukke momenten (op dagbasis) in de week t.o.v. het weekend?",
   "id": "fe430977d8a71347"
  },
  {
   "metadata": {},
   "cell_type": "code",
   "outputs": [],
   "execution_count": null,
   "source": "",
   "id": "ff46f624e6dd4832"
  },
  {
   "metadata": {},
   "cell_type": "markdown",
   "source": "### Hebben datumparameters invloed op de afgelegde afstand?",
   "id": "82ff88784779876c"
  },
  {
   "metadata": {},
   "cell_type": "code",
   "outputs": [],
   "execution_count": null,
   "source": "",
   "id": "c3316ce3c668d35"
  },
  {
   "metadata": {},
   "cell_type": "markdown",
   "source": "### Heeft weer invloed op ritten?",
   "id": "94e2f4ff1c8dd992"
  },
  {
   "metadata": {},
   "cell_type": "code",
   "outputs": [],
   "execution_count": null,
   "source": "",
   "id": "551a170965a4b43d"
  },
  {
   "metadata": {},
   "cell_type": "markdown",
   "source": "### Extra vraag 1",
   "id": "bbbbebaf1d5baa80"
  },
  {
   "metadata": {},
   "cell_type": "code",
   "outputs": [],
   "execution_count": null,
   "source": "",
   "id": "c9a170948a94b422"
  },
  {
   "metadata": {},
   "cell_type": "markdown",
   "source": "### Extra vraag 2",
   "id": "a3ae8286428561b6"
  },
  {
   "metadata": {},
   "cell_type": "code",
   "outputs": [],
   "execution_count": null,
   "source": "",
   "id": "1fdc655495253bc6"
  },
  {
   "metadata": {},
   "cell_type": "markdown",
   "source": "## Student 2",
   "id": "9162c5d82b26340e"
  },
  {
   "metadata": {},
   "cell_type": "markdown",
   "source": "### Wat is de invloed van de woonplaats van de gebruikers op het gebruik van de vehicles?",
   "id": "d3d16e3211ef1b7b"
  },
  {
   "metadata": {},
   "cell_type": "code",
   "outputs": [],
   "execution_count": null,
   "source": "",
   "id": "4c0c6b8eab153e54"
  },
  {
   "metadata": {},
   "cell_type": "markdown",
   "source": "### We willen voorspellen welke sloten preventief onderhoud nodig hebben. Bekijk hoe vaak slotnummers relatief gezien gebruikt worden.",
   "id": "7ee7fbaf45811186"
  },
  {
   "metadata": {},
   "cell_type": "code",
   "outputs": [],
   "execution_count": null,
   "source": "",
   "id": "1c8bb9b803f89473"
  },
  {
   "metadata": {},
   "cell_type": "markdown",
   "source": "### Als een klant zijn abonnement stopzet, willen we kunnen voorspellen op welke stations dit het meeste effect zal hebben.",
   "id": "593a93ed2b908813"
  },
  {
   "metadata": {},
   "cell_type": "code",
   "outputs": [],
   "execution_count": null,
   "source": "",
   "id": "1c34bf11c0ea3e80"
  },
  {
   "metadata": {},
   "cell_type": "markdown",
   "source": "### Extra vraag 1",
   "id": "e9ea7a6edc5e8a64"
  },
  {
   "metadata": {},
   "cell_type": "code",
   "outputs": [],
   "execution_count": null,
   "source": "",
   "id": "4e5ba996cae7f0d3"
  },
  {
   "metadata": {},
   "cell_type": "markdown",
   "source": "### Extra vraag 2",
   "id": "15e8d06a454b518f"
  },
  {
   "metadata": {},
   "cell_type": "code",
   "outputs": [],
   "execution_count": null,
   "source": "",
   "id": "b99955c67074efec"
  }
 ],
 "metadata": {
  "kernelspec": {
   "display_name": "Python 3",
   "language": "python",
   "name": "python3"
  },
  "language_info": {
   "codemirror_mode": {
    "name": "ipython",
    "version": 2
   },
   "file_extension": ".py",
   "mimetype": "text/x-python",
   "name": "python",
   "nbconvert_exporter": "python",
   "pygments_lexer": "ipython2",
   "version": "2.7.6"
  }
 },
 "nbformat": 4,
 "nbformat_minor": 5
}
