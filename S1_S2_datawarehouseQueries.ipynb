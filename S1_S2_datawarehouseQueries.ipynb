{
 "cells": [
  {
   "cell_type": "markdown",
   "id": "914783b83acb7d64",
   "metadata": {},
   "source": [
    "# Config stuff"
   ]
  },
  {
   "cell_type": "code",
   "id": "68fc4ae7f855b752",
   "metadata": {
    "ExecuteTime": {
     "end_time": "2025-01-07T13:40:56.149707Z",
     "start_time": "2025-01-07T13:40:55.937Z"
    }
   },
   "source": [
    "from numpy.ma.core import inner\n",
    "\n",
    "import ConnectionConfig as cc\n",
    "from delta import DeltaTable\n",
    "cc.setupEnvironment()"
   ],
   "outputs": [],
   "execution_count": 2
  },
  {
   "cell_type": "markdown",
   "id": "bfb319c37b1397c6",
   "metadata": {},
   "source": [
    "# Start local cluster"
   ]
  },
  {
   "cell_type": "code",
   "id": "ba2a52af8179001f",
   "metadata": {
    "ExecuteTime": {
     "end_time": "2025-01-07T13:41:05.727217Z",
     "start_time": "2025-01-07T13:40:58.030480Z"
    }
   },
   "source": [
    "spark = cc.startLocalCluster(\"FACT_RIDES\")\n",
    "spark.getActiveSession()"
   ],
   "outputs": [
    {
     "data": {
      "text/plain": [
       "<pyspark.sql.session.SparkSession at 0x19c5b973a90>"
      ],
      "text/html": [
       "\n",
       "            <div>\n",
       "                <p><b>SparkSession - in-memory</b></p>\n",
       "                \n",
       "        <div>\n",
       "            <p><b>SparkContext</b></p>\n",
       "\n",
       "            <p><a href=\"http://127.0.0.1:4040\">Spark UI</a></p>\n",
       "\n",
       "            <dl>\n",
       "              <dt>Version</dt>\n",
       "                <dd><code>v3.5.2</code></dd>\n",
       "              <dt>Master</dt>\n",
       "                <dd><code>local[*]</code></dd>\n",
       "              <dt>AppName</dt>\n",
       "                <dd><code>FACT_RIDES</code></dd>\n",
       "            </dl>\n",
       "        </div>\n",
       "        \n",
       "            </div>\n",
       "        "
      ]
     },
     "execution_count": 3,
     "metadata": {},
     "output_type": "execute_result"
    }
   ],
   "execution_count": 3
  },
  {
   "cell_type": "markdown",
   "id": "5f866e3e66504480",
   "metadata": {},
   "source": [
    "# Make tables available"
   ]
  },
  {
   "cell_type": "code",
   "id": "3a0e025fe70c4ef1",
   "metadata": {
    "ExecuteTime": {
     "end_time": "2025-01-07T13:58:23.503206Z",
     "start_time": "2025-01-07T13:58:23.210191Z"
    }
   },
   "source": [
    "#EXTRACT\n",
    "# Dimension date\n",
    "dim_date = spark.read.format(\"delta\").load(\"spark-warehouse/dimdate\")\n",
    "\n",
    "# Dimension weather\n",
    "dim_weather = spark.read.format(\"delta\").load(\"spark-warehouse/dimweather\")\n",
    "\n",
    "# Dimension customer\n",
    "dim_customer = spark.read.format(\"delta\").load(\"spark-warehouse/dimuser\")\n",
    "\n",
    "# Dimension lock\n",
    "dim_lock = spark.read.format(\"delta\").load(\"spark-warehouse/dimlock\")\n",
    "\n",
    "# Fact rides\n",
    "fact_rides = spark.read.format(\"delta\").load(\"spark-warehouse/factrides\")\n",
    "\n",
    "# Make tempviews from tables\n",
    "dim_date.createOrReplaceTempView(\"dimDate\")\n",
    "dim_weather.createOrReplaceTempView(\"dimWeather\")\n",
    "dim_customer.createOrReplaceTempView(\"dimCustomer\")\n",
    "dim_lock.createOrReplaceTempView(\"dimLock\")\n",
    "fact_rides.createOrReplaceTempView(\"factRides\")"
   ],
   "outputs": [],
   "execution_count": 6
  },
  {
   "cell_type": "markdown",
   "id": "cc3a81c37834516",
   "metadata": {},
   "source": [
    "# Analysis queries"
   ]
  },
  {
   "cell_type": "markdown",
   "id": "406305f32e042547",
   "metadata": {},
   "source": [
    "## Student 1"
   ]
  },
  {
   "cell_type": "markdown",
   "id": "fe430977d8a71347",
   "metadata": {},
   "source": [
    "### Wat zijn de drukke momenten (op dagbasis) in de week t.o.v. het weekend?"
   ]
  },
  {
   "cell_type": "code",
   "execution_count": 4,
   "id": "ff46f624e6dd4832",
   "metadata": {
    "ExecuteTime": {
     "end_time": "2025-01-06T18:36:14.863011Z",
     "start_time": "2025-01-06T18:36:03.184332Z"
    }
   },
   "outputs": [
    {
     "name": "stdout",
     "output_type": "stream",
     "text": [
      "+--------------------+------------+\n",
      "|DayOfWeekStartMonday|CountedRides|\n",
      "+--------------------+------------+\n",
      "|                   1|      713087|\n",
      "|                   2|      754211|\n",
      "|                   3|      542333|\n",
      "|                   4|      427949|\n",
      "|                   5|      421904|\n",
      "|                   6|      540662|\n",
      "|                   7|      738095|\n",
      "+--------------------+------------+\n",
      "\n"
     ]
    }
   ],
   "source": [
    "spark.sql(\"select dd.DayOfWeekStartMonday, count(fr.count_MV) as CountedRides from factRides fr \\\n",
    "          inner join dimDate dd on fr.date_SK = dd.date_SK \\\n",
    "          group by dd.DayOfWeekStartMonday \\\n",
    "          order by dd.DayOfWeekStartMonday asc \").show()"
   ]
  },
  {
   "cell_type": "markdown",
   "id": "82ff88784779876c",
   "metadata": {},
   "source": [
    "### Hebben datumparameters invloed op de afgelegde afstand?"
   ]
  },
  {
   "cell_type": "markdown",
   "id": "e87a706d2f0a8ac4",
   "metadata": {},
   "source": [
    "Welke datumparameters kunnen invloed hebben op afgelegde afstand:\n",
    "- Weekdag\n",
    "- Weekend"
   ]
  },
  {
   "cell_type": "code",
   "execution_count": 10,
   "id": "3e25443b24848e8e",
   "metadata": {
    "ExecuteTime": {
     "end_time": "2025-01-06T19:13:39.099716Z",
     "start_time": "2025-01-06T19:13:37.066122Z"
    }
   },
   "outputs": [
    {
     "name": "stdout",
     "output_type": "stream",
     "text": [
      "+---------+-----------------------------+\n",
      "|IsWeekDay|round(avg(distance_km_MV), 3)|\n",
      "+---------+-----------------------------+\n",
      "|        N|                        2.490|\n",
      "|        Y|                        2.485|\n",
      "+---------+-----------------------------+\n",
      "\n"
     ]
    }
   ],
   "source": [
    "spark.sql(\"select dd.IsWeekDay, round(avg(fr.distance_km_MV), 3) \\\n",
    "           from factRides fr \\\n",
    "           inner join dimDate dd on fr.date_SK = dd.date_SK \\\n",
    "           group by dd.IsWeekDay\").show()"
   ]
  },
  {
   "cell_type": "markdown",
   "id": "94e2f4ff1c8dd992",
   "metadata": {},
   "source": [
    "### Heeft weer invloed op ritten?"
   ]
  },
  {
   "cell_type": "markdown",
   "id": "6b403a08e6241146",
   "metadata": {},
   "source": [
    "Op welke eigenschappen van de ritten kan het weer een invloed hebben:\n",
    "1) Op aantal afgelegde ritten in een bepaald weertype\n",
    "2) Op de gemiddelde duurtijd van een rit in een bepaald weertype\n",
    "3) Op de gemiddelde afgelegde afstand van een rit in een bepaald weertype"
   ]
  },
  {
   "cell_type": "code",
   "execution_count": 6,
   "id": "551a170965a4b43d",
   "metadata": {
    "ExecuteTime": {
     "end_time": "2025-01-06T18:44:39.718499Z",
     "start_time": "2025-01-06T18:44:37.169157Z"
    }
   },
   "outputs": [
    {
     "name": "stdout",
     "output_type": "stream",
     "text": [
      "+------------+------------+-------------------+-------------------+\n",
      "|weather_type|CountedRides|AverageRideDuration|AverageRideDistance|\n",
      "+------------+------------+-------------------+-------------------+\n",
      "|    Neutraal|         219|              666.0|              2.897|\n",
      "|   Aangenaam|         210|              696.0|              2.928|\n",
      "| Onaangenaam|          92|              621.0|              2.745|\n",
      "+------------+------------+-------------------+-------------------+\n",
      "\n"
     ]
    }
   ],
   "source": [
    "spark.sql(\"select dw.weather_type, count(count_MV) as CountedRides, \\\n",
    "          round(sum(rideDuration_MV)/count(count_MV)) as AverageRideDuration, \\\n",
    "          round(sum(distance_km_MV)/count(count_MV),3) as AverageRideDistance \\\n",
    "          from factRides fr \\\n",
    "          inner join dimWeather dw on fr.weather_SK = dw.weather_SK \\\n",
    "          group by dw.weather_type \\\n",
    "          having dw.weather_type != 'weertype onbekend'\").show()"
   ]
  },
  {
   "cell_type": "markdown",
   "id": "bbbbebaf1d5baa80",
   "metadata": {},
   "source": "### Extra vraag 1: Worden in de weekends relatief gezien minder ritten gedaan in slecht weer dan in de week?"
  },
  {
   "cell_type": "code",
   "id": "c9a170948a94b422",
   "metadata": {
    "ExecuteTime": {
     "end_time": "2025-01-06T21:50:45.758494Z",
     "start_time": "2025-01-06T21:50:44.104024Z"
    }
   },
   "source": [
    "spark.sql(\"\"\"\n",
    "    select dd.IsWeekDay,\n",
    "        sum(case when dw.weather_type = 'Onaangenaam' then fr.count_MV else 0 end) as total_rides_bad_weather,\n",
    "        sum(fr.count_MV) as total_rides_all_weather,\n",
    "        (total_rides_bad_weather/total_rides_all_weather)*10000 as relative_ratio\n",
    "    from factRides fr\n",
    "    inner join dimDate dd on fr.date_SK = dd.date_SK\n",
    "    inner join dimWeather dw on fr.weather_SK = dw.weather_SK\n",
    "    group by dd.IsWeekDay\n",
    "\"\"\").show()"
   ],
   "outputs": [
    {
     "name": "stdout",
     "output_type": "stream",
     "text": [
      "+---------+-----------------------+-----------------------+-------------------+\n",
      "|IsWeekDay|total_rides_bad_weather|total_rides_all_weather|     relative_ratio|\n",
      "+---------+-----------------------+-----------------------+-------------------+\n",
      "|        N|                     84|                1278757| 0.6568878997338822|\n",
      "|        Y|                      8|                2859484|0.02797707558426625|\n",
      "+---------+-----------------------+-----------------------+-------------------+\n",
      "\n"
     ]
    }
   ],
   "execution_count": 30
  },
  {
   "cell_type": "markdown",
   "id": "a3ae8286428561b6",
   "metadata": {},
   "source": [
    "### Extra vraag 2: Hebben de seizoenen invloed op de ritten?"
   ]
  },
  {
   "cell_type": "code",
   "execution_count": 15,
   "id": "1fdc655495253bc6",
   "metadata": {
    "ExecuteTime": {
     "end_time": "2025-01-06T19:36:12.001588Z",
     "start_time": "2025-01-06T19:36:10.281882Z"
    }
   },
   "outputs": [
    {
     "name": "stdout",
     "output_type": "stream",
     "text": [
      "+------+------------+-------------------+-------------------+\n",
      "|season|CountedRides|AverageRideDuration|AverageRideDistance|\n",
      "+------+------------+-------------------+-------------------+\n",
      "|summer|     1043785|              580.0|              2.482|\n",
      "|autumn|     1052308|              585.0|              2.504|\n",
      "|spring|     1040656|              579.0|              2.478|\n",
      "|winter|     1001492|              579.0|              2.480|\n",
      "+------+------------+-------------------+-------------------+\n",
      "\n"
     ]
    }
   ],
   "source": [
    "spark.sql(\"select dd.season, count(fr.count_MV) as CountedRides, \\\n",
    "          round(avg(fr.rideDuration_MV),0) as AverageRideDuration, \\\n",
    "          round(avg(fr.distance_km_MV),3) as AverageRideDistance \\\n",
    "          from factRides fr \\\n",
    "          inner join dimDate dd on fr.date_SK = dd.date_SK \\\n",
    "          group by dd.season\").show()"
   ]
  },
  {
   "cell_type": "markdown",
   "id": "9162c5d82b26340e",
   "metadata": {},
   "source": [
    "## Student 2"
   ]
  },
  {
   "cell_type": "markdown",
   "id": "d3d16e3211ef1b7b",
   "metadata": {},
   "source": [
    "### Wat is de invloed van de woonplaats van de gebruikers op het gebruik van de vehicles?"
   ]
  },
  {
   "cell_type": "code",
   "id": "4c0c6b8eab153e54",
   "metadata": {
    "ExecuteTime": {
     "end_time": "2025-01-07T14:03:06.764711Z",
     "start_time": "2025-01-07T14:03:05.723062Z"
    }
   },
   "source": [
    "spark.sql(\"select dc.city as user_city,\\\n",
    "          count(fr.ride_id) as total_rides,\\\n",
    "          round(AVG(fr.rideDuration_MV),1) AS avg_ride_duration_sec,\\\n",
    "          round(AVG(fr.distance_km_mv),3) AS avg_distance_km\\\n",
    "          from factRides fr\\\n",
    "          left outer join dimCustomer dc on dc.user_SK = fr.user_SK\\\n",
    "          group by dc.city\\\n",
    "          order by total_rides desc\").show()\n"
   ],
   "outputs": [
    {
     "name": "stdout",
     "output_type": "stream",
     "text": [
      "+--------------------+-----------+---------------------+---------------+\n",
      "|           user_city|total_rides|avg_ride_duration_sec|avg_distance_km|\n",
      "+--------------------+-----------+---------------------+---------------+\n",
      "|           Antwerpen|     603708|                557.2|          2.405|\n",
      "|             Schoten|     149514|                602.3|          2.581|\n",
      "|Beveren-Waas/Haas...|     147219|                602.9|          2.581|\n",
      "| Wilrijk (Antwerpen)|     132162|                651.0|          2.954|\n",
      "|  Deurne (Antwerpen)|     123740|                693.4|          2.760|\n",
      "|          Brasschaat|     109100|                601.4|          2.575|\n",
      "|    Kapellen (Antw.)|     107046|                602.4|          2.583|\n",
      "| Berchem (Antwerpen)|     104735|                575.6|          2.501|\n",
      "|Broechem/Emblem/O...|     103617|                602.4|          2.579|\n",
      "|s Gravenwezel/Sch...|     101869|                599.8|          2.568|\n",
      "| Merksem (Antwerpen)|     100167|                602.0|          2.578|\n",
      "| Hoboken (Antwerpen)|      93442|                747.3|          3.159|\n",
      "|    Kontich/Waarloos|      89976|                604.5|          2.587|\n",
      "|Borgerhout (Antwe...|      87994|                587.5|          2.396|\n",
      "|              Edegem|      85883|                601.7|          2.577|\n",
      "|Bazel/Kruibeke/Ru...|      74635|                603.4|          2.583|\n",
      "|Antwerpen/Berendr...|      74261|                604.7|          2.584|\n",
      "| Reet/Rumst/Terhagen|      72942|                599.0|          2.562|\n",
      "|            Boechout|      71652|                603.5|          2.580|\n",
      "|             Mortsel|      69227|                603.9|          2.583|\n",
      "+--------------------+-----------+---------------------+---------------+\n",
      "only showing top 20 rows\n",
      "\n"
     ]
    }
   ],
   "execution_count": 19
  },
  {
   "cell_type": "markdown",
   "id": "7ee7fbaf45811186",
   "metadata": {},
   "source": [
    "### We willen voorspellen welke sloten preventief onderhoud nodig hebben. Bekijk hoe vaak slotnummers relatief gezien gebruikt worden."
   ]
  },
  {
   "cell_type": "code",
   "id": "1c8bb9b803f89473",
   "metadata": {
    "ExecuteTime": {
     "end_time": "2025-01-07T14:02:57.450065Z",
     "start_time": "2025-01-07T14:02:56.485410Z"
    }
   },
   "source": [
    "spark.sql(\"select dl.lock_SK, (count(fr.start_lock_SK) + count(fr.end_lock_SK)) as LockUsageCount, \\\n",
    "          LockUsageCount * 1.0 / sum(count(fr.start_lock_SK) + count(fr.end_lock_SK)) over() as relative_usage\\\n",
    "          from factRides fr\\\n",
    "          left outer join dimLock dl on dl.lock_SK = fr.end_lock_SK\\\n",
    "          group by dl.lock_SK\\\n",
    "          order by LockUsageCount desc\").show()\n",
    "\n",
    "# Bij het starten van een rit moet het slot opengaan dus we moeten zowel start als eind slot in rekening brengen\n",
    "# De sum() over() gaat ervoor zorgen dat hij de berekening gaat doen met alle data over een bepaalde partitie (in dit geval geen dus neemt hij alles)"
   ],
   "outputs": [
    {
     "name": "stdout",
     "output_type": "stream",
     "text": [
      "+--------------------+--------------+------------------+\n",
      "|             lock_SK|LockUsageCount|    relative_usage|\n",
      "+--------------------+--------------+------------------+\n",
      "|e387792b-df20-485...|         18530|0.0033467323033176|\n",
      "|55e2e3f7-042d-455...|         18428|0.0033283099236663|\n",
      "|8463d3e2-3031-4f8...|         18408|0.0033246976923622|\n",
      "|dd02d316-2e73-44a...|         18374|0.0033185568991451|\n",
      "|333174ef-134e-4db...|         18318|0.0033084426514934|\n",
      "|21f7652f-d776-43a...|         18298|0.0033048304201892|\n",
      "|a6c24a09-1ec4-4d2...|         18296|0.0033044691970588|\n",
      "|8721bfd4-41e2-426...|         18290|0.0033033855276675|\n",
      "|bbb19f05-38a5-4d5...|         18278|0.0033012181888850|\n",
      "|527314be-0eec-4c0...|         18254|0.0032968835113200|\n",
      "|01fd8e4e-defc-420...|         18250|0.0032961610650592|\n",
      "|87b20522-b214-410...|         18236|0.0032936325031463|\n",
      "|ac62d034-6a7d-4c5...|         18224|0.0032914651643637|\n",
      "|51fc352a-ddc9-405...|         18220|0.0032907427181029|\n",
      "|2a481d28-0ebd-4e3...|         18162|0.0032802672473208|\n",
      "|8445d873-3d89-45e...|         18148|0.0032777386854079|\n",
      "|1ddd5e44-bf78-47b...|         18132|0.0032748489003645|\n",
      "|ee17d97a-8c88-477...|         18128|0.0032741264541037|\n",
      "|739e9c16-9839-487...|         18122|0.0032730427847125|\n",
      "|219c5c8d-9f7e-428...|         18096|0.0032683468840170|\n",
      "+--------------------+--------------+------------------+\n",
      "only showing top 20 rows\n",
      "\n"
     ]
    }
   ],
   "execution_count": 18
  },
  {
   "cell_type": "markdown",
   "id": "593a93ed2b908813",
   "metadata": {},
   "source": [
    "### Als een klant zijn abonnement stopzet, willen we kunnen voorspellen op welke stations dit het meeste effect zal hebben."
   ]
  },
  {
   "cell_type": "code",
   "id": "1c34bf11c0ea3e80",
   "metadata": {
    "ExecuteTime": {
     "end_time": "2025-01-07T14:03:12.813740Z",
     "start_time": "2025-01-07T14:03:11.412727Z"
    }
   },
   "source": [
    "spark.sql(\"select dc.userid, dl.stationid, count(fr.ride_ID) as amount_rides \\\n",
    "          from factRides fr\\\n",
    "          left outer join dimCustomer dc on dc.user_SK = fr.user_SK\\\n",
    "          left outer join dimLock dl on dl.lock_sk = fr.start_lock_SK\\\n",
    "          where fr.start_lock_SK is not null\\\n",
    "          group by dc.userid, dl.stationid\\\n",
    "          order by amount_rides desc\").show()"
   ],
   "outputs": [
    {
     "name": "stdout",
     "output_type": "stream",
     "text": [
      "+------+---------+------------+\n",
      "|userid|stationid|amount_rides|\n",
      "+------+---------+------------+\n",
      "| 37367|      162|          17|\n",
      "|  5750|      180|          14|\n",
      "| 24821|      162|          13|\n",
      "| 41934|      294|          13|\n",
      "| 46611|      205|          13|\n",
      "|  6014|      180|          12|\n",
      "|  7485|      161|          12|\n",
      "| 10144|      180|          12|\n",
      "|  7362|      160|          12|\n",
      "| 33185|      294|          12|\n",
      "| 38203|      180|          12|\n",
      "| 26189|      180|          12|\n",
      "| 10430|      161|          12|\n",
      "| 35983|      162|          12|\n",
      "| 19281|      278|          12|\n",
      "| 38504|      160|          12|\n",
      "| 41885|      161|          12|\n",
      "| 33761|      161|          12|\n",
      "| 24711|      180|          12|\n",
      "| 47280|      161|          12|\n",
      "+------+---------+------------+\n",
      "only showing top 20 rows\n",
      "\n"
     ]
    }
   ],
   "execution_count": 20
  },
  {
   "cell_type": "code",
   "id": "1d6b75a92544686b",
   "metadata": {
    "ExecuteTime": {
     "end_time": "2025-01-07T14:03:26.168967Z",
     "start_time": "2025-01-07T14:03:25.473942Z"
    }
   },
   "source": [
    "# Extra zijn dit de ritten die geen start slot hebben (en dus ook geen station)\n",
    "spark.sql(\"select dc.userid, count(fr.ride_ID) as amount_rides \\\n",
    "          from factRides fr\\\n",
    "          left outer join dimCustomer dc on dc.user_SK = fr.user_SK\\\n",
    "          left outer join dimLock dl on dl.lock_SK = fr.start_lock_SK\\\n",
    "          where fr.start_lock_SK is null\\\n",
    "          group by dc.userid\\\n",
    "          order by amount_rides desc\").show()"
   ],
   "outputs": [
    {
     "name": "stdout",
     "output_type": "stream",
     "text": [
      "+------+------------+\n",
      "|userid|amount_rides|\n",
      "+------+------------+\n",
      "| 24213|          31|\n",
      "| 45176|          26|\n",
      "| 34758|          23|\n",
      "|  6027|          23|\n",
      "| 37660|          23|\n",
      "| 38470|          23|\n",
      "| 38835|          22|\n",
      "| 34805|          22|\n",
      "| 14229|          22|\n",
      "|  7716|          22|\n",
      "|  3197|          22|\n",
      "| 32022|          21|\n",
      "| 39947|          21|\n",
      "| 57187|          21|\n",
      "| 28331|          21|\n",
      "| 37534|          21|\n",
      "|  2201|          21|\n",
      "|  2247|          20|\n",
      "| 23970|          20|\n",
      "| 54381|          20|\n",
      "+------+------------+\n",
      "only showing top 20 rows\n",
      "\n"
     ]
    }
   ],
   "execution_count": 21
  },
  {
   "cell_type": "markdown",
   "id": "e9ea7a6edc5e8a64",
   "metadata": {},
   "source": [
    "### Extra vraag 1: heeft het type abonnement invloed op de lengte van de rit"
   ]
  },
  {
   "cell_type": "code",
   "id": "4e5ba996cae7f0d3",
   "metadata": {
    "ExecuteTime": {
     "end_time": "2025-01-07T14:09:57.037173Z",
     "start_time": "2025-01-07T14:09:56.075933Z"
    }
   },
   "source": [
    "spark.sql(\"select dc.subscription_type, count(fr.ride_ID) as total_rides, round(avg(fr.distance_km_mv),3) as avg_distance_km \\\n",
    "          from factRides fr\\\n",
    "          left outer join dimCustomer dc on fr.user_sk = dc.user_sk\\\n",
    "          group by dc.subscription_type\\\n",
    "          order by total_rides desc\").show()\n"
   ],
   "outputs": [
    {
     "name": "stdout",
     "output_type": "stream",
     "text": [
      "+-----------------+-----------+---------------+\n",
      "|subscription_type|total_rides|avg_distance_km|\n",
      "+-----------------+-----------+---------------+\n",
      "|             JAAR|    3001294|          2.581|\n",
      "|            MAAND|      11832|          2.587|\n",
      "|              DAG|       1674|          2.666|\n",
      "+-----------------+-----------+---------------+\n",
      "\n"
     ]
    }
   ],
   "execution_count": 22
  },
  {
   "cell_type": "markdown",
   "id": "15e8d06a454b518f",
   "metadata": {},
   "source": [
    "### Extra vraag 2: wat zijn de populaire routes tussen verschillende stations"
   ]
  },
  {
   "cell_type": "code",
   "id": "b99955c67074efec",
   "metadata": {
    "ExecuteTime": {
     "end_time": "2025-01-07T14:11:33.878265Z",
     "start_time": "2025-01-07T14:11:32.499267Z"
    }
   },
   "source": [
    "spark.sql(\"select dls.stationid as start_station, dle.stationid as end_station,\\\n",
    "          count(fr.ride_ID) as total_rides,\\\n",
    "          round(avg(fr.distance_km_mv),3) as avg_distance_km\\\n",
    "          from factRides fr\\\n",
    "          left outer join dimLock dls on fr.start_lock_SK = dls.lock_SK\\\n",
    "          left outer join dimLock dle on fr.end_lock_SK = dle.lock_SK\\\n",
    "          where fr.distance_km_mv > 0 and dls.stationid is not null and dle.stationid is not null\\\n",
    "          group by dls.stationid, dle.stationid\\\n",
    "          order by total_rides desc\").show()"
   ],
   "outputs": [
    {
     "name": "stdout",
     "output_type": "stream",
     "text": [
      "+-------------+-----------+-----------+---------------+\n",
      "|start_station|end_station|total_rides|avg_distance_km|\n",
      "+-------------+-----------+-----------+---------------+\n",
      "|          263|        262|        396|          2.503|\n",
      "|          181|        179|        356|          0.446|\n",
      "|          182|        181|        330|          1.457|\n",
      "|          263|        181|        330|          3.238|\n",
      "|          295|        262|        326|          3.725|\n",
      "|          262|        263|        326|          2.503|\n",
      "|          262|        181|        325|          1.390|\n",
      "|          262|        182|        322|          1.035|\n",
      "|          262|         28|        315|          1.694|\n",
      "|          179|        178|        315|          0.752|\n",
      "|          262|         55|        314|          1.494|\n",
      "|          179|        181|        313|          0.446|\n",
      "|          262|        136|        309|          1.044|\n",
      "|          181|         39|        309|          0.834|\n",
      "|          181|        150|        309|          4.098|\n",
      "|          181|        140|        307|          0.430|\n",
      "|          181|        136|        306|          0.388|\n",
      "|           32|        262|        306|          0.936|\n",
      "|          295|        263|        305|          2.949|\n",
      "|          262|         50|        304|          1.180|\n",
      "+-------------+-----------+-----------+---------------+\n",
      "only showing top 20 rows\n",
      "\n"
     ]
    }
   ],
   "execution_count": 23
  },
  {
   "cell_type": "code",
   "execution_count": 124,
   "id": "7a688cf0a1978bd2",
   "metadata": {
    "ExecuteTime": {
     "end_time": "2024-12-28T16:31:34.937846Z",
     "start_time": "2024-12-28T16:31:34.062435Z"
    }
   },
   "outputs": [
    {
     "name": "stdout",
     "output_type": "stream",
     "text": [
      "+-------------+-----------+-----------+---------------+\n",
      "|start_station|end_station|total_rides|avg_distance_km|\n",
      "+-------------+-----------+-----------+---------------+\n",
      "|         NULL|       NULL|     246428|          0.397|\n",
      "|          136|        136|       2045|          0.000|\n",
      "|           97|         97|       1996|          0.000|\n",
      "|          124|        124|       1972|          0.000|\n",
      "|          140|        140|       1969|          0.000|\n",
      "|           39|         39|       1968|          0.000|\n",
      "|           52|         52|       1944|          0.000|\n",
      "|          146|        146|       1935|          0.000|\n",
      "|          141|        141|       1933|          0.000|\n",
      "|          121|        121|       1909|          0.000|\n",
      "|          149|        149|       1908|          0.000|\n",
      "|          181|        181|       1907|          0.000|\n",
      "|           55|         55|       1897|          0.000|\n",
      "|           32|         32|       1879|          0.000|\n",
      "|           50|         50|       1863|          0.000|\n",
      "|          108|        108|       1860|          0.000|\n",
      "|          139|        139|       1855|          0.000|\n",
      "|          179|        179|       1851|          0.000|\n",
      "|          158|        158|       1838|          0.000|\n",
      "|          156|        156|       1834|          0.000|\n",
      "+-------------+-----------+-----------+---------------+\n",
      "only showing top 20 rows\n",
      "\n"
     ]
    }
   ],
   "source": [
    "# Als we de where eruit halen zien we veel ritten die niet aan een station gelinkt zijn en ook vaak dat de rit bij hetzelfde station eindigde dan dat hij gestart is.\n",
    "spark.sql(\"select dls.stationid as start_station, dle.stationid as end_station,\\\n",
    "          count(fr.ride_ID) as total_rides,\\\n",
    "          round(avg(fr.distance_km_mv),3) as avg_distance_km\\\n",
    "          from factRides fr\\\n",
    "          left outer join dimLock dls on fr.start_lock_SK = dls.lock_SK\\\n",
    "          left outer join dimLock dle on fr.end_lock_SK = dle.lock_SK\\\n",
    "          group by dls.stationid, dle.stationid\\\n",
    "          order by total_rides desc\").show()"
   ]
  }
 ],
 "metadata": {
  "kernelspec": {
   "display_name": "Python 3 (ipykernel)",
   "language": "python",
   "name": "python3"
  },
  "language_info": {
   "codemirror_mode": {
    "name": "ipython",
    "version": 3
   },
   "file_extension": ".py",
   "mimetype": "text/x-python",
   "name": "python",
   "nbconvert_exporter": "python",
   "pygments_lexer": "ipython3",
   "version": "3.11.9"
  }
 },
 "nbformat": 4,
 "nbformat_minor": 5
}
