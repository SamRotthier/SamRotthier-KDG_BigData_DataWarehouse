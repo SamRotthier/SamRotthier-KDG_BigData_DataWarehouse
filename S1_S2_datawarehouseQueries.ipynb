{
 "cells": [
  {
   "metadata": {},
   "cell_type": "markdown",
   "source": "# Config stuff",
   "id": "914783b83acb7d64"
  },
  {
   "metadata": {
    "ExecuteTime": {
     "end_time": "2024-12-27T16:09:02.233545Z",
     "start_time": "2024-12-27T16:09:01.839281Z"
    }
   },
   "cell_type": "code",
   "source": [
    "from numpy.ma.core import inner\n",
    "\n",
    "import ConnectionConfig as cc\n",
    "from delta import DeltaTable\n",
    "cc.setupEnvironment()"
   ],
   "id": "68fc4ae7f855b752",
   "outputs": [],
   "execution_count": 2
  },
  {
   "metadata": {},
   "cell_type": "markdown",
   "source": "# Start local cluster",
   "id": "bfb319c37b1397c6"
  },
  {
   "metadata": {
    "ExecuteTime": {
     "end_time": "2024-12-27T16:09:30.704401Z",
     "start_time": "2024-12-27T16:09:09.936352Z"
    }
   },
   "cell_type": "code",
   "source": [
    "spark = cc.startLocalCluster(\"FACT_RIDES\")\n",
    "spark.getActiveSession()"
   ],
   "id": "ba2a52af8179001f",
   "outputs": [
    {
     "data": {
      "text/plain": [
       "<pyspark.sql.session.SparkSession at 0x267ffdaf210>"
      ],
      "text/html": [
       "\n",
       "            <div>\n",
       "                <p><b>SparkSession - in-memory</b></p>\n",
       "                \n",
       "        <div>\n",
       "            <p><b>SparkContext</b></p>\n",
       "\n",
       "            <p><a href=\"http://127.0.0.1:4040\">Spark UI</a></p>\n",
       "\n",
       "            <dl>\n",
       "              <dt>Version</dt>\n",
       "                <dd><code>v3.5.2</code></dd>\n",
       "              <dt>Master</dt>\n",
       "                <dd><code>local[*]</code></dd>\n",
       "              <dt>AppName</dt>\n",
       "                <dd><code>FACT_RIDES</code></dd>\n",
       "            </dl>\n",
       "        </div>\n",
       "        \n",
       "            </div>\n",
       "        "
      ]
     },
     "execution_count": 3,
     "metadata": {},
     "output_type": "execute_result"
    }
   ],
   "execution_count": 3
  },
  {
   "metadata": {},
   "cell_type": "markdown",
   "source": "# Make tables available",
   "id": "5f866e3e66504480"
  },
  {
   "metadata": {
    "ExecuteTime": {
     "end_time": "2024-12-27T16:09:50.130072Z",
     "start_time": "2024-12-27T16:09:49.490926Z"
    }
   },
   "cell_type": "code",
   "source": [
    "#EXTRACT\n",
    "# Dimension date\n",
    "dim_date = spark.read.format(\"delta\").load(\"spark-warehouse/dimdate\")\n",
    "\n",
    "# Dimension weather\n",
    "dim_weather = spark.read.format(\"delta\").load(\"spark-warehouse/dimweather\")\n",
    "\n",
    "# Dimension customer\n",
    "dim_customer = spark.read.format(\"delta\").load(\"spark-warehouse/dimuser\")\n",
    "\n",
    "# Dimension lock\n",
    "dim_lock = spark.read.format(\"delta\").load(\"spark-warehouse/dimlock\")\n",
    "\n",
    "# Fact rides\n",
    "fact_rides = spark.read.format(\"delta\").load(\"spark-warehouse/factrides\")\n",
    "\n",
    "# Make tempviews from tables\n",
    "dim_date.createOrReplaceTempView(\"dimDate\")\n",
    "dim_weather.createOrReplaceTempView(\"dimWeather\")\n",
    "dim_customer.createOrReplaceTempView(\"dimCustomer\")\n",
    "dim_lock.createOrReplaceTempView(\"dimLock\")\n",
    "fact_rides.createOrReplaceTempView(\"factRides\")"
   ],
   "id": "3a0e025fe70c4ef1",
   "outputs": [],
   "execution_count": 5
  },
  {
   "metadata": {},
   "cell_type": "markdown",
   "source": "# Analysis queries",
   "id": "cc3a81c37834516"
  },
  {
   "metadata": {},
   "cell_type": "markdown",
   "source": "## Student 1",
   "id": "406305f32e042547"
  },
  {
   "metadata": {},
   "cell_type": "markdown",
   "source": "### Wat zijn de drukke momenten (op dagbasis) in de week t.o.v. het weekend?",
   "id": "fe430977d8a71347"
  },
  {
   "metadata": {
    "ExecuteTime": {
     "end_time": "2024-12-27T16:10:00.407941Z",
     "start_time": "2024-12-27T16:09:52.933734Z"
    }
   },
   "cell_type": "code",
   "source": [
    "spark.sql(\"select dd.DayOfWeekStartMonday, count(fr.count_MV) as CountedRides from factRides fr \\\n",
    "          inner join dimDate dd on fr.date_SK = dd.date_SK \\\n",
    "          group by dd.DayOfWeekStartMonday \\\n",
    "          order by dd.DayOfWeekStartMonday asc \").show()"
   ],
   "id": "ff46f624e6dd4832",
   "outputs": [
    {
     "name": "stdout",
     "output_type": "stream",
     "text": [
      "+--------------------+------------+\n",
      "|DayOfWeekStartMonday|CountedRides|\n",
      "+--------------------+------------+\n",
      "|                   1|      523145|\n",
      "|                   2|      549040|\n",
      "|                   3|      395212|\n",
      "|                   4|      311037|\n",
      "|                   5|      304584|\n",
      "|                   6|      392996|\n",
      "|                   7|      538786|\n",
      "+--------------------+------------+\n",
      "\n"
     ]
    }
   ],
   "execution_count": 6
  },
  {
   "metadata": {},
   "cell_type": "markdown",
   "source": [
    "In de week zijn vooral maandag en dinsdag de drukste dagen. Daarna neemt het aantal rides af elke dag.\n",
    "In het weekend neemt het aantal rides terug toe en is het op zijn drukst op zondag."
   ],
   "id": "8061f7747d088740"
  },
  {
   "metadata": {},
   "cell_type": "markdown",
   "source": "### Hebben datumparameters invloed op de afgelegde afstand?",
   "id": "82ff88784779876c"
  },
  {
   "metadata": {},
   "cell_type": "markdown",
   "source": "### Heeft weer invloed op ritten?",
   "id": "94e2f4ff1c8dd992"
  },
  {
   "metadata": {},
   "cell_type": "markdown",
   "source": [
    "Op welke eigenschappen van de ritten kan het weer een invloed hebben:\n",
    "1) Op aantal afgelegde ritten in een bepaald weertype\n",
    "2) Op de gemiddelde duurtijd van een rit in een bepaald weertype\n",
    "3) Op de gemiddelde afgelegde afstand van een rit in een bepaald weertype"
   ],
   "id": "6b403a08e6241146"
  },
  {
   "metadata": {
    "ExecuteTime": {
     "end_time": "2024-11-29T15:49:25.614668Z",
     "start_time": "2024-11-29T15:49:24.182164Z"
    }
   },
   "cell_type": "code",
   "source": [
    "spark.sql(\"select dw.weather_type, count(count_MV) as CountedRides, \\\n",
    "          round(sum(rideDuration_MV)/count(count_MV)) as AverageRideDuration \\\n",
    "          from factRides fr \\\n",
    "          inner join dimWeather dw on fr.weather_SK = dw.weather_SK \\\n",
    "          group by dw.weather_type \\\n",
    "          having dw.weather_type != 'weertype onbekend'\").show()"
   ],
   "id": "551a170965a4b43d",
   "outputs": [
    {
     "name": "stdout",
     "output_type": "stream",
     "text": [
      "+------------+------------+-------------------+\n",
      "|weather_type|CountedRides|AverageRideDuration|\n",
      "+------------+------------+-------------------+\n",
      "|    Neutraal|         208|              677.0|\n",
      "|   Aangenaam|         197|              718.0|\n",
      "| Onaangenaam|          90|              635.0|\n",
      "+------------+------------+-------------------+\n",
      "\n"
     ]
    }
   ],
   "execution_count": 30
  },
  {
   "metadata": {},
   "cell_type": "markdown",
   "source": [
    "#### 1. Invloed van weer op aantal afgelegde ritten\n",
    "Op basis van de analyse hierboven zouden we kunnen zeggen dat bij neutraal of aangenaam weer er de meeste ritten worden afgewerkt."
   ],
   "id": "2e8d0cba8031da3c"
  },
  {
   "metadata": {},
   "cell_type": "markdown",
   "source": [
    "#### 2. Invloed van weer op de duurtijd van een rit\n",
    "We kunnen uit de analyse afleiden dat gebruikers bij aangenaam weer gemiddeld gezien de langste ritten afleggen op vlak van duurtijd. Bij onaangenaam weer zitten gebruikers het minst lang op hun voertuig.\n",
    "\n",
    "In praktijk weten we echter dat we random weer situaties hebben toegevoegd aan onze data. Dus de patronenen die we hier zien zijn louter toeval."
   ],
   "id": "ea757419731f1b19"
  },
  {
   "metadata": {},
   "cell_type": "markdown",
   "source": "#### 3. Invloed van weer op de afgelegde afstand",
   "id": "d8179872c75207bb"
  },
  {
   "metadata": {},
   "cell_type": "markdown",
   "source": "### Stijgt de populariteit van deelfietsen in Antwerpen met de jaren?",
   "id": "bbbbebaf1d5baa80"
  },
  {
   "metadata": {
    "ExecuteTime": {
     "end_time": "2024-12-15T14:43:52.778872Z",
     "start_time": "2024-12-15T14:43:51.581479Z"
    }
   },
   "cell_type": "code",
   "source": [
    "spark.sql(\"select dd.CalendarYear as Year, count(fr.count_MV) as CountedRides from factRides fr \\\n",
    "          inner join dimDate dd on fr.date_SK = dd.date_SK \\\n",
    "          group by dd.CalendarYear\").show()"
   ],
   "id": "c9a170948a94b422",
   "outputs": [
    {
     "name": "stdout",
     "output_type": "stream",
     "text": [
      "+----+------------+\n",
      "|Year|CountedRides|\n",
      "+----+------------+\n",
      "|2019|      288379|\n",
      "|2021|     1013666|\n",
      "|2020|      958186|\n",
      "|2022|      958269|\n",
      "|2023|      705224|\n",
      "+----+------------+\n",
      "\n"
     ]
    }
   ],
   "execution_count": 19
  },
  {
   "metadata": {},
   "cell_type": "markdown",
   "source": "### Hebben de seizoenen invloed op de ritten?",
   "id": "a3ae8286428561b6"
  },
  {
   "metadata": {},
   "cell_type": "markdown",
   "source": [
    "1. Hoeveel ritten zijn er per seizoen?\n",
    "2. Wat is de gemiddelde duurtijd per rit per seizoen?\n",
    "3. Wat is de gemiddelde afgelegde afstand per rit per seizoen"
   ],
   "id": "8d07979bc1656507"
  },
  {
   "metadata": {
    "ExecuteTime": {
     "end_time": "2024-12-15T15:21:34.522683Z",
     "start_time": "2024-12-15T15:21:33.244509Z"
    }
   },
   "cell_type": "code",
   "source": [
    "spark.sql(\"select CASE \\\n",
    "          when (dd.MonthOfYear = 12 and dd.DayOfMonth >=21) or (dd.MonthOfYear in (1,2)) or (dd.MonthOfYear = 3 and dd.DayOfMonth <21) then 'winter' \\\n",
    "          when (dd.MonthOfYear = 3 and dd.DayOfMonth >=21) or (dd.MonthOfYear in (4,5)) or (dd.MonthOfYear = 6 and dd.DayOfMonth <21) then 'spring' \\\n",
    "          when (dd.MonthOfYear = 6 and dd.DayOfMonth >=21) or (dd.MonthOfYear in (7,8)) or (dd.MonthOfYear = 9 and dd.DayOfMonth <21) then 'summer' \\\n",
    "          when (dd.MonthOfYear = 9 and dd.DayOfMonth >=21) or (dd.MonthOfYear in (10,11)) or (dd.MonthOfYear = 12 and dd.DayOfMonth <21) then 'autumn' \\\n",
    "          end as season, \\\n",
    "          count(fr.count_MV) as CountedRides, \\\n",
    "          round(sum(fr.rideDuration_MV)/count(fr.count_MV)) as AverageRideDuration \\\n",
    "          from factRides fr \\\n",
    "          inner join dimDate dd on fr.date_SK = dd.date_SK \\\n",
    "          group by \\\n",
    "          CASE \\\n",
    "          when (dd.MonthOfYear = 12 and dd.DayOfMonth >=21) or (dd.MonthOfYear in (1,2)) or (dd.MonthOfYear = 3 and dd.DayOfMonth <21) then 'winter' \\\n",
    "          when (dd.MonthOfYear = 3 and dd.DayOfMonth >=21) or (dd.MonthOfYear in (4,5)) or (dd.MonthOfYear = 6 and dd.DayOfMonth <21) then 'spring' \\\n",
    "          when (dd.MonthOfYear = 6 and dd.DayOfMonth >=21) or (dd.MonthOfYear in (7,8)) or (dd.MonthOfYear = 9 and dd.DayOfMonth <21) then 'summer' \\\n",
    "          when (dd.MonthOfYear = 9 and dd.DayOfMonth >=21) or (dd.MonthOfYear in (10,11)) or (dd.MonthOfYear = 12 and dd.DayOfMonth <21) then 'autumn' \\\n",
    "          end \\\n",
    "          order by CountedRides desc\").show()"
   ],
   "id": "1fdc655495253bc6",
   "outputs": [
    {
     "name": "stdout",
     "output_type": "stream",
     "text": [
      "+------+------------+-------------------+\n",
      "|season|CountedRides|AverageRideDuration|\n",
      "+------+------------+-------------------+\n",
      "|autumn|      993222|              609.0|\n",
      "|summer|      992891|              603.0|\n",
      "|spring|      988528|              603.0|\n",
      "|winter|      949083|              603.0|\n",
      "+------+------------+-------------------+\n",
      "\n"
     ]
    }
   ],
   "execution_count": 34
  },
  {
   "metadata": {},
   "cell_type": "markdown",
   "source": [
    "1. We zien dat er in de herfst de meeste ritten zijn. Al is het verschil met de andere seizoenen beperkt.\n",
    "2. de gemiddelde duurtijd per rit is in de herfst het hoogst. Bij de andere seizoenen is deze gelijk."
   ],
   "id": "d8679ab9791177b"
  },
  {
   "metadata": {},
   "cell_type": "markdown",
   "source": "## Student 2",
   "id": "9162c5d82b26340e"
  },
  {
   "metadata": {},
   "cell_type": "markdown",
   "source": "### Wat is de invloed van de woonplaats van de gebruikers op het gebruik van de vehicles?",
   "id": "d3d16e3211ef1b7b"
  },
  {
   "metadata": {
    "ExecuteTime": {
     "end_time": "2024-12-28T12:06:29.338108Z",
     "start_time": "2024-12-28T12:06:28.273656Z"
    }
   },
   "cell_type": "code",
   "source": [
    "spark.sql(\"select dc.city as user_city,\\\n",
    "          count(fr.ride_id) as total_rides,\\\n",
    "          round(AVG(fr.rideDuration_MV),1) AS avg_ride_duration_sec,\\\n",
    "          round(AVG(fr.distance_km_mv),3) AS avg_distance_km\\\n",
    "          from factRides fr\\\n",
    "          left outer join dimCustomer dc on dc.user_sk = fr.user_sk\\\n",
    "          group by dc.city\\\n",
    "          order by total_rides desc\").show()\n"
   ],
   "id": "4c0c6b8eab153e54",
   "outputs": [
    {
     "name": "stdout",
     "output_type": "stream",
     "text": [
      "+--------------------+-----------+---------------------+---------------+\n",
      "|           user_city|total_rides|avg_ride_duration_sec|avg_distance_km|\n",
      "+--------------------+-----------+---------------------+---------------+\n",
      "|           Antwerpen|     603708|                557.2|          2.405|\n",
      "|             Schoten|     149514|                602.3|          2.581|\n",
      "|Beveren-Waas/Haas...|     147219|                602.9|          2.581|\n",
      "| Wilrijk (Antwerpen)|     132162|                651.0|          2.954|\n",
      "|  Deurne (Antwerpen)|     123740|                693.4|          2.760|\n",
      "|          Brasschaat|     109100|                601.4|          2.575|\n",
      "|    Kapellen (Antw.)|     107046|                602.4|          2.583|\n",
      "| Berchem (Antwerpen)|     104735|                575.6|          2.501|\n",
      "|Broechem/Emblem/O...|     103617|                602.4|          2.579|\n",
      "|s Gravenwezel/Sch...|     101869|                599.8|          2.568|\n",
      "| Merksem (Antwerpen)|     100167|                602.0|          2.578|\n",
      "| Hoboken (Antwerpen)|      93442|                747.3|          3.159|\n",
      "|    Kontich/Waarloos|      89976|                604.5|          2.587|\n",
      "|Borgerhout (Antwe...|      87994|                587.5|          2.396|\n",
      "|              Edegem|      85883|                601.7|          2.577|\n",
      "|Bazel/Kruibeke/Ru...|      74635|                603.4|          2.583|\n",
      "|Antwerpen/Berendr...|      74261|                604.7|          2.584|\n",
      "| Reet/Rumst/Terhagen|      72942|                599.0|          2.562|\n",
      "|            Boechout|      71652|                603.5|          2.580|\n",
      "|             Mortsel|      69227|                603.9|          2.583|\n",
      "+--------------------+-----------+---------------------+---------------+\n",
      "only showing top 20 rows\n",
      "\n"
     ]
    }
   ],
   "execution_count": 39
  },
  {
   "metadata": {},
   "cell_type": "markdown",
   "source": "### We willen voorspellen welke sloten preventief onderhoud nodig hebben. Bekijk hoe vaak slotnummers relatief gezien gebruikt worden.",
   "id": "7ee7fbaf45811186"
  },
  {
   "metadata": {
    "ExecuteTime": {
     "end_time": "2024-12-28T13:28:25.251453Z",
     "start_time": "2024-12-28T13:28:24.769617Z"
    }
   },
   "cell_type": "code",
   "source": [
    "spark.sql(\"select dl.lockid, (count(fr.start_lockid) + count(fr.end_lockid)) as CountLocks, \\\n",
    "          CountLocks * 1.0 / sum(count(fr.start_lockid) + count(fr.end_lockid)) over() as relative_usage\\\n",
    "          from factRides fr\\\n",
    "          left outer join dimLock dl on dl.lockid = fr.end_lockid\\\n",
    "          group by dl.lockid\\\n",
    "          order by CountLocks desc\").show()\n",
    "\n",
    "# Bij het starten van een rit moet het slot opengaan dus we moeten zowel start als eind slot in rekening brengen\n",
    "# De sum() over() gaat ervoor zorgen dat hij de berekening gaat doen met alle data over een bepaalde partitie (in dit geval geen dus neemt hij alles)"
   ],
   "id": "1c8bb9b803f89473",
   "outputs": [
    {
     "name": "stdout",
     "output_type": "stream",
     "text": [
      "+------+----------+------------------+\n",
      "|lockid|CountLocks|    relative_usage|\n",
      "+------+----------+------------------+\n",
      "|  1548|     18530|0.0033467323033176|\n",
      "|  2682|     18428|0.0033283099236663|\n",
      "|   270|     18408|0.0033246976923622|\n",
      "|  2772|     18374|0.0033185568991451|\n",
      "|   738|     18318|0.0033084426514934|\n",
      "|  3024|     18298|0.0033048304201892|\n",
      "|  2538|     18296|0.0033044691970588|\n",
      "|  3258|     18290|0.0033033855276675|\n",
      "|   702|     18278|0.0033012181888850|\n",
      "|  2754|     18254|0.0032968835113200|\n",
      "|  2718|     18250|0.0032961610650592|\n",
      "|   774|     18236|0.0032936325031463|\n",
      "|  2825|     18224|0.0032914651643637|\n",
      "|  4230|     18220|0.0032907427181029|\n",
      "|  2358|     18162|0.0032802672473208|\n",
      "|  2790|     18148|0.0032777386854079|\n",
      "|  3168|     18132|0.0032748489003645|\n",
      "|  3096|     18128|0.0032741264541037|\n",
      "|   810|     18122|0.0032730427847125|\n",
      "|  2988|     18096|0.0032683468840170|\n",
      "+------+----------+------------------+\n",
      "only showing top 20 rows\n",
      "\n"
     ]
    }
   ],
   "execution_count": 71
  },
  {
   "metadata": {},
   "cell_type": "markdown",
   "source": "### Als een klant zijn abonnement stopzet, willen we kunnen voorspellen op welke stations dit het meeste effect zal hebben.",
   "id": "593a93ed2b908813"
  },
  {
   "metadata": {
    "ExecuteTime": {
     "end_time": "2024-12-28T14:58:42.787523Z",
     "start_time": "2024-12-28T14:58:41.287876Z"
    }
   },
   "cell_type": "code",
   "source": [
    "spark.sql(\"select dc.userid, dl.stationid, count(fr.ride_ID) as amount_rides \\\n",
    "          from factRides fr\\\n",
    "          left outer join dimCustomer dc on dc.user_sk = fr.user_sk\\\n",
    "          left outer join dimLock dl on dl.lockid = fr.start_lockid\\\n",
    "          where fr.start_lockid is not null\\\n",
    "          group by dc.userid, dl.stationid\\\n",
    "          order by amount_rides desc\").show()"
   ],
   "id": "1c34bf11c0ea3e80",
   "outputs": [
    {
     "name": "stdout",
     "output_type": "stream",
     "text": [
      "+------+---------+------------+\n",
      "|userid|stationid|amount_rides|\n",
      "+------+---------+------------+\n",
      "| 37367|      162|          17|\n",
      "|  5750|      180|          14|\n",
      "| 24821|      162|          13|\n",
      "| 46611|      205|          13|\n",
      "| 41934|      294|          13|\n",
      "| 38243|      180|          12|\n",
      "|  7362|      160|          12|\n",
      "| 24711|      180|          12|\n",
      "| 38203|      180|          12|\n",
      "| 17990|      180|          12|\n",
      "|  7485|      161|          12|\n",
      "| 26189|      180|          12|\n",
      "| 19281|      278|          12|\n",
      "| 41885|      161|          12|\n",
      "| 10430|      161|          12|\n",
      "|  6014|      180|          12|\n",
      "| 33185|      294|          12|\n",
      "| 47280|      161|          12|\n",
      "| 35983|      162|          12|\n",
      "| 33761|      161|          12|\n",
      "+------+---------+------------+\n",
      "only showing top 20 rows\n",
      "\n"
     ]
    }
   ],
   "execution_count": 96
  },
  {
   "metadata": {
    "ExecuteTime": {
     "end_time": "2024-12-28T14:58:47.251839Z",
     "start_time": "2024-12-28T14:58:46.723309Z"
    }
   },
   "cell_type": "code",
   "source": [
    "# Extra zijn dit de ritten die geen start slot hebben (en dus ook geen station)\n",
    "spark.sql(\"select dc.userid, count(fr.ride_ID) as amount_rides \\\n",
    "          from factRides fr\\\n",
    "          left outer join dimCustomer dc on dc.user_sk = fr.user_sk\\\n",
    "          left outer join dimLock dl on dl.lockid = fr.start_lockid\\\n",
    "          where fr.start_lockid is null\\\n",
    "          group by dc.userid\\\n",
    "          order by amount_rides desc\").show()"
   ],
   "id": "1d6b75a92544686b",
   "outputs": [
    {
     "name": "stdout",
     "output_type": "stream",
     "text": [
      "+------+------------+\n",
      "|userid|amount_rides|\n",
      "+------+------------+\n",
      "| 24213|          31|\n",
      "| 45176|          26|\n",
      "|  6027|          23|\n",
      "| 34758|          23|\n",
      "| 37660|          23|\n",
      "| 38470|          23|\n",
      "| 34805|          22|\n",
      "| 38835|          22|\n",
      "|  3197|          22|\n",
      "|  7716|          22|\n",
      "| 14229|          22|\n",
      "| 32022|          21|\n",
      "| 28331|          21|\n",
      "| 37534|          21|\n",
      "|  2201|          21|\n",
      "| 57187|          21|\n",
      "| 39947|          21|\n",
      "|  2247|          20|\n",
      "| 54381|          20|\n",
      "| 23970|          20|\n",
      "+------+------------+\n",
      "only showing top 20 rows\n",
      "\n"
     ]
    }
   ],
   "execution_count": 97
  },
  {
   "metadata": {},
   "cell_type": "markdown",
   "source": "### Extra vraag 1",
   "id": "e9ea7a6edc5e8a64"
  },
  {
   "metadata": {},
   "cell_type": "code",
   "outputs": [],
   "execution_count": null,
   "source": "",
   "id": "4e5ba996cae7f0d3"
  },
  {
   "metadata": {},
   "cell_type": "markdown",
   "source": "### Extra vraag 2",
   "id": "15e8d06a454b518f"
  },
  {
   "metadata": {},
   "cell_type": "code",
   "outputs": [],
   "execution_count": null,
   "source": "",
   "id": "b99955c67074efec"
  }
 ],
 "metadata": {
  "kernelspec": {
   "display_name": "Python 3",
   "language": "python",
   "name": "python3"
  },
  "language_info": {
   "codemirror_mode": {
    "name": "ipython",
    "version": 2
   },
   "file_extension": ".py",
   "mimetype": "text/x-python",
   "name": "python",
   "nbconvert_exporter": "python",
   "pygments_lexer": "ipython2",
   "version": "2.7.6"
  }
 },
 "nbformat": 4,
 "nbformat_minor": 5
}
