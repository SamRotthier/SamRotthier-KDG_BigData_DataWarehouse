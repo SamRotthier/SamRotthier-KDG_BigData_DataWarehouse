{
 "cells": [
  {
   "metadata": {},
   "cell_type": "markdown",
   "source": "# Config",
   "id": "3268f2419a360dc9"
  },
  {
   "cell_type": "code",
   "id": "initial_id",
   "metadata": {
    "collapsed": true,
    "ExecuteTime": {
     "end_time": "2025-01-02T15:36:43.979095Z",
     "start_time": "2025-01-02T15:36:43.466937Z"
    }
   },
   "source": [
    "from delta import DeltaTable\n",
    "from datetime import datetime\n",
    "\n",
    "import ConnectionConfig as cc\n",
    "cc.setupEnvironment()"
   ],
   "outputs": [],
   "execution_count": 1
  },
  {
   "metadata": {},
   "cell_type": "markdown",
   "source": "# Start local cluster",
   "id": "d39a82ffbff70d99"
  },
  {
   "metadata": {
    "ExecuteTime": {
     "end_time": "2025-01-02T15:39:05.758002Z",
     "start_time": "2025-01-02T15:38:42.843634Z"
    }
   },
   "cell_type": "code",
   "source": [
    "spark = cc.startLocalCluster(\"DIM_LOCK\")\n",
    "spark.getActiveSession()"
   ],
   "id": "80615f849719c7ce",
   "outputs": [
    {
     "data": {
      "text/plain": [
       "<pyspark.sql.session.SparkSession at 0x1452be283d0>"
      ],
      "text/html": [
       "\n",
       "            <div>\n",
       "                <p><b>SparkSession - in-memory</b></p>\n",
       "                \n",
       "        <div>\n",
       "            <p><b>SparkContext</b></p>\n",
       "\n",
       "            <p><a href=\"http://127.0.0.1:4040\">Spark UI</a></p>\n",
       "\n",
       "            <dl>\n",
       "              <dt>Version</dt>\n",
       "                <dd><code>v3.5.2</code></dd>\n",
       "              <dt>Master</dt>\n",
       "                <dd><code>local[*]</code></dd>\n",
       "              <dt>AppName</dt>\n",
       "                <dd><code>DIM_LOCK</code></dd>\n",
       "            </dl>\n",
       "        </div>\n",
       "        \n",
       "            </div>\n",
       "        "
      ]
     },
     "execution_count": 2,
     "metadata": {},
     "output_type": "execute_result"
    }
   ],
   "execution_count": 2
  },
  {
   "metadata": {},
   "cell_type": "markdown",
   "source": "# Ophalen van gegevens (en opslaan in data warehouse)",
   "id": "ffec53b2a667c365"
  },
  {
   "metadata": {
    "ExecuteTime": {
     "end_time": "2025-01-02T15:40:20.724940Z",
     "start_time": "2025-01-02T15:40:16.796886Z"
    }
   },
   "cell_type": "code",
   "source": [
    "#Extract\n",
    "cc.set_connectionProfile(\"VeloDB\")\n",
    "\n",
    "df_lock = spark.read \\\n",
    "    .format(\"jdbc\") \\\n",
    "    .option(\"driver\" , cc.get_Property(\"driver\")) \\\n",
    "    .option(\"url\", cc.create_jdbc()) \\\n",
    "    .option(\"dbtable\", \"locks\") \\\n",
    "    .option(\"user\", cc.get_Property(\"username\")) \\\n",
    "    .option(\"password\", cc.get_Property(\"password\")) \\\n",
    "    .option(\"partitionColumn\", \"lockid\") \\\n",
    "    .option(\"numPartitions\", 4) \\\n",
    "    .option(\"lowerBound\", 0) \\\n",
    "    .option(\"upperBound\", 8000) \\\n",
    "    .load()\n",
    "\n",
    "df_station = spark.read \\\n",
    "    .format(\"jdbc\") \\\n",
    "    .option(\"driver\" , cc.get_Property(\"driver\")) \\\n",
    "    .option(\"url\", cc.create_jdbc()) \\\n",
    "    .option(\"dbtable\", \"stations\") \\\n",
    "    .option(\"user\", cc.get_Property(\"username\")) \\\n",
    "    .option(\"password\", cc.get_Property(\"password\")) \\\n",
    "    .option(\"partitionColumn\", \"stationid\") \\\n",
    "    .option(\"numPartitions\", 4) \\\n",
    "    .option(\"lowerBound\", 0) \\\n",
    "    .option(\"upperBound\", 350) \\\n",
    "    .load()\n",
    "\n",
    "df_lock.show(5)\n",
    "df_station.show(5)"
   ],
   "id": "8b347fdae48cb5e",
   "outputs": [
    {
     "name": "stdout",
     "output_type": "stream",
     "text": [
      "+------+-------------+---------+---------+\n",
      "|lockid|stationlocknr|stationid|vehicleid|\n",
      "+------+-------------+---------+---------+\n",
      "|     1|            1|        1|     NULL|\n",
      "|     2|            2|        1|     NULL|\n",
      "|     3|            3|        1|     NULL|\n",
      "|     4|            4|        1|     NULL|\n",
      "|     5|            5|        1|     NULL|\n",
      "+------+-------------+---------+---------+\n",
      "only showing top 5 rows\n",
      "\n",
      "+---------+--------+---------+------------+--------------------+------+-------+---------+-----------------+-------------------+-------+------+\n",
      "|stationid|objectid|stationnr|        type|              street|number|zipcode| district|         gpscoord|     additionalinfo|labelid|cityid|\n",
      "+---------+--------+---------+------------+--------------------+------+-------+---------+-----------------+-------------------+-------+------+\n",
      "|        1|   33202|      026|DUBBELZIJDIG|         Meir (2000)|    84|   2000|ANTWERPEN|(51.2182,4.41241)|                   |   NULL|  NULL|\n",
      "|        2|   33203|      019| ENKELZIJDIG|          ONTBREKEND|    12|   2000|ANTWERPEN| (51.219,4.40405)|                   |   NULL|  NULL|\n",
      "|        3|   33204|      020| ENKELZIJDIG|Groenkerkhofstraa...|     2|   2000|ANTWERPEN|(51.2187,4.40066)|thv Nationalestraat|   NULL|  NULL|\n",
      "|        4|   33205|      035| ENKELZIJDIG|Cockerillkaai (2000)|      |   2000|ANTWERPEN|(51.2104,4.38772)|                   |   NULL|  NULL|\n",
      "|        5|   33206|      094| ENKELZIJDIG|        PALEISSTRAAT|   147|   2018|ANTWERPEN|(51.2047,4.39625)|                   |   NULL|  NULL|\n",
      "+---------+--------+---------+------------+--------------------+------+-------+---------+-----------------+-------------------+-------+------+\n",
      "only showing top 5 rows\n",
      "\n"
     ]
    }
   ],
   "execution_count": 3
  },
  {
   "metadata": {
    "ExecuteTime": {
     "end_time": "2025-01-02T15:40:28.340755Z",
     "start_time": "2025-01-02T15:40:27.061810Z"
    }
   },
   "cell_type": "code",
   "source": [
    "#Transform\n",
    "df_lock.createOrReplaceTempView(\"source_Lock\")\n",
    "df_station.createOrReplaceTempView(\"source_Station\")\n",
    "\n",
    "#querien van de data\n",
    "df_dim_lock = spark.sql(f\"select uuid() as lock_SK, lock.lockid, lock.stationLockNr, station.stationid, station.stationNr, station.type,\\\n",
    "                        station.zipcode,station.street, station.number, station.district\\\n",
    "                        from source_Lock as lock\\\n",
    "                        join source_Station as station on station.stationid = lock.stationid\")\n",
    "\n",
    "df_dim_lock.show()"
   ],
   "id": "67af1656cd315632",
   "outputs": [
    {
     "name": "stdout",
     "output_type": "stream",
     "text": [
      "+--------------------+------+-------------+---------+---------+-----------+-------+--------------------+------+---------+\n",
      "|             lock_SK|lockid|stationLockNr|stationid|stationNr|       type|zipcode|              street|number| district|\n",
      "+--------------------+------+-------------+---------+---------+-----------+-------+--------------------+------+---------+\n",
      "|f6e189a7-6d64-450...|   234|           18|       12|      120|ENKELZIJDIG|   2060|Schijnpoortweg (2...| 27-29|ANTWERPEN|\n",
      "|9a80b529-db37-4c2...|   233|           17|       12|      120|ENKELZIJDIG|   2060|Schijnpoortweg (2...| 27-29|ANTWERPEN|\n",
      "|a95a7897-2d2d-4a5...|   232|           16|       12|      120|ENKELZIJDIG|   2060|Schijnpoortweg (2...| 27-29|ANTWERPEN|\n",
      "|4717c116-8308-414...|   231|           15|       12|      120|ENKELZIJDIG|   2060|Schijnpoortweg (2...| 27-29|ANTWERPEN|\n",
      "|5b05f222-3fa8-4f2...|   230|           14|       12|      120|ENKELZIJDIG|   2060|Schijnpoortweg (2...| 27-29|ANTWERPEN|\n",
      "|4ff8a72f-8469-401...|   229|           13|       12|      120|ENKELZIJDIG|   2060|Schijnpoortweg (2...| 27-29|ANTWERPEN|\n",
      "|a84bc32c-9c80-448...|   228|           12|       12|      120|ENKELZIJDIG|   2060|Schijnpoortweg (2...| 27-29|ANTWERPEN|\n",
      "|dd8817df-0c1f-486...|   227|           11|       12|      120|ENKELZIJDIG|   2060|Schijnpoortweg (2...| 27-29|ANTWERPEN|\n",
      "|bc142128-fdcb-4f9...|   226|           10|       12|      120|ENKELZIJDIG|   2060|Schijnpoortweg (2...| 27-29|ANTWERPEN|\n",
      "|b2c4f45d-b4dd-43b...|   225|            9|       12|      120|ENKELZIJDIG|   2060|Schijnpoortweg (2...| 27-29|ANTWERPEN|\n",
      "|2f470d28-9996-48b...|   224|            8|       12|      120|ENKELZIJDIG|   2060|Schijnpoortweg (2...| 27-29|ANTWERPEN|\n",
      "|1636963a-5f41-4dd...|   223|            7|       12|      120|ENKELZIJDIG|   2060|Schijnpoortweg (2...| 27-29|ANTWERPEN|\n",
      "|015e4b30-5be6-433...|   222|            6|       12|      120|ENKELZIJDIG|   2060|Schijnpoortweg (2...| 27-29|ANTWERPEN|\n",
      "|012f5cd7-d8c9-4ba...|   221|            5|       12|      120|ENKELZIJDIG|   2060|Schijnpoortweg (2...| 27-29|ANTWERPEN|\n",
      "|d9754da6-edb9-4e2...|   220|            4|       12|      120|ENKELZIJDIG|   2060|Schijnpoortweg (2...| 27-29|ANTWERPEN|\n",
      "|81b9f289-00e3-4ed...|   219|            3|       12|      120|ENKELZIJDIG|   2060|Schijnpoortweg (2...| 27-29|ANTWERPEN|\n",
      "|ad046a4c-a0c2-419...|   218|            2|       12|      120|ENKELZIJDIG|   2060|Schijnpoortweg (2...| 27-29|ANTWERPEN|\n",
      "|564dd736-daa0-41d...|   217|            1|       12|      120|ENKELZIJDIG|   2060|Schijnpoortweg (2...| 27-29|ANTWERPEN|\n",
      "|6998c9ae-6441-4b7...|   252|           18|       13|      144|ENKELZIJDIG|   2050|August Vermeylenl...|     7|ANTWERPEN|\n",
      "|f4a156a9-8c56-4fe...|   251|           17|       13|      144|ENKELZIJDIG|   2050|August Vermeylenl...|     7|ANTWERPEN|\n",
      "+--------------------+------+-------------+---------+---------+-----------+-------+--------------------+------+---------+\n",
      "only showing top 20 rows\n",
      "\n"
     ]
    }
   ],
   "execution_count": 4
  },
  {
   "metadata": {
    "ExecuteTime": {
     "end_time": "2025-01-02T15:40:59.886131Z",
     "start_time": "2025-01-02T15:40:59.302043Z"
    }
   },
   "cell_type": "code",
   "source": [
    "#Transform\n",
    "# Adding the row for \"geen slot\" types\n",
    "df_dim_lock.createOrReplaceTempView(\"df_dim_lock\")\n",
    "geen_slot_type = spark.sql(f\"select uuid() as lock_SK, null as lockid, null as stationLockNr, null as stationid, null as stationNr, 'geen slot' as type, null as zipcode ,null as street, null as number, null as district\")\n",
    "geen_slot_type.show()\n",
    "\n",
    "df_dim_lock_no_lock = spark.sql(\"SELECT * FROM df_dim_lock\").union(geen_slot_type)\n",
    "df_dim_lock_no_lock.show()\n"
   ],
   "id": "a13d02415c8728c3",
   "outputs": [
    {
     "name": "stdout",
     "output_type": "stream",
     "text": [
      "+--------------------+------+-------------+---------+---------+---------+-------+------+------+--------+\n",
      "|             lock_SK|lockid|stationLockNr|stationid|stationNr|     type|zipcode|street|number|district|\n",
      "+--------------------+------+-------------+---------+---------+---------+-------+------+------+--------+\n",
      "|e17e5734-227b-42d...|  NULL|         NULL|     NULL|     NULL|geen slot|   NULL|  NULL|  NULL|    NULL|\n",
      "+--------------------+------+-------------+---------+---------+---------+-------+------+------+--------+\n",
      "\n",
      "+--------------------+------+-------------+---------+---------+-----------+-------+--------------------+------+---------+\n",
      "|             lock_SK|lockid|stationLockNr|stationid|stationNr|       type|zipcode|              street|number| district|\n",
      "+--------------------+------+-------------+---------+---------+-----------+-------+--------------------+------+---------+\n",
      "|f6e189a7-6d64-450...|   217|            1|       12|      120|ENKELZIJDIG|   2060|Schijnpoortweg (2...| 27-29|ANTWERPEN|\n",
      "|9a80b529-db37-4c2...|   218|            2|       12|      120|ENKELZIJDIG|   2060|Schijnpoortweg (2...| 27-29|ANTWERPEN|\n",
      "|a95a7897-2d2d-4a5...|   219|            3|       12|      120|ENKELZIJDIG|   2060|Schijnpoortweg (2...| 27-29|ANTWERPEN|\n",
      "|4717c116-8308-414...|   220|            4|       12|      120|ENKELZIJDIG|   2060|Schijnpoortweg (2...| 27-29|ANTWERPEN|\n",
      "|5b05f222-3fa8-4f2...|   221|            5|       12|      120|ENKELZIJDIG|   2060|Schijnpoortweg (2...| 27-29|ANTWERPEN|\n",
      "|4ff8a72f-8469-401...|   222|            6|       12|      120|ENKELZIJDIG|   2060|Schijnpoortweg (2...| 27-29|ANTWERPEN|\n",
      "|a84bc32c-9c80-448...|   223|            7|       12|      120|ENKELZIJDIG|   2060|Schijnpoortweg (2...| 27-29|ANTWERPEN|\n",
      "|dd8817df-0c1f-486...|   224|            8|       12|      120|ENKELZIJDIG|   2060|Schijnpoortweg (2...| 27-29|ANTWERPEN|\n",
      "|bc142128-fdcb-4f9...|   225|            9|       12|      120|ENKELZIJDIG|   2060|Schijnpoortweg (2...| 27-29|ANTWERPEN|\n",
      "|b2c4f45d-b4dd-43b...|   226|           10|       12|      120|ENKELZIJDIG|   2060|Schijnpoortweg (2...| 27-29|ANTWERPEN|\n",
      "|2f470d28-9996-48b...|   227|           11|       12|      120|ENKELZIJDIG|   2060|Schijnpoortweg (2...| 27-29|ANTWERPEN|\n",
      "|1636963a-5f41-4dd...|   228|           12|       12|      120|ENKELZIJDIG|   2060|Schijnpoortweg (2...| 27-29|ANTWERPEN|\n",
      "|015e4b30-5be6-433...|   229|           13|       12|      120|ENKELZIJDIG|   2060|Schijnpoortweg (2...| 27-29|ANTWERPEN|\n",
      "|012f5cd7-d8c9-4ba...|   230|           14|       12|      120|ENKELZIJDIG|   2060|Schijnpoortweg (2...| 27-29|ANTWERPEN|\n",
      "|d9754da6-edb9-4e2...|   231|           15|       12|      120|ENKELZIJDIG|   2060|Schijnpoortweg (2...| 27-29|ANTWERPEN|\n",
      "|81b9f289-00e3-4ed...|   232|           16|       12|      120|ENKELZIJDIG|   2060|Schijnpoortweg (2...| 27-29|ANTWERPEN|\n",
      "|ad046a4c-a0c2-419...|   233|           17|       12|      120|ENKELZIJDIG|   2060|Schijnpoortweg (2...| 27-29|ANTWERPEN|\n",
      "|564dd736-daa0-41d...|   234|           18|       12|      120|ENKELZIJDIG|   2060|Schijnpoortweg (2...| 27-29|ANTWERPEN|\n",
      "|6998c9ae-6441-4b7...|   235|            1|       13|      144|ENKELZIJDIG|   2050|August Vermeylenl...|     7|ANTWERPEN|\n",
      "|f4a156a9-8c56-4fe...|   236|            2|       13|      144|ENKELZIJDIG|   2050|August Vermeylenl...|     7|ANTWERPEN|\n",
      "+--------------------+------+-------------+---------+---------+-----------+-------+--------------------+------+---------+\n",
      "only showing top 20 rows\n",
      "\n"
     ]
    }
   ],
   "execution_count": 6
  },
  {
   "metadata": {
    "ExecuteTime": {
     "end_time": "2025-01-02T15:41:25.785398Z",
     "start_time": "2025-01-02T15:41:22.558440Z"
    }
   },
   "cell_type": "code",
   "source": [
    "#Load\n",
    "df_dim_lock_no_lock.write.format(\"delta\").mode(\"overwrite\").saveAsTable(\"dimLock\")"
   ],
   "id": "e479b4ab9d030d10",
   "outputs": [],
   "execution_count": 8
  },
  {
   "metadata": {
    "ExecuteTime": {
     "end_time": "2025-01-02T15:44:33.257583Z",
     "start_time": "2025-01-02T15:44:32.821242Z"
    }
   },
   "cell_type": "code",
   "source": "spark.stop()",
   "id": "e4d9a096fd43d565",
   "outputs": [],
   "execution_count": 9
  }
 ],
 "metadata": {
  "kernelspec": {
   "display_name": "Python 3",
   "language": "python",
   "name": "python3"
  },
  "language_info": {
   "codemirror_mode": {
    "name": "ipython",
    "version": 2
   },
   "file_extension": ".py",
   "mimetype": "text/x-python",
   "name": "python",
   "nbconvert_exporter": "python",
   "pygments_lexer": "ipython2",
   "version": "2.7.6"
  }
 },
 "nbformat": 4,
 "nbformat_minor": 5
}
