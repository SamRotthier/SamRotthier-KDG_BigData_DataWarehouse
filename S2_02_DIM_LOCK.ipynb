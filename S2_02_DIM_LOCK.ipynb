{
 "cells": [
  {
   "metadata": {},
   "cell_type": "markdown",
   "source": "# Config",
   "id": "3268f2419a360dc9"
  },
  {
   "cell_type": "code",
   "id": "initial_id",
   "metadata": {
    "collapsed": true,
    "ExecuteTime": {
     "end_time": "2024-12-23T13:35:56.682006Z",
     "start_time": "2024-12-23T13:35:56.482506Z"
    }
   },
   "source": [
    "from delta import DeltaTable\n",
    "from datetime import datetime\n",
    "\n",
    "import ConnectionConfig as cc\n",
    "cc.setupEnvironment()"
   ],
   "outputs": [],
   "execution_count": 1
  },
  {
   "metadata": {},
   "cell_type": "markdown",
   "source": "# Start local cluster",
   "id": "d39a82ffbff70d99"
  },
  {
   "metadata": {
    "ExecuteTime": {
     "end_time": "2024-12-23T13:36:32.703691Z",
     "start_time": "2024-12-23T13:36:24.020630Z"
    }
   },
   "cell_type": "code",
   "source": [
    "spark = cc.startLocalCluster(\"DIM_LOCK\")\n",
    "spark.getActiveSession()"
   ],
   "id": "80615f849719c7ce",
   "outputs": [
    {
     "data": {
      "text/plain": [
       "<pyspark.sql.session.SparkSession at 0x2cb6cb88210>"
      ],
      "text/html": [
       "\n",
       "            <div>\n",
       "                <p><b>SparkSession - in-memory</b></p>\n",
       "                \n",
       "        <div>\n",
       "            <p><b>SparkContext</b></p>\n",
       "\n",
       "            <p><a href=\"http://127.0.0.1:4040\">Spark UI</a></p>\n",
       "\n",
       "            <dl>\n",
       "              <dt>Version</dt>\n",
       "                <dd><code>v3.5.2</code></dd>\n",
       "              <dt>Master</dt>\n",
       "                <dd><code>local[*]</code></dd>\n",
       "              <dt>AppName</dt>\n",
       "                <dd><code>DIM_LOCK</code></dd>\n",
       "            </dl>\n",
       "        </div>\n",
       "        \n",
       "            </div>\n",
       "        "
      ]
     },
     "execution_count": 2,
     "metadata": {},
     "output_type": "execute_result"
    }
   ],
   "execution_count": 2
  },
  {
   "metadata": {},
   "cell_type": "markdown",
   "source": "# Ophalen van gegevens (en opslaan in data warehouse)",
   "id": "ffec53b2a667c365"
  },
  {
   "metadata": {
    "ExecuteTime": {
     "end_time": "2024-12-23T13:36:40.233017Z",
     "start_time": "2024-12-23T13:36:36.516035Z"
    }
   },
   "cell_type": "code",
   "source": [
    "#Extract\n",
    "cc.set_connectionProfile(\"VeloDB\")\n",
    "\n",
    "df_lock = spark.read \\\n",
    "    .format(\"jdbc\") \\\n",
    "    .option(\"driver\" , cc.get_Property(\"driver\")) \\\n",
    "    .option(\"url\", cc.create_jdbc()) \\\n",
    "    .option(\"dbtable\", \"locks\") \\\n",
    "    .option(\"user\", cc.get_Property(\"username\")) \\\n",
    "    .option(\"password\", cc.get_Property(\"password\")) \\\n",
    "    .option(\"partitionColumn\", \"lockid\") \\\n",
    "    .option(\"numPartitions\", 4) \\\n",
    "    .option(\"lowerBound\", 0) \\\n",
    "    .option(\"upperBound\", 8000) \\\n",
    "    .load()\n",
    "\n",
    "df_station = spark.read \\\n",
    "    .format(\"jdbc\") \\\n",
    "    .option(\"driver\" , cc.get_Property(\"driver\")) \\\n",
    "    .option(\"url\", cc.create_jdbc()) \\\n",
    "    .option(\"dbtable\", \"stations\") \\\n",
    "    .option(\"user\", cc.get_Property(\"username\")) \\\n",
    "    .option(\"password\", cc.get_Property(\"password\")) \\\n",
    "    .option(\"partitionColumn\", \"stationid\") \\\n",
    "    .option(\"numPartitions\", 4) \\\n",
    "    .option(\"lowerBound\", 0) \\\n",
    "    .option(\"upperBound\", 350) \\\n",
    "    .load()\n",
    "\n",
    "df_lock.show(5)\n",
    "df_station.show(5)"
   ],
   "id": "8b347fdae48cb5e",
   "outputs": [
    {
     "name": "stdout",
     "output_type": "stream",
     "text": [
      "+------+-------------+---------+---------+\n",
      "|lockid|stationlocknr|stationid|vehicleid|\n",
      "+------+-------------+---------+---------+\n",
      "|     1|            1|        1|     NULL|\n",
      "|     2|            2|        1|     NULL|\n",
      "|     3|            3|        1|     NULL|\n",
      "|     4|            4|        1|     NULL|\n",
      "|     5|            5|        1|     NULL|\n",
      "+------+-------------+---------+---------+\n",
      "only showing top 5 rows\n",
      "\n",
      "+---------+--------+---------+------------+--------------------+------+-------+---------+-----------------+-------------------+-------+------+\n",
      "|stationid|objectid|stationnr|        type|              street|number|zipcode| district|         gpscoord|     additionalinfo|labelid|cityid|\n",
      "+---------+--------+---------+------------+--------------------+------+-------+---------+-----------------+-------------------+-------+------+\n",
      "|        1|   33202|      026|DUBBELZIJDIG|         Meir (2000)|    84|   2000|ANTWERPEN|(51.2182,4.41241)|                   |   NULL|  NULL|\n",
      "|        2|   33203|      019| ENKELZIJDIG|          ONTBREKEND|    12|   2000|ANTWERPEN| (51.219,4.40405)|                   |   NULL|  NULL|\n",
      "|        3|   33204|      020| ENKELZIJDIG|Groenkerkhofstraa...|     2|   2000|ANTWERPEN|(51.2187,4.40066)|thv Nationalestraat|   NULL|  NULL|\n",
      "|        4|   33205|      035| ENKELZIJDIG|Cockerillkaai (2000)|      |   2000|ANTWERPEN|(51.2104,4.38772)|                   |   NULL|  NULL|\n",
      "|        5|   33206|      094| ENKELZIJDIG|        PALEISSTRAAT|   147|   2018|ANTWERPEN|(51.2047,4.39625)|                   |   NULL|  NULL|\n",
      "+---------+--------+---------+------------+--------------------+------+-------+---------+-----------------+-------------------+-------+------+\n",
      "only showing top 5 rows\n",
      "\n"
     ]
    }
   ],
   "execution_count": 3
  },
  {
   "metadata": {
    "ExecuteTime": {
     "end_time": "2024-12-23T13:37:25.274359Z",
     "start_time": "2024-12-23T13:37:24.252077Z"
    }
   },
   "cell_type": "code",
   "source": [
    "#Transform\n",
    "df_lock.createOrReplaceTempView(\"source_Lock\")\n",
    "df_station.createOrReplaceTempView(\"source_Station\")\n",
    "\n",
    "#querien van de data\n",
    "df_dim_lock = spark.sql(f\"select uuid() as lock_SK, lock.lockid, lock.stationLockNr, station.stationid, station.stationNr, station.type,\\\n",
    "                        station.street, station.number, station.district\\\n",
    "                        from source_Lock as lock\\\n",
    "                        join source_Station as station on station.stationid = lock.stationid\")\n",
    "\n",
    "df_dim_lock.show()"
   ],
   "id": "67af1656cd315632",
   "outputs": [
    {
     "name": "stdout",
     "output_type": "stream",
     "text": [
      "+--------------------+------+-------------+---------+---------+-----------+--------------------+------+---------+\n",
      "|             lock_SK|lockid|stationLockNr|stationid|stationNr|       type|              street|number| district|\n",
      "+--------------------+------+-------------+---------+---------+-----------+--------------------+------+---------+\n",
      "|4b522e56-c715-442...|   217|            1|       12|      120|ENKELZIJDIG|Schijnpoortweg (2...| 27-29|ANTWERPEN|\n",
      "|16adb994-11e9-423...|   218|            2|       12|      120|ENKELZIJDIG|Schijnpoortweg (2...| 27-29|ANTWERPEN|\n",
      "|16fece90-bc1e-429...|   219|            3|       12|      120|ENKELZIJDIG|Schijnpoortweg (2...| 27-29|ANTWERPEN|\n",
      "|c3c4d005-53f7-47f...|   220|            4|       12|      120|ENKELZIJDIG|Schijnpoortweg (2...| 27-29|ANTWERPEN|\n",
      "|7a527ada-623a-49b...|   221|            5|       12|      120|ENKELZIJDIG|Schijnpoortweg (2...| 27-29|ANTWERPEN|\n",
      "|7ed86870-399e-4f0...|   222|            6|       12|      120|ENKELZIJDIG|Schijnpoortweg (2...| 27-29|ANTWERPEN|\n",
      "|694a3299-f845-43f...|   223|            7|       12|      120|ENKELZIJDIG|Schijnpoortweg (2...| 27-29|ANTWERPEN|\n",
      "|23eafb00-6cb3-425...|   224|            8|       12|      120|ENKELZIJDIG|Schijnpoortweg (2...| 27-29|ANTWERPEN|\n",
      "|0db8e992-00ec-42a...|   225|            9|       12|      120|ENKELZIJDIG|Schijnpoortweg (2...| 27-29|ANTWERPEN|\n",
      "|84b6f0fd-c4a7-488...|   226|           10|       12|      120|ENKELZIJDIG|Schijnpoortweg (2...| 27-29|ANTWERPEN|\n",
      "|b68bf1af-2a50-413...|   227|           11|       12|      120|ENKELZIJDIG|Schijnpoortweg (2...| 27-29|ANTWERPEN|\n",
      "|9d9dfb58-8b8b-454...|   228|           12|       12|      120|ENKELZIJDIG|Schijnpoortweg (2...| 27-29|ANTWERPEN|\n",
      "|d0098068-01d0-493...|   229|           13|       12|      120|ENKELZIJDIG|Schijnpoortweg (2...| 27-29|ANTWERPEN|\n",
      "|4a3ea3a2-d7e0-45c...|   230|           14|       12|      120|ENKELZIJDIG|Schijnpoortweg (2...| 27-29|ANTWERPEN|\n",
      "|27f483b9-1787-4f4...|   231|           15|       12|      120|ENKELZIJDIG|Schijnpoortweg (2...| 27-29|ANTWERPEN|\n",
      "|8e601929-995f-47c...|   232|           16|       12|      120|ENKELZIJDIG|Schijnpoortweg (2...| 27-29|ANTWERPEN|\n",
      "|93109141-70c6-455...|   233|           17|       12|      120|ENKELZIJDIG|Schijnpoortweg (2...| 27-29|ANTWERPEN|\n",
      "|00ba6626-45ad-402...|   234|           18|       12|      120|ENKELZIJDIG|Schijnpoortweg (2...| 27-29|ANTWERPEN|\n",
      "|ab8b5f04-baf7-445...|   235|            1|       13|      144|ENKELZIJDIG|August Vermeylenl...|     7|ANTWERPEN|\n",
      "|80ce2633-114c-458...|   236|            2|       13|      144|ENKELZIJDIG|August Vermeylenl...|     7|ANTWERPEN|\n",
      "+--------------------+------+-------------+---------+---------+-----------+--------------------+------+---------+\n",
      "only showing top 20 rows\n",
      "\n"
     ]
    }
   ],
   "execution_count": 5
  },
  {
   "metadata": {
    "ExecuteTime": {
     "end_time": "2024-12-23T13:59:27.654337Z",
     "start_time": "2024-12-23T13:59:27.320380Z"
    }
   },
   "cell_type": "code",
   "source": [
    "#Transform\n",
    "# Adding the row for \"geen slot\" types\n",
    "df_dim_lock.createOrReplaceTempView(\"df_dim_lock\")\n",
    "geen_slot_type = spark.sql(f\"select uuid() as lock_SK, null as lockid, null as stationLockNr, null as stationid, null as stationNr, 'geen slot' as type, null as street, null as number, null as district\")\n",
    "geen_slot_type.show()\n",
    "\n",
    "df_dim_lock_no_lock = spark.sql(\"SELECT * FROM df_dim_lock\").union(geen_slot_type)\n",
    "df_dim_lock_no_lock.show()\n"
   ],
   "id": "a13d02415c8728c3",
   "outputs": [
    {
     "name": "stdout",
     "output_type": "stream",
     "text": [
      "+--------------------+------+-------------+---------+---------+---------+------+------+--------+\n",
      "|             lock_SK|lockid|stationLockNr|stationid|stationNr|     type|street|number|district|\n",
      "+--------------------+------+-------------+---------+---------+---------+------+------+--------+\n",
      "|89fe7843-fc50-47a...|  NULL|         NULL|     NULL|     NULL|geen slot|  NULL|  NULL|    NULL|\n",
      "+--------------------+------+-------------+---------+---------+---------+------+------+--------+\n",
      "\n",
      "+--------------------+------+-------------+---------+---------+-----------+--------------------+------+---------+\n",
      "|             lock_SK|lockid|stationLockNr|stationid|stationNr|       type|              street|number| district|\n",
      "+--------------------+------+-------------+---------+---------+-----------+--------------------+------+---------+\n",
      "|4b522e56-c715-442...|   217|            1|       12|      120|ENKELZIJDIG|Schijnpoortweg (2...| 27-29|ANTWERPEN|\n",
      "|16adb994-11e9-423...|   218|            2|       12|      120|ENKELZIJDIG|Schijnpoortweg (2...| 27-29|ANTWERPEN|\n",
      "|16fece90-bc1e-429...|   219|            3|       12|      120|ENKELZIJDIG|Schijnpoortweg (2...| 27-29|ANTWERPEN|\n",
      "|c3c4d005-53f7-47f...|   220|            4|       12|      120|ENKELZIJDIG|Schijnpoortweg (2...| 27-29|ANTWERPEN|\n",
      "|7a527ada-623a-49b...|   221|            5|       12|      120|ENKELZIJDIG|Schijnpoortweg (2...| 27-29|ANTWERPEN|\n",
      "|7ed86870-399e-4f0...|   222|            6|       12|      120|ENKELZIJDIG|Schijnpoortweg (2...| 27-29|ANTWERPEN|\n",
      "|694a3299-f845-43f...|   223|            7|       12|      120|ENKELZIJDIG|Schijnpoortweg (2...| 27-29|ANTWERPEN|\n",
      "|23eafb00-6cb3-425...|   224|            8|       12|      120|ENKELZIJDIG|Schijnpoortweg (2...| 27-29|ANTWERPEN|\n",
      "|0db8e992-00ec-42a...|   225|            9|       12|      120|ENKELZIJDIG|Schijnpoortweg (2...| 27-29|ANTWERPEN|\n",
      "|84b6f0fd-c4a7-488...|   226|           10|       12|      120|ENKELZIJDIG|Schijnpoortweg (2...| 27-29|ANTWERPEN|\n",
      "|b68bf1af-2a50-413...|   227|           11|       12|      120|ENKELZIJDIG|Schijnpoortweg (2...| 27-29|ANTWERPEN|\n",
      "|9d9dfb58-8b8b-454...|   228|           12|       12|      120|ENKELZIJDIG|Schijnpoortweg (2...| 27-29|ANTWERPEN|\n",
      "|d0098068-01d0-493...|   229|           13|       12|      120|ENKELZIJDIG|Schijnpoortweg (2...| 27-29|ANTWERPEN|\n",
      "|4a3ea3a2-d7e0-45c...|   230|           14|       12|      120|ENKELZIJDIG|Schijnpoortweg (2...| 27-29|ANTWERPEN|\n",
      "|27f483b9-1787-4f4...|   231|           15|       12|      120|ENKELZIJDIG|Schijnpoortweg (2...| 27-29|ANTWERPEN|\n",
      "|8e601929-995f-47c...|   232|           16|       12|      120|ENKELZIJDIG|Schijnpoortweg (2...| 27-29|ANTWERPEN|\n",
      "|93109141-70c6-455...|   233|           17|       12|      120|ENKELZIJDIG|Schijnpoortweg (2...| 27-29|ANTWERPEN|\n",
      "|00ba6626-45ad-402...|   234|           18|       12|      120|ENKELZIJDIG|Schijnpoortweg (2...| 27-29|ANTWERPEN|\n",
      "|ab8b5f04-baf7-445...|   235|            1|       13|      144|ENKELZIJDIG|August Vermeylenl...|     7|ANTWERPEN|\n",
      "|80ce2633-114c-458...|   236|            2|       13|      144|ENKELZIJDIG|August Vermeylenl...|     7|ANTWERPEN|\n",
      "+--------------------+------+-------------+---------+---------+-----------+--------------------+------+---------+\n",
      "only showing top 20 rows\n",
      "\n"
     ]
    }
   ],
   "execution_count": 16
  },
  {
   "metadata": {
    "ExecuteTime": {
     "end_time": "2024-12-23T14:02:30.153632Z",
     "start_time": "2024-12-23T14:02:25.621508Z"
    }
   },
   "cell_type": "code",
   "source": [
    "#Load\n",
    "df_dim_lock_no_lock.write.format(\"delta\").mode(\"overwrite\").saveAsTable(\"dimLock\")"
   ],
   "id": "e479b4ab9d030d10",
   "outputs": [],
   "execution_count": 17
  }
 ],
 "metadata": {
  "kernelspec": {
   "display_name": "Python 3",
   "language": "python",
   "name": "python3"
  },
  "language_info": {
   "codemirror_mode": {
    "name": "ipython",
    "version": 2
   },
   "file_extension": ".py",
   "mimetype": "text/x-python",
   "name": "python",
   "nbconvert_exporter": "python",
   "pygments_lexer": "ipython2",
   "version": "2.7.6"
  }
 },
 "nbformat": 4,
 "nbformat_minor": 5
}
