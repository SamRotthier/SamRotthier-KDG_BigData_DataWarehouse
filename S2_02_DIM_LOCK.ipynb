{
 "cells": [
  {
   "metadata": {},
   "cell_type": "markdown",
   "source": "# Config",
   "id": "3268f2419a360dc9"
  },
  {
   "cell_type": "code",
   "id": "initial_id",
   "metadata": {
    "collapsed": true,
    "ExecuteTime": {
     "end_time": "2025-01-12T15:42:53.840169Z",
     "start_time": "2025-01-12T15:42:53.287309Z"
    }
   },
   "source": [
    "from delta import DeltaTable\n",
    "from datetime import datetime\n",
    "\n",
    "import ConnectionConfig as cc\n",
    "cc.setupEnvironment()"
   ],
   "outputs": [],
   "execution_count": 1
  },
  {
   "metadata": {},
   "cell_type": "markdown",
   "source": "# Start local cluster",
   "id": "d39a82ffbff70d99"
  },
  {
   "metadata": {
    "ExecuteTime": {
     "end_time": "2025-01-12T15:43:18.312477Z",
     "start_time": "2025-01-12T15:42:55.541015Z"
    }
   },
   "cell_type": "code",
   "source": [
    "spark = cc.startLocalCluster(\"DIM_LOCK\")\n",
    "spark.getActiveSession()"
   ],
   "id": "80615f849719c7ce",
   "outputs": [
    {
     "data": {
      "text/plain": [
       "<pyspark.sql.session.SparkSession at 0x2b918868050>"
      ],
      "text/html": [
       "\n",
       "            <div>\n",
       "                <p><b>SparkSession - in-memory</b></p>\n",
       "                \n",
       "        <div>\n",
       "            <p><b>SparkContext</b></p>\n",
       "\n",
       "            <p><a href=\"http://127.0.0.1:4040\">Spark UI</a></p>\n",
       "\n",
       "            <dl>\n",
       "              <dt>Version</dt>\n",
       "                <dd><code>v3.5.2</code></dd>\n",
       "              <dt>Master</dt>\n",
       "                <dd><code>local[*]</code></dd>\n",
       "              <dt>AppName</dt>\n",
       "                <dd><code>DIM_LOCK</code></dd>\n",
       "            </dl>\n",
       "        </div>\n",
       "        \n",
       "            </div>\n",
       "        "
      ]
     },
     "execution_count": 2,
     "metadata": {},
     "output_type": "execute_result"
    }
   ],
   "execution_count": 2
  },
  {
   "metadata": {},
   "cell_type": "markdown",
   "source": "# Ophalen van gegevens (en opslaan in data warehouse)",
   "id": "ffec53b2a667c365"
  },
  {
   "metadata": {
    "ExecuteTime": {
     "end_time": "2025-01-12T15:43:39.401787Z",
     "start_time": "2025-01-12T15:43:35.469611Z"
    }
   },
   "cell_type": "code",
   "source": [
    "#Extract\n",
    "cc.set_connectionProfile(\"VeloDB\")\n",
    "\n",
    "df_lock = spark.read \\\n",
    "    .format(\"jdbc\") \\\n",
    "    .option(\"driver\" , cc.get_Property(\"driver\")) \\\n",
    "    .option(\"url\", cc.create_jdbc()) \\\n",
    "    .option(\"dbtable\", \"locks\") \\\n",
    "    .option(\"user\", cc.get_Property(\"username\")) \\\n",
    "    .option(\"password\", cc.get_Property(\"password\")) \\\n",
    "    .option(\"partitionColumn\", \"lockid\") \\\n",
    "    .option(\"numPartitions\", 4) \\\n",
    "    .option(\"lowerBound\", 0) \\\n",
    "    .option(\"upperBound\", 8000) \\\n",
    "    .load()\n",
    "\n",
    "df_station = spark.read \\\n",
    "    .format(\"jdbc\") \\\n",
    "    .option(\"driver\" , cc.get_Property(\"driver\")) \\\n",
    "    .option(\"url\", cc.create_jdbc()) \\\n",
    "    .option(\"dbtable\", \"stations\") \\\n",
    "    .option(\"user\", cc.get_Property(\"username\")) \\\n",
    "    .option(\"password\", cc.get_Property(\"password\")) \\\n",
    "    .option(\"partitionColumn\", \"stationid\") \\\n",
    "    .option(\"numPartitions\", 4) \\\n",
    "    .option(\"lowerBound\", 0) \\\n",
    "    .option(\"upperBound\", 350) \\\n",
    "    .load()\n",
    "\n",
    "df_lock.show(5)\n",
    "df_station.show(5)"
   ],
   "id": "8b347fdae48cb5e",
   "outputs": [
    {
     "name": "stdout",
     "output_type": "stream",
     "text": [
      "+------+-------------+---------+---------+\n",
      "|lockid|stationlocknr|stationid|vehicleid|\n",
      "+------+-------------+---------+---------+\n",
      "|     1|            1|        1|     NULL|\n",
      "|     2|            2|        1|     NULL|\n",
      "|     3|            3|        1|     NULL|\n",
      "|     4|            4|        1|     NULL|\n",
      "|     5|            5|        1|     NULL|\n",
      "+------+-------------+---------+---------+\n",
      "only showing top 5 rows\n",
      "\n",
      "+---------+--------+---------+------------+--------------------+------+-------+---------+-----------------+-------------------+-------+------+\n",
      "|stationid|objectid|stationnr|        type|              street|number|zipcode| district|         gpscoord|     additionalinfo|labelid|cityid|\n",
      "+---------+--------+---------+------------+--------------------+------+-------+---------+-----------------+-------------------+-------+------+\n",
      "|        1|   33202|      026|DUBBELZIJDIG|         Meir (2000)|    84|   2000|ANTWERPEN|(51.2182,4.41241)|                   |   NULL|  NULL|\n",
      "|        2|   33203|      019| ENKELZIJDIG|          ONTBREKEND|    12|   2000|ANTWERPEN| (51.219,4.40405)|                   |   NULL|  NULL|\n",
      "|        3|   33204|      020| ENKELZIJDIG|Groenkerkhofstraa...|     2|   2000|ANTWERPEN|(51.2187,4.40066)|thv Nationalestraat|   NULL|  NULL|\n",
      "|        4|   33205|      035| ENKELZIJDIG|Cockerillkaai (2000)|      |   2000|ANTWERPEN|(51.2104,4.38772)|                   |   NULL|  NULL|\n",
      "|        5|   33206|      094| ENKELZIJDIG|        PALEISSTRAAT|   147|   2018|ANTWERPEN|(51.2047,4.39625)|                   |   NULL|  NULL|\n",
      "+---------+--------+---------+------------+--------------------+------+-------+---------+-----------------+-------------------+-------+------+\n",
      "only showing top 5 rows\n",
      "\n"
     ]
    }
   ],
   "execution_count": 3
  },
  {
   "metadata": {
    "ExecuteTime": {
     "end_time": "2025-01-12T15:46:58.836234Z",
     "start_time": "2025-01-12T15:46:57.727544Z"
    }
   },
   "cell_type": "code",
   "source": [
    "#Transform\n",
    "df_lock.createOrReplaceTempView(\"source_Lock\")\n",
    "df_station.createOrReplaceTempView(\"source_Station\")\n",
    "\n",
    "#querien van de data\n",
    "df_dim_lock = spark.sql(f\"select uuid() as lock_SK, lock.lockid, lock.stationLockNr, station.stationid, station.stationNr, station.type,\\\n",
    "                        station.zipcode,station.street, station.number, station.district\\\n",
    "                        from source_Lock as lock\\\n",
    "                        join source_Station as station on station.stationid = lock.stationid\")\n",
    "\n",
    "df_dim_lock.show()"
   ],
   "id": "67af1656cd315632",
   "outputs": [
    {
     "name": "stdout",
     "output_type": "stream",
     "text": [
      "+--------------------+------+-------------+---------+---------+-----------+-------+--------------------+------+---------+\n",
      "|             lock_SK|lockid|stationLockNr|stationid|stationNr|       type|zipcode|              street|number| district|\n",
      "+--------------------+------+-------------+---------+---------+-----------+-------+--------------------+------+---------+\n",
      "|f8c21fbf-7de1-4b4...|   217|            1|       12|      120|ENKELZIJDIG|   2060|Schijnpoortweg (2...| 27-29|ANTWERPEN|\n",
      "|9a903ae0-cb8b-4f6...|   218|            2|       12|      120|ENKELZIJDIG|   2060|Schijnpoortweg (2...| 27-29|ANTWERPEN|\n",
      "|3e0a4a5f-6953-45a...|   219|            3|       12|      120|ENKELZIJDIG|   2060|Schijnpoortweg (2...| 27-29|ANTWERPEN|\n",
      "|0165312e-9a8d-43e...|   220|            4|       12|      120|ENKELZIJDIG|   2060|Schijnpoortweg (2...| 27-29|ANTWERPEN|\n",
      "|3644beda-249c-447...|   221|            5|       12|      120|ENKELZIJDIG|   2060|Schijnpoortweg (2...| 27-29|ANTWERPEN|\n",
      "|ab23169e-bb2c-473...|   222|            6|       12|      120|ENKELZIJDIG|   2060|Schijnpoortweg (2...| 27-29|ANTWERPEN|\n",
      "|c0152ac8-8e13-421...|   223|            7|       12|      120|ENKELZIJDIG|   2060|Schijnpoortweg (2...| 27-29|ANTWERPEN|\n",
      "|a7186023-4675-426...|   224|            8|       12|      120|ENKELZIJDIG|   2060|Schijnpoortweg (2...| 27-29|ANTWERPEN|\n",
      "|93949667-abe6-486...|   225|            9|       12|      120|ENKELZIJDIG|   2060|Schijnpoortweg (2...| 27-29|ANTWERPEN|\n",
      "|78c084f8-0cf5-4c9...|   226|           10|       12|      120|ENKELZIJDIG|   2060|Schijnpoortweg (2...| 27-29|ANTWERPEN|\n",
      "|089db9d0-908b-4ce...|   227|           11|       12|      120|ENKELZIJDIG|   2060|Schijnpoortweg (2...| 27-29|ANTWERPEN|\n",
      "|0acfe880-6734-48a...|   228|           12|       12|      120|ENKELZIJDIG|   2060|Schijnpoortweg (2...| 27-29|ANTWERPEN|\n",
      "|c6b49c7b-bede-453...|   229|           13|       12|      120|ENKELZIJDIG|   2060|Schijnpoortweg (2...| 27-29|ANTWERPEN|\n",
      "|e76aeb9a-1ba4-4b9...|   230|           14|       12|      120|ENKELZIJDIG|   2060|Schijnpoortweg (2...| 27-29|ANTWERPEN|\n",
      "|548b457b-4245-4d9...|   231|           15|       12|      120|ENKELZIJDIG|   2060|Schijnpoortweg (2...| 27-29|ANTWERPEN|\n",
      "|a4234f54-0014-435...|   232|           16|       12|      120|ENKELZIJDIG|   2060|Schijnpoortweg (2...| 27-29|ANTWERPEN|\n",
      "|af7e4ecb-0499-437...|   233|           17|       12|      120|ENKELZIJDIG|   2060|Schijnpoortweg (2...| 27-29|ANTWERPEN|\n",
      "|c47d2b66-f19e-447...|   234|           18|       12|      120|ENKELZIJDIG|   2060|Schijnpoortweg (2...| 27-29|ANTWERPEN|\n",
      "|5ff3d549-a350-4cf...|   235|            1|       13|      144|ENKELZIJDIG|   2050|August Vermeylenl...|     7|ANTWERPEN|\n",
      "|e453d9ad-57af-4c4...|   236|            2|       13|      144|ENKELZIJDIG|   2050|August Vermeylenl...|     7|ANTWERPEN|\n",
      "+--------------------+------+-------------+---------+---------+-----------+-------+--------------------+------+---------+\n",
      "only showing top 20 rows\n",
      "\n"
     ]
    }
   ],
   "execution_count": 4
  },
  {
   "metadata": {
    "ExecuteTime": {
     "end_time": "2025-01-12T15:48:28.309648Z",
     "start_time": "2025-01-12T15:48:27.609725Z"
    }
   },
   "cell_type": "code",
   "source": [
    "#Transform\n",
    "# Adding the row for \"geen slot\" types\n",
    "df_dim_lock.createOrReplaceTempView(\"df_dim_lock\")\n",
    "geen_slot_type = spark.sql(f\"select uuid() as lock_SK, null as lockid, null as stationLockNr, null as stationid, null as stationNr, 'geen slot' as type, null as zipcode ,null as street, null as number, null as district\")\n",
    "geen_slot_type.show()\n",
    "\n",
    "df_dim_lock_no_lock = spark.sql(\"SELECT * FROM df_dim_lock\").union(geen_slot_type)\n",
    "df_dim_lock_no_lock.show()\n"
   ],
   "id": "a13d02415c8728c3",
   "outputs": [
    {
     "name": "stdout",
     "output_type": "stream",
     "text": [
      "+--------------------+------+-------------+---------+---------+---------+-------+------+------+--------+\n",
      "|             lock_SK|lockid|stationLockNr|stationid|stationNr|     type|zipcode|street|number|district|\n",
      "+--------------------+------+-------------+---------+---------+---------+-------+------+------+--------+\n",
      "|689a5ed8-2073-4ff...|  NULL|         NULL|     NULL|     NULL|geen slot|   NULL|  NULL|  NULL|    NULL|\n",
      "+--------------------+------+-------------+---------+---------+---------+-------+------+------+--------+\n",
      "\n",
      "+--------------------+------+-------------+---------+---------+-----------+-------+--------------------+------+---------+\n",
      "|             lock_SK|lockid|stationLockNr|stationid|stationNr|       type|zipcode|              street|number| district|\n",
      "+--------------------+------+-------------+---------+---------+-----------+-------+--------------------+------+---------+\n",
      "|f8c21fbf-7de1-4b4...|   234|           18|       12|      120|ENKELZIJDIG|   2060|Schijnpoortweg (2...| 27-29|ANTWERPEN|\n",
      "|9a903ae0-cb8b-4f6...|   233|           17|       12|      120|ENKELZIJDIG|   2060|Schijnpoortweg (2...| 27-29|ANTWERPEN|\n",
      "|3e0a4a5f-6953-45a...|   232|           16|       12|      120|ENKELZIJDIG|   2060|Schijnpoortweg (2...| 27-29|ANTWERPEN|\n",
      "|0165312e-9a8d-43e...|   231|           15|       12|      120|ENKELZIJDIG|   2060|Schijnpoortweg (2...| 27-29|ANTWERPEN|\n",
      "|3644beda-249c-447...|   230|           14|       12|      120|ENKELZIJDIG|   2060|Schijnpoortweg (2...| 27-29|ANTWERPEN|\n",
      "|ab23169e-bb2c-473...|   229|           13|       12|      120|ENKELZIJDIG|   2060|Schijnpoortweg (2...| 27-29|ANTWERPEN|\n",
      "|c0152ac8-8e13-421...|   228|           12|       12|      120|ENKELZIJDIG|   2060|Schijnpoortweg (2...| 27-29|ANTWERPEN|\n",
      "|a7186023-4675-426...|   227|           11|       12|      120|ENKELZIJDIG|   2060|Schijnpoortweg (2...| 27-29|ANTWERPEN|\n",
      "|93949667-abe6-486...|   226|           10|       12|      120|ENKELZIJDIG|   2060|Schijnpoortweg (2...| 27-29|ANTWERPEN|\n",
      "|78c084f8-0cf5-4c9...|   225|            9|       12|      120|ENKELZIJDIG|   2060|Schijnpoortweg (2...| 27-29|ANTWERPEN|\n",
      "|089db9d0-908b-4ce...|   224|            8|       12|      120|ENKELZIJDIG|   2060|Schijnpoortweg (2...| 27-29|ANTWERPEN|\n",
      "|0acfe880-6734-48a...|   223|            7|       12|      120|ENKELZIJDIG|   2060|Schijnpoortweg (2...| 27-29|ANTWERPEN|\n",
      "|c6b49c7b-bede-453...|   222|            6|       12|      120|ENKELZIJDIG|   2060|Schijnpoortweg (2...| 27-29|ANTWERPEN|\n",
      "|e76aeb9a-1ba4-4b9...|   221|            5|       12|      120|ENKELZIJDIG|   2060|Schijnpoortweg (2...| 27-29|ANTWERPEN|\n",
      "|548b457b-4245-4d9...|   220|            4|       12|      120|ENKELZIJDIG|   2060|Schijnpoortweg (2...| 27-29|ANTWERPEN|\n",
      "|a4234f54-0014-435...|   219|            3|       12|      120|ENKELZIJDIG|   2060|Schijnpoortweg (2...| 27-29|ANTWERPEN|\n",
      "|af7e4ecb-0499-437...|   218|            2|       12|      120|ENKELZIJDIG|   2060|Schijnpoortweg (2...| 27-29|ANTWERPEN|\n",
      "|c47d2b66-f19e-447...|   217|            1|       12|      120|ENKELZIJDIG|   2060|Schijnpoortweg (2...| 27-29|ANTWERPEN|\n",
      "|5ff3d549-a350-4cf...|   252|           18|       13|      144|ENKELZIJDIG|   2050|August Vermeylenl...|     7|ANTWERPEN|\n",
      "|e453d9ad-57af-4c4...|   251|           17|       13|      144|ENKELZIJDIG|   2050|August Vermeylenl...|     7|ANTWERPEN|\n",
      "+--------------------+------+-------------+---------+---------+-----------+-------+--------------------+------+---------+\n",
      "only showing top 20 rows\n",
      "\n"
     ]
    }
   ],
   "execution_count": 5
  },
  {
   "metadata": {
    "ExecuteTime": {
     "end_time": "2025-01-12T15:49:16.176302Z",
     "start_time": "2025-01-12T15:49:10.994359Z"
    }
   },
   "cell_type": "code",
   "source": [
    "#Load\n",
    "df_dim_lock_no_lock.write.format(\"delta\").mode(\"overwrite\").saveAsTable(\"dimLock\")"
   ],
   "id": "e479b4ab9d030d10",
   "outputs": [],
   "execution_count": 6
  },
  {
   "metadata": {
    "ExecuteTime": {
     "end_time": "2025-01-12T15:56:10.344502Z",
     "start_time": "2025-01-12T15:56:09.858223Z"
    }
   },
   "cell_type": "code",
   "source": "spark.stop()",
   "id": "e4d9a096fd43d565",
   "outputs": [],
   "execution_count": 7
  }
 ],
 "metadata": {
  "kernelspec": {
   "display_name": "Python 3",
   "language": "python",
   "name": "python3"
  },
  "language_info": {
   "codemirror_mode": {
    "name": "ipython",
    "version": 2
   },
   "file_extension": ".py",
   "mimetype": "text/x-python",
   "name": "python",
   "nbconvert_exporter": "python",
   "pygments_lexer": "ipython2",
   "version": "2.7.6"
  }
 },
 "nbformat": 4,
 "nbformat_minor": 5
}
