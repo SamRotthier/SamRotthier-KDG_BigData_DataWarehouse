{
 "cells": [
  {
   "metadata": {},
   "cell_type": "markdown",
   "source": "# Config",
   "id": "3268f2419a360dc9"
  },
  {
   "cell_type": "code",
   "id": "initial_id",
   "metadata": {
    "collapsed": true,
    "ExecuteTime": {
     "end_time": "2024-12-21T12:25:53.049853Z",
     "start_time": "2024-12-21T12:25:52.930396Z"
    }
   },
   "source": [
    "from delta import DeltaTable\n",
    "from datetime import datetime\n",
    "\n",
    "import ConnectionConfig as cc\n",
    "cc.setupEnvironment()"
   ],
   "outputs": [],
   "execution_count": 1
  },
  {
   "metadata": {},
   "cell_type": "markdown",
   "source": "# Start local cluster",
   "id": "d39a82ffbff70d99"
  },
  {
   "metadata": {
    "ExecuteTime": {
     "end_time": "2024-12-21T12:26:02.880917Z",
     "start_time": "2024-12-21T12:25:55.618195Z"
    }
   },
   "cell_type": "code",
   "source": [
    "spark = cc.startLocalCluster(\"DIM_LOCK\")\n",
    "spark.getActiveSession()"
   ],
   "id": "80615f849719c7ce",
   "outputs": [
    {
     "data": {
      "text/plain": [
       "<pyspark.sql.session.SparkSession at 0x1bbfed2f910>"
      ],
      "text/html": [
       "\n",
       "            <div>\n",
       "                <p><b>SparkSession - in-memory</b></p>\n",
       "                \n",
       "        <div>\n",
       "            <p><b>SparkContext</b></p>\n",
       "\n",
       "            <p><a href=\"http://127.0.0.1:4040\">Spark UI</a></p>\n",
       "\n",
       "            <dl>\n",
       "              <dt>Version</dt>\n",
       "                <dd><code>v3.5.2</code></dd>\n",
       "              <dt>Master</dt>\n",
       "                <dd><code>local[*]</code></dd>\n",
       "              <dt>AppName</dt>\n",
       "                <dd><code>DIM_LOCK</code></dd>\n",
       "            </dl>\n",
       "        </div>\n",
       "        \n",
       "            </div>\n",
       "        "
      ]
     },
     "execution_count": 2,
     "metadata": {},
     "output_type": "execute_result"
    }
   ],
   "execution_count": 2
  },
  {
   "metadata": {},
   "cell_type": "markdown",
   "source": "# Ophalen van gegevens (en opslaan in data warehouse)",
   "id": "ffec53b2a667c365"
  },
  {
   "metadata": {
    "ExecuteTime": {
     "end_time": "2024-12-21T12:43:18.676126Z",
     "start_time": "2024-12-21T12:43:15.172703Z"
    }
   },
   "cell_type": "code",
   "source": [
    "#Extract\n",
    "cc.set_connectionProfile(\"VeloDB\")\n",
    "\n",
    "df_lock = spark.read \\\n",
    "    .format(\"jdbc\") \\\n",
    "    .option(\"driver\" , cc.get_Property(\"driver\")) \\\n",
    "    .option(\"url\", cc.create_jdbc()) \\\n",
    "    .option(\"dbtable\", \"locks\") \\\n",
    "    .option(\"user\", cc.get_Property(\"username\")) \\\n",
    "    .option(\"password\", cc.get_Property(\"password\")) \\\n",
    "    .option(\"partitionColumn\", \"lockid\") \\\n",
    "    .option(\"numPartitions\", 4) \\\n",
    "    .option(\"lowerBound\", 0) \\\n",
    "    .option(\"upperBound\", 8000) \\\n",
    "    .load()\n",
    "\n",
    "df_station = spark.read \\\n",
    "    .format(\"jdbc\") \\\n",
    "    .option(\"driver\" , cc.get_Property(\"driver\")) \\\n",
    "    .option(\"url\", cc.create_jdbc()) \\\n",
    "    .option(\"dbtable\", \"stations\") \\\n",
    "    .option(\"user\", cc.get_Property(\"username\")) \\\n",
    "    .option(\"password\", cc.get_Property(\"password\")) \\\n",
    "    .option(\"partitionColumn\", \"stationid\") \\\n",
    "    .option(\"numPartitions\", 4) \\\n",
    "    .option(\"lowerBound\", 0) \\\n",
    "    .option(\"upperBound\", 350) \\\n",
    "    .load()\n",
    "\n",
    "df_lock.show(5)\n",
    "df_station.show(5)"
   ],
   "id": "8b347fdae48cb5e",
   "outputs": [
    {
     "name": "stdout",
     "output_type": "stream",
     "text": [
      "+------+-------------+---------+---------+\n",
      "|lockid|stationlocknr|stationid|vehicleid|\n",
      "+------+-------------+---------+---------+\n",
      "|     1|            1|        1|     NULL|\n",
      "|     2|            2|        1|     NULL|\n",
      "|     3|            3|        1|     NULL|\n",
      "|     4|            4|        1|     NULL|\n",
      "|     5|            5|        1|     NULL|\n",
      "+------+-------------+---------+---------+\n",
      "only showing top 5 rows\n",
      "\n",
      "+---------+--------+---------+------------+--------------------+------+-------+---------+-----------------+-------------------+-------+------+\n",
      "|stationid|objectid|stationnr|        type|              street|number|zipcode| district|         gpscoord|     additionalinfo|labelid|cityid|\n",
      "+---------+--------+---------+------------+--------------------+------+-------+---------+-----------------+-------------------+-------+------+\n",
      "|        1|   33202|      026|DUBBELZIJDIG|         Meir (2000)|    84|   2000|ANTWERPEN|(51.2182,4.41241)|                   |   NULL|  NULL|\n",
      "|        2|   33203|      019| ENKELZIJDIG|          ONTBREKEND|    12|   2000|ANTWERPEN| (51.219,4.40405)|                   |   NULL|  NULL|\n",
      "|        3|   33204|      020| ENKELZIJDIG|Groenkerkhofstraa...|     2|   2000|ANTWERPEN|(51.2187,4.40066)|thv Nationalestraat|   NULL|  NULL|\n",
      "|        4|   33205|      035| ENKELZIJDIG|Cockerillkaai (2000)|      |   2000|ANTWERPEN|(51.2104,4.38772)|                   |   NULL|  NULL|\n",
      "|        5|   33206|      094| ENKELZIJDIG|        PALEISSTRAAT|   147|   2018|ANTWERPEN|(51.2047,4.39625)|                   |   NULL|  NULL|\n",
      "+---------+--------+---------+------------+--------------------+------+-------+---------+-----------------+-------------------+-------+------+\n",
      "only showing top 5 rows\n",
      "\n"
     ]
    }
   ],
   "execution_count": 3
  },
  {
   "metadata": {
    "ExecuteTime": {
     "end_time": "2024-12-21T14:48:43.534145Z",
     "start_time": "2024-12-21T14:48:43.278856Z"
    }
   },
   "cell_type": "code",
   "source": [
    "#Transform\n",
    "df_lock.createOrReplaceTempView(\"source_Lock\")\n",
    "df_station.createOrReplaceTempView(\"source_Station\")\n",
    "\n",
    "#querien van de data\n",
    "df_dim_lock= spark.sql(f\"select uuid() as lock_SK, lock.lockid, lock.stationLockNr, station.stationid, station.stationNr, station.type,\\\n",
    "                        station.street, station.number, station.district\\\n",
    "                        from source_Lock as lock\\\n",
    "                        join source_Station as station on station.stationid = lock.stationid\")\n",
    "\n",
    "df_dim_lock.show()"
   ],
   "id": "67af1656cd315632",
   "outputs": [
    {
     "name": "stdout",
     "output_type": "stream",
     "text": [
      "+--------------------+------+-------------+---------+---------+-----------+--------------------+------+---------+\n",
      "|             lock_SK|lockid|stationLockNr|stationid|stationNr|       type|              street|number| district|\n",
      "+--------------------+------+-------------+---------+---------+-----------+--------------------+------+---------+\n",
      "|5a53f58f-3f85-439...|   234|           18|       12|      120|ENKELZIJDIG|Schijnpoortweg (2...| 27-29|ANTWERPEN|\n",
      "|1f219141-c17a-413...|   233|           17|       12|      120|ENKELZIJDIG|Schijnpoortweg (2...| 27-29|ANTWERPEN|\n",
      "|5c941285-64aa-47e...|   232|           16|       12|      120|ENKELZIJDIG|Schijnpoortweg (2...| 27-29|ANTWERPEN|\n",
      "|b0f481e8-3f52-42a...|   231|           15|       12|      120|ENKELZIJDIG|Schijnpoortweg (2...| 27-29|ANTWERPEN|\n",
      "|4d386bfd-def4-40f...|   230|           14|       12|      120|ENKELZIJDIG|Schijnpoortweg (2...| 27-29|ANTWERPEN|\n",
      "|015c475c-fc06-4a8...|   229|           13|       12|      120|ENKELZIJDIG|Schijnpoortweg (2...| 27-29|ANTWERPEN|\n",
      "|1650fc16-be50-4e1...|   228|           12|       12|      120|ENKELZIJDIG|Schijnpoortweg (2...| 27-29|ANTWERPEN|\n",
      "|e19ab048-1283-4a2...|   227|           11|       12|      120|ENKELZIJDIG|Schijnpoortweg (2...| 27-29|ANTWERPEN|\n",
      "|ba7ab907-a359-4c1...|   226|           10|       12|      120|ENKELZIJDIG|Schijnpoortweg (2...| 27-29|ANTWERPEN|\n",
      "|eb9c1918-f7b1-4d0...|   225|            9|       12|      120|ENKELZIJDIG|Schijnpoortweg (2...| 27-29|ANTWERPEN|\n",
      "|95632e0d-f162-4b9...|   224|            8|       12|      120|ENKELZIJDIG|Schijnpoortweg (2...| 27-29|ANTWERPEN|\n",
      "|dcdaf4ef-a9df-416...|   223|            7|       12|      120|ENKELZIJDIG|Schijnpoortweg (2...| 27-29|ANTWERPEN|\n",
      "|49a98588-1906-4e2...|   222|            6|       12|      120|ENKELZIJDIG|Schijnpoortweg (2...| 27-29|ANTWERPEN|\n",
      "|9aeaafd2-b79e-4ef...|   221|            5|       12|      120|ENKELZIJDIG|Schijnpoortweg (2...| 27-29|ANTWERPEN|\n",
      "|fa2140fa-876e-454...|   220|            4|       12|      120|ENKELZIJDIG|Schijnpoortweg (2...| 27-29|ANTWERPEN|\n",
      "|23748bb1-9069-43d...|   219|            3|       12|      120|ENKELZIJDIG|Schijnpoortweg (2...| 27-29|ANTWERPEN|\n",
      "|72df2af9-9a49-4eb...|   218|            2|       12|      120|ENKELZIJDIG|Schijnpoortweg (2...| 27-29|ANTWERPEN|\n",
      "|bf1504ca-c551-44f...|   217|            1|       12|      120|ENKELZIJDIG|Schijnpoortweg (2...| 27-29|ANTWERPEN|\n",
      "|d64e39a4-f70b-40d...|   252|           18|       13|      144|ENKELZIJDIG|August Vermeylenl...|     7|ANTWERPEN|\n",
      "|945a1adf-a0f6-4d6...|   251|           17|       13|      144|ENKELZIJDIG|August Vermeylenl...|     7|ANTWERPEN|\n",
      "+--------------------+------+-------------+---------+---------+-----------+--------------------+------+---------+\n",
      "only showing top 20 rows\n",
      "\n"
     ]
    }
   ],
   "execution_count": 25
  },
  {
   "metadata": {
    "ExecuteTime": {
     "end_time": "2024-12-21T14:52:50.746300Z",
     "start_time": "2024-12-21T14:52:50.727382Z"
    }
   },
   "cell_type": "code",
   "source": "df_dim_lock.insertInto(\"'test', null, null, null, null, 'geen slot', null, null, null\")",
   "id": "d42b5db0f4192a51",
   "outputs": [
    {
     "ename": "AttributeError",
     "evalue": "'DataFrame' object has no attribute 'insertInto'",
     "output_type": "error",
     "traceback": [
      "\u001B[1;31m---------------------------------------------------------------------------\u001B[0m",
      "\u001B[1;31mAttributeError\u001B[0m                            Traceback (most recent call last)",
      "Cell \u001B[1;32mIn[29], line 1\u001B[0m\n\u001B[1;32m----> 1\u001B[0m \u001B[43mdf_dim_lock\u001B[49m\u001B[38;5;241;43m.\u001B[39;49m\u001B[43minsertInto\u001B[49m(\u001B[38;5;124m\"\u001B[39m\u001B[38;5;124m'\u001B[39m\u001B[38;5;124mtest\u001B[39m\u001B[38;5;124m'\u001B[39m\u001B[38;5;124m, null, null, null, null, \u001B[39m\u001B[38;5;124m'\u001B[39m\u001B[38;5;124mgeen slot\u001B[39m\u001B[38;5;124m'\u001B[39m\u001B[38;5;124m, null, null, null\u001B[39m\u001B[38;5;124m\"\u001B[39m)\n",
      "File \u001B[1;32mC:\\BigDataVenv\\.venv\\Lib\\site-packages\\pyspark\\sql\\dataframe.py:3129\u001B[0m, in \u001B[0;36mDataFrame.__getattr__\u001B[1;34m(self, name)\u001B[0m\n\u001B[0;32m   3096\u001B[0m \u001B[38;5;250m\u001B[39m\u001B[38;5;124;03m\"\"\"Returns the :class:`Column` denoted by ``name``.\u001B[39;00m\n\u001B[0;32m   3097\u001B[0m \n\u001B[0;32m   3098\u001B[0m \u001B[38;5;124;03m.. versionadded:: 1.3.0\u001B[39;00m\n\u001B[1;32m   (...)\u001B[0m\n\u001B[0;32m   3126\u001B[0m \u001B[38;5;124;03m+---+\u001B[39;00m\n\u001B[0;32m   3127\u001B[0m \u001B[38;5;124;03m\"\"\"\u001B[39;00m\n\u001B[0;32m   3128\u001B[0m \u001B[38;5;28;01mif\u001B[39;00m name \u001B[38;5;129;01mnot\u001B[39;00m \u001B[38;5;129;01min\u001B[39;00m \u001B[38;5;28mself\u001B[39m\u001B[38;5;241m.\u001B[39mcolumns:\n\u001B[1;32m-> 3129\u001B[0m     \u001B[38;5;28;01mraise\u001B[39;00m \u001B[38;5;167;01mAttributeError\u001B[39;00m(\n\u001B[0;32m   3130\u001B[0m         \u001B[38;5;124m\"\u001B[39m\u001B[38;5;124m'\u001B[39m\u001B[38;5;132;01m%s\u001B[39;00m\u001B[38;5;124m'\u001B[39m\u001B[38;5;124m object has no attribute \u001B[39m\u001B[38;5;124m'\u001B[39m\u001B[38;5;132;01m%s\u001B[39;00m\u001B[38;5;124m'\u001B[39m\u001B[38;5;124m\"\u001B[39m \u001B[38;5;241m%\u001B[39m (\u001B[38;5;28mself\u001B[39m\u001B[38;5;241m.\u001B[39m\u001B[38;5;18m__class__\u001B[39m\u001B[38;5;241m.\u001B[39m\u001B[38;5;18m__name__\u001B[39m, name)\n\u001B[0;32m   3131\u001B[0m     )\n\u001B[0;32m   3132\u001B[0m jc \u001B[38;5;241m=\u001B[39m \u001B[38;5;28mself\u001B[39m\u001B[38;5;241m.\u001B[39m_jdf\u001B[38;5;241m.\u001B[39mapply(name)\n\u001B[0;32m   3133\u001B[0m \u001B[38;5;28;01mreturn\u001B[39;00m Column(jc)\n",
      "\u001B[1;31mAttributeError\u001B[0m: 'DataFrame' object has no attribute 'insertInto'"
     ]
    }
   ],
   "execution_count": 29
  },
  {
   "metadata": {
    "ExecuteTime": {
     "end_time": "2024-12-21T14:52:03.664501Z",
     "start_time": "2024-12-21T14:52:03.530731Z"
    }
   },
   "cell_type": "code",
   "source": [
    "spark.sql(f\"insert into df_dim_lock \\\n",
    "          (lock_SK,lockid, stationLockNr, stationid, stationNr, type, street, number, district)\\\n",
    "          values('test', null, null, null, null, 'geen slot', null, null, null)\")"
   ],
   "id": "15e20efb5fb5506a",
   "outputs": [
    {
     "ename": "AttributeError",
     "evalue": "'DataFrame' object has no attribute 'insertInto'",
     "output_type": "error",
     "traceback": [
      "\u001B[1;31m---------------------------------------------------------------------------\u001B[0m",
      "\u001B[1;31mAttributeError\u001B[0m                            Traceback (most recent call last)",
      "Cell \u001B[1;32mIn[28], line 1\u001B[0m\n\u001B[1;32m----> 1\u001B[0m \u001B[43mdf_dim_lock\u001B[49m\u001B[38;5;241;43m.\u001B[39;49m\u001B[43minsertInto\u001B[49m(\u001B[38;5;124m\"\u001B[39m\u001B[38;5;124msource_Lock\u001B[39m\u001B[38;5;124m\"\u001B[39m)\n",
      "File \u001B[1;32mC:\\BigDataVenv\\.venv\\Lib\\site-packages\\pyspark\\sql\\dataframe.py:3129\u001B[0m, in \u001B[0;36mDataFrame.__getattr__\u001B[1;34m(self, name)\u001B[0m\n\u001B[0;32m   3096\u001B[0m \u001B[38;5;250m\u001B[39m\u001B[38;5;124;03m\"\"\"Returns the :class:`Column` denoted by ``name``.\u001B[39;00m\n\u001B[0;32m   3097\u001B[0m \n\u001B[0;32m   3098\u001B[0m \u001B[38;5;124;03m.. versionadded:: 1.3.0\u001B[39;00m\n\u001B[1;32m   (...)\u001B[0m\n\u001B[0;32m   3126\u001B[0m \u001B[38;5;124;03m+---+\u001B[39;00m\n\u001B[0;32m   3127\u001B[0m \u001B[38;5;124;03m\"\"\"\u001B[39;00m\n\u001B[0;32m   3128\u001B[0m \u001B[38;5;28;01mif\u001B[39;00m name \u001B[38;5;129;01mnot\u001B[39;00m \u001B[38;5;129;01min\u001B[39;00m \u001B[38;5;28mself\u001B[39m\u001B[38;5;241m.\u001B[39mcolumns:\n\u001B[1;32m-> 3129\u001B[0m     \u001B[38;5;28;01mraise\u001B[39;00m \u001B[38;5;167;01mAttributeError\u001B[39;00m(\n\u001B[0;32m   3130\u001B[0m         \u001B[38;5;124m\"\u001B[39m\u001B[38;5;124m'\u001B[39m\u001B[38;5;132;01m%s\u001B[39;00m\u001B[38;5;124m'\u001B[39m\u001B[38;5;124m object has no attribute \u001B[39m\u001B[38;5;124m'\u001B[39m\u001B[38;5;132;01m%s\u001B[39;00m\u001B[38;5;124m'\u001B[39m\u001B[38;5;124m\"\u001B[39m \u001B[38;5;241m%\u001B[39m (\u001B[38;5;28mself\u001B[39m\u001B[38;5;241m.\u001B[39m\u001B[38;5;18m__class__\u001B[39m\u001B[38;5;241m.\u001B[39m\u001B[38;5;18m__name__\u001B[39m, name)\n\u001B[0;32m   3131\u001B[0m     )\n\u001B[0;32m   3132\u001B[0m jc \u001B[38;5;241m=\u001B[39m \u001B[38;5;28mself\u001B[39m\u001B[38;5;241m.\u001B[39m_jdf\u001B[38;5;241m.\u001B[39mapply(name)\n\u001B[0;32m   3133\u001B[0m \u001B[38;5;28;01mreturn\u001B[39;00m Column(jc)\n",
      "\u001B[1;31mAttributeError\u001B[0m: 'DataFrame' object has no attribute 'insertInto'"
     ]
    }
   ],
   "execution_count": 28
  }
 ],
 "metadata": {
  "kernelspec": {
   "display_name": "Python 3",
   "language": "python",
   "name": "python3"
  },
  "language_info": {
   "codemirror_mode": {
    "name": "ipython",
    "version": 2
   },
   "file_extension": ".py",
   "mimetype": "text/x-python",
   "name": "python",
   "nbconvert_exporter": "python",
   "pygments_lexer": "ipython2",
   "version": "2.7.6"
  }
 },
 "nbformat": 4,
 "nbformat_minor": 5
}
